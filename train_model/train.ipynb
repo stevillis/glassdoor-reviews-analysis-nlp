{
 "cells": [
  {
   "cell_type": "markdown",
   "metadata": {
    "id": "_5zcmY8IzYOv"
   },
   "source": [
    "# Fine Tuning BERT for Sentiment Analysis with PyTorch\n",
    "\n",
    "References:\n",
    "- [Fine Tuning BERT for Sentiment Analysis with PyTorch](https://wellsr.com/python/fine-tuning-bert-for-sentiment-analysis-with-pytorch/)\n",
    "- [Twitter US Airline Sentiment](https://www.kaggle.com/datasets/crowdflower/twitter-airline-sentiment?select=Tweets.csv)\n",
    "\n",
    "- [RuntimeError: CUDA out of memory during loss.backward()](https://discuss.pytorch.org/t/runtimeerror-cuda-out-of-memory-during-loss-backward/53450/6)\n",
    "- [Forms - Colaboratory](https://colab.research.google.com/notebooks/forms.ipynb)\n",
    "- [Plotting loss curve](https://discuss.pytorch.org/t/plotting-loss-curve/42632/5)\n",
    "- [Estratégias eficazes para lidar com conjuntos de dados desbalanceados](https://medium.com/@daniele.santiago/estrat%C3%A9gias-eficazes-para-lidar-com-conjuntos-de-dados-desbalanceados-5b873894483b)\n",
    "- [Aprenda a balancear seus dados com Undersampling e Oversampling em Python](https://medium.com/@daniele.santiago/aprenda-a-balancear-seus-dados-com-undersampling-e-oversampling-em-python-6fd87095d717#:~:text=J%C3%A1%20o%20over%2Dsampling%2C%20por,t%C3%A9cnicas%20foi%20explicitada%20neste%20artigo.)\n",
    "- [RandomOverSampler](https://imbalanced-learn.org/stable/references/generated/imblearn.over_sampling.RandomOverSampler.html#imblearn.over_sampling.RandomOverSampler.fit_resample)\n",
    "- [REPRODUCIBILITY](https://pytorch.org/docs/stable/notes/randomness.html)"
   ]
  },
  {
   "cell_type": "code",
   "execution_count": 1,
   "metadata": {
    "execution": {
     "iopub.execute_input": "2024-10-29T05:25:49.213595Z",
     "iopub.status.busy": "2024-10-29T05:25:49.212952Z",
     "iopub.status.idle": "2024-10-29T05:25:49.224955Z",
     "shell.execute_reply": "2024-10-29T05:25:49.224030Z",
     "shell.execute_reply.started": "2024-10-29T05:25:49.213553Z"
    },
    "executionInfo": {
     "elapsed": 3,
     "status": "ok",
     "timestamp": 1716665860760,
     "user": {
      "displayName": "Stévillis",
      "userId": "01901148833114142760"
     },
     "user_tz": 240
    },
    "id": "m2cY_JSDQDh_",
    "trusted": true
   },
   "outputs": [],
   "source": [
    "# @title Environment running\n",
    "running_local = False\n",
    "if running_local:\n",
    "    running_colab = running_kaggle = False\n",
    "else:\n",
    "    running_colab = False  # @param {type:\"boolean\"}\n",
    "    running_kaggle = not running_colab  # @param {type:\"boolean\"}"
   ]
  },
  {
   "cell_type": "code",
   "execution_count": 2,
   "metadata": {
    "colab": {
     "base_uri": "https://localhost:8080/"
    },
    "execution": {
     "iopub.execute_input": "2024-10-29T05:25:49.227171Z",
     "iopub.status.busy": "2024-10-29T05:25:49.226798Z",
     "iopub.status.idle": "2024-10-29T05:25:49.233120Z",
     "shell.execute_reply": "2024-10-29T05:25:49.232159Z",
     "shell.execute_reply.started": "2024-10-29T05:25:49.227129Z"
    },
    "executionInfo": {
     "elapsed": 32396,
     "status": "ok",
     "timestamp": 1716665893153,
     "user": {
      "displayName": "Stévillis",
      "userId": "01901148833114142760"
     },
     "user_tz": 240
    },
    "id": "ycWI9PAxQ6Lm",
    "outputId": "2d9df94d-41ca-4064-8eef-2cf77c07aa25",
    "trusted": true
   },
   "outputs": [],
   "source": [
    "if running_colab:\n",
    "    from google.colab import drive\n",
    "\n",
    "    drive.mount(\"/content/drive\")"
   ]
  },
  {
   "cell_type": "markdown",
   "metadata": {
    "id": "7y6Xs0I7zYOx"
   },
   "source": [
    "## Installing and Importing Required Libraries"
   ]
  },
  {
   "cell_type": "code",
   "execution_count": null,
   "metadata": {
    "execution": {
     "iopub.execute_input": "2024-10-29T05:25:49.235138Z",
     "iopub.status.busy": "2024-10-29T05:25:49.234760Z",
     "iopub.status.idle": "2024-10-29T05:25:55.794357Z",
     "shell.execute_reply": "2024-10-29T05:25:55.793483Z",
     "shell.execute_reply.started": "2024-10-29T05:25:49.235092Z"
    },
    "executionInfo": {
     "elapsed": 10647,
     "status": "ok",
     "timestamp": 1716665903797,
     "user": {
      "displayName": "Stévillis",
      "userId": "01901148833114142760"
     },
     "user_tz": 240
    },
    "id": "QOvWN0IszYOy",
    "trusted": true
   },
   "outputs": [],
   "source": [
    "import matplotlib.pyplot as plt\n",
    "import numpy as np\n",
    "import random\n",
    "import pandas as pd\n",
    "import seaborn as sns\n",
    "import time\n",
    "import torch\n",
    "import torch.nn as nn\n",
    "\n",
    "from imblearn.over_sampling import RandomOverSampler\n",
    "from sklearn.model_selection import train_test_split\n",
    "from sklearn.metrics import classification_report, confusion_matrix, accuracy_score\n",
    "from torch.utils.data import Dataset, DataLoader\n",
    "from transformers import BertTokenizer, BertModel"
   ]
  },
  {
   "cell_type": "markdown",
   "metadata": {
    "id": "BUJGkRiTQdnE"
   },
   "source": [
    "## Config"
   ]
  },
  {
   "cell_type": "code",
   "execution_count": 4,
   "metadata": {
    "execution": {
     "iopub.execute_input": "2024-10-29T05:25:55.795956Z",
     "iopub.status.busy": "2024-10-29T05:25:55.795478Z",
     "iopub.status.idle": "2024-10-29T05:25:55.804097Z",
     "shell.execute_reply": "2024-10-29T05:25:55.802305Z",
     "shell.execute_reply.started": "2024-10-29T05:25:55.795921Z"
    },
    "executionInfo": {
     "elapsed": 7,
     "status": "ok",
     "timestamp": 1716665903797,
     "user": {
      "displayName": "Stévillis",
      "userId": "01901148833114142760"
     },
     "user_tz": 240
    },
    "id": "wrz__13nzYOy",
    "trusted": true
   },
   "outputs": [],
   "source": [
    "RANDOM_SEED = 103\n",
    "TEST_SIZE = 0.2\n",
    "BATCH_SIZE = 16\n",
    "LEARNING_RATE = 2e-5\n",
    "EPOCHS = 5\n",
    "\n",
    "TOKEN_MAX_LENGTH = 512\n",
    "PRETRAINED_MODEL_PATH = \"neuralmind/bert-base-portuguese-cased\"\n",
    "BERTIMBAU_HIDDEN_SIZE = 768\n",
    "\n",
    "SAMPLE_REVIEWS = [\n",
    "    \"Empresa boa para trabalhar\", # positive\n",
    "    \"Empresa ruim para trabalhar\", # negative\n",
    "    \"Não tenho o que declarar\", # neutral\n",
    "]\n",
    "\n",
    "\n",
    "if running_colab:\n",
    "    GLASSDOOR_MODEL_PATH = \"/content/drive/MyDrive/UFMT/Gestão e Ciência de Dados/Disciplinas/14 - Seminário e Metodologia da Pesquisa/Projetos/glassdoor-reviews-analysis-nlp/train_model/bertimbau-glassdoor-reviews-epoch_5.bin\"\n",
    "    GLASSDOOR_FREEZING_MODEL_PATH = \"/content/drive/MyDrive/UFMT/Gestão e Ciência de Dados/Disciplinas/14 - Seminário e Metodologia da Pesquisa/Projetos/glassdoor-reviews-analysis-nlp/train_model/bertimbau-glassdoor-reviews-freezing-epoch_5.bin\"\n",
    "    PATH_TO_SAVE_MODEL = \"/content/drive/MyDrive/UFMT/Gestão e Ciência de Dados/Disciplinas/14 - Seminário e Metodologia da Pesquisa/Projetos/glassdoor-reviews-analysis-nlp/train_model/\"\n",
    "if running_kaggle:\n",
    "    GLASSDOOR_MODEL_PATH = \"/kaggle/working/bertimbau-glassdoor-reviews-epoch_5.bin\"\n",
    "    GLASSDOOR_FREEZING_MODEL_PATH = (\n",
    "        \"/kaggle/working/bertimbau-glassdoor-reviews-freezing-epoch_5.bin\"\n",
    "    )\n",
    "    PATH_TO_SAVE_MODEL = \"/kaggle/working/\"\n",
    "if running_local:\n",
    "    GLASSDOOR_MODEL_PATH = \"./bertimbau-glassdoor-reviews-epoch_5.bin\"\n",
    "    GLASSDOOR_FREEZING_MODEL_PATH = \"./bertimbau-glassdoor-reviews-freezing-epoch_5.bin\"\n",
    "    PATH_TO_SAVE_MODEL = \"./train_model/\""
   ]
  },
  {
   "cell_type": "code",
   "execution_count": 5,
   "metadata": {
    "colab": {
     "base_uri": "https://localhost:8080/"
    },
    "execution": {
     "iopub.execute_input": "2024-10-29T05:25:55.807221Z",
     "iopub.status.busy": "2024-10-29T05:25:55.806851Z",
     "iopub.status.idle": "2024-10-29T05:25:55.908900Z",
     "shell.execute_reply": "2024-10-29T05:25:55.907946Z",
     "shell.execute_reply.started": "2024-10-29T05:25:55.807176Z"
    },
    "executionInfo": {
     "elapsed": 6,
     "status": "ok",
     "timestamp": 1716665903797,
     "user": {
      "displayName": "Stévillis",
      "userId": "01901148833114142760"
     },
     "user_tz": 240
    },
    "id": "Wm0v2xj8zYOy",
    "outputId": "b1df647e-a75e-4ca4-df1d-f3afbb3e27d9",
    "trusted": true
   },
   "outputs": [
    {
     "name": "stdout",
     "output_type": "stream",
     "text": [
      "There are 2 GPU(s) available.\n",
      "Device name: Tesla T4\n"
     ]
    }
   ],
   "source": [
    "if torch.cuda.is_available():\n",
    "    device = torch.device(\"cuda\")\n",
    "    print(f\"There are {torch.cuda.device_count()} GPU(s) available.\")\n",
    "    print(\"Device name:\", torch.cuda.get_device_name(0))\n",
    "else:\n",
    "    print(\"No GPU available, using the CPU instead.\")\n",
    "    device = torch.device(\"cpu\")"
   ]
  },
  {
   "cell_type": "code",
   "execution_count": 6,
   "metadata": {
    "colab": {
     "base_uri": "https://localhost:8080/"
    },
    "execution": {
     "iopub.execute_input": "2024-10-29T05:25:55.910513Z",
     "iopub.status.busy": "2024-10-29T05:25:55.910179Z",
     "iopub.status.idle": "2024-10-29T05:25:55.920163Z",
     "shell.execute_reply": "2024-10-29T05:25:55.919155Z",
     "shell.execute_reply.started": "2024-10-29T05:25:55.910480Z"
    },
    "executionInfo": {
     "elapsed": 6,
     "status": "ok",
     "timestamp": 1716665903797,
     "user": {
      "displayName": "Stévillis",
      "userId": "01901148833114142760"
     },
     "user_tz": 240
    },
    "id": "rn918_xDnS4h",
    "outputId": "fb15ffd5-b1be-494c-aee2-3196a8e5775c",
    "trusted": true
   },
   "outputs": [
    {
     "data": {
      "text/plain": [
       "<torch._C.Generator at 0x7e06e344a250>"
      ]
     },
     "execution_count": 6,
     "metadata": {},
     "output_type": "execute_result"
    }
   ],
   "source": [
    "torch.manual_seed(RANDOM_SEED)"
   ]
  },
  {
   "cell_type": "code",
   "execution_count": 7,
   "metadata": {
    "execution": {
     "iopub.execute_input": "2024-10-29T05:25:55.922294Z",
     "iopub.status.busy": "2024-10-29T05:25:55.921665Z",
     "iopub.status.idle": "2024-10-29T05:25:55.926207Z",
     "shell.execute_reply": "2024-10-29T05:25:55.925297Z",
     "shell.execute_reply.started": "2024-10-29T05:25:55.922250Z"
    },
    "executionInfo": {
     "elapsed": 4,
     "status": "ok",
     "timestamp": 1716665903797,
     "user": {
      "displayName": "Stévillis",
      "userId": "01901148833114142760"
     },
     "user_tz": 240
    },
    "id": "nOUDP8CQswos",
    "trusted": true
   },
   "outputs": [],
   "source": [
    "random.seed(RANDOM_SEED)"
   ]
  },
  {
   "cell_type": "code",
   "execution_count": 8,
   "metadata": {
    "execution": {
     "iopub.execute_input": "2024-10-29T05:25:55.927737Z",
     "iopub.status.busy": "2024-10-29T05:25:55.927456Z",
     "iopub.status.idle": "2024-10-29T05:25:55.933534Z",
     "shell.execute_reply": "2024-10-29T05:25:55.932500Z",
     "shell.execute_reply.started": "2024-10-29T05:25:55.927700Z"
    },
    "executionInfo": {
     "elapsed": 5,
     "status": "ok",
     "timestamp": 1716665903798,
     "user": {
      "displayName": "Stévillis",
      "userId": "01901148833114142760"
     },
     "user_tz": 240
    },
    "id": "0eOAuKzOs3_4",
    "trusted": true
   },
   "outputs": [],
   "source": [
    "np.random.seed(RANDOM_SEED)"
   ]
  },
  {
   "cell_type": "markdown",
   "metadata": {
    "id": "MWWF1kcnzYOz"
   },
   "source": [
    "## Importing and Preprocessing the Dataset"
   ]
  },
  {
   "cell_type": "code",
   "execution_count": 9,
   "metadata": {
    "execution": {
     "iopub.execute_input": "2024-10-29T05:25:55.934827Z",
     "iopub.status.busy": "2024-10-29T05:25:55.934553Z",
     "iopub.status.idle": "2024-10-29T05:25:55.976021Z",
     "shell.execute_reply": "2024-10-29T05:25:55.974930Z",
     "shell.execute_reply.started": "2024-10-29T05:25:55.934777Z"
    },
    "executionInfo": {
     "elapsed": 3887,
     "status": "ok",
     "timestamp": 1716665907680,
     "user": {
      "displayName": "Stévillis",
      "userId": "01901148833114142760"
     },
     "user_tz": 240
    },
    "id": "P2SHuyj8zYOz",
    "trusted": true
   },
   "outputs": [],
   "source": [
    "if running_colab:\n",
    "    dataset = pd.read_csv(\n",
    "        \"/content/drive/MyDrive/UFMT/Gestão e Ciência de Dados/Disciplinas/14 - Seminário e Metodologia da Pesquisa/Projetos/glassdoor-reviews-analysis-nlp/data_preparation/glassdoor_reviews_annotated.csv\"\n",
    "    )\n",
    "else:\n",
    "    if running_kaggle:\n",
    "        dataset = pd.read_csv(\n",
    "            \"/kaggle/input/glassdoor-reviews-annotated/glassdoor_reviews_annotated.csv\"\n",
    "        )\n",
    "    else:\n",
    "        dataset = pd.read_csv(\"../data_preparation/glassdoor_reviews_annotated.csv\")"
   ]
  },
  {
   "cell_type": "code",
   "execution_count": 10,
   "metadata": {
    "colab": {
     "base_uri": "https://localhost:8080/",
     "height": 219
    },
    "execution": {
     "iopub.execute_input": "2024-10-29T05:25:55.977620Z",
     "iopub.status.busy": "2024-10-29T05:25:55.977301Z",
     "iopub.status.idle": "2024-10-29T05:25:55.998150Z",
     "shell.execute_reply": "2024-10-29T05:25:55.997208Z",
     "shell.execute_reply.started": "2024-10-29T05:25:55.977586Z"
    },
    "executionInfo": {
     "elapsed": 23,
     "status": "ok",
     "timestamp": 1716665907681,
     "user": {
      "displayName": "Stévillis",
      "userId": "01901148833114142760"
     },
     "user_tz": 240
    },
    "id": "QAxdZDNQP90_",
    "outputId": "32f8addc-f806-4855-bcbe-90563da318b0",
    "trusted": true
   },
   "outputs": [
    {
     "data": {
      "text/html": [
       "<div>\n",
       "<style scoped>\n",
       "    .dataframe tbody tr th:only-of-type {\n",
       "        vertical-align: middle;\n",
       "    }\n",
       "\n",
       "    .dataframe tbody tr th {\n",
       "        vertical-align: top;\n",
       "    }\n",
       "\n",
       "    .dataframe thead th {\n",
       "        text-align: right;\n",
       "    }\n",
       "</style>\n",
       "<table border=\"1\" class=\"dataframe\">\n",
       "  <thead>\n",
       "    <tr style=\"text-align: right;\">\n",
       "      <th></th>\n",
       "      <th>review_id</th>\n",
       "      <th>company</th>\n",
       "      <th>employee_role</th>\n",
       "      <th>employee_detail</th>\n",
       "      <th>review_text</th>\n",
       "      <th>review_date</th>\n",
       "      <th>star_rating</th>\n",
       "      <th>sentiment</th>\n",
       "      <th>annotated</th>\n",
       "    </tr>\n",
       "  </thead>\n",
       "  <tbody>\n",
       "    <tr>\n",
       "      <th>0</th>\n",
       "      <td>82630669</td>\n",
       "      <td>Tecnomapas</td>\n",
       "      <td>Recepcionista</td>\n",
       "      <td>Ex-funcionário(a), mais de um ano</td>\n",
       "      <td>Companheirismo entre os colegas, oportunidade ...</td>\n",
       "      <td>2023-12-15</td>\n",
       "      <td>5.0</td>\n",
       "      <td>1</td>\n",
       "      <td>0</td>\n",
       "    </tr>\n",
       "    <tr>\n",
       "      <th>1</th>\n",
       "      <td>82630669</td>\n",
       "      <td>Tecnomapas</td>\n",
       "      <td>Recepcionista</td>\n",
       "      <td>Ex-funcionário(a), mais de um ano</td>\n",
       "      <td>Não tive nenhum ponto negativo</td>\n",
       "      <td>2023-12-15</td>\n",
       "      <td>5.0</td>\n",
       "      <td>0</td>\n",
       "      <td>1</td>\n",
       "    </tr>\n",
       "  </tbody>\n",
       "</table>\n",
       "</div>"
      ],
      "text/plain": [
       "   review_id     company  employee_role                    employee_detail  \\\n",
       "0   82630669  Tecnomapas  Recepcionista  Ex-funcionário(a), mais de um ano   \n",
       "1   82630669  Tecnomapas  Recepcionista  Ex-funcionário(a), mais de um ano   \n",
       "\n",
       "                                         review_text review_date  star_rating  \\\n",
       "0  Companheirismo entre os colegas, oportunidade ...  2023-12-15          5.0   \n",
       "1                     Não tive nenhum ponto negativo  2023-12-15          5.0   \n",
       "\n",
       "   sentiment  annotated  \n",
       "0          1          0  \n",
       "1          0          1  "
      ]
     },
     "execution_count": 10,
     "metadata": {},
     "output_type": "execute_result"
    }
   ],
   "source": [
    "dataset.head(2)"
   ]
  },
  {
   "cell_type": "code",
   "execution_count": 11,
   "metadata": {
    "execution": {
     "iopub.execute_input": "2024-10-29T05:25:56.002260Z",
     "iopub.status.busy": "2024-10-29T05:25:56.001932Z",
     "iopub.status.idle": "2024-10-29T05:25:56.012022Z",
     "shell.execute_reply": "2024-10-29T05:25:56.011032Z",
     "shell.execute_reply.started": "2024-10-29T05:25:56.002227Z"
    },
    "executionInfo": {
     "elapsed": 22,
     "status": "ok",
     "timestamp": 1716665907681,
     "user": {
      "displayName": "Stévillis",
      "userId": "01901148833114142760"
     },
     "user_tz": 240
    },
    "id": "rTV61F5KzYOz",
    "trusted": true
   },
   "outputs": [],
   "source": [
    "filtered_dataset = dataset.filter([\"review_text\", \"sentiment\"])"
   ]
  },
  {
   "cell_type": "code",
   "execution_count": 12,
   "metadata": {
    "colab": {
     "base_uri": "https://localhost:8080/"
    },
    "execution": {
     "iopub.execute_input": "2024-10-29T05:25:56.013559Z",
     "iopub.status.busy": "2024-10-29T05:25:56.013220Z",
     "iopub.status.idle": "2024-10-29T05:25:56.023531Z",
     "shell.execute_reply": "2024-10-29T05:25:56.022526Z",
     "shell.execute_reply.started": "2024-10-29T05:25:56.013526Z"
    },
    "executionInfo": {
     "elapsed": 21,
     "status": "ok",
     "timestamp": 1716665907681,
     "user": {
      "displayName": "Stévillis",
      "userId": "01901148833114142760"
     },
     "user_tz": 240
    },
    "id": "LR1KjlJUzYOz",
    "outputId": "22169194-c4d2-4bb5-b5d2-3b9ac89d4f2b",
    "trusted": true
   },
   "outputs": [
    {
     "data": {
      "text/plain": [
       "(2532, 2)"
      ]
     },
     "execution_count": 12,
     "metadata": {},
     "output_type": "execute_result"
    }
   ],
   "source": [
    "filtered_dataset.shape"
   ]
  },
  {
   "cell_type": "code",
   "execution_count": 13,
   "metadata": {
    "colab": {
     "base_uri": "https://localhost:8080/"
    },
    "execution": {
     "iopub.execute_input": "2024-10-29T05:25:56.025084Z",
     "iopub.status.busy": "2024-10-29T05:25:56.024740Z",
     "iopub.status.idle": "2024-10-29T05:25:56.037967Z",
     "shell.execute_reply": "2024-10-29T05:25:56.036975Z",
     "shell.execute_reply.started": "2024-10-29T05:25:56.025049Z"
    },
    "executionInfo": {
     "elapsed": 21,
     "status": "ok",
     "timestamp": 1716665907682,
     "user": {
      "displayName": "Stévillis",
      "userId": "01901148833114142760"
     },
     "user_tz": 240
    },
    "id": "38zULxJWzYOz",
    "outputId": "2a370cc9-db11-47f9-85b2-d8abb5257cf5",
    "trusted": true
   },
   "outputs": [
    {
     "data": {
      "text/plain": [
       "sentiment\n",
       " 1    1269\n",
       "-1    1021\n",
       " 0     242\n",
       "Name: count, dtype: int64"
      ]
     },
     "execution_count": 13,
     "metadata": {},
     "output_type": "execute_result"
    }
   ],
   "source": [
    "filtered_dataset[\"sentiment\"].value_counts()"
   ]
  },
  {
   "cell_type": "code",
   "execution_count": 14,
   "metadata": {
    "execution": {
     "iopub.execute_input": "2024-10-29T05:25:56.039666Z",
     "iopub.status.busy": "2024-10-29T05:25:56.039253Z",
     "iopub.status.idle": "2024-10-29T05:25:56.045593Z",
     "shell.execute_reply": "2024-10-29T05:25:56.044700Z",
     "shell.execute_reply.started": "2024-10-29T05:25:56.039611Z"
    },
    "executionInfo": {
     "elapsed": 20,
     "status": "ok",
     "timestamp": 1716665907682,
     "user": {
      "displayName": "Stévillis",
      "userId": "01901148833114142760"
     },
     "user_tz": 240
    },
    "id": "GvEHau8KzYO0",
    "trusted": true
   },
   "outputs": [],
   "source": [
    "num_labels = len(filtered_dataset[\"sentiment\"].value_counts())"
   ]
  },
  {
   "cell_type": "code",
   "execution_count": 15,
   "metadata": {
    "colab": {
     "base_uri": "https://localhost:8080/"
    },
    "execution": {
     "iopub.execute_input": "2024-10-29T05:25:56.047362Z",
     "iopub.status.busy": "2024-10-29T05:25:56.046982Z",
     "iopub.status.idle": "2024-10-29T05:25:56.055062Z",
     "shell.execute_reply": "2024-10-29T05:25:56.054199Z",
     "shell.execute_reply.started": "2024-10-29T05:25:56.047326Z"
    },
    "executionInfo": {
     "elapsed": 20,
     "status": "ok",
     "timestamp": 1716665907682,
     "user": {
      "displayName": "Stévillis",
      "userId": "01901148833114142760"
     },
     "user_tz": 240
    },
    "id": "s67alQB9zYO0",
    "outputId": "a0473576-5f32-42e0-9735-bdcd5ef5a59e",
    "trusted": true
   },
   "outputs": [
    {
     "data": {
      "text/plain": [
       "3"
      ]
     },
     "execution_count": 15,
     "metadata": {},
     "output_type": "execute_result"
    }
   ],
   "source": [
    "num_labels"
   ]
  },
  {
   "cell_type": "code",
   "execution_count": 16,
   "metadata": {
    "colab": {
     "base_uri": "https://localhost:8080/",
     "height": 206
    },
    "execution": {
     "iopub.execute_input": "2024-10-29T05:25:56.056512Z",
     "iopub.status.busy": "2024-10-29T05:25:56.056223Z",
     "iopub.status.idle": "2024-10-29T05:25:56.065389Z",
     "shell.execute_reply": "2024-10-29T05:25:56.064358Z",
     "shell.execute_reply.started": "2024-10-29T05:25:56.056482Z"
    },
    "executionInfo": {
     "elapsed": 19,
     "status": "ok",
     "timestamp": 1716665907682,
     "user": {
      "displayName": "Stévillis",
      "userId": "01901148833114142760"
     },
     "user_tz": 240
    },
    "id": "pfBXEdInzYO0",
    "outputId": "0352498d-5ae0-4367-86e2-1e4b2213e30a",
    "trusted": true
   },
   "outputs": [
    {
     "data": {
      "text/html": [
       "<div>\n",
       "<style scoped>\n",
       "    .dataframe tbody tr th:only-of-type {\n",
       "        vertical-align: middle;\n",
       "    }\n",
       "\n",
       "    .dataframe tbody tr th {\n",
       "        vertical-align: top;\n",
       "    }\n",
       "\n",
       "    .dataframe thead th {\n",
       "        text-align: right;\n",
       "    }\n",
       "</style>\n",
       "<table border=\"1\" class=\"dataframe\">\n",
       "  <thead>\n",
       "    <tr style=\"text-align: right;\">\n",
       "      <th></th>\n",
       "      <th>review_text</th>\n",
       "      <th>sentiment</th>\n",
       "    </tr>\n",
       "  </thead>\n",
       "  <tbody>\n",
       "    <tr>\n",
       "      <th>0</th>\n",
       "      <td>Companheirismo entre os colegas, oportunidade ...</td>\n",
       "      <td>1</td>\n",
       "    </tr>\n",
       "    <tr>\n",
       "      <th>1</th>\n",
       "      <td>Não tive nenhum ponto negativo</td>\n",
       "      <td>0</td>\n",
       "    </tr>\n",
       "    <tr>\n",
       "      <th>2</th>\n",
       "      <td>Equipe bem prestativa e ótima de se trabalhar.</td>\n",
       "      <td>1</td>\n",
       "    </tr>\n",
       "    <tr>\n",
       "      <th>3</th>\n",
       "      <td>Modo home office ainda tem que ser melhorado.</td>\n",
       "      <td>-1</td>\n",
       "    </tr>\n",
       "    <tr>\n",
       "      <th>4</th>\n",
       "      <td>Única vantagem era o trabalho ser home office</td>\n",
       "      <td>0</td>\n",
       "    </tr>\n",
       "  </tbody>\n",
       "</table>\n",
       "</div>"
      ],
      "text/plain": [
       "                                         review_text  sentiment\n",
       "0  Companheirismo entre os colegas, oportunidade ...          1\n",
       "1                     Não tive nenhum ponto negativo          0\n",
       "2     Equipe bem prestativa e ótima de se trabalhar.          1\n",
       "3      Modo home office ainda tem que ser melhorado.         -1\n",
       "4      Única vantagem era o trabalho ser home office          0"
      ]
     },
     "execution_count": 16,
     "metadata": {},
     "output_type": "execute_result"
    }
   ],
   "source": [
    "filtered_dataset.head()"
   ]
  },
  {
   "cell_type": "markdown",
   "metadata": {
    "id": "c6KSokxxP944"
   },
   "source": [
    "Replace negative sentiment (-1) to 2, to avoid PyTorch errors."
   ]
  },
  {
   "cell_type": "code",
   "execution_count": 17,
   "metadata": {
    "execution": {
     "iopub.execute_input": "2024-10-29T05:25:56.066923Z",
     "iopub.status.busy": "2024-10-29T05:25:56.066595Z",
     "iopub.status.idle": "2024-10-29T05:25:56.073973Z",
     "shell.execute_reply": "2024-10-29T05:25:56.073140Z",
     "shell.execute_reply.started": "2024-10-29T05:25:56.066880Z"
    },
    "executionInfo": {
     "elapsed": 17,
     "status": "ok",
     "timestamp": 1716665907682,
     "user": {
      "displayName": "Stévillis",
      "userId": "01901148833114142760"
     },
     "user_tz": 240
    },
    "id": "c3Zl6WSlTFgs",
    "trusted": true
   },
   "outputs": [],
   "source": [
    "filtered_dataset[\"sentiment\"] = filtered_dataset[\"sentiment\"].apply(\n",
    "    lambda x: 2 if x == -1 else x\n",
    ")"
   ]
  },
  {
   "cell_type": "code",
   "execution_count": 18,
   "metadata": {
    "colab": {
     "base_uri": "https://localhost:8080/",
     "height": 206
    },
    "execution": {
     "iopub.execute_input": "2024-10-29T05:25:56.075942Z",
     "iopub.status.busy": "2024-10-29T05:25:56.075206Z",
     "iopub.status.idle": "2024-10-29T05:25:56.086606Z",
     "shell.execute_reply": "2024-10-29T05:25:56.085701Z",
     "shell.execute_reply.started": "2024-10-29T05:25:56.075894Z"
    },
    "executionInfo": {
     "elapsed": 17,
     "status": "ok",
     "timestamp": 1716665907682,
     "user": {
      "displayName": "Stévillis",
      "userId": "01901148833114142760"
     },
     "user_tz": 240
    },
    "id": "WSBOXTjXzYO0",
    "outputId": "47f393b1-0e88-4158-a6e4-16b2a8fb81aa",
    "trusted": true
   },
   "outputs": [
    {
     "data": {
      "text/html": [
       "<div>\n",
       "<style scoped>\n",
       "    .dataframe tbody tr th:only-of-type {\n",
       "        vertical-align: middle;\n",
       "    }\n",
       "\n",
       "    .dataframe tbody tr th {\n",
       "        vertical-align: top;\n",
       "    }\n",
       "\n",
       "    .dataframe thead th {\n",
       "        text-align: right;\n",
       "    }\n",
       "</style>\n",
       "<table border=\"1\" class=\"dataframe\">\n",
       "  <thead>\n",
       "    <tr style=\"text-align: right;\">\n",
       "      <th></th>\n",
       "      <th>review_text</th>\n",
       "      <th>sentiment</th>\n",
       "    </tr>\n",
       "  </thead>\n",
       "  <tbody>\n",
       "    <tr>\n",
       "      <th>0</th>\n",
       "      <td>Companheirismo entre os colegas, oportunidade ...</td>\n",
       "      <td>1</td>\n",
       "    </tr>\n",
       "    <tr>\n",
       "      <th>1</th>\n",
       "      <td>Não tive nenhum ponto negativo</td>\n",
       "      <td>0</td>\n",
       "    </tr>\n",
       "    <tr>\n",
       "      <th>2</th>\n",
       "      <td>Equipe bem prestativa e ótima de se trabalhar.</td>\n",
       "      <td>1</td>\n",
       "    </tr>\n",
       "    <tr>\n",
       "      <th>3</th>\n",
       "      <td>Modo home office ainda tem que ser melhorado.</td>\n",
       "      <td>2</td>\n",
       "    </tr>\n",
       "    <tr>\n",
       "      <th>4</th>\n",
       "      <td>Única vantagem era o trabalho ser home office</td>\n",
       "      <td>0</td>\n",
       "    </tr>\n",
       "  </tbody>\n",
       "</table>\n",
       "</div>"
      ],
      "text/plain": [
       "                                         review_text  sentiment\n",
       "0  Companheirismo entre os colegas, oportunidade ...          1\n",
       "1                     Não tive nenhum ponto negativo          0\n",
       "2     Equipe bem prestativa e ótima de se trabalhar.          1\n",
       "3      Modo home office ainda tem que ser melhorado.          2\n",
       "4      Única vantagem era o trabalho ser home office          0"
      ]
     },
     "execution_count": 18,
     "metadata": {},
     "output_type": "execute_result"
    }
   ],
   "source": [
    "filtered_dataset.head()"
   ]
  },
  {
   "cell_type": "markdown",
   "metadata": {
    "id": "yuoZZf6JzYO0"
   },
   "source": [
    "Shuffle the data before splitting it into training and testing sets to remove any inherent ordering in the data that could bias the model's learning process."
   ]
  },
  {
   "cell_type": "code",
   "execution_count": 19,
   "metadata": {
    "execution": {
     "iopub.execute_input": "2024-10-29T05:25:56.087916Z",
     "iopub.status.busy": "2024-10-29T05:25:56.087591Z",
     "iopub.status.idle": "2024-10-29T05:25:56.095685Z",
     "shell.execute_reply": "2024-10-29T05:25:56.094849Z",
     "shell.execute_reply.started": "2024-10-29T05:25:56.087879Z"
    },
    "executionInfo": {
     "elapsed": 16,
     "status": "ok",
     "timestamp": 1716665907683,
     "user": {
      "displayName": "Stévillis",
      "userId": "01901148833114142760"
     },
     "user_tz": 240
    },
    "id": "1fBiUsFjzYO1",
    "trusted": true
   },
   "outputs": [],
   "source": [
    "filtered_dataset = filtered_dataset.sample(frac=1, random_state=RANDOM_SEED)"
   ]
  },
  {
   "cell_type": "code",
   "execution_count": 20,
   "metadata": {
    "execution": {
     "iopub.execute_input": "2024-10-29T05:25:56.097247Z",
     "iopub.status.busy": "2024-10-29T05:25:56.096882Z",
     "iopub.status.idle": "2024-10-29T05:25:56.104454Z",
     "shell.execute_reply": "2024-10-29T05:25:56.103375Z",
     "shell.execute_reply.started": "2024-10-29T05:25:56.097209Z"
    },
    "executionInfo": {
     "elapsed": 15,
     "status": "ok",
     "timestamp": 1716665907683,
     "user": {
      "displayName": "Stévillis",
      "userId": "01901148833114142760"
     },
     "user_tz": 240
    },
    "id": "7UtP5rUkzYO1",
    "trusted": true
   },
   "outputs": [],
   "source": [
    "train_data, test_data = train_test_split(\n",
    "    filtered_dataset, test_size=TEST_SIZE, random_state=RANDOM_SEED\n",
    ")"
   ]
  },
  {
   "cell_type": "code",
   "execution_count": 21,
   "metadata": {
    "colab": {
     "base_uri": "https://localhost:8080/"
    },
    "execution": {
     "iopub.execute_input": "2024-10-29T05:25:56.108059Z",
     "iopub.status.busy": "2024-10-29T05:25:56.107321Z",
     "iopub.status.idle": "2024-10-29T05:25:56.113844Z",
     "shell.execute_reply": "2024-10-29T05:25:56.112920Z",
     "shell.execute_reply.started": "2024-10-29T05:25:56.108026Z"
    },
    "executionInfo": {
     "elapsed": 15,
     "status": "ok",
     "timestamp": 1716665907683,
     "user": {
      "displayName": "Stévillis",
      "userId": "01901148833114142760"
     },
     "user_tz": 240
    },
    "id": "CgpRi6-wzYO1",
    "outputId": "e33c5e1c-7e26-4c6e-8bb4-4f57bc9e38ef",
    "trusted": true
   },
   "outputs": [
    {
     "data": {
      "text/plain": [
       "(2025, 2)"
      ]
     },
     "execution_count": 21,
     "metadata": {},
     "output_type": "execute_result"
    }
   ],
   "source": [
    "train_data.shape"
   ]
  },
  {
   "cell_type": "code",
   "execution_count": 22,
   "metadata": {
    "colab": {
     "base_uri": "https://localhost:8080/"
    },
    "execution": {
     "iopub.execute_input": "2024-10-29T05:25:56.115285Z",
     "iopub.status.busy": "2024-10-29T05:25:56.114945Z",
     "iopub.status.idle": "2024-10-29T05:25:56.122717Z",
     "shell.execute_reply": "2024-10-29T05:25:56.121692Z",
     "shell.execute_reply.started": "2024-10-29T05:25:56.115253Z"
    },
    "executionInfo": {
     "elapsed": 13,
     "status": "ok",
     "timestamp": 1716665907683,
     "user": {
      "displayName": "Stévillis",
      "userId": "01901148833114142760"
     },
     "user_tz": 240
    },
    "id": "pDzsS4cXzYO1",
    "outputId": "304d559d-1f26-4aa5-de19-4566b5fee05f",
    "trusted": true
   },
   "outputs": [
    {
     "data": {
      "text/plain": [
       "(507, 2)"
      ]
     },
     "execution_count": 22,
     "metadata": {},
     "output_type": "execute_result"
    }
   ],
   "source": [
    "test_data.shape"
   ]
  },
  {
   "cell_type": "markdown",
   "metadata": {
    "id": "FqugxnpjQdnJ"
   },
   "source": [
    "## Loading Bertimbau model"
   ]
  },
  {
   "cell_type": "code",
   "execution_count": 23,
   "metadata": {
    "colab": {
     "base_uri": "https://localhost:8080/",
     "height": 205,
     "referenced_widgets": [
      "b8629f37c40945dda581e9329dff6b20",
      "1b6b397508464899b75dea59dd07aae3",
      "550c49720e964cd39fbf794904aa96b3",
      "d61af13a2b024bf6b7e3705a0a599596",
      "2f14d6f708594a1988256e654df6c1c9",
      "5ce9a695a67e40f8becba2c49d950da9",
      "e3db173b5bf6478facc07842e498c0cc",
      "ffb08e69886248a3b162b5cdb861fb57",
      "6c77643916f4427e811510d8f361d8ad",
      "41df13450db7459389dcceaeb790b299",
      "f5a8c833dd234d788f062079cc52d115",
      "293f647331a242638a7accca213b4d15",
      "343ce11496c54daf9e37f62260ea5190",
      "1cb61521b3b54e73ae8fd4db4a1d08e8",
      "4ad01902e63149a39d64cec0711fb55e",
      "5544f15772c54c429fcf67ed08db0f7d",
      "a4e60be03e9443ed886b3f2538b0072e",
      "a57a2c74ef844c499ef4beabcf7b0b66",
      "ced8a7fd88c74d6b87c0442b117d5059",
      "3cd5317348ca42c18f3c7203d51a0c0c",
      "9a990210f2ed4283b8689456a1a51037",
      "e93f61d091eb426dbe60dee7d5ad39d7"
     ]
    },
    "execution": {
     "iopub.execute_input": "2024-10-29T05:25:56.124761Z",
     "iopub.status.busy": "2024-10-29T05:25:56.123824Z",
     "iopub.status.idle": "2024-10-29T05:25:59.289445Z",
     "shell.execute_reply": "2024-10-29T05:25:59.288663Z",
     "shell.execute_reply.started": "2024-10-29T05:25:56.124720Z"
    },
    "executionInfo": {
     "elapsed": 5753,
     "status": "ok",
     "timestamp": 1716665913424,
     "user": {
      "displayName": "Stévillis",
      "userId": "01901148833114142760"
     },
     "user_tz": 240
    },
    "id": "kSZRTpqtQdnJ",
    "outputId": "c9ac6e96-f0c5-48ee-f3d1-e8a9f219b379",
    "trusted": true
   },
   "outputs": [
    {
     "data": {
      "application/vnd.jupyter.widget-view+json": {
       "model_id": "b11e85ef9dd94bb4af224e66217b8d99",
       "version_major": 2,
       "version_minor": 0
      },
      "text/plain": [
       "config.json:   0%|          | 0.00/647 [00:00<?, ?B/s]"
      ]
     },
     "metadata": {},
     "output_type": "display_data"
    },
    {
     "data": {
      "application/vnd.jupyter.widget-view+json": {
       "model_id": "9f4fa5de953946dab621d62312d9963e",
       "version_major": 2,
       "version_minor": 0
      },
      "text/plain": [
       "pytorch_model.bin:   0%|          | 0.00/438M [00:00<?, ?B/s]"
      ]
     },
     "metadata": {},
     "output_type": "display_data"
    }
   ],
   "source": [
    "bertimbau = BertModel.from_pretrained(PRETRAINED_MODEL_PATH)"
   ]
  },
  {
   "cell_type": "code",
   "execution_count": 24,
   "metadata": {
    "colab": {
     "base_uri": "https://localhost:8080/",
     "height": 145,
     "referenced_widgets": [
      "7017fcf1c4154ba9934ca7799019c126",
      "7f6380e76ba544b58a919a0e1e6ced71",
      "1be2dbb217404b13b16ad9b075874cb7",
      "6a62cca86efe416095f30753652d751e",
      "34d4c9bc6a914c58984361889dd20a90",
      "6650e654f53c4f7c9cb011059d5441f6",
      "755a623f8467496f9becbe0b9e5eac30",
      "025e50ac18fe4b1f8ace718dae854228",
      "5497d831b9f44d80a68d5a1454c0376a",
      "76fed6cc98734b1ea05abf070dca524f",
      "47e354dbefc24992a8a44831675c8b1e",
      "56ae8f5b15a045c09ce00a2ee34b039d",
      "b893b8b26252411e88eae984fa87e54f",
      "1409de62ee9a4ac582882e34c9f75c7c",
      "04d00aa2c35b4abe950d78c73447e6b5",
      "7ab2cba6e9334d1e8df958cbd8cf2852",
      "e6a4fe4593ae4ffdb8832d293539d348",
      "68d929aac50740c185affdaa97cd5613",
      "e10927e8fc4e473681c37be65e35967e",
      "65138185e6be4ab4af99a46f7ac5f506",
      "9cd81823f6524e6a97f4e8a94f3a6a6c",
      "a8ffc9f501f34efa8e80dd7748be195e",
      "351da4f516aa47f9a5395e804bfe1c76",
      "e4457fd19cd44e788df65a167f99f14d",
      "92c333fc130c4ff989ea12fe0e1d8dcf",
      "822e299017b5418b98472a37478fb5b7",
      "32122b90d852419ba165f986487d295d",
      "23aed9b23136450a8d9b23707d51ca6a",
      "7e52227e6ce5450f9c1a1d31bd7f93a5",
      "3a78891c232446538d7e098c860de684",
      "8cb1c668fe104fe6b0b6079d89413723",
      "a73a197fe7a148d28901482d6e805cf9",
      "22f8c1c3ec504bed8fdfda9cc708f4d5",
      "b955008efe794c61959ad2c355dbc113",
      "f36e87eabc21404c9e4288e37d50f953",
      "9b904e0ade494420ad02c9ce32755837",
      "736fe2b085894ffaa6f0d6abfbfcb993",
      "5183646265c14f7fa04526bece55ac13",
      "0ec12a2e77054bf483d669351d57d7a1",
      "3ae36eb98d9e4c8e8d1d636c9db11506",
      "4fb4cac2fc154689a18e7324d360a114",
      "ed0fd4298c1a4a6eb85f06dbdf032f2e",
      "4b5ad628dcfc46e2b0ba5cd5f65f65e5",
      "432f31d2734d4e1aa2c07315fb57569d"
     ]
    },
    "execution": {
     "iopub.execute_input": "2024-10-29T05:25:59.290917Z",
     "iopub.status.busy": "2024-10-29T05:25:59.290595Z",
     "iopub.status.idle": "2024-10-29T05:26:00.123553Z",
     "shell.execute_reply": "2024-10-29T05:26:00.122802Z",
     "shell.execute_reply.started": "2024-10-29T05:25:59.290883Z"
    },
    "executionInfo": {
     "elapsed": 2738,
     "status": "ok",
     "timestamp": 1716665916160,
     "user": {
      "displayName": "Stévillis",
      "userId": "01901148833114142760"
     },
     "user_tz": 240
    },
    "id": "t_TecuHcQdnJ",
    "outputId": "75d80202-3c61-4e3b-8173-04989c85afde",
    "trusted": true
   },
   "outputs": [
    {
     "data": {
      "application/vnd.jupyter.widget-view+json": {
       "model_id": "5c5a7108113a40f7a1de59dbefaa2760",
       "version_major": 2,
       "version_minor": 0
      },
      "text/plain": [
       "tokenizer_config.json:   0%|          | 0.00/43.0 [00:00<?, ?B/s]"
      ]
     },
     "metadata": {},
     "output_type": "display_data"
    },
    {
     "data": {
      "application/vnd.jupyter.widget-view+json": {
       "model_id": "7df99fba45994001b6e5bcf6d52cdff8",
       "version_major": 2,
       "version_minor": 0
      },
      "text/plain": [
       "vocab.txt:   0%|          | 0.00/210k [00:00<?, ?B/s]"
      ]
     },
     "metadata": {},
     "output_type": "display_data"
    },
    {
     "data": {
      "application/vnd.jupyter.widget-view+json": {
       "model_id": "67ef19caf0384f3592eaefc95f341916",
       "version_major": 2,
       "version_minor": 0
      },
      "text/plain": [
       "added_tokens.json:   0%|          | 0.00/2.00 [00:00<?, ?B/s]"
      ]
     },
     "metadata": {},
     "output_type": "display_data"
    },
    {
     "data": {
      "application/vnd.jupyter.widget-view+json": {
       "model_id": "5d07952854374dd6bcae9e49044d5db9",
       "version_major": 2,
       "version_minor": 0
      },
      "text/plain": [
       "special_tokens_map.json:   0%|          | 0.00/112 [00:00<?, ?B/s]"
      ]
     },
     "metadata": {},
     "output_type": "display_data"
    }
   ],
   "source": [
    "tokenizer = BertTokenizer.from_pretrained(PRETRAINED_MODEL_PATH)"
   ]
  },
  {
   "cell_type": "markdown",
   "metadata": {
    "id": "K9rKl-TIzYO1"
   },
   "source": [
    "## Create a PyTorch Dataset"
   ]
  },
  {
   "cell_type": "code",
   "execution_count": 25,
   "metadata": {
    "execution": {
     "iopub.execute_input": "2024-10-29T05:26:00.125079Z",
     "iopub.status.busy": "2024-10-29T05:26:00.124745Z",
     "iopub.status.idle": "2024-10-29T05:26:00.133516Z",
     "shell.execute_reply": "2024-10-29T05:26:00.132500Z",
     "shell.execute_reply.started": "2024-10-29T05:26:00.125044Z"
    },
    "executionInfo": {
     "elapsed": 497,
     "status": "ok",
     "timestamp": 1716665940602,
     "user": {
      "displayName": "Stévillis",
      "userId": "01901148833114142760"
     },
     "user_tz": 240
    },
    "id": "_vI844gLzYO1",
    "trusted": true
   },
   "outputs": [],
   "source": [
    "class GlassdoorReviewsDataset(Dataset):\n",
    "    def __init__(self, data, tokenizer, token_max_length):\n",
    "        self.data = data\n",
    "        self.tokenizer = tokenizer\n",
    "        self.max_length = token_max_length\n",
    "\n",
    "    def __len__(self):\n",
    "        return len(self.data)\n",
    "\n",
    "    def __getitem__(self, index):\n",
    "        text = self.data.iloc[index][\"review_text\"]\n",
    "        labels = self.data.iloc[index][[\"sentiment\"]].values.astype(int)\n",
    "\n",
    "        encoding = self.tokenizer(\n",
    "            text,\n",
    "            return_tensors=\"pt\",\n",
    "            padding=True,\n",
    "            truncation=False,\n",
    "            # max_length=self.max_length,\n",
    "        )\n",
    "        input_ids = encoding[\"input_ids\"][0]\n",
    "        attention_mask = encoding[\"attention_mask\"][0]\n",
    "\n",
    "        # resize the tensors to the same size\n",
    "        input_ids = nn.functional.pad(\n",
    "            input_ids, (0, self.max_length - input_ids.shape[0]), value=0\n",
    "        )\n",
    "        attention_mask = nn.functional.pad(\n",
    "            attention_mask, (0, self.max_length - attention_mask.shape[0]), value=0\n",
    "        )\n",
    "\n",
    "        return input_ids, attention_mask, torch.tensor(labels)"
   ]
  },
  {
   "cell_type": "code",
   "execution_count": 26,
   "metadata": {
    "execution": {
     "iopub.execute_input": "2024-10-29T05:26:00.135372Z",
     "iopub.status.busy": "2024-10-29T05:26:00.134956Z",
     "iopub.status.idle": "2024-10-29T05:26:00.144486Z",
     "shell.execute_reply": "2024-10-29T05:26:00.143561Z",
     "shell.execute_reply.started": "2024-10-29T05:26:00.135331Z"
    },
    "executionInfo": {
     "elapsed": 543,
     "status": "ok",
     "timestamp": 1716665941748,
     "user": {
      "displayName": "Stévillis",
      "userId": "01901148833114142760"
     },
     "user_tz": 240
    },
    "id": "_zDIAPo2zYO1",
    "trusted": true
   },
   "outputs": [],
   "source": [
    "train_dataset = GlassdoorReviewsDataset(train_data, tokenizer, TOKEN_MAX_LENGTH)\n",
    "test_dataset = GlassdoorReviewsDataset(test_data, tokenizer, TOKEN_MAX_LENGTH)"
   ]
  },
  {
   "cell_type": "code",
   "execution_count": 27,
   "metadata": {
    "execution": {
     "iopub.execute_input": "2024-10-29T05:26:00.146065Z",
     "iopub.status.busy": "2024-10-29T05:26:00.145643Z",
     "iopub.status.idle": "2024-10-29T05:26:00.151748Z",
     "shell.execute_reply": "2024-10-29T05:26:00.150944Z",
     "shell.execute_reply.started": "2024-10-29T05:26:00.146007Z"
    },
    "executionInfo": {
     "elapsed": 6,
     "status": "ok",
     "timestamp": 1716665941748,
     "user": {
      "displayName": "Stévillis",
      "userId": "01901148833114142760"
     },
     "user_tz": 240
    },
    "id": "RG_VEYkGzYO2",
    "trusted": true
   },
   "outputs": [],
   "source": [
    "train_loader = DataLoader(train_dataset, batch_size=BATCH_SIZE, shuffle=True)\n",
    "test_loader = DataLoader(test_dataset, batch_size=BATCH_SIZE, shuffle=False)"
   ]
  },
  {
   "cell_type": "markdown",
   "metadata": {
    "id": "dAc0LPCvzYO2"
   },
   "source": [
    "## Creating a PyTorch Model"
   ]
  },
  {
   "cell_type": "code",
   "execution_count": 28,
   "metadata": {
    "execution": {
     "iopub.execute_input": "2024-10-29T05:26:00.153858Z",
     "iopub.status.busy": "2024-10-29T05:26:00.152866Z",
     "iopub.status.idle": "2024-10-29T05:26:00.164281Z",
     "shell.execute_reply": "2024-10-29T05:26:00.163511Z",
     "shell.execute_reply.started": "2024-10-29T05:26:00.153823Z"
    },
    "executionInfo": {
     "elapsed": 6,
     "status": "ok",
     "timestamp": 1716665941748,
     "user": {
      "displayName": "Stévillis",
      "userId": "01901148833114142760"
     },
     "user_tz": 240
    },
    "id": "HS1kdKpwQdnK",
    "trusted": true
   },
   "outputs": [],
   "source": [
    "classifier = nn.Sequential(\n",
    "    nn.Linear(BERTIMBAU_HIDDEN_SIZE, 300),\n",
    "    nn.ReLU(),\n",
    "    nn.Linear(300, 100),\n",
    "    nn.ReLU(),\n",
    "    nn.Linear(100, 50),\n",
    "    nn.ReLU(),\n",
    "    nn.Linear(50, num_labels),\n",
    ")"
   ]
  },
  {
   "cell_type": "code",
   "execution_count": 29,
   "metadata": {
    "execution": {
     "iopub.execute_input": "2024-10-29T05:26:00.171646Z",
     "iopub.status.busy": "2024-10-29T05:26:00.171382Z",
     "iopub.status.idle": "2024-10-29T05:26:00.178369Z",
     "shell.execute_reply": "2024-10-29T05:26:00.177422Z",
     "shell.execute_reply.started": "2024-10-29T05:26:00.171610Z"
    },
    "executionInfo": {
     "elapsed": 5,
     "status": "ok",
     "timestamp": 1716665941748,
     "user": {
      "displayName": "Stévillis",
      "userId": "01901148833114142760"
     },
     "user_tz": 240
    },
    "id": "B4XwU_8-zYO2",
    "trusted": true
   },
   "outputs": [],
   "source": [
    "class GlassdoorReviewsClassifier(nn.Module):\n",
    "    def __init__(self, num_labels):\n",
    "        super(GlassdoorReviewsClassifier, self).__init__()\n",
    "\n",
    "        self.bert = BertModel.from_pretrained(PRETRAINED_MODEL_PATH)\n",
    "        self.classifier = classifier\n",
    "\n",
    "\n",
    "    def forward(self, input_ids, attention_mask):\n",
    "        outputs = self.bert(input_ids=input_ids, attention_mask=attention_mask)\n",
    "        x = outputs[\"last_hidden_state\"][:, 0, :]\n",
    "        x = self.classifier(x)\n",
    "        return x"
   ]
  },
  {
   "cell_type": "code",
   "execution_count": 30,
   "metadata": {
    "execution": {
     "iopub.execute_input": "2024-10-29T05:26:00.180184Z",
     "iopub.status.busy": "2024-10-29T05:26:00.179622Z",
     "iopub.status.idle": "2024-10-29T05:26:00.188423Z",
     "shell.execute_reply": "2024-10-29T05:26:00.187603Z",
     "shell.execute_reply.started": "2024-10-29T05:26:00.180142Z"
    },
    "executionInfo": {
     "elapsed": 5,
     "status": "ok",
     "timestamp": 1716665941748,
     "user": {
      "displayName": "Stévillis",
      "userId": "01901148833114142760"
     },
     "user_tz": 240
    },
    "id": "vCVcDRjQQdnN",
    "trusted": true
   },
   "outputs": [],
   "source": [
    "class GlassdoorReviewsClassifierFreezing(nn.Module):\n",
    "    def __init__(self, num_labels):\n",
    "        super(GlassdoorReviewsClassifierFreezing, self).__init__()\n",
    "\n",
    "        for param in bertimbau.parameters():\n",
    "            param.requires_grad = False\n",
    "\n",
    "        self.bert = BertModel.from_pretrained(PRETRAINED_MODEL_PATH)\n",
    "        self.classifier = classifier\n",
    "\n",
    "    def forward(self, input_ids, attention_mask):\n",
    "        outputs = self.bert(input_ids=input_ids, attention_mask=attention_mask)\n",
    "        x = outputs[\"last_hidden_state\"][:, 0, :]\n",
    "        x = self.classifier(x)\n",
    "        return x"
   ]
  },
  {
   "cell_type": "markdown",
   "metadata": {
    "id": "wrpmobebQdnN"
   },
   "source": [
    "## Model training functions"
   ]
  },
  {
   "cell_type": "code",
   "execution_count": 31,
   "metadata": {
    "execution": {
     "iopub.execute_input": "2024-10-29T05:26:00.190253Z",
     "iopub.status.busy": "2024-10-29T05:26:00.189503Z",
     "iopub.status.idle": "2024-10-29T05:26:00.197523Z",
     "shell.execute_reply": "2024-10-29T05:26:00.196712Z",
     "shell.execute_reply.started": "2024-10-29T05:26:00.190220Z"
    },
    "executionInfo": {
     "elapsed": 5,
     "status": "ok",
     "timestamp": 1716665941748,
     "user": {
      "displayName": "Stévillis",
      "userId": "01901148833114142760"
     },
     "user_tz": 240
    },
    "id": "J2Y_0sBdQdnN",
    "trusted": true
   },
   "outputs": [],
   "source": [
    "def train(model, data_loader, loss_fun, optimizer, n_total_steps):\n",
    "    model.train()\n",
    "\n",
    "    running_loss = 0.0\n",
    "    for i, batch in enumerate(data_loader):\n",
    "        input_ids, attention_mask, labels = batch\n",
    "\n",
    "        input_ids = input_ids.to(device)\n",
    "        attention_mask = attention_mask.to(device)\n",
    "\n",
    "        labels = labels.view(-1)\n",
    "        labels = labels.to(device)\n",
    "\n",
    "        optimizer.zero_grad()\n",
    "\n",
    "        logits = model(input_ids, attention_mask)\n",
    "\n",
    "        loss = loss_fun(logits, labels)\n",
    "\n",
    "        loss.backward()\n",
    "        optimizer.step()\n",
    "\n",
    "        loss_value = loss.item()\n",
    "        running_loss += loss_value\n",
    "\n",
    "        if (i + 1) % BATCH_SIZE == 0:\n",
    "            print(\n",
    "                f\"Training Batch {i + 1}/{n_total_steps}, \\t\\t loss = {loss_value:.4f}\"\n",
    "            )\n",
    "\n",
    "    return running_loss / len(data_loader)"
   ]
  },
  {
   "cell_type": "code",
   "execution_count": 32,
   "metadata": {
    "execution": {
     "iopub.execute_input": "2024-10-29T05:26:00.198872Z",
     "iopub.status.busy": "2024-10-29T05:26:00.198581Z",
     "iopub.status.idle": "2024-10-29T05:26:00.205962Z",
     "shell.execute_reply": "2024-10-29T05:26:00.204942Z",
     "shell.execute_reply.started": "2024-10-29T05:26:00.198835Z"
    },
    "executionInfo": {
     "elapsed": 5,
     "status": "ok",
     "timestamp": 1716665941748,
     "user": {
      "displayName": "Stévillis",
      "userId": "01901148833114142760"
     },
     "user_tz": 240
    },
    "id": "CpeMajpRQdnO",
    "trusted": true
   },
   "outputs": [],
   "source": [
    "def test(model, data_loader, loss_fun, n_total_steps):\n",
    "    model.eval()\n",
    "\n",
    "    running_loss = 0.0\n",
    "    with torch.no_grad():\n",
    "        for i, batch in enumerate(data_loader):\n",
    "            input_ids, attention_mask, labels = batch\n",
    "\n",
    "            input_ids = input_ids.to(device)\n",
    "            attention_mask = attention_mask.to(device)\n",
    "\n",
    "            labels = labels.view(-1)\n",
    "            labels = labels.to(device)\n",
    "\n",
    "            logits = model(input_ids, attention_mask)\n",
    "            loss = loss_fun(logits, labels)\n",
    "\n",
    "            loss_value = loss.item()\n",
    "            running_loss += loss_value\n",
    "\n",
    "            if (i + 1) % BATCH_SIZE == 0:\n",
    "                print(\n",
    "                    f\"Evaluating Batch {i + 1}/{n_total_steps}, \\t\\t loss = {loss_value:.4f}\"\n",
    "                )\n",
    "\n",
    "    return running_loss / len(data_loader)"
   ]
  },
  {
   "cell_type": "code",
   "execution_count": 33,
   "metadata": {
    "execution": {
     "iopub.execute_input": "2024-10-29T05:26:00.207566Z",
     "iopub.status.busy": "2024-10-29T05:26:00.207274Z",
     "iopub.status.idle": "2024-10-29T05:26:00.216373Z",
     "shell.execute_reply": "2024-10-29T05:26:00.215593Z",
     "shell.execute_reply.started": "2024-10-29T05:26:00.207535Z"
    },
    "executionInfo": {
     "elapsed": 5,
     "status": "ok",
     "timestamp": 1716665941748,
     "user": {
      "displayName": "Stévillis",
      "userId": "01901148833114142760"
     },
     "user_tz": 240
    },
    "id": "HTWNbmLqQdnO",
    "trusted": true
   },
   "outputs": [],
   "source": [
    "def show_loss(train_loss_per_epoch, test_loss_per_epoch, title):\n",
    "    epochs = range(1, len(train_loss_per_epoch) + 1)\n",
    "\n",
    "    train_data = {\"epoch\": epochs, \"loss\": train_loss_per_epoch, \"type\": \"Train\"}\n",
    "    test_data = {\"epoch\": epochs, \"loss\": test_loss_per_epoch, \"type\": \"Test\"}\n",
    "    df_loss = pd.concat([pd.DataFrame(train_data), pd.DataFrame(test_data)])\n",
    "\n",
    "    plt.figure(figsize=(8, 6))\n",
    "    sns.lineplot(data=df_loss, x=\"epoch\", y=\"loss\", hue=\"type\", marker=\"o\")\n",
    "\n",
    "    plt.title(title)\n",
    "    plt.xlabel(\"Epoch\")\n",
    "    plt.ylabel(\"Loss\")\n",
    "\n",
    "    # plt.grid(True)\n",
    "    plt.legend(title=\"Loss Type\")\n",
    "    plt.show()"
   ]
  },
  {
   "cell_type": "code",
   "execution_count": null,
   "metadata": {
    "execution": {
     "iopub.execute_input": "2024-10-29T05:26:00.218041Z",
     "iopub.status.busy": "2024-10-29T05:26:00.217644Z",
     "iopub.status.idle": "2024-10-29T05:26:00.225100Z",
     "shell.execute_reply": "2024-10-29T05:26:00.224128Z",
     "shell.execute_reply.started": "2024-10-29T05:26:00.217982Z"
    },
    "executionInfo": {
     "elapsed": 4,
     "status": "ok",
     "timestamp": 1716665941748,
     "user": {
      "displayName": "Stévillis",
      "userId": "01901148833114142760"
     },
     "user_tz": 240
    },
    "id": "GszNQx19QdnO",
    "trusted": true
   },
   "outputs": [],
   "source": [
    "def start_training(model, train_loader, loss_fun, optimizer, epochs, n_total_steps):\n",
    "    train_losses = []\n",
    "    test_losses = []\n",
    "    start_time = time.time()\n",
    "\n",
    "    for t in range(epochs):\n",
    "        print(f\"{'-'*20} Epoch: {t + 1}/{epochs} {'-'*20}\")\n",
    "\n",
    "        train_loss = train(model, train_loader, loss_fun, optimizer, n_total_steps)\n",
    "        train_losses.append(train_loss)\n",
    "\n",
    "        print(\"\")\n",
    "\n",
    "        test_loss = test(model, test_loader, loss_fun, n_total_steps)\n",
    "        test_losses.append(test_loss)\n",
    "\n",
    "        print(f\"\\nTrain Loss: {train_loss}, \\t\\t Test Loss: {test_loss}\")\n",
    "        print(\"\\n\\n\")\n",
    "\n",
    "    elapsed_time = time.time() - start_time\n",
    "    print(f\"Elapsed time: {time.strftime('%H:%M:%S', time.gmtime(elapsed_time))}\")\n",
    "\n",
    "    return train_losses, test_losses"
   ]
  },
  {
   "cell_type": "markdown",
   "metadata": {
    "id": "7MKxmKfJQdnO"
   },
   "source": [
    "## Model Evaluation functions"
   ]
  },
  {
   "cell_type": "code",
   "execution_count": null,
   "metadata": {
    "execution": {
     "iopub.execute_input": "2024-10-29T05:26:00.226536Z",
     "iopub.status.busy": "2024-10-29T05:26:00.226164Z",
     "iopub.status.idle": "2024-10-29T05:26:00.234147Z",
     "shell.execute_reply": "2024-10-29T05:26:00.233293Z",
     "shell.execute_reply.started": "2024-10-29T05:26:00.226490Z"
    },
    "executionInfo": {
     "elapsed": 4,
     "status": "ok",
     "timestamp": 1716665941748,
     "user": {
      "displayName": "Stévillis",
      "userId": "01901148833114142760"
     },
     "user_tz": 240
    },
    "id": "oqluC6ylQdnO",
    "trusted": true
   },
   "outputs": [],
   "source": [
    "def evaluate_model(model, test_loader, device):\n",
    "    all_labels = []\n",
    "    all_preds = []\n",
    "\n",
    "    with torch.no_grad():\n",
    "        for i, batch in enumerate(test_loader):\n",
    "            input_ids, attention_mask, labels = batch\n",
    "\n",
    "            input_ids = input_ids.to(device)\n",
    "            attention_mask = attention_mask.to(device)\n",
    "\n",
    "            labels = labels.view(-1)\n",
    "            labels = labels.to(device)\n",
    "\n",
    "            outputs = model(input_ids, attention_mask)\n",
    "            _, predictions = torch.max(outputs, 1)\n",
    "\n",
    "            all_labels.append(labels.cpu().numpy())\n",
    "            all_preds.append(predictions.cpu().numpy())\n",
    "\n",
    "    all_labels = np.concatenate(all_labels, axis=0)\n",
    "    all_preds = np.concatenate(all_preds, axis=0)\n",
    "\n",
    "    return all_labels, all_preds"
   ]
  },
  {
   "cell_type": "code",
   "execution_count": 36,
   "metadata": {
    "execution": {
     "iopub.execute_input": "2024-10-29T05:26:00.235925Z",
     "iopub.status.busy": "2024-10-29T05:26:00.235373Z",
     "iopub.status.idle": "2024-10-29T05:26:00.243753Z",
     "shell.execute_reply": "2024-10-29T05:26:00.242881Z",
     "shell.execute_reply.started": "2024-10-29T05:26:00.235884Z"
    },
    "executionInfo": {
     "elapsed": 5,
     "status": "ok",
     "timestamp": 1716665941749,
     "user": {
      "displayName": "Stévillis",
      "userId": "01901148833114142760"
     },
     "user_tz": 240
    },
    "id": "UWmYTcalQdnO",
    "trusted": true
   },
   "outputs": [],
   "source": [
    "def show_confusion_matrix(all_labels, all_preds, normalize=None):\n",
    "    cm = confusion_matrix(all_labels, all_preds, normalize=normalize)\n",
    "\n",
    "    plt.figure(figsize=(8, 6))\n",
    "    sns.heatmap(cm, annot=True, cmap=\"Blues\", fmt=\"g\")\n",
    "    plt.title(\"Confusion Matrix\")\n",
    "    plt.xlabel(\"Predicted Labels\")\n",
    "    plt.ylabel(\"True Labels\")\n",
    "    plt.show()"
   ]
  },
  {
   "cell_type": "code",
   "execution_count": null,
   "metadata": {
    "execution": {
     "iopub.execute_input": "2024-10-29T05:26:00.245569Z",
     "iopub.status.busy": "2024-10-29T05:26:00.244928Z",
     "iopub.status.idle": "2024-10-29T05:26:00.253791Z",
     "shell.execute_reply": "2024-10-29T05:26:00.252707Z",
     "shell.execute_reply.started": "2024-10-29T05:26:00.245527Z"
    },
    "executionInfo": {
     "elapsed": 5,
     "status": "ok",
     "timestamp": 1716665941749,
     "user": {
      "displayName": "Stévillis",
      "userId": "01901148833114142760"
     },
     "user_tz": 240
    },
    "id": "7xYN-RtDQdnO",
    "trusted": true
   },
   "outputs": [],
   "source": [
    "def predict_reviews(model, reviews) -> None:\n",
    "    class_names = [\"neutral\", \"positive\", \"negative\"]\n",
    "    for review in reviews:\n",
    "        encoded_review = tokenizer.encode_plus(\n",
    "            review,\n",
    "            max_length=TOKEN_MAX_LENGTH,\n",
    "            add_special_tokens=True,\n",
    "            return_token_type_ids=False,\n",
    "            # pad_to_max_length=True, # deprecated\n",
    "            padding=\"max_length\",\n",
    "            truncation=True,\n",
    "            return_attention_mask=True,\n",
    "            return_tensors=\"pt\",\n",
    "        )\n",
    "\n",
    "        input_ids = encoded_review[\"input_ids\"].to(device)\n",
    "        attention_mask = encoded_review[\"attention_mask\"].to(device)\n",
    "\n",
    "        output = model(input_ids, attention_mask)\n",
    "        _, prediction = torch.max(output, dim=1)\n",
    "        probs = nn.functional.softmax(output, dim=1)\n",
    "\n",
    "        print(f\"Review text: {review}\")\n",
    "        # print(probs)\n",
    "        print(pd.DataFrame(probs.tolist()[0], class_names)[0])\n",
    "        print(\"\\n\")\n",
    "\n",
    "    return None"
   ]
  },
  {
   "cell_type": "markdown",
   "metadata": {
    "id": "b82lvECpQdnP"
   },
   "source": [
    "## Training the Model (without oversampling)"
   ]
  },
  {
   "cell_type": "code",
   "execution_count": 38,
   "metadata": {
    "execution": {
     "iopub.execute_input": "2024-10-29T05:26:00.255852Z",
     "iopub.status.busy": "2024-10-29T05:26:00.255070Z",
     "iopub.status.idle": "2024-10-29T05:26:01.886393Z",
     "shell.execute_reply": "2024-10-29T05:26:01.885307Z",
     "shell.execute_reply.started": "2024-10-29T05:26:00.255808Z"
    },
    "executionInfo": {
     "elapsed": 4610,
     "status": "ok",
     "timestamp": 1716665946354,
     "user": {
      "displayName": "Stévillis",
      "userId": "01901148833114142760"
     },
     "user_tz": 240
    },
    "id": "u8MsvBfXzYO2",
    "trusted": true
   },
   "outputs": [],
   "source": [
    "model = GlassdoorReviewsClassifier(num_labels).to(device)\n",
    "model_freezing = GlassdoorReviewsClassifierFreezing(num_labels).to(device)"
   ]
  },
  {
   "cell_type": "code",
   "execution_count": 39,
   "metadata": {
    "execution": {
     "iopub.execute_input": "2024-10-29T05:26:01.888152Z",
     "iopub.status.busy": "2024-10-29T05:26:01.887741Z",
     "iopub.status.idle": "2024-10-29T05:26:01.893198Z",
     "shell.execute_reply": "2024-10-29T05:26:01.892044Z",
     "shell.execute_reply.started": "2024-10-29T05:26:01.888102Z"
    },
    "executionInfo": {
     "elapsed": 10,
     "status": "ok",
     "timestamp": 1716665946355,
     "user": {
      "displayName": "Stévillis",
      "userId": "01901148833114142760"
     },
     "user_tz": 240
    },
    "id": "F_D7SH-azYO2",
    "trusted": true
   },
   "outputs": [],
   "source": [
    "loss_fun = nn.CrossEntropyLoss()"
   ]
  },
  {
   "cell_type": "code",
   "execution_count": 40,
   "metadata": {
    "execution": {
     "iopub.execute_input": "2024-10-29T05:26:01.894727Z",
     "iopub.status.busy": "2024-10-29T05:26:01.894412Z",
     "iopub.status.idle": "2024-10-29T05:26:02.335777Z",
     "shell.execute_reply": "2024-10-29T05:26:02.335036Z",
     "shell.execute_reply.started": "2024-10-29T05:26:01.894696Z"
    },
    "executionInfo": {
     "elapsed": 482,
     "status": "ok",
     "timestamp": 1716665946827,
     "user": {
      "displayName": "Stévillis",
      "userId": "01901148833114142760"
     },
     "user_tz": 240
    },
    "id": "QiSV6VnRzYO2",
    "trusted": true
   },
   "outputs": [],
   "source": [
    "optimizer = torch.optim.Adam(model.parameters(), lr=LEARNING_RATE)\n",
    "optimizer_freezing = torch.optim.Adam(model_freezing.parameters(), lr=LEARNING_RATE)"
   ]
  },
  {
   "cell_type": "code",
   "execution_count": 41,
   "metadata": {
    "colab": {
     "base_uri": "https://localhost:8080/"
    },
    "execution": {
     "iopub.execute_input": "2024-10-29T05:26:02.337332Z",
     "iopub.status.busy": "2024-10-29T05:26:02.336862Z",
     "iopub.status.idle": "2024-10-29T05:26:02.343236Z",
     "shell.execute_reply": "2024-10-29T05:26:02.342257Z",
     "shell.execute_reply.started": "2024-10-29T05:26:02.337297Z"
    },
    "executionInfo": {
     "elapsed": 2,
     "status": "ok",
     "timestamp": 1716665946827,
     "user": {
      "displayName": "Stévillis",
      "userId": "01901148833114142760"
     },
     "user_tz": 240
    },
    "id": "3JrEksNwzYO3",
    "outputId": "484d70d9-7010-478e-f4aa-752dad279e00",
    "trusted": true
   },
   "outputs": [
    {
     "data": {
      "text/plain": [
       "127"
      ]
     },
     "execution_count": 41,
     "metadata": {},
     "output_type": "execute_result"
    }
   ],
   "source": [
    "n_total_steps = len(train_loader)\n",
    "n_total_steps"
   ]
  },
  {
   "cell_type": "markdown",
   "metadata": {
    "id": "cEh2cDM0QdnP"
   },
   "source": [
    "### Training Model without freezing BERT Layers"
   ]
  },
  {
   "cell_type": "code",
   "execution_count": 42,
   "metadata": {
    "colab": {
     "base_uri": "https://localhost:8080/"
    },
    "execution": {
     "iopub.execute_input": "2024-10-29T05:26:02.345116Z",
     "iopub.status.busy": "2024-10-29T05:26:02.344491Z",
     "iopub.status.idle": "2024-10-29T05:41:34.634764Z",
     "shell.execute_reply": "2024-10-29T05:41:34.633741Z",
     "shell.execute_reply.started": "2024-10-29T05:26:02.345081Z"
    },
    "executionInfo": {
     "elapsed": 973847,
     "status": "ok",
     "timestamp": 1716666920672,
     "user": {
      "displayName": "Stévillis",
      "userId": "01901148833114142760"
     },
     "user_tz": 240
    },
    "id": "wOT-hS7nc73L",
    "outputId": "e17658cf-206f-4a0c-806f-7f4211323a4f",
    "trusted": true
   },
   "outputs": [
    {
     "name": "stdout",
     "output_type": "stream",
     "text": [
      "-------------------- Epoch: 1/5 --------------------\n",
      "Training Batch 16/127, \t\t loss = 1.0499\n",
      "Training Batch 32/127, \t\t loss = 0.9842\n",
      "Training Batch 48/127, \t\t loss = 0.8372\n",
      "Training Batch 64/127, \t\t loss = 0.6885\n",
      "Training Batch 80/127, \t\t loss = 0.7138\n",
      "Training Batch 96/127, \t\t loss = 0.5507\n",
      "Training Batch 112/127, \t\t loss = 0.8704\n",
      "\n",
      "Evaluating Batch 16/127, \t\t loss = 0.4548\n",
      "Evaluating Batch 32/127, \t\t loss = 0.5344\n",
      "\n",
      "Train Loss: 0.7780915536279753, \t\t Test Loss: 0.4972406132146716\n",
      "\n",
      "\n",
      "\n",
      "-------------------- Epoch: 2/5 --------------------\n",
      "Training Batch 16/127, \t\t loss = 0.4066\n",
      "Training Batch 32/127, \t\t loss = 0.4747\n",
      "Training Batch 48/127, \t\t loss = 0.3283\n",
      "Training Batch 64/127, \t\t loss = 0.2822\n",
      "Training Batch 80/127, \t\t loss = 0.1937\n",
      "Training Batch 96/127, \t\t loss = 0.1689\n",
      "Training Batch 112/127, \t\t loss = 0.1154\n",
      "\n",
      "Evaluating Batch 16/127, \t\t loss = 0.5841\n",
      "Evaluating Batch 32/127, \t\t loss = 0.1196\n",
      "\n",
      "Train Loss: 0.34459510580526564, \t\t Test Loss: 0.2577943494543433\n",
      "\n",
      "\n",
      "\n",
      "-------------------- Epoch: 3/5 --------------------\n",
      "Training Batch 16/127, \t\t loss = 0.3230\n",
      "Training Batch 32/127, \t\t loss = 0.1330\n",
      "Training Batch 48/127, \t\t loss = 0.3669\n",
      "Training Batch 64/127, \t\t loss = 0.1346\n",
      "Training Batch 80/127, \t\t loss = 0.1172\n",
      "Training Batch 96/127, \t\t loss = 0.1622\n",
      "Training Batch 112/127, \t\t loss = 0.2368\n",
      "\n",
      "Evaluating Batch 16/127, \t\t loss = 0.2757\n",
      "Evaluating Batch 32/127, \t\t loss = 0.1373\n",
      "\n",
      "Train Loss: 0.1875768361070494, \t\t Test Loss: 0.24125998566159979\n",
      "\n",
      "\n",
      "\n",
      "-------------------- Epoch: 4/5 --------------------\n",
      "Training Batch 16/127, \t\t loss = 0.1418\n",
      "Training Batch 32/127, \t\t loss = 0.0328\n",
      "Training Batch 48/127, \t\t loss = 0.3759\n",
      "Training Batch 64/127, \t\t loss = 0.0756\n",
      "Training Batch 80/127, \t\t loss = 0.2370\n",
      "Training Batch 96/127, \t\t loss = 0.0389\n",
      "Training Batch 112/127, \t\t loss = 0.3584\n",
      "\n",
      "Evaluating Batch 16/127, \t\t loss = 0.3286\n",
      "Evaluating Batch 32/127, \t\t loss = 0.0398\n",
      "\n",
      "Train Loss: 0.13183559703193312, \t\t Test Loss: 0.1983975122566335\n",
      "\n",
      "\n",
      "\n",
      "-------------------- Epoch: 5/5 --------------------\n",
      "Training Batch 16/127, \t\t loss = 0.0284\n",
      "Training Batch 32/127, \t\t loss = 0.0252\n",
      "Training Batch 48/127, \t\t loss = 0.2836\n",
      "Training Batch 64/127, \t\t loss = 0.2869\n",
      "Training Batch 80/127, \t\t loss = 0.0252\n",
      "Training Batch 96/127, \t\t loss = 0.0282\n",
      "Training Batch 112/127, \t\t loss = 0.0318\n",
      "\n",
      "Evaluating Batch 16/127, \t\t loss = 0.2283\n",
      "Evaluating Batch 32/127, \t\t loss = 0.2841\n",
      "\n",
      "Train Loss: 0.07707145306333078, \t\t Test Loss: 0.24933462982880883\n",
      "\n",
      "\n",
      "\n"
     ]
    }
   ],
   "source": [
    "train_losses, test_losses = start_training(\n",
    "    model, train_loader, loss_fun, optimizer, EPOCHS, n_total_steps\n",
    ")"
   ]
  },
  {
   "cell_type": "code",
   "execution_count": 43,
   "metadata": {
    "colab": {
     "base_uri": "https://localhost:8080/",
     "height": 564
    },
    "execution": {
     "iopub.execute_input": "2024-10-29T05:41:34.636312Z",
     "iopub.status.busy": "2024-10-29T05:41:34.635969Z",
     "iopub.status.idle": "2024-10-29T05:41:34.994864Z",
     "shell.execute_reply": "2024-10-29T05:41:34.993965Z",
     "shell.execute_reply.started": "2024-10-29T05:41:34.636277Z"
    },
    "executionInfo": {
     "elapsed": 15,
     "status": "ok",
     "timestamp": 1716666920673,
     "user": {
      "displayName": "Stévillis",
      "userId": "01901148833114142760"
     },
     "user_tz": 240
    },
    "id": "qMicUF9V8CTR",
    "outputId": "250e8e03-fc10-4b49-8f85-eed30a1df392",
    "trusted": true
   },
   "outputs": [
    {
     "name": "stderr",
     "output_type": "stream",
     "text": [
      "/opt/conda/lib/python3.10/site-packages/seaborn/_oldcore.py:1119: FutureWarning: use_inf_as_na option is deprecated and will be removed in a future version. Convert inf values to NaN before operating instead.\n",
      "  with pd.option_context('mode.use_inf_as_na', True):\n",
      "/opt/conda/lib/python3.10/site-packages/seaborn/_oldcore.py:1119: FutureWarning: use_inf_as_na option is deprecated and will be removed in a future version. Convert inf values to NaN before operating instead.\n",
      "  with pd.option_context('mode.use_inf_as_na', True):\n",
      "/opt/conda/lib/python3.10/site-packages/seaborn/_oldcore.py:1075: FutureWarning: When grouping with a length-1 list-like, you will need to pass a length-1 tuple to get_group in a future version of pandas. Pass `(name,)` instead of `name` to silence this warning.\n",
      "  data_subset = grouped_data.get_group(pd_key)\n",
      "/opt/conda/lib/python3.10/site-packages/seaborn/_oldcore.py:1075: FutureWarning: When grouping with a length-1 list-like, you will need to pass a length-1 tuple to get_group in a future version of pandas. Pass `(name,)` instead of `name` to silence this warning.\n",
      "  data_subset = grouped_data.get_group(pd_key)\n"
     ]
    },
    {
     "data": {
      "image/png": "[encoded data removed]",
      "text/plain": [
       "<Figure size 800x600 with 1 Axes>"
      ]
     },
     "metadata": {},
     "output_type": "display_data"
    }
   ],
   "source": [
    "show_loss(train_losses, test_losses, title=\"Training and Test Loss per Epoch without freezing BERT layers\")"
   ]
  },
  {
   "cell_type": "markdown",
   "metadata": {
    "id": "mJ2DcAEFdInk"
   },
   "source": [
    "#### Evaluating the Model"
   ]
  },
  {
   "cell_type": "code",
   "execution_count": 44,
   "metadata": {
    "execution": {
     "iopub.execute_input": "2024-10-29T05:41:34.997054Z",
     "iopub.status.busy": "2024-10-29T05:41:34.996431Z",
     "iopub.status.idle": "2024-10-29T05:41:49.127285Z",
     "shell.execute_reply": "2024-10-29T05:41:49.126229Z",
     "shell.execute_reply.started": "2024-10-29T05:41:34.996991Z"
    },
    "executionInfo": {
     "elapsed": 15153,
     "status": "ok",
     "timestamp": 1716666935822,
     "user": {
      "displayName": "Stévillis",
      "userId": "01901148833114142760"
     },
     "user_tz": 240
    },
    "id": "qftKeEMkQdnQ",
    "trusted": true
   },
   "outputs": [],
   "source": [
    "all_labels, all_preds = evaluate_model(model, test_loader, device)"
   ]
  },
  {
   "cell_type": "code",
   "execution_count": 45,
   "metadata": {
    "colab": {
     "base_uri": "https://localhost:8080/"
    },
    "execution": {
     "iopub.execute_input": "2024-10-29T05:41:49.129130Z",
     "iopub.status.busy": "2024-10-29T05:41:49.128669Z",
     "iopub.status.idle": "2024-10-29T05:41:49.146258Z",
     "shell.execute_reply": "2024-10-29T05:41:49.145250Z",
     "shell.execute_reply.started": "2024-10-29T05:41:49.129083Z"
    },
    "executionInfo": {
     "elapsed": 15,
     "status": "ok",
     "timestamp": 1716666935823,
     "user": {
      "displayName": "Stévillis",
      "userId": "01901148833114142760"
     },
     "user_tz": 240
    },
    "id": "2ih7Y4Y9P91K",
    "outputId": "c3641b38-9567-4f0b-a480-2e798dc574c6",
    "trusted": true
   },
   "outputs": [
    {
     "name": "stdout",
     "output_type": "stream",
     "text": [
      "              precision    recall  f1-score   support\n",
      "\n",
      "           0       0.75      0.76      0.76        51\n",
      "           1       0.95      0.97      0.96       269\n",
      "           2       0.96      0.91      0.94       187\n",
      "\n",
      "    accuracy                           0.93       507\n",
      "   macro avg       0.89      0.88      0.88       507\n",
      "weighted avg       0.93      0.93      0.93       507\n",
      "\n"
     ]
    }
   ],
   "source": [
    "print(classification_report(all_labels, all_preds))"
   ]
  },
  {
   "cell_type": "code",
   "execution_count": 46,
   "metadata": {
    "colab": {
     "base_uri": "https://localhost:8080/"
    },
    "execution": {
     "iopub.execute_input": "2024-10-29T05:41:49.147594Z",
     "iopub.status.busy": "2024-10-29T05:41:49.147291Z",
     "iopub.status.idle": "2024-10-29T05:41:49.153575Z",
     "shell.execute_reply": "2024-10-29T05:41:49.152486Z",
     "shell.execute_reply.started": "2024-10-29T05:41:49.147555Z"
    },
    "executionInfo": {
     "elapsed": 15,
     "status": "ok",
     "timestamp": 1716666935824,
     "user": {
      "displayName": "Stévillis",
      "userId": "01901148833114142760"
     },
     "user_tz": 240
    },
    "id": "tK4OujfsP91K",
    "outputId": "7bf90e8f-99fd-46d6-8b77-9fbcf338d3db",
    "trusted": true
   },
   "outputs": [
    {
     "name": "stdout",
     "output_type": "stream",
     "text": [
      "0.9309664694280079\n"
     ]
    }
   ],
   "source": [
    "print(accuracy_score(all_labels, all_preds))"
   ]
  },
  {
   "cell_type": "code",
   "execution_count": 47,
   "metadata": {
    "colab": {
     "base_uri": "https://localhost:8080/",
     "height": 564
    },
    "execution": {
     "iopub.execute_input": "2024-10-29T05:41:49.156038Z",
     "iopub.status.busy": "2024-10-29T05:41:49.155364Z",
     "iopub.status.idle": "2024-10-29T05:41:49.453175Z",
     "shell.execute_reply": "2024-10-29T05:41:49.452238Z",
     "shell.execute_reply.started": "2024-10-29T05:41:49.155983Z"
    },
    "executionInfo": {
     "elapsed": 13,
     "status": "ok",
     "timestamp": 1716666935824,
     "user": {
      "displayName": "Stévillis",
      "userId": "01901148833114142760"
     },
     "user_tz": 240
    },
    "id": "ASQSd6FYFRN0",
    "outputId": "28f8ada6-18e0-42c6-9587-a266ec82605b",
    "trusted": true
   },
   "outputs": [
    {
     "data": {
      "image/png": "[encoded data removed]",
      "text/plain": [
       "<Figure size 800x600 with 2 Axes>"
      ]
     },
     "metadata": {},
     "output_type": "display_data"
    }
   ],
   "source": [
    "show_confusion_matrix(all_labels, all_preds)"
   ]
  },
  {
   "cell_type": "code",
   "execution_count": 48,
   "metadata": {
    "execution": {
     "iopub.execute_input": "2024-10-29T05:41:49.454817Z",
     "iopub.status.busy": "2024-10-29T05:41:49.454476Z",
     "iopub.status.idle": "2024-10-29T05:41:49.458913Z",
     "shell.execute_reply": "2024-10-29T05:41:49.458139Z",
     "shell.execute_reply.started": "2024-10-29T05:41:49.454779Z"
    },
    "executionInfo": {
     "elapsed": 12,
     "status": "ok",
     "timestamp": 1716666935824,
     "user": {
      "displayName": "Stévillis",
      "userId": "01901148833114142760"
     },
     "user_tz": 240
    },
    "id": "bGfwkBAWP91L",
    "trusted": true
   },
   "outputs": [],
   "source": [
    "# show_confusion_matrix(all_labels, all_preds, normalize=\"true\")"
   ]
  },
  {
   "cell_type": "markdown",
   "metadata": {
    "id": "xKX1vV_Z9MqR"
   },
   "source": [
    "#### Saving the model"
   ]
  },
  {
   "cell_type": "code",
   "execution_count": 49,
   "metadata": {
    "execution": {
     "iopub.execute_input": "2024-10-29T05:41:49.460525Z",
     "iopub.status.busy": "2024-10-29T05:41:49.460201Z",
     "iopub.status.idle": "2024-10-29T05:41:50.061925Z",
     "shell.execute_reply": "2024-10-29T05:41:50.060864Z",
     "shell.execute_reply.started": "2024-10-29T05:41:49.460492Z"
    },
    "executionInfo": {
     "elapsed": 2925,
     "status": "ok",
     "timestamp": 1716668132233,
     "user": {
      "displayName": "Stévillis",
      "userId": "01901148833114142760"
     },
     "user_tz": 240
    },
    "id": "DfAT8ipw9MqS",
    "trusted": true
   },
   "outputs": [],
   "source": [
    "torch.save(model.state_dict(), f\"{PATH_TO_SAVE_MODEL}bertimbau-glassdoor-reviews-epoch_{EPOCHS}.bin\")"
   ]
  },
  {
   "cell_type": "markdown",
   "metadata": {
    "id": "PXyh9fGh9MqS"
   },
   "source": [
    "#### Loading the model"
   ]
  },
  {
   "cell_type": "code",
   "execution_count": 50,
   "metadata": {
    "colab": {
     "base_uri": "https://localhost:8080/"
    },
    "execution": {
     "iopub.execute_input": "2024-10-29T05:41:50.064247Z",
     "iopub.status.busy": "2024-10-29T05:41:50.063831Z",
     "iopub.status.idle": "2024-10-29T05:41:51.170203Z",
     "shell.execute_reply": "2024-10-29T05:41:51.169294Z",
     "shell.execute_reply.started": "2024-10-29T05:41:50.064202Z"
    },
    "executionInfo": {
     "elapsed": 11782,
     "status": "ok",
     "timestamp": 1716666949010,
     "user": {
      "displayName": "Stévillis",
      "userId": "01901148833114142760"
     },
     "user_tz": 240
    },
    "id": "ciLv_9Vf9MqS",
    "outputId": "055d215d-e02a-4616-eed2-d26b29021f13",
    "trusted": true
   },
   "outputs": [
    {
     "name": "stderr",
     "output_type": "stream",
     "text": [
      "/tmp/ipykernel_30/2083525.py:2: FutureWarning: You are using `torch.load` with `weights_only=False` (the current default value), which uses the default pickle module implicitly. It is possible to construct malicious pickle data which will execute arbitrary code during unpickling (See https://github.com/pytorch/pytorch/blob/main/SECURITY.md#untrusted-models for more details). In a future release, the default value for `weights_only` will be flipped to `True`. This limits the functions that could be executed during unpickling. Arbitrary objects will no longer be allowed to be loaded via this mode unless they are explicitly allowlisted by the user via `torch.serialization.add_safe_globals`. We recommend you start setting `weights_only=True` for any use case where you don't have full control of the loaded file. Please open an issue on GitHub for any issues related to this experimental feature.\n",
      "  loaded_model.load_state_dict(torch.load(GLASSDOOR_MODEL_PATH, map_location=device))\n"
     ]
    },
    {
     "data": {
      "text/plain": [
       "GlassdoorReviewsClassifier(\n",
       "  (bert): BertModel(\n",
       "    (embeddings): BertEmbeddings(\n",
       "      (word_embeddings): Embedding(29794, 768, padding_idx=0)\n",
       "      (position_embeddings): Embedding(512, 768)\n",
       "      (token_type_embeddings): Embedding(2, 768)\n",
       "      (LayerNorm): LayerNorm((768,), eps=1e-12, elementwise_affine=True)\n",
       "      (dropout): Dropout(p=0.1, inplace=False)\n",
       "    )\n",
       "    (encoder): BertEncoder(\n",
       "      (layer): ModuleList(\n",
       "        (0-11): 12 x BertLayer(\n",
       "          (attention): BertAttention(\n",
       "            (self): BertSdpaSelfAttention(\n",
       "              (query): Linear(in_features=768, out_features=768, bias=True)\n",
       "              (key): Linear(in_features=768, out_features=768, bias=True)\n",
       "              (value): Linear(in_features=768, out_features=768, bias=True)\n",
       "              (dropout): Dropout(p=0.1, inplace=False)\n",
       "            )\n",
       "            (output): BertSelfOutput(\n",
       "              (dense): Linear(in_features=768, out_features=768, bias=True)\n",
       "              (LayerNorm): LayerNorm((768,), eps=1e-12, elementwise_affine=True)\n",
       "              (dropout): Dropout(p=0.1, inplace=False)\n",
       "            )\n",
       "          )\n",
       "          (intermediate): BertIntermediate(\n",
       "            (dense): Linear(in_features=768, out_features=3072, bias=True)\n",
       "            (intermediate_act_fn): GELUActivation()\n",
       "          )\n",
       "          (output): BertOutput(\n",
       "            (dense): Linear(in_features=3072, out_features=768, bias=True)\n",
       "            (LayerNorm): LayerNorm((768,), eps=1e-12, elementwise_affine=True)\n",
       "            (dropout): Dropout(p=0.1, inplace=False)\n",
       "          )\n",
       "        )\n",
       "      )\n",
       "    )\n",
       "    (pooler): BertPooler(\n",
       "      (dense): Linear(in_features=768, out_features=768, bias=True)\n",
       "      (activation): Tanh()\n",
       "    )\n",
       "  )\n",
       "  (classifier): Sequential(\n",
       "    (0): Linear(in_features=768, out_features=300, bias=True)\n",
       "    (1): ReLU()\n",
       "    (2): Linear(in_features=300, out_features=100, bias=True)\n",
       "    (3): ReLU()\n",
       "    (4): Linear(in_features=100, out_features=50, bias=True)\n",
       "    (5): ReLU()\n",
       "    (6): Linear(in_features=50, out_features=3, bias=True)\n",
       "  )\n",
       ")"
      ]
     },
     "execution_count": 50,
     "metadata": {},
     "output_type": "execute_result"
    }
   ],
   "source": [
    "loaded_model = GlassdoorReviewsClassifier(num_labels).to(device)\n",
    "loaded_model.load_state_dict(torch.load(GLASSDOOR_MODEL_PATH, map_location=device))\n",
    "loaded_model.eval()"
   ]
  },
  {
   "cell_type": "markdown",
   "metadata": {
    "id": "UfZPetUB9MqS"
   },
   "source": [
    "#### Sample prediction"
   ]
  },
  {
   "cell_type": "code",
   "execution_count": 51,
   "metadata": {
    "colab": {
     "base_uri": "https://localhost:8080/"
    },
    "execution": {
     "iopub.execute_input": "2024-10-29T05:41:51.171863Z",
     "iopub.status.busy": "2024-10-29T05:41:51.171459Z",
     "iopub.status.idle": "2024-10-29T05:41:51.302464Z",
     "shell.execute_reply": "2024-10-29T05:41:51.301443Z",
     "shell.execute_reply.started": "2024-10-29T05:41:51.171820Z"
    },
    "executionInfo": {
     "elapsed": 13,
     "status": "ok",
     "timestamp": 1716666949010,
     "user": {
      "displayName": "Stévillis",
      "userId": "01901148833114142760"
     },
     "user_tz": 240
    },
    "id": "1EoR8XgIQdnR",
    "outputId": "2496c6bb-78ce-45d0-ef47-7d96f235d6fe",
    "trusted": true
   },
   "outputs": [
    {
     "name": "stdout",
     "output_type": "stream",
     "text": [
      "Review text: Empresa boa para trabalhar\n",
      "neutral     0.006192\n",
      "positive    0.990852\n",
      "negative    0.002956\n",
      "Name: 0, dtype: float64\n",
      "\n",
      "\n",
      "Review text: Empresa ruim para trabalhar\n",
      "neutral     0.010504\n",
      "positive    0.003919\n",
      "negative    0.985577\n",
      "Name: 0, dtype: float64\n",
      "\n",
      "\n",
      "Review text: Não tenho o que declarar\n",
      "neutral     0.934138\n",
      "positive    0.037717\n",
      "negative    0.028145\n",
      "Name: 0, dtype: float64\n",
      "\n",
      "\n"
     ]
    }
   ],
   "source": [
    "predict_reviews(model, SAMPLE_REVIEWS)"
   ]
  },
  {
   "cell_type": "markdown",
   "metadata": {
    "id": "c-Lc9NgjQdnR"
   },
   "source": [
    "### Training Model freezing BERT Layers"
   ]
  },
  {
   "cell_type": "code",
   "execution_count": 52,
   "metadata": {
    "colab": {
     "base_uri": "https://localhost:8080/"
    },
    "execution": {
     "iopub.execute_input": "2024-10-29T05:41:51.304283Z",
     "iopub.status.busy": "2024-10-29T05:41:51.303878Z",
     "iopub.status.idle": "2024-10-29T05:57:23.449886Z",
     "shell.execute_reply": "2024-10-29T05:57:23.449000Z",
     "shell.execute_reply.started": "2024-10-29T05:41:51.304239Z"
    },
    "executionInfo": {
     "elapsed": 970974,
     "status": "ok",
     "timestamp": 1716667919972,
     "user": {
      "displayName": "Stévillis",
      "userId": "01901148833114142760"
     },
     "user_tz": 240
    },
    "id": "juPteDT3QdnR",
    "outputId": "feb9db3f-94f8-48de-8287-406d507f9044",
    "trusted": true
   },
   "outputs": [
    {
     "name": "stdout",
     "output_type": "stream",
     "text": [
      "-------------------- Epoch: 1/5 --------------------\n",
      "Training Batch 16/127, \t\t loss = 0.6230\n",
      "Training Batch 32/127, \t\t loss = 0.5024\n",
      "Training Batch 48/127, \t\t loss = 0.7029\n",
      "Training Batch 64/127, \t\t loss = 0.2191\n",
      "Training Batch 80/127, \t\t loss = 0.1333\n",
      "Training Batch 96/127, \t\t loss = 0.3006\n",
      "Training Batch 112/127, \t\t loss = 0.0581\n",
      "\n",
      "Evaluating Batch 16/127, \t\t loss = 0.2553\n",
      "Evaluating Batch 32/127, \t\t loss = 0.0506\n",
      "\n",
      "Train Loss: 0.3720335706951111, \t\t Test Loss: 0.20823593472596258\n",
      "\n",
      "\n",
      "\n",
      "-------------------- Epoch: 2/5 --------------------\n",
      "Training Batch 16/127, \t\t loss = 0.2092\n",
      "Training Batch 32/127, \t\t loss = 0.2484\n",
      "Training Batch 48/127, \t\t loss = 0.0968\n",
      "Training Batch 64/127, \t\t loss = 0.0257\n",
      "Training Batch 80/127, \t\t loss = 0.0429\n",
      "Training Batch 96/127, \t\t loss = 0.3029\n",
      "Training Batch 112/127, \t\t loss = 0.2328\n",
      "\n",
      "Evaluating Batch 16/127, \t\t loss = 0.2862\n",
      "Evaluating Batch 32/127, \t\t loss = 0.0214\n",
      "\n",
      "Train Loss: 0.14813690777780034, \t\t Test Loss: 0.19400340144056827\n",
      "\n",
      "\n",
      "\n",
      "-------------------- Epoch: 3/5 --------------------\n",
      "Training Batch 16/127, \t\t loss = 0.2169\n",
      "Training Batch 32/127, \t\t loss = 0.0382\n",
      "Training Batch 48/127, \t\t loss = 0.0480\n",
      "Training Batch 64/127, \t\t loss = 0.3093\n",
      "Training Batch 80/127, \t\t loss = 0.0878\n",
      "Training Batch 96/127, \t\t loss = 0.0456\n",
      "Training Batch 112/127, \t\t loss = 0.1242\n",
      "\n",
      "Evaluating Batch 16/127, \t\t loss = 0.2148\n",
      "Evaluating Batch 32/127, \t\t loss = 0.0096\n",
      "\n",
      "Train Loss: 0.07830519509303757, \t\t Test Loss: 0.2386883766448591\n",
      "\n",
      "\n",
      "\n",
      "-------------------- Epoch: 4/5 --------------------\n",
      "Training Batch 16/127, \t\t loss = 0.0130\n",
      "Training Batch 32/127, \t\t loss = 0.0216\n",
      "Training Batch 48/127, \t\t loss = 0.0129\n",
      "Training Batch 64/127, \t\t loss = 0.0123\n",
      "Training Batch 80/127, \t\t loss = 0.1031\n",
      "Training Batch 96/127, \t\t loss = 0.0131\n",
      "Training Batch 112/127, \t\t loss = 0.1611\n",
      "\n",
      "Evaluating Batch 16/127, \t\t loss = 0.2677\n",
      "Evaluating Batch 32/127, \t\t loss = 0.0078\n",
      "\n",
      "Train Loss: 0.05553959413820247, \t\t Test Loss: 0.25504288967931643\n",
      "\n",
      "\n",
      "\n",
      "-------------------- Epoch: 5/5 --------------------\n",
      "Training Batch 16/127, \t\t loss = 0.0487\n",
      "Training Batch 32/127, \t\t loss = 0.0150\n",
      "Training Batch 48/127, \t\t loss = 0.0068\n",
      "Training Batch 64/127, \t\t loss = 0.0090\n",
      "Training Batch 80/127, \t\t loss = 0.0053\n",
      "Training Batch 96/127, \t\t loss = 0.0099\n",
      "Training Batch 112/127, \t\t loss = 0.0121\n",
      "\n",
      "Evaluating Batch 16/127, \t\t loss = 0.3508\n",
      "Evaluating Batch 32/127, \t\t loss = 0.0057\n",
      "\n",
      "Train Loss: 0.02936294036880722, \t\t Test Loss: 0.2663130137079861\n",
      "\n",
      "\n",
      "\n"
     ]
    }
   ],
   "source": [
    "train_losses, test_losses = start_training(\n",
    "    model_freezing, train_loader, loss_fun, optimizer_freezing, EPOCHS, n_total_steps\n",
    ")"
   ]
  },
  {
   "cell_type": "code",
   "execution_count": 53,
   "metadata": {
    "colab": {
     "base_uri": "https://localhost:8080/",
     "height": 564
    },
    "execution": {
     "iopub.execute_input": "2024-10-29T05:57:23.452065Z",
     "iopub.status.busy": "2024-10-29T05:57:23.451345Z",
     "iopub.status.idle": "2024-10-29T05:57:23.739644Z",
     "shell.execute_reply": "2024-10-29T05:57:23.738764Z",
     "shell.execute_reply.started": "2024-10-29T05:57:23.452002Z"
    },
    "executionInfo": {
     "elapsed": 852,
     "status": "ok",
     "timestamp": 1716667920809,
     "user": {
      "displayName": "Stévillis",
      "userId": "01901148833114142760"
     },
     "user_tz": 240
    },
    "id": "sED014YGQdnS",
    "outputId": "a158051f-dd0d-4d54-8369-f247bf9bc2af",
    "trusted": true
   },
   "outputs": [
    {
     "name": "stderr",
     "output_type": "stream",
     "text": [
      "/opt/conda/lib/python3.10/site-packages/seaborn/_oldcore.py:1119: FutureWarning: use_inf_as_na option is deprecated and will be removed in a future version. Convert inf values to NaN before operating instead.\n",
      "  with pd.option_context('mode.use_inf_as_na', True):\n",
      "/opt/conda/lib/python3.10/site-packages/seaborn/_oldcore.py:1119: FutureWarning: use_inf_as_na option is deprecated and will be removed in a future version. Convert inf values to NaN before operating instead.\n",
      "  with pd.option_context('mode.use_inf_as_na', True):\n",
      "/opt/conda/lib/python3.10/site-packages/seaborn/_oldcore.py:1075: FutureWarning: When grouping with a length-1 list-like, you will need to pass a length-1 tuple to get_group in a future version of pandas. Pass `(name,)` instead of `name` to silence this warning.\n",
      "  data_subset = grouped_data.get_group(pd_key)\n",
      "/opt/conda/lib/python3.10/site-packages/seaborn/_oldcore.py:1075: FutureWarning: When grouping with a length-1 list-like, you will need to pass a length-1 tuple to get_group in a future version of pandas. Pass `(name,)` instead of `name` to silence this warning.\n",
      "  data_subset = grouped_data.get_group(pd_key)\n"
     ]
    },
    {
     "data": {
      "image/png": "[encoded data removed]",
      "text/plain": [
       "<Figure size 800x600 with 1 Axes>"
      ]
     },
     "metadata": {},
     "output_type": "display_data"
    }
   ],
   "source": [
    "show_loss(train_losses, test_losses, title=\"Training and Test Loss per Epoch freezing BERT layers\")"
   ]
  },
  {
   "cell_type": "markdown",
   "metadata": {
    "id": "vbopAbL-QdnS"
   },
   "source": [
    "#### Evaluating the Model"
   ]
  },
  {
   "cell_type": "code",
   "execution_count": 54,
   "metadata": {
    "execution": {
     "iopub.execute_input": "2024-10-29T05:57:23.741079Z",
     "iopub.status.busy": "2024-10-29T05:57:23.740767Z",
     "iopub.status.idle": "2024-10-29T05:57:37.833855Z",
     "shell.execute_reply": "2024-10-29T05:57:37.833065Z",
     "shell.execute_reply.started": "2024-10-29T05:57:23.741046Z"
    },
    "executionInfo": {
     "elapsed": 15250,
     "status": "ok",
     "timestamp": 1716670781761,
     "user": {
      "displayName": "Stévillis",
      "userId": "01901148833114142760"
     },
     "user_tz": 240
    },
    "id": "L4twOK2jQdnS",
    "trusted": true
   },
   "outputs": [],
   "source": [
    "all_labels, all_preds = evaluate_model(model_freezing, test_loader, device)"
   ]
  },
  {
   "cell_type": "code",
   "execution_count": 55,
   "metadata": {
    "colab": {
     "base_uri": "https://localhost:8080/"
    },
    "execution": {
     "iopub.execute_input": "2024-10-29T05:57:37.836025Z",
     "iopub.status.busy": "2024-10-29T05:57:37.835346Z",
     "iopub.status.idle": "2024-10-29T05:57:37.851355Z",
     "shell.execute_reply": "2024-10-29T05:57:37.850390Z",
     "shell.execute_reply.started": "2024-10-29T05:57:37.835961Z"
    },
    "executionInfo": {
     "elapsed": 20,
     "status": "ok",
     "timestamp": 1716670781762,
     "user": {
      "displayName": "Stévillis",
      "userId": "01901148833114142760"
     },
     "user_tz": 240
    },
    "id": "0GnmEbWAQdnS",
    "outputId": "5a016f12-3c0d-4256-dbf0-7d2de025e759",
    "trusted": true
   },
   "outputs": [
    {
     "name": "stdout",
     "output_type": "stream",
     "text": [
      "              precision    recall  f1-score   support\n",
      "\n",
      "           0       0.93      0.76      0.84        51\n",
      "           1       0.94      0.97      0.95       269\n",
      "           2       0.94      0.95      0.94       187\n",
      "\n",
      "    accuracy                           0.94       507\n",
      "   macro avg       0.94      0.89      0.91       507\n",
      "weighted avg       0.94      0.94      0.94       507\n",
      "\n"
     ]
    }
   ],
   "source": [
    "print(classification_report(all_labels, all_preds))"
   ]
  },
  {
   "cell_type": "code",
   "execution_count": 56,
   "metadata": {
    "colab": {
     "base_uri": "https://localhost:8080/"
    },
    "execution": {
     "iopub.execute_input": "2024-10-29T05:57:37.852700Z",
     "iopub.status.busy": "2024-10-29T05:57:37.852406Z",
     "iopub.status.idle": "2024-10-29T05:57:37.858880Z",
     "shell.execute_reply": "2024-10-29T05:57:37.857877Z",
     "shell.execute_reply.started": "2024-10-29T05:57:37.852668Z"
    },
    "executionInfo": {
     "elapsed": 17,
     "status": "ok",
     "timestamp": 1716670781762,
     "user": {
      "displayName": "Stévillis",
      "userId": "01901148833114142760"
     },
     "user_tz": 240
    },
    "id": "cFZx912bQdnS",
    "outputId": "49812c43-e1cb-4253-ca9d-ab76e31e7ba3",
    "trusted": true
   },
   "outputs": [
    {
     "name": "stdout",
     "output_type": "stream",
     "text": [
      "0.9388560157790927\n"
     ]
    }
   ],
   "source": [
    "print(accuracy_score(all_labels, all_preds))"
   ]
  },
  {
   "cell_type": "code",
   "execution_count": 57,
   "metadata": {
    "colab": {
     "base_uri": "https://localhost:8080/",
     "height": 564
    },
    "execution": {
     "iopub.execute_input": "2024-10-29T05:57:37.860715Z",
     "iopub.status.busy": "2024-10-29T05:57:37.860338Z",
     "iopub.status.idle": "2024-10-29T05:57:38.156685Z",
     "shell.execute_reply": "2024-10-29T05:57:38.155741Z",
     "shell.execute_reply.started": "2024-10-29T05:57:37.860653Z"
    },
    "executionInfo": {
     "elapsed": 16,
     "status": "ok",
     "timestamp": 1716670781762,
     "user": {
      "displayName": "Stévillis",
      "userId": "01901148833114142760"
     },
     "user_tz": 240
    },
    "id": "-BqGCp4yQdnS",
    "outputId": "c955a564-510d-4bc9-9c61-7c9327a81fbf",
    "trusted": true
   },
   "outputs": [
    {
     "data": {
      "image/png": "[encoded data removed]",
      "text/plain": [
       "<Figure size 800x600 with 2 Axes>"
      ]
     },
     "metadata": {},
     "output_type": "display_data"
    }
   ],
   "source": [
    "show_confusion_matrix(all_labels, all_preds)"
   ]
  },
  {
   "cell_type": "code",
   "execution_count": 58,
   "metadata": {
    "execution": {
     "iopub.execute_input": "2024-10-29T05:57:38.158096Z",
     "iopub.status.busy": "2024-10-29T05:57:38.157809Z",
     "iopub.status.idle": "2024-10-29T05:57:38.161921Z",
     "shell.execute_reply": "2024-10-29T05:57:38.161072Z",
     "shell.execute_reply.started": "2024-10-29T05:57:38.158065Z"
    },
    "executionInfo": {
     "elapsed": 16,
     "status": "ok",
     "timestamp": 1716670781763,
     "user": {
      "displayName": "Stévillis",
      "userId": "01901148833114142760"
     },
     "user_tz": 240
    },
    "id": "SMk9gtWVQdnS",
    "trusted": true
   },
   "outputs": [],
   "source": [
    "# show_confusion_matrix(all_labels, all_preds, normalize=\"true\")"
   ]
  },
  {
   "cell_type": "markdown",
   "metadata": {
    "id": "icJcEA6LQdnT"
   },
   "source": [
    "#### Saving the model"
   ]
  },
  {
   "cell_type": "code",
   "execution_count": 59,
   "metadata": {
    "execution": {
     "iopub.execute_input": "2024-10-29T05:57:38.163384Z",
     "iopub.status.busy": "2024-10-29T05:57:38.163068Z",
     "iopub.status.idle": "2024-10-29T05:57:38.776485Z",
     "shell.execute_reply": "2024-10-29T05:57:38.775681Z",
     "shell.execute_reply.started": "2024-10-29T05:57:38.163351Z"
    },
    "executionInfo": {
     "elapsed": 2869,
     "status": "ok",
     "timestamp": 1716670784616,
     "user": {
      "displayName": "Stévillis",
      "userId": "01901148833114142760"
     },
     "user_tz": 240
    },
    "id": "r9NTozpjQdnT",
    "trusted": true
   },
   "outputs": [],
   "source": [
    "torch.save(model.state_dict(), f\"{PATH_TO_SAVE_MODEL}bertimbau-glassdoor-reviews-freezing-epoch_{EPOCHS}.bin\")"
   ]
  },
  {
   "cell_type": "markdown",
   "metadata": {
    "id": "BVvje_H7QdnT"
   },
   "source": [
    "#### Loading the model"
   ]
  },
  {
   "cell_type": "code",
   "execution_count": 60,
   "metadata": {
    "colab": {
     "base_uri": "https://localhost:8080/"
    },
    "execution": {
     "iopub.execute_input": "2024-10-29T05:57:38.778113Z",
     "iopub.status.busy": "2024-10-29T05:57:38.777757Z",
     "iopub.status.idle": "2024-10-29T05:57:39.695579Z",
     "shell.execute_reply": "2024-10-29T05:57:39.694630Z",
     "shell.execute_reply.started": "2024-10-29T05:57:38.778077Z"
    },
    "executionInfo": {
     "elapsed": 1878,
     "status": "ok",
     "timestamp": 1716670786485,
     "user": {
      "displayName": "Stévillis",
      "userId": "01901148833114142760"
     },
     "user_tz": 240
    },
    "id": "W6F-Z1xbQdnT",
    "outputId": "2ff6a3ff-a4d1-4369-cff8-c4be5e2186a1",
    "trusted": true
   },
   "outputs": [
    {
     "name": "stderr",
     "output_type": "stream",
     "text": [
      "/tmp/ipykernel_30/1204538924.py:2: FutureWarning: You are using `torch.load` with `weights_only=False` (the current default value), which uses the default pickle module implicitly. It is possible to construct malicious pickle data which will execute arbitrary code during unpickling (See https://github.com/pytorch/pytorch/blob/main/SECURITY.md#untrusted-models for more details). In a future release, the default value for `weights_only` will be flipped to `True`. This limits the functions that could be executed during unpickling. Arbitrary objects will no longer be allowed to be loaded via this mode unless they are explicitly allowlisted by the user via `torch.serialization.add_safe_globals`. We recommend you start setting `weights_only=True` for any use case where you don't have full control of the loaded file. Please open an issue on GitHub for any issues related to this experimental feature.\n",
      "  loaded_model.load_state_dict(torch.load(GLASSDOOR_FREEZING_MODEL_PATH, map_location=device))\n"
     ]
    },
    {
     "data": {
      "text/plain": [
       "GlassdoorReviewsClassifier(\n",
       "  (bert): BertModel(\n",
       "    (embeddings): BertEmbeddings(\n",
       "      (word_embeddings): Embedding(29794, 768, padding_idx=0)\n",
       "      (position_embeddings): Embedding(512, 768)\n",
       "      (token_type_embeddings): Embedding(2, 768)\n",
       "      (LayerNorm): LayerNorm((768,), eps=1e-12, elementwise_affine=True)\n",
       "      (dropout): Dropout(p=0.1, inplace=False)\n",
       "    )\n",
       "    (encoder): BertEncoder(\n",
       "      (layer): ModuleList(\n",
       "        (0-11): 12 x BertLayer(\n",
       "          (attention): BertAttention(\n",
       "            (self): BertSdpaSelfAttention(\n",
       "              (query): Linear(in_features=768, out_features=768, bias=True)\n",
       "              (key): Linear(in_features=768, out_features=768, bias=True)\n",
       "              (value): Linear(in_features=768, out_features=768, bias=True)\n",
       "              (dropout): Dropout(p=0.1, inplace=False)\n",
       "            )\n",
       "            (output): BertSelfOutput(\n",
       "              (dense): Linear(in_features=768, out_features=768, bias=True)\n",
       "              (LayerNorm): LayerNorm((768,), eps=1e-12, elementwise_affine=True)\n",
       "              (dropout): Dropout(p=0.1, inplace=False)\n",
       "            )\n",
       "          )\n",
       "          (intermediate): BertIntermediate(\n",
       "            (dense): Linear(in_features=768, out_features=3072, bias=True)\n",
       "            (intermediate_act_fn): GELUActivation()\n",
       "          )\n",
       "          (output): BertOutput(\n",
       "            (dense): Linear(in_features=3072, out_features=768, bias=True)\n",
       "            (LayerNorm): LayerNorm((768,), eps=1e-12, elementwise_affine=True)\n",
       "            (dropout): Dropout(p=0.1, inplace=False)\n",
       "          )\n",
       "        )\n",
       "      )\n",
       "    )\n",
       "    (pooler): BertPooler(\n",
       "      (dense): Linear(in_features=768, out_features=768, bias=True)\n",
       "      (activation): Tanh()\n",
       "    )\n",
       "  )\n",
       "  (classifier): Sequential(\n",
       "    (0): Linear(in_features=768, out_features=300, bias=True)\n",
       "    (1): ReLU()\n",
       "    (2): Linear(in_features=300, out_features=100, bias=True)\n",
       "    (3): ReLU()\n",
       "    (4): Linear(in_features=100, out_features=50, bias=True)\n",
       "    (5): ReLU()\n",
       "    (6): Linear(in_features=50, out_features=3, bias=True)\n",
       "  )\n",
       ")"
      ]
     },
     "execution_count": 60,
     "metadata": {},
     "output_type": "execute_result"
    }
   ],
   "source": [
    "loaded_model = GlassdoorReviewsClassifier(num_labels).to(device)\n",
    "loaded_model.load_state_dict(torch.load(GLASSDOOR_FREEZING_MODEL_PATH, map_location=device))\n",
    "loaded_model.eval()"
   ]
  },
  {
   "cell_type": "markdown",
   "metadata": {
    "id": "OZCRisCaQdnT"
   },
   "source": [
    "##### Sample prediction"
   ]
  },
  {
   "cell_type": "code",
   "execution_count": 61,
   "metadata": {
    "colab": {
     "base_uri": "https://localhost:8080/"
    },
    "execution": {
     "iopub.execute_input": "2024-10-29T05:57:39.697299Z",
     "iopub.status.busy": "2024-10-29T05:57:39.696891Z",
     "iopub.status.idle": "2024-10-29T05:57:39.799639Z",
     "shell.execute_reply": "2024-10-29T05:57:39.798707Z",
     "shell.execute_reply.started": "2024-10-29T05:57:39.697254Z"
    },
    "executionInfo": {
     "elapsed": 5,
     "status": "ok",
     "timestamp": 1716670786485,
     "user": {
      "displayName": "Stévillis",
      "userId": "01901148833114142760"
     },
     "user_tz": 240
    },
    "id": "QbAMo-B6QdnT",
    "outputId": "e52701d8-581b-41d9-a790-01721ac2efde",
    "trusted": true
   },
   "outputs": [
    {
     "name": "stdout",
     "output_type": "stream",
     "text": [
      "Review text: Empresa boa para trabalhar\n",
      "neutral     0.000681\n",
      "positive    0.999032\n",
      "negative    0.000287\n",
      "Name: 0, dtype: float64\n",
      "\n",
      "\n",
      "Review text: Empresa ruim para trabalhar\n",
      "neutral     0.001302\n",
      "positive    0.000296\n",
      "negative    0.998402\n",
      "Name: 0, dtype: float64\n",
      "\n",
      "\n",
      "Review text: Não tenho o que declarar\n",
      "neutral     0.991637\n",
      "positive    0.004603\n",
      "negative    0.003759\n",
      "Name: 0, dtype: float64\n",
      "\n",
      "\n"
     ]
    }
   ],
   "source": [
    "predict_reviews(loaded_model, SAMPLE_REVIEWS)"
   ]
  },
  {
   "cell_type": "markdown",
   "metadata": {
    "id": "AnVs4nhaJBqR"
   },
   "source": [
    "## Training the model (with oversampling)"
   ]
  },
  {
   "cell_type": "markdown",
   "metadata": {
    "id": "WMDwUzO-QdnT"
   },
   "source": [
    "### Oversampling"
   ]
  },
  {
   "cell_type": "code",
   "execution_count": 62,
   "metadata": {
    "execution": {
     "iopub.execute_input": "2024-10-29T05:57:39.801209Z",
     "iopub.status.busy": "2024-10-29T05:57:39.800901Z",
     "iopub.status.idle": "2024-10-29T05:57:39.809354Z",
     "shell.execute_reply": "2024-10-29T05:57:39.808455Z",
     "shell.execute_reply.started": "2024-10-29T05:57:39.801165Z"
    },
    "executionInfo": {
     "elapsed": 9,
     "status": "ok",
     "timestamp": 1716668233017,
     "user": {
      "displayName": "Stévillis",
      "userId": "01901148833114142760"
     },
     "user_tz": 240
    },
    "id": "zSAU3Sg2YrzS",
    "trusted": true
   },
   "outputs": [],
   "source": [
    "def oversampling(train_df, minority_class=0, majority_classes=[1, 2]):\n",
    "    # Desired number of samples for the minority class\n",
    "    oversample_size = (\n",
    "        train_df[train_df[\"sentiment\"] == 0][\"sentiment\"].value_counts()[0] * 3\n",
    "    )\n",
    "\n",
    "    oversampler = RandomOverSampler(sampling_strategy={minority_class: oversample_size})\n",
    "    X_res, y_res = oversampler.fit_resample(\n",
    "        train_df[[\"review_text\"]], train_df[\"sentiment\"]\n",
    "    )\n",
    "\n",
    "    y_res_df = pd.DataFrame({\"sentiment\": y_res})\n",
    "    resampled_df = pd.concat([X_res, y_res_df], axis=1)\n",
    "    resampled_df.reset_index(drop=True, inplace=True)\n",
    "\n",
    "    resampled_minority_df = resampled_df[resampled_df[\"sentiment\"] == minority_class]\n",
    "\n",
    "    # Concatenate the oversampled minority class with the majority class\n",
    "    oversampled_df = pd.concat([train_df, resampled_minority_df])\n",
    "\n",
    "    # Shuffle the DataFrame to randomize the order of samples\n",
    "    oversampled_df = oversampled_df.sample(\n",
    "        frac=1, random_state=RANDOM_SEED\n",
    "    ).reset_index(drop=True)\n",
    "    return oversampled_df"
   ]
  },
  {
   "cell_type": "code",
   "execution_count": 63,
   "metadata": {
    "colab": {
     "base_uri": "https://localhost:8080/"
    },
    "execution": {
     "iopub.execute_input": "2024-10-29T05:57:39.811061Z",
     "iopub.status.busy": "2024-10-29T05:57:39.810669Z",
     "iopub.status.idle": "2024-10-29T05:57:39.822115Z",
     "shell.execute_reply": "2024-10-29T05:57:39.821167Z",
     "shell.execute_reply.started": "2024-10-29T05:57:39.810999Z"
    },
    "executionInfo": {
     "elapsed": 8,
     "status": "ok",
     "timestamp": 1716668233017,
     "user": {
      "displayName": "Stévillis",
      "userId": "01901148833114142760"
     },
     "user_tz": 240
    },
    "id": "w8WlGFB3Z1f5",
    "outputId": "814ca5ee-e455-4548-9fd5-2ca2e9e669ad",
    "trusted": true
   },
   "outputs": [
    {
     "data": {
      "text/plain": [
       "(2532, 2)"
      ]
     },
     "execution_count": 63,
     "metadata": {},
     "output_type": "execute_result"
    }
   ],
   "source": [
    "filtered_dataset.shape"
   ]
  },
  {
   "cell_type": "code",
   "execution_count": 64,
   "metadata": {
    "colab": {
     "base_uri": "https://localhost:8080/"
    },
    "execution": {
     "iopub.execute_input": "2024-10-29T05:57:39.823755Z",
     "iopub.status.busy": "2024-10-29T05:57:39.823349Z",
     "iopub.status.idle": "2024-10-29T05:57:39.840842Z",
     "shell.execute_reply": "2024-10-29T05:57:39.840039Z",
     "shell.execute_reply.started": "2024-10-29T05:57:39.823715Z"
    },
    "executionInfo": {
     "elapsed": 8,
     "status": "ok",
     "timestamp": 1716668233018,
     "user": {
      "displayName": "Stévillis",
      "userId": "01901148833114142760"
     },
     "user_tz": 240
    },
    "id": "9MliAXzBaNIA",
    "outputId": "17986d08-0dcd-4964-e7ac-cdff49cf6e27",
    "trusted": true
   },
   "outputs": [
    {
     "data": {
      "text/plain": [
       "sentiment\n",
       "1    1269\n",
       "2    1021\n",
       "0     242\n",
       "Name: count, dtype: int64"
      ]
     },
     "execution_count": 64,
     "metadata": {},
     "output_type": "execute_result"
    }
   ],
   "source": [
    "filtered_dataset[\"sentiment\"].value_counts()"
   ]
  },
  {
   "cell_type": "code",
   "execution_count": 65,
   "metadata": {
    "execution": {
     "iopub.execute_input": "2024-10-29T05:57:39.842357Z",
     "iopub.status.busy": "2024-10-29T05:57:39.841998Z",
     "iopub.status.idle": "2024-10-29T05:57:39.855897Z",
     "shell.execute_reply": "2024-10-29T05:57:39.854767Z",
     "shell.execute_reply.started": "2024-10-29T05:57:39.842314Z"
    },
    "executionInfo": {
     "elapsed": 4,
     "status": "ok",
     "timestamp": 1716668233018,
     "user": {
      "displayName": "Stévillis",
      "userId": "01901148833114142760"
     },
     "user_tz": 240
    },
    "id": "mzYOxRuyj_-i",
    "trusted": true
   },
   "outputs": [],
   "source": [
    "oversampled_filtered_dataset = oversampling(filtered_dataset)"
   ]
  },
  {
   "cell_type": "code",
   "execution_count": 66,
   "metadata": {
    "colab": {
     "base_uri": "https://localhost:8080/"
    },
    "execution": {
     "iopub.execute_input": "2024-10-29T05:57:39.857431Z",
     "iopub.status.busy": "2024-10-29T05:57:39.857137Z",
     "iopub.status.idle": "2024-10-29T05:57:39.863164Z",
     "shell.execute_reply": "2024-10-29T05:57:39.862333Z",
     "shell.execute_reply.started": "2024-10-29T05:57:39.857399Z"
    },
    "executionInfo": {
     "elapsed": 549,
     "status": "ok",
     "timestamp": 1716668233563,
     "user": {
      "displayName": "Stévillis",
      "userId": "01901148833114142760"
     },
     "user_tz": 240
    },
    "id": "j44rW7CCkDH0",
    "outputId": "ed542374-b164-4c96-937e-44b9ed8c2e8a",
    "trusted": true
   },
   "outputs": [
    {
     "data": {
      "text/plain": [
       "(3258, 2)"
      ]
     },
     "execution_count": 66,
     "metadata": {},
     "output_type": "execute_result"
    }
   ],
   "source": [
    "oversampled_filtered_dataset.shape"
   ]
  },
  {
   "cell_type": "code",
   "execution_count": 67,
   "metadata": {
    "colab": {
     "base_uri": "https://localhost:8080/"
    },
    "execution": {
     "iopub.execute_input": "2024-10-29T05:57:39.864681Z",
     "iopub.status.busy": "2024-10-29T05:57:39.864379Z",
     "iopub.status.idle": "2024-10-29T05:57:39.873378Z",
     "shell.execute_reply": "2024-10-29T05:57:39.872514Z",
     "shell.execute_reply.started": "2024-10-29T05:57:39.864632Z"
    },
    "executionInfo": {
     "elapsed": 4,
     "status": "ok",
     "timestamp": 1716668233563,
     "user": {
      "displayName": "Stévillis",
      "userId": "01901148833114142760"
     },
     "user_tz": 240
    },
    "id": "oXN0Op9jkFSR",
    "outputId": "d0f389c6-eb0e-44f3-a43f-2c992ceafbb2",
    "trusted": true
   },
   "outputs": [
    {
     "data": {
      "text/plain": [
       "sentiment\n",
       "1    1269\n",
       "2    1021\n",
       "0     968\n",
       "Name: count, dtype: int64"
      ]
     },
     "execution_count": 67,
     "metadata": {},
     "output_type": "execute_result"
    }
   ],
   "source": [
    "oversampled_filtered_dataset[\"sentiment\"].value_counts()"
   ]
  },
  {
   "cell_type": "markdown",
   "metadata": {
    "id": "INTBas9VQdnU"
   },
   "source": [
    "### Training the Model"
   ]
  },
  {
   "cell_type": "code",
   "execution_count": 68,
   "metadata": {
    "execution": {
     "iopub.execute_input": "2024-10-29T05:57:39.875069Z",
     "iopub.status.busy": "2024-10-29T05:57:39.874735Z",
     "iopub.status.idle": "2024-10-29T05:57:39.881490Z",
     "shell.execute_reply": "2024-10-29T05:57:39.880591Z",
     "shell.execute_reply.started": "2024-10-29T05:57:39.875026Z"
    },
    "executionInfo": {
     "elapsed": 2,
     "status": "ok",
     "timestamp": 1716668233563,
     "user": {
      "displayName": "Stévillis",
      "userId": "01901148833114142760"
     },
     "user_tz": 240
    },
    "id": "V0DYqbXEjzP9",
    "trusted": true
   },
   "outputs": [],
   "source": [
    "oversampled_train_data, oversampled_test_data = train_test_split(\n",
    "    oversampled_filtered_dataset, test_size=TEST_SIZE, random_state=RANDOM_SEED\n",
    ")"
   ]
  },
  {
   "cell_type": "code",
   "execution_count": 69,
   "metadata": {
    "execution": {
     "iopub.execute_input": "2024-10-29T05:57:39.883507Z",
     "iopub.status.busy": "2024-10-29T05:57:39.883159Z",
     "iopub.status.idle": "2024-10-29T05:57:39.888788Z",
     "shell.execute_reply": "2024-10-29T05:57:39.887706Z",
     "shell.execute_reply.started": "2024-10-29T05:57:39.883466Z"
    },
    "executionInfo": {
     "elapsed": 2,
     "status": "ok",
     "timestamp": 1716668233563,
     "user": {
      "displayName": "Stévillis",
      "userId": "01901148833114142760"
     },
     "user_tz": 240
    },
    "id": "TR6Fd45hSHDK",
    "trusted": true
   },
   "outputs": [],
   "source": [
    "oversampled_train_dataset = GlassdoorReviewsDataset(\n",
    "    oversampled_train_data, tokenizer, TOKEN_MAX_LENGTH\n",
    ")\n",
    "\n",
    "oversampled_test_dataset = GlassdoorReviewsDataset(\n",
    "    oversampled_test_data, tokenizer, TOKEN_MAX_LENGTH\n",
    ")"
   ]
  },
  {
   "cell_type": "code",
   "execution_count": 70,
   "metadata": {
    "execution": {
     "iopub.execute_input": "2024-10-29T05:57:39.890125Z",
     "iopub.status.busy": "2024-10-29T05:57:39.889796Z",
     "iopub.status.idle": "2024-10-29T05:57:39.897053Z",
     "shell.execute_reply": "2024-10-29T05:57:39.896241Z",
     "shell.execute_reply.started": "2024-10-29T05:57:39.890074Z"
    },
    "executionInfo": {
     "elapsed": 2,
     "status": "ok",
     "timestamp": 1716668233563,
     "user": {
      "displayName": "Stévillis",
      "userId": "01901148833114142760"
     },
     "user_tz": 240
    },
    "id": "nySaVQ-KkXGH",
    "trusted": true
   },
   "outputs": [],
   "source": [
    "oversampled_train_loader = DataLoader(\n",
    "    oversampled_train_dataset, batch_size=BATCH_SIZE, shuffle=True\n",
    ")\n",
    "oversampled_test_loader = DataLoader(\n",
    "    oversampled_test_dataset, batch_size=BATCH_SIZE, shuffle=False\n",
    ")"
   ]
  },
  {
   "cell_type": "code",
   "execution_count": 71,
   "metadata": {
    "execution": {
     "iopub.execute_input": "2024-10-29T05:57:39.898549Z",
     "iopub.status.busy": "2024-10-29T05:57:39.898191Z",
     "iopub.status.idle": "2024-10-29T05:57:41.063929Z",
     "shell.execute_reply": "2024-10-29T05:57:41.063060Z",
     "shell.execute_reply.started": "2024-10-29T05:57:39.898515Z"
    },
    "executionInfo": {
     "elapsed": 2905,
     "status": "ok",
     "timestamp": 1716668236466,
     "user": {
      "displayName": "Stévillis",
      "userId": "01901148833114142760"
     },
     "user_tz": 240
    },
    "id": "Or0NFMtAcAvU",
    "trusted": true
   },
   "outputs": [],
   "source": [
    "oversampled_model = GlassdoorReviewsClassifier(num_labels).to(device)\n",
    "oversampled_model_freezing = GlassdoorReviewsClassifierFreezing(num_labels).to(device)"
   ]
  },
  {
   "cell_type": "code",
   "execution_count": 72,
   "metadata": {
    "execution": {
     "iopub.execute_input": "2024-10-29T05:57:41.065539Z",
     "iopub.status.busy": "2024-10-29T05:57:41.065210Z",
     "iopub.status.idle": "2024-10-29T05:57:41.070043Z",
     "shell.execute_reply": "2024-10-29T05:57:41.069069Z",
     "shell.execute_reply.started": "2024-10-29T05:57:41.065506Z"
    },
    "executionInfo": {
     "elapsed": 5,
     "status": "ok",
     "timestamp": 1716668236467,
     "user": {
      "displayName": "Stévillis",
      "userId": "01901148833114142760"
     },
     "user_tz": 240
    },
    "id": "OsrEipT3cAvg",
    "trusted": true
   },
   "outputs": [],
   "source": [
    "loss_fun = nn.CrossEntropyLoss()"
   ]
  },
  {
   "cell_type": "code",
   "execution_count": 73,
   "metadata": {
    "execution": {
     "iopub.execute_input": "2024-10-29T05:57:41.071411Z",
     "iopub.status.busy": "2024-10-29T05:57:41.071133Z",
     "iopub.status.idle": "2024-10-29T05:57:41.083486Z",
     "shell.execute_reply": "2024-10-29T05:57:41.082598Z",
     "shell.execute_reply.started": "2024-10-29T05:57:41.071381Z"
    },
    "executionInfo": {
     "elapsed": 4,
     "status": "ok",
     "timestamp": 1716668236467,
     "user": {
      "displayName": "Stévillis",
      "userId": "01901148833114142760"
     },
     "user_tz": 240
    },
    "id": "UxnOQK86cAvh",
    "trusted": true
   },
   "outputs": [],
   "source": [
    "oversampled_optimizer = torch.optim.Adam(\n",
    "    oversampled_model.parameters(), lr=LEARNING_RATE\n",
    ")\n",
    "oversampled_optimizer_freezing = torch.optim.Adam(\n",
    "    oversampled_model_freezing.parameters(), lr=LEARNING_RATE\n",
    ")"
   ]
  },
  {
   "cell_type": "code",
   "execution_count": 74,
   "metadata": {
    "colab": {
     "base_uri": "https://localhost:8080/"
    },
    "execution": {
     "iopub.execute_input": "2024-10-29T05:57:41.084950Z",
     "iopub.status.busy": "2024-10-29T05:57:41.084569Z",
     "iopub.status.idle": "2024-10-29T05:57:41.093608Z",
     "shell.execute_reply": "2024-10-29T05:57:41.092743Z",
     "shell.execute_reply.started": "2024-10-29T05:57:41.084906Z"
    },
    "executionInfo": {
     "elapsed": 4,
     "status": "ok",
     "timestamp": 1716668236467,
     "user": {
      "displayName": "Stévillis",
      "userId": "01901148833114142760"
     },
     "user_tz": 240
    },
    "id": "udT1yu8ccAvh",
    "outputId": "ce08637a-fc2c-4369-d611-95e64ebea20d",
    "trusted": true
   },
   "outputs": [
    {
     "data": {
      "text/plain": [
       "163"
      ]
     },
     "execution_count": 74,
     "metadata": {},
     "output_type": "execute_result"
    }
   ],
   "source": [
    "n_total_steps = len(oversampled_train_loader)\n",
    "n_total_steps"
   ]
  },
  {
   "cell_type": "markdown",
   "metadata": {
    "id": "FxclMEmeQdnV"
   },
   "source": [
    "#### Train without freezing"
   ]
  },
  {
   "cell_type": "code",
   "execution_count": 75,
   "metadata": {
    "colab": {
     "base_uri": "https://localhost:8080/"
    },
    "execution": {
     "iopub.execute_input": "2024-10-29T05:57:41.095189Z",
     "iopub.status.busy": "2024-10-29T05:57:41.094784Z",
     "iopub.status.idle": "2024-10-29T06:17:19.341318Z",
     "shell.execute_reply": "2024-10-29T06:17:19.340208Z",
     "shell.execute_reply.started": "2024-10-29T05:57:41.095145Z"
    },
    "executionInfo": {
     "elapsed": 1232650,
     "status": "ok",
     "timestamp": 1716669469114,
     "user": {
      "displayName": "Stévillis",
      "userId": "01901148833114142760"
     },
     "user_tz": 240
    },
    "id": "PB2Yl86OQdnV",
    "outputId": "d86f26be-a1a5-46a6-bdd1-3aaa973815f9",
    "trusted": true
   },
   "outputs": [
    {
     "name": "stdout",
     "output_type": "stream",
     "text": [
      "-------------------- Epoch: 1/5 --------------------\n",
      "Training Batch 16/163, \t\t loss = 0.4817\n",
      "Training Batch 32/163, \t\t loss = 0.2817\n",
      "Training Batch 48/163, \t\t loss = 0.5797\n",
      "Training Batch 64/163, \t\t loss = 0.2278\n",
      "Training Batch 80/163, \t\t loss = 0.1321\n",
      "Training Batch 96/163, \t\t loss = 0.1118\n",
      "Training Batch 112/163, \t\t loss = 0.0728\n",
      "Training Batch 128/163, \t\t loss = 0.3568\n",
      "Training Batch 144/163, \t\t loss = 0.2416\n",
      "Training Batch 160/163, \t\t loss = 0.3917\n",
      "\n",
      "Evaluating Batch 16/163, \t\t loss = 0.0408\n",
      "Evaluating Batch 32/163, \t\t loss = 0.0208\n",
      "\n",
      "Train Loss: 0.3118100127239534, \t\t Test Loss: 0.10036603716434911\n",
      "\n",
      "\n",
      "\n",
      "-------------------- Epoch: 2/5 --------------------\n",
      "Training Batch 16/163, \t\t loss = 0.0793\n",
      "Training Batch 32/163, \t\t loss = 0.0608\n",
      "Training Batch 48/163, \t\t loss = 0.0234\n",
      "Training Batch 64/163, \t\t loss = 0.0139\n",
      "Training Batch 80/163, \t\t loss = 0.0255\n",
      "Training Batch 96/163, \t\t loss = 0.0372\n",
      "Training Batch 112/163, \t\t loss = 0.0169\n",
      "Training Batch 128/163, \t\t loss = 0.2989\n",
      "Training Batch 144/163, \t\t loss = 0.0128\n",
      "Training Batch 160/163, \t\t loss = 0.1221\n",
      "\n",
      "Evaluating Batch 16/163, \t\t loss = 0.0113\n",
      "Evaluating Batch 32/163, \t\t loss = 0.0934\n",
      "\n",
      "Train Loss: 0.09074565763099611, \t\t Test Loss: 0.08406145800836384\n",
      "\n",
      "\n",
      "\n",
      "-------------------- Epoch: 3/5 --------------------\n",
      "Training Batch 16/163, \t\t loss = 0.0126\n",
      "Training Batch 32/163, \t\t loss = 0.0132\n",
      "Training Batch 48/163, \t\t loss = 0.0120\n",
      "Training Batch 64/163, \t\t loss = 0.0709\n",
      "Training Batch 80/163, \t\t loss = 0.0854\n",
      "Training Batch 96/163, \t\t loss = 0.0278\n",
      "Training Batch 112/163, \t\t loss = 0.0203\n",
      "Training Batch 128/163, \t\t loss = 0.0412\n",
      "Training Batch 144/163, \t\t loss = 0.2458\n",
      "Training Batch 160/163, \t\t loss = 0.0283\n",
      "\n",
      "Evaluating Batch 16/163, \t\t loss = 0.4789\n",
      "Evaluating Batch 32/163, \t\t loss = 0.0109\n",
      "\n",
      "Train Loss: 0.03999792176235947, \t\t Test Loss: 0.07648306226474233\n",
      "\n",
      "\n",
      "\n",
      "-------------------- Epoch: 4/5 --------------------\n",
      "Training Batch 16/163, \t\t loss = 0.0056\n",
      "Training Batch 32/163, \t\t loss = 0.0046\n",
      "Training Batch 48/163, \t\t loss = 0.0050\n",
      "Training Batch 64/163, \t\t loss = 0.0128\n",
      "Training Batch 80/163, \t\t loss = 0.0034\n",
      "Training Batch 96/163, \t\t loss = 0.0039\n",
      "Training Batch 112/163, \t\t loss = 0.0060\n",
      "Training Batch 128/163, \t\t loss = 0.0059\n",
      "Training Batch 144/163, \t\t loss = 0.0591\n",
      "Training Batch 160/163, \t\t loss = 0.0049\n",
      "\n",
      "Evaluating Batch 16/163, \t\t loss = 0.4377\n",
      "Evaluating Batch 32/163, \t\t loss = 0.0485\n",
      "\n",
      "Train Loss: 0.016128108149645794, \t\t Test Loss: 0.06500918560050195\n",
      "\n",
      "\n",
      "\n",
      "-------------------- Epoch: 5/5 --------------------\n",
      "Training Batch 16/163, \t\t loss = 0.0053\n",
      "Training Batch 32/163, \t\t loss = 0.0027\n",
      "Training Batch 48/163, \t\t loss = 0.0018\n",
      "Training Batch 64/163, \t\t loss = 0.0021\n",
      "Training Batch 80/163, \t\t loss = 0.0031\n",
      "Training Batch 96/163, \t\t loss = 0.0051\n",
      "Training Batch 112/163, \t\t loss = 0.0019\n",
      "Training Batch 128/163, \t\t loss = 0.0027\n",
      "Training Batch 144/163, \t\t loss = 0.0029\n",
      "Training Batch 160/163, \t\t loss = 0.0025\n",
      "\n",
      "Evaluating Batch 16/163, \t\t loss = 0.4419\n",
      "Evaluating Batch 32/163, \t\t loss = 0.1381\n",
      "\n",
      "Train Loss: 0.016202756542958135, \t\t Test Loss: 0.07544345103451633\n",
      "\n",
      "\n",
      "\n"
     ]
    }
   ],
   "source": [
    "oversampled_train_losses, oversampled_test_losses = start_training(\n",
    "    oversampled_model,\n",
    "    oversampled_train_loader,\n",
    "    loss_fun,\n",
    "    oversampled_optimizer,\n",
    "    EPOCHS,\n",
    "    n_total_steps,\n",
    ")"
   ]
  },
  {
   "cell_type": "markdown",
   "metadata": {
    "id": "8s-cSkAKbmsp"
   },
   "source": [
    "##### Evaluating the Model"
   ]
  },
  {
   "cell_type": "code",
   "execution_count": 76,
   "metadata": {
    "colab": {
     "base_uri": "https://localhost:8080/"
    },
    "execution": {
     "iopub.execute_input": "2024-10-29T06:17:19.343326Z",
     "iopub.status.busy": "2024-10-29T06:17:19.342899Z",
     "iopub.status.idle": "2024-10-29T06:17:19.350168Z",
     "shell.execute_reply": "2024-10-29T06:17:19.349249Z",
     "shell.execute_reply.started": "2024-10-29T06:17:19.343279Z"
    },
    "executionInfo": {
     "elapsed": 8,
     "status": "ok",
     "timestamp": 1716669469114,
     "user": {
      "displayName": "Stévillis",
      "userId": "01901148833114142760"
     },
     "user_tz": 240
    },
    "id": "Fben7VWeQdnW",
    "outputId": "d5bd26de-1ca4-42cb-a959-21ecbe18d249",
    "trusted": true
   },
   "outputs": [
    {
     "data": {
      "text/plain": [
       "5"
      ]
     },
     "execution_count": 76,
     "metadata": {},
     "output_type": "execute_result"
    }
   ],
   "source": [
    "len(oversampled_train_losses)"
   ]
  },
  {
   "cell_type": "code",
   "execution_count": 77,
   "metadata": {
    "colab": {
     "base_uri": "https://localhost:8080/"
    },
    "execution": {
     "iopub.execute_input": "2024-10-29T06:17:19.351795Z",
     "iopub.status.busy": "2024-10-29T06:17:19.351415Z",
     "iopub.status.idle": "2024-10-29T06:17:19.362026Z",
     "shell.execute_reply": "2024-10-29T06:17:19.361072Z",
     "shell.execute_reply.started": "2024-10-29T06:17:19.351748Z"
    },
    "executionInfo": {
     "elapsed": 7,
     "status": "ok",
     "timestamp": 1716669469114,
     "user": {
      "displayName": "Stévillis",
      "userId": "01901148833114142760"
     },
     "user_tz": 240
    },
    "id": "d7bcMOCDQdnW",
    "outputId": "d5f72546-a249-4415-f00d-fe6cdac757b8",
    "trusted": true
   },
   "outputs": [
    {
     "data": {
      "text/plain": [
       "5"
      ]
     },
     "execution_count": 77,
     "metadata": {},
     "output_type": "execute_result"
    }
   ],
   "source": [
    "len(oversampled_test_losses)"
   ]
  },
  {
   "cell_type": "code",
   "execution_count": 78,
   "metadata": {
    "colab": {
     "base_uri": "https://localhost:8080/",
     "height": 564
    },
    "execution": {
     "iopub.execute_input": "2024-10-29T06:17:19.363623Z",
     "iopub.status.busy": "2024-10-29T06:17:19.363335Z",
     "iopub.status.idle": "2024-10-29T06:17:19.655959Z",
     "shell.execute_reply": "2024-10-29T06:17:19.655065Z",
     "shell.execute_reply.started": "2024-10-29T06:17:19.363593Z"
    },
    "executionInfo": {
     "elapsed": 6,
     "status": "ok",
     "timestamp": 1716669469115,
     "user": {
      "displayName": "Stévillis",
      "userId": "01901148833114142760"
     },
     "user_tz": 240
    },
    "id": "GqBFmgA0iq2z",
    "outputId": "028689e6-02fb-4a74-a639-481a7dbf73ae",
    "trusted": true
   },
   "outputs": [
    {
     "name": "stderr",
     "output_type": "stream",
     "text": [
      "/opt/conda/lib/python3.10/site-packages/seaborn/_oldcore.py:1119: FutureWarning: use_inf_as_na option is deprecated and will be removed in a future version. Convert inf values to NaN before operating instead.\n",
      "  with pd.option_context('mode.use_inf_as_na', True):\n",
      "/opt/conda/lib/python3.10/site-packages/seaborn/_oldcore.py:1119: FutureWarning: use_inf_as_na option is deprecated and will be removed in a future version. Convert inf values to NaN before operating instead.\n",
      "  with pd.option_context('mode.use_inf_as_na', True):\n",
      "/opt/conda/lib/python3.10/site-packages/seaborn/_oldcore.py:1075: FutureWarning: When grouping with a length-1 list-like, you will need to pass a length-1 tuple to get_group in a future version of pandas. Pass `(name,)` instead of `name` to silence this warning.\n",
      "  data_subset = grouped_data.get_group(pd_key)\n",
      "/opt/conda/lib/python3.10/site-packages/seaborn/_oldcore.py:1075: FutureWarning: When grouping with a length-1 list-like, you will need to pass a length-1 tuple to get_group in a future version of pandas. Pass `(name,)` instead of `name` to silence this warning.\n",
      "  data_subset = grouped_data.get_group(pd_key)\n"
     ]
    },
    {
     "data": {
      "image/png": "[encoded data removed]",
      "text/plain": [
       "<Figure size 800x600 with 1 Axes>"
      ]
     },
     "metadata": {},
     "output_type": "display_data"
    }
   ],
   "source": [
    "show_loss(oversampled_train_losses, oversampled_test_losses, title=\"Oversampled Training and Test Loss per Epoch without freezing BERT layers\")"
   ]
  },
  {
   "cell_type": "code",
   "execution_count": 79,
   "metadata": {
    "execution": {
     "iopub.execute_input": "2024-10-29T06:17:19.657338Z",
     "iopub.status.busy": "2024-10-29T06:17:19.657060Z",
     "iopub.status.idle": "2024-10-29T06:17:37.811851Z",
     "shell.execute_reply": "2024-10-29T06:17:37.811059Z",
     "shell.execute_reply.started": "2024-10-29T06:17:19.657308Z"
    },
    "executionInfo": {
     "elapsed": 18910,
     "status": "ok",
     "timestamp": 1716669488020,
     "user": {
      "displayName": "Stévillis",
      "userId": "01901148833114142760"
     },
     "user_tz": 240
    },
    "id": "5jeRSZL9QdnW",
    "trusted": true
   },
   "outputs": [],
   "source": [
    "oversampled_all_labels, oversampled_all_preds = evaluate_model(\n",
    "    oversampled_model, oversampled_test_loader, device\n",
    ")"
   ]
  },
  {
   "cell_type": "code",
   "execution_count": 80,
   "metadata": {
    "colab": {
     "base_uri": "https://localhost:8080/"
    },
    "execution": {
     "iopub.execute_input": "2024-10-29T06:17:37.813325Z",
     "iopub.status.busy": "2024-10-29T06:17:37.812990Z",
     "iopub.status.idle": "2024-10-29T06:17:37.828330Z",
     "shell.execute_reply": "2024-10-29T06:17:37.827352Z",
     "shell.execute_reply.started": "2024-10-29T06:17:37.813291Z"
    },
    "executionInfo": {
     "elapsed": 14,
     "status": "ok",
     "timestamp": 1716669488021,
     "user": {
      "displayName": "Stévillis",
      "userId": "01901148833114142760"
     },
     "user_tz": 240
    },
    "id": "-N1g7Yp8bmsy",
    "outputId": "5a0e7c15-d96d-4a51-df2b-393d434e9b20",
    "trusted": true
   },
   "outputs": [
    {
     "name": "stdout",
     "output_type": "stream",
     "text": [
      "              precision    recall  f1-score   support\n",
      "\n",
      "           0       0.94      0.98      0.96       197\n",
      "           1       0.93      0.96      0.95       256\n",
      "           2       0.98      0.89      0.93       199\n",
      "\n",
      "    accuracy                           0.95       652\n",
      "   macro avg       0.95      0.95      0.95       652\n",
      "weighted avg       0.95      0.95      0.95       652\n",
      "\n"
     ]
    }
   ],
   "source": [
    "print(classification_report(oversampled_all_labels, oversampled_all_preds))"
   ]
  },
  {
   "cell_type": "code",
   "execution_count": 81,
   "metadata": {
    "colab": {
     "base_uri": "https://localhost:8080/"
    },
    "execution": {
     "iopub.execute_input": "2024-10-29T06:17:37.829764Z",
     "iopub.status.busy": "2024-10-29T06:17:37.829471Z",
     "iopub.status.idle": "2024-10-29T06:17:37.835570Z",
     "shell.execute_reply": "2024-10-29T06:17:37.834670Z",
     "shell.execute_reply.started": "2024-10-29T06:17:37.829733Z"
    },
    "executionInfo": {
     "elapsed": 12,
     "status": "ok",
     "timestamp": 1716669488021,
     "user": {
      "displayName": "Stévillis",
      "userId": "01901148833114142760"
     },
     "user_tz": 240
    },
    "id": "OATPhddWbmsy",
    "outputId": "b4ac63b8-5930-47a9-8b5d-d7c4003e287d",
    "trusted": true
   },
   "outputs": [
    {
     "name": "stdout",
     "output_type": "stream",
     "text": [
      "0.946319018404908\n"
     ]
    }
   ],
   "source": [
    "print(accuracy_score(oversampled_all_labels, oversampled_all_preds))"
   ]
  },
  {
   "cell_type": "code",
   "execution_count": 82,
   "metadata": {
    "colab": {
     "base_uri": "https://localhost:8080/",
     "height": 564
    },
    "execution": {
     "iopub.execute_input": "2024-10-29T06:17:37.837057Z",
     "iopub.status.busy": "2024-10-29T06:17:37.836736Z",
     "iopub.status.idle": "2024-10-29T06:17:38.071369Z",
     "shell.execute_reply": "2024-10-29T06:17:38.070437Z",
     "shell.execute_reply.started": "2024-10-29T06:17:37.836997Z"
    },
    "executionInfo": {
     "elapsed": 679,
     "status": "ok",
     "timestamp": 1716669488690,
     "user": {
      "displayName": "Stévillis",
      "userId": "01901148833114142760"
     },
     "user_tz": 240
    },
    "id": "qBkjEuqLbmsz",
    "outputId": "b5224ae4-348b-437b-b4bc-221d16d91cd0",
    "trusted": true
   },
   "outputs": [
    {
     "data": {
      "image/png": "[encoded data removed]",
      "text/plain": [
       "<Figure size 800x600 with 2 Axes>"
      ]
     },
     "metadata": {},
     "output_type": "display_data"
    }
   ],
   "source": [
    "show_confusion_matrix(oversampled_all_labels, oversampled_all_preds)"
   ]
  },
  {
   "cell_type": "markdown",
   "metadata": {
    "id": "4P5LRaaRqFub"
   },
   "source": [
    "##### Saving the model"
   ]
  },
  {
   "cell_type": "code",
   "execution_count": 83,
   "metadata": {
    "execution": {
     "iopub.execute_input": "2024-10-29T06:17:38.083051Z",
     "iopub.status.busy": "2024-10-29T06:17:38.082741Z",
     "iopub.status.idle": "2024-10-29T06:17:38.689203Z",
     "shell.execute_reply": "2024-10-29T06:17:38.688376Z",
     "shell.execute_reply.started": "2024-10-29T06:17:38.083018Z"
    },
    "executionInfo": {
     "elapsed": 17718,
     "status": "ok",
     "timestamp": 1716669506404,
     "user": {
      "displayName": "Stévillis",
      "userId": "01901148833114142760"
     },
     "user_tz": 240
    },
    "id": "-1AF2H9_qFub",
    "trusted": true
   },
   "outputs": [],
   "source": [
    "torch.save(\n",
    "    oversampled_model.state_dict(),\n",
    "    f\"{PATH_TO_SAVE_MODEL}bertimbau-glassdoor-reviews-oversampled-epoch_{EPOCHS}.bin\",\n",
    ")"
   ]
  },
  {
   "cell_type": "markdown",
   "metadata": {
    "id": "puVcQVE2qFuc"
   },
   "source": [
    "##### Loading the model"
   ]
  },
  {
   "cell_type": "code",
   "execution_count": 84,
   "metadata": {
    "colab": {
     "base_uri": "https://localhost:8080/"
    },
    "execution": {
     "iopub.execute_input": "2024-10-29T06:17:38.690834Z",
     "iopub.status.busy": "2024-10-29T06:17:38.690439Z",
     "iopub.status.idle": "2024-10-29T06:17:39.568080Z",
     "shell.execute_reply": "2024-10-29T06:17:39.567144Z",
     "shell.execute_reply.started": "2024-10-29T06:17:38.690789Z"
    },
    "executionInfo": {
     "elapsed": 2555,
     "status": "ok",
     "timestamp": 1716669508947,
     "user": {
      "displayName": "Stévillis",
      "userId": "01901148833114142760"
     },
     "user_tz": 240
    },
    "id": "qR0pg5kUqFuc",
    "outputId": "19745db2-21ff-4879-9528-8ef4fcdbba2f",
    "trusted": true
   },
   "outputs": [
    {
     "name": "stderr",
     "output_type": "stream",
     "text": [
      "/tmp/ipykernel_30/2244661212.py:3: FutureWarning: You are using `torch.load` with `weights_only=False` (the current default value), which uses the default pickle module implicitly. It is possible to construct malicious pickle data which will execute arbitrary code during unpickling (See https://github.com/pytorch/pytorch/blob/main/SECURITY.md#untrusted-models for more details). In a future release, the default value for `weights_only` will be flipped to `True`. This limits the functions that could be executed during unpickling. Arbitrary objects will no longer be allowed to be loaded via this mode unless they are explicitly allowlisted by the user via `torch.serialization.add_safe_globals`. We recommend you start setting `weights_only=True` for any use case where you don't have full control of the loaded file. Please open an issue on GitHub for any issues related to this experimental feature.\n",
      "  torch.load(\n"
     ]
    },
    {
     "data": {
      "text/plain": [
       "GlassdoorReviewsClassifier(\n",
       "  (bert): BertModel(\n",
       "    (embeddings): BertEmbeddings(\n",
       "      (word_embeddings): Embedding(29794, 768, padding_idx=0)\n",
       "      (position_embeddings): Embedding(512, 768)\n",
       "      (token_type_embeddings): Embedding(2, 768)\n",
       "      (LayerNorm): LayerNorm((768,), eps=1e-12, elementwise_affine=True)\n",
       "      (dropout): Dropout(p=0.1, inplace=False)\n",
       "    )\n",
       "    (encoder): BertEncoder(\n",
       "      (layer): ModuleList(\n",
       "        (0-11): 12 x BertLayer(\n",
       "          (attention): BertAttention(\n",
       "            (self): BertSdpaSelfAttention(\n",
       "              (query): Linear(in_features=768, out_features=768, bias=True)\n",
       "              (key): Linear(in_features=768, out_features=768, bias=True)\n",
       "              (value): Linear(in_features=768, out_features=768, bias=True)\n",
       "              (dropout): Dropout(p=0.1, inplace=False)\n",
       "            )\n",
       "            (output): BertSelfOutput(\n",
       "              (dense): Linear(in_features=768, out_features=768, bias=True)\n",
       "              (LayerNorm): LayerNorm((768,), eps=1e-12, elementwise_affine=True)\n",
       "              (dropout): Dropout(p=0.1, inplace=False)\n",
       "            )\n",
       "          )\n",
       "          (intermediate): BertIntermediate(\n",
       "            (dense): Linear(in_features=768, out_features=3072, bias=True)\n",
       "            (intermediate_act_fn): GELUActivation()\n",
       "          )\n",
       "          (output): BertOutput(\n",
       "            (dense): Linear(in_features=3072, out_features=768, bias=True)\n",
       "            (LayerNorm): LayerNorm((768,), eps=1e-12, elementwise_affine=True)\n",
       "            (dropout): Dropout(p=0.1, inplace=False)\n",
       "          )\n",
       "        )\n",
       "      )\n",
       "    )\n",
       "    (pooler): BertPooler(\n",
       "      (dense): Linear(in_features=768, out_features=768, bias=True)\n",
       "      (activation): Tanh()\n",
       "    )\n",
       "  )\n",
       "  (classifier): Sequential(\n",
       "    (0): Linear(in_features=768, out_features=300, bias=True)\n",
       "    (1): ReLU()\n",
       "    (2): Linear(in_features=300, out_features=100, bias=True)\n",
       "    (3): ReLU()\n",
       "    (4): Linear(in_features=100, out_features=50, bias=True)\n",
       "    (5): ReLU()\n",
       "    (6): Linear(in_features=50, out_features=3, bias=True)\n",
       "  )\n",
       ")"
      ]
     },
     "execution_count": 84,
     "metadata": {},
     "output_type": "execute_result"
    }
   ],
   "source": [
    "oversampled_model = GlassdoorReviewsClassifier(num_labels).to(device)\n",
    "oversampled_model.load_state_dict(\n",
    "    torch.load(\n",
    "        GLASSDOOR_MODEL_PATH.replace(\n",
    "            f\"bertimbau-glassdoor-reviews-epoch_5.bin\",\n",
    "            f\"bertimbau-glassdoor-reviews-oversampled-epoch_{EPOCHS}.bin\",\n",
    "        ),\n",
    "        map_location=device,\n",
    "    )\n",
    ")\n",
    "oversampled_model.eval()"
   ]
  },
  {
   "cell_type": "markdown",
   "metadata": {
    "id": "aoECwWonqFud"
   },
   "source": [
    "##### Sample prediction"
   ]
  },
  {
   "cell_type": "code",
   "execution_count": 85,
   "metadata": {
    "colab": {
     "base_uri": "https://localhost:8080/"
    },
    "execution": {
     "iopub.execute_input": "2024-10-29T06:17:39.569715Z",
     "iopub.status.busy": "2024-10-29T06:17:39.569354Z",
     "iopub.status.idle": "2024-10-29T06:17:39.655969Z",
     "shell.execute_reply": "2024-10-29T06:17:39.655058Z",
     "shell.execute_reply.started": "2024-10-29T06:17:39.569682Z"
    },
    "executionInfo": {
     "elapsed": 34,
     "status": "ok",
     "timestamp": 1716669508948,
     "user": {
      "displayName": "Stévillis",
      "userId": "01901148833114142760"
     },
     "user_tz": 240
    },
    "id": "-w5wGKSqQdnX",
    "outputId": "4102f1a8-5c59-4501-ce8f-b4980974a6d2",
    "trusted": true
   },
   "outputs": [
    {
     "name": "stdout",
     "output_type": "stream",
     "text": [
      "Review text: Empresa boa para trabalhar\n",
      "neutral     0.000504\n",
      "positive    0.999092\n",
      "negative    0.000404\n",
      "Name: 0, dtype: float64\n",
      "\n",
      "\n",
      "Review text: Empresa ruim para trabalhar\n",
      "neutral     0.001586\n",
      "positive    0.005797\n",
      "negative    0.992618\n",
      "Name: 0, dtype: float64\n",
      "\n",
      "\n",
      "Review text: Não tenho o que declarar\n",
      "neutral     0.998764\n",
      "positive    0.000732\n",
      "negative    0.000505\n",
      "Name: 0, dtype: float64\n",
      "\n",
      "\n"
     ]
    }
   ],
   "source": [
    "predict_reviews(oversampled_model, SAMPLE_REVIEWS)"
   ]
  },
  {
   "cell_type": "markdown",
   "metadata": {
    "id": "8AXWc46sQdnX"
   },
   "source": [
    "#### Train freezing"
   ]
  },
  {
   "cell_type": "code",
   "execution_count": 86,
   "metadata": {
    "colab": {
     "base_uri": "https://localhost:8080/"
    },
    "execution": {
     "iopub.execute_input": "2024-10-29T06:17:39.658272Z",
     "iopub.status.busy": "2024-10-29T06:17:39.657584Z",
     "iopub.status.idle": "2024-10-29T06:37:17.839708Z",
     "shell.execute_reply": "2024-10-29T06:37:17.838723Z",
     "shell.execute_reply.started": "2024-10-29T06:17:39.658217Z"
    },
    "executionInfo": {
     "elapsed": 1228343,
     "status": "ok",
     "timestamp": 1716670737263,
     "user": {
      "displayName": "Stévillis",
      "userId": "01901148833114142760"
     },
     "user_tz": 240
    },
    "id": "ZOud9ksbQdnX",
    "outputId": "94d076ae-9849-45c4-99ad-528325360e03",
    "trusted": true
   },
   "outputs": [
    {
     "name": "stdout",
     "output_type": "stream",
     "text": [
      "-------------------- Epoch: 1/5 --------------------\n",
      "Training Batch 16/163, \t\t loss = 0.4764\n",
      "Training Batch 32/163, \t\t loss = 0.1694\n",
      "Training Batch 48/163, \t\t loss = 0.0943\n",
      "Training Batch 64/163, \t\t loss = 0.3645\n",
      "Training Batch 80/163, \t\t loss = 0.1174\n",
      "Training Batch 96/163, \t\t loss = 0.3783\n",
      "Training Batch 112/163, \t\t loss = 0.3781\n",
      "Training Batch 128/163, \t\t loss = 0.2588\n",
      "Training Batch 144/163, \t\t loss = 0.0599\n",
      "Training Batch 160/163, \t\t loss = 0.0490\n",
      "\n",
      "Evaluating Batch 16/163, \t\t loss = 0.0432\n",
      "Evaluating Batch 32/163, \t\t loss = 0.0503\n",
      "\n",
      "Train Loss: 0.29091294572625787, \t\t Test Loss: 0.08791896360344253\n",
      "\n",
      "\n",
      "\n",
      "-------------------- Epoch: 2/5 --------------------\n",
      "Training Batch 16/163, \t\t loss = 0.0667\n",
      "Training Batch 32/163, \t\t loss = 0.0199\n",
      "Training Batch 48/163, \t\t loss = 0.1925\n",
      "Training Batch 64/163, \t\t loss = 0.0385\n",
      "Training Batch 80/163, \t\t loss = 0.0124\n",
      "Training Batch 96/163, \t\t loss = 0.0231\n",
      "Training Batch 112/163, \t\t loss = 0.0377\n",
      "Training Batch 128/163, \t\t loss = 0.0175\n",
      "Training Batch 144/163, \t\t loss = 0.0133\n",
      "Training Batch 160/163, \t\t loss = 0.0054\n",
      "\n",
      "Evaluating Batch 16/163, \t\t loss = 0.0224\n",
      "Evaluating Batch 32/163, \t\t loss = 0.0046\n",
      "\n",
      "Train Loss: 0.07765235238782833, \t\t Test Loss: 0.05930741100019077\n",
      "\n",
      "\n",
      "\n",
      "-------------------- Epoch: 3/5 --------------------\n",
      "Training Batch 16/163, \t\t loss = 0.0243\n",
      "Training Batch 32/163, \t\t loss = 0.0056\n",
      "Training Batch 48/163, \t\t loss = 0.0086\n",
      "Training Batch 64/163, \t\t loss = 0.0158\n",
      "Training Batch 80/163, \t\t loss = 0.1711\n",
      "Training Batch 96/163, \t\t loss = 0.0383\n",
      "Training Batch 112/163, \t\t loss = 0.0063\n",
      "Training Batch 128/163, \t\t loss = 0.0092\n",
      "Training Batch 144/163, \t\t loss = 0.0054\n",
      "Training Batch 160/163, \t\t loss = 0.0088\n",
      "\n",
      "Evaluating Batch 16/163, \t\t loss = 0.0081\n",
      "Evaluating Batch 32/163, \t\t loss = 0.0812\n",
      "\n",
      "Train Loss: 0.03488803409365651, \t\t Test Loss: 0.0897792825999204\n",
      "\n",
      "\n",
      "\n",
      "-------------------- Epoch: 4/5 --------------------\n",
      "Training Batch 16/163, \t\t loss = 0.0040\n",
      "Training Batch 32/163, \t\t loss = 0.0086\n",
      "Training Batch 48/163, \t\t loss = 0.0112\n",
      "Training Batch 64/163, \t\t loss = 0.0022\n",
      "Training Batch 80/163, \t\t loss = 0.0026\n",
      "Training Batch 96/163, \t\t loss = 0.0032\n",
      "Training Batch 112/163, \t\t loss = 0.0099\n",
      "Training Batch 128/163, \t\t loss = 0.0017\n",
      "Training Batch 144/163, \t\t loss = 0.0027\n",
      "Training Batch 160/163, \t\t loss = 0.0206\n",
      "\n",
      "Evaluating Batch 16/163, \t\t loss = 0.0011\n",
      "Evaluating Batch 32/163, \t\t loss = 0.0439\n",
      "\n",
      "Train Loss: 0.007497639238885804, \t\t Test Loss: 0.07531580289105477\n",
      "\n",
      "\n",
      "\n",
      "-------------------- Epoch: 5/5 --------------------\n",
      "Training Batch 16/163, \t\t loss = 0.0027\n",
      "Training Batch 32/163, \t\t loss = 0.0016\n",
      "Training Batch 48/163, \t\t loss = 0.0016\n",
      "Training Batch 64/163, \t\t loss = 0.0016\n",
      "Training Batch 80/163, \t\t loss = 0.0020\n",
      "Training Batch 96/163, \t\t loss = 0.0015\n",
      "Training Batch 112/163, \t\t loss = 0.0011\n",
      "Training Batch 128/163, \t\t loss = 0.0010\n",
      "Training Batch 144/163, \t\t loss = 0.0011\n",
      "Training Batch 160/163, \t\t loss = 0.0015\n",
      "\n",
      "Evaluating Batch 16/163, \t\t loss = 0.0005\n",
      "Evaluating Batch 32/163, \t\t loss = 0.1188\n",
      "\n",
      "Train Loss: 0.0024330466421481015, \t\t Test Loss: 0.07241666069785424\n",
      "\n",
      "\n",
      "\n"
     ]
    }
   ],
   "source": [
    "oversampled_train_losses, oversampled_test_losses = start_training(\n",
    "    oversampled_model_freezing,\n",
    "    oversampled_train_loader,\n",
    "    loss_fun,\n",
    "    oversampled_optimizer_freezing,\n",
    "    EPOCHS,\n",
    "    n_total_steps,\n",
    ")"
   ]
  },
  {
   "cell_type": "markdown",
   "metadata": {
    "id": "Ey6j3sBLQdnX"
   },
   "source": [
    "##### Evaluating the Model"
   ]
  },
  {
   "cell_type": "code",
   "execution_count": 87,
   "metadata": {
    "colab": {
     "base_uri": "https://localhost:8080/"
    },
    "execution": {
     "iopub.execute_input": "2024-10-29T06:37:17.842769Z",
     "iopub.status.busy": "2024-10-29T06:37:17.841890Z",
     "iopub.status.idle": "2024-10-29T06:37:17.848576Z",
     "shell.execute_reply": "2024-10-29T06:37:17.847781Z",
     "shell.execute_reply.started": "2024-10-29T06:37:17.842722Z"
    },
    "executionInfo": {
     "elapsed": 31,
     "status": "ok",
     "timestamp": 1716670737263,
     "user": {
      "displayName": "Stévillis",
      "userId": "01901148833114142760"
     },
     "user_tz": 240
    },
    "id": "9b4b6tWUQdnY",
    "outputId": "6f8987dc-0fff-45e7-d6ae-2d67f5f97849",
    "trusted": true
   },
   "outputs": [
    {
     "data": {
      "text/plain": [
       "5"
      ]
     },
     "execution_count": 87,
     "metadata": {},
     "output_type": "execute_result"
    }
   ],
   "source": [
    "len(oversampled_train_losses)"
   ]
  },
  {
   "cell_type": "code",
   "execution_count": 88,
   "metadata": {
    "colab": {
     "base_uri": "https://localhost:8080/"
    },
    "execution": {
     "iopub.execute_input": "2024-10-29T06:37:17.850147Z",
     "iopub.status.busy": "2024-10-29T06:37:17.849835Z",
     "iopub.status.idle": "2024-10-29T06:37:17.873197Z",
     "shell.execute_reply": "2024-10-29T06:37:17.872357Z",
     "shell.execute_reply.started": "2024-10-29T06:37:17.850116Z"
    },
    "executionInfo": {
     "elapsed": 24,
     "status": "ok",
     "timestamp": 1716670737263,
     "user": {
      "displayName": "Stévillis",
      "userId": "01901148833114142760"
     },
     "user_tz": 240
    },
    "id": "pf5hvqxGQdnY",
    "outputId": "070e1b51-3f8c-426c-eda3-c3836e485cfd",
    "trusted": true
   },
   "outputs": [
    {
     "data": {
      "text/plain": [
       "5"
      ]
     },
     "execution_count": 88,
     "metadata": {},
     "output_type": "execute_result"
    }
   ],
   "source": [
    "len(oversampled_test_losses)"
   ]
  },
  {
   "cell_type": "code",
   "execution_count": 89,
   "metadata": {
    "colab": {
     "base_uri": "https://localhost:8080/",
     "height": 564
    },
    "execution": {
     "iopub.execute_input": "2024-10-29T06:37:17.874489Z",
     "iopub.status.busy": "2024-10-29T06:37:17.874219Z",
     "iopub.status.idle": "2024-10-29T06:37:18.234236Z",
     "shell.execute_reply": "2024-10-29T06:37:18.233361Z",
     "shell.execute_reply.started": "2024-10-29T06:37:17.874442Z"
    },
    "executionInfo": {
     "elapsed": 903,
     "status": "ok",
     "timestamp": 1716670738146,
     "user": {
      "displayName": "Stévillis",
      "userId": "01901148833114142760"
     },
     "user_tz": 240
    },
    "id": "yaPZDBD8QdnY",
    "outputId": "facb3098-5bfd-425c-bfa9-4e42b34a9c06",
    "trusted": true
   },
   "outputs": [
    {
     "name": "stderr",
     "output_type": "stream",
     "text": [
      "/opt/conda/lib/python3.10/site-packages/seaborn/_oldcore.py:1119: FutureWarning: use_inf_as_na option is deprecated and will be removed in a future version. Convert inf values to NaN before operating instead.\n",
      "  with pd.option_context('mode.use_inf_as_na', True):\n",
      "/opt/conda/lib/python3.10/site-packages/seaborn/_oldcore.py:1119: FutureWarning: use_inf_as_na option is deprecated and will be removed in a future version. Convert inf values to NaN before operating instead.\n",
      "  with pd.option_context('mode.use_inf_as_na', True):\n",
      "/opt/conda/lib/python3.10/site-packages/seaborn/_oldcore.py:1075: FutureWarning: When grouping with a length-1 list-like, you will need to pass a length-1 tuple to get_group in a future version of pandas. Pass `(name,)` instead of `name` to silence this warning.\n",
      "  data_subset = grouped_data.get_group(pd_key)\n",
      "/opt/conda/lib/python3.10/site-packages/seaborn/_oldcore.py:1075: FutureWarning: When grouping with a length-1 list-like, you will need to pass a length-1 tuple to get_group in a future version of pandas. Pass `(name,)` instead of `name` to silence this warning.\n",
      "  data_subset = grouped_data.get_group(pd_key)\n"
     ]
    },
    {
     "data": {
      "image/png": "[encoded data removed]",
      "text/plain": [
       "<Figure size 800x600 with 1 Axes>"
      ]
     },
     "metadata": {},
     "output_type": "display_data"
    }
   ],
   "source": [
    "show_loss(\n",
    "    oversampled_train_losses,\n",
    "    oversampled_test_losses,\n",
    "    title=\"Oversampled Training and Test Loss per Epoch freezing BERT layers\",\n",
    ")"
   ]
  },
  {
   "cell_type": "code",
   "execution_count": 90,
   "metadata": {
    "execution": {
     "iopub.execute_input": "2024-10-29T06:37:18.235883Z",
     "iopub.status.busy": "2024-10-29T06:37:18.235493Z",
     "iopub.status.idle": "2024-10-29T06:37:36.357470Z",
     "shell.execute_reply": "2024-10-29T06:37:36.356458Z",
     "shell.execute_reply.started": "2024-10-29T06:37:18.235839Z"
    },
    "executionInfo": {
     "elapsed": 19593,
     "status": "ok",
     "timestamp": 1716671679076,
     "user": {
      "displayName": "Stévillis",
      "userId": "01901148833114142760"
     },
     "user_tz": 240
    },
    "id": "kj18nDfgQdnY",
    "trusted": true
   },
   "outputs": [],
   "source": [
    "oversampled_all_labels, oversampled_all_preds = evaluate_model(\n",
    "    oversampled_model_freezing, oversampled_test_loader, device\n",
    ")"
   ]
  },
  {
   "cell_type": "code",
   "execution_count": 91,
   "metadata": {
    "colab": {
     "base_uri": "https://localhost:8080/"
    },
    "execution": {
     "iopub.execute_input": "2024-10-29T06:37:36.359182Z",
     "iopub.status.busy": "2024-10-29T06:37:36.358774Z",
     "iopub.status.idle": "2024-10-29T06:37:36.375202Z",
     "shell.execute_reply": "2024-10-29T06:37:36.374192Z",
     "shell.execute_reply.started": "2024-10-29T06:37:36.359136Z"
    },
    "executionInfo": {
     "elapsed": 11,
     "status": "ok",
     "timestamp": 1716671679076,
     "user": {
      "displayName": "Stévillis",
      "userId": "01901148833114142760"
     },
     "user_tz": 240
    },
    "id": "ZvRde9E9QdnY",
    "outputId": "d7ba06b1-a708-4bde-bc55-98289734a721",
    "trusted": true
   },
   "outputs": [
    {
     "name": "stdout",
     "output_type": "stream",
     "text": [
      "              precision    recall  f1-score   support\n",
      "\n",
      "           0       0.97      0.98      0.98       197\n",
      "           1       0.95      0.98      0.96       256\n",
      "           2       0.98      0.93      0.96       199\n",
      "\n",
      "    accuracy                           0.97       652\n",
      "   macro avg       0.97      0.96      0.97       652\n",
      "weighted avg       0.97      0.97      0.97       652\n",
      "\n"
     ]
    }
   ],
   "source": [
    "print(classification_report(oversampled_all_labels, oversampled_all_preds))"
   ]
  },
  {
   "cell_type": "code",
   "execution_count": 92,
   "metadata": {
    "colab": {
     "base_uri": "https://localhost:8080/"
    },
    "execution": {
     "iopub.execute_input": "2024-10-29T06:37:36.377510Z",
     "iopub.status.busy": "2024-10-29T06:37:36.376674Z",
     "iopub.status.idle": "2024-10-29T06:37:36.383582Z",
     "shell.execute_reply": "2024-10-29T06:37:36.382529Z",
     "shell.execute_reply.started": "2024-10-29T06:37:36.377461Z"
    },
    "executionInfo": {
     "elapsed": 24,
     "status": "ok",
     "timestamp": 1716670756985,
     "user": {
      "displayName": "Stévillis",
      "userId": "01901148833114142760"
     },
     "user_tz": 240
    },
    "id": "cGvpEfMYQdnY",
    "outputId": "4866d360-381f-40fc-c277-8b3691310cc0",
    "trusted": true
   },
   "outputs": [
    {
     "name": "stdout",
     "output_type": "stream",
     "text": [
      "0.9662576687116564\n"
     ]
    }
   ],
   "source": [
    "print(accuracy_score(oversampled_all_labels, oversampled_all_preds))"
   ]
  },
  {
   "cell_type": "code",
   "execution_count": 93,
   "metadata": {
    "colab": {
     "base_uri": "https://localhost:8080/",
     "height": 564
    },
    "execution": {
     "iopub.execute_input": "2024-10-29T06:37:36.386008Z",
     "iopub.status.busy": "2024-10-29T06:37:36.385262Z",
     "iopub.status.idle": "2024-10-29T06:37:36.681525Z",
     "shell.execute_reply": "2024-10-29T06:37:36.680494Z",
     "shell.execute_reply.started": "2024-10-29T06:37:36.385961Z"
    },
    "executionInfo": {
     "elapsed": 598,
     "status": "ok",
     "timestamp": 1716671805827,
     "user": {
      "displayName": "Stévillis",
      "userId": "01901148833114142760"
     },
     "user_tz": 240
    },
    "id": "QewYFf_RQdnY",
    "outputId": "ef29edd9-a67b-45ab-bbe8-40fd2b1c5e60",
    "trusted": true
   },
   "outputs": [
    {
     "data": {
      "image/png": "[encoded data removed]",
      "text/plain": [
       "<Figure size 800x600 with 2 Axes>"
      ]
     },
     "metadata": {},
     "output_type": "display_data"
    }
   ],
   "source": [
    "show_confusion_matrix(oversampled_all_labels, oversampled_all_preds)"
   ]
  },
  {
   "cell_type": "markdown",
   "metadata": {
    "id": "ktF1HJwWQdnZ"
   },
   "source": [
    "##### Saving the model"
   ]
  },
  {
   "cell_type": "code",
   "execution_count": 94,
   "metadata": {
    "execution": {
     "iopub.execute_input": "2024-10-29T06:37:36.683252Z",
     "iopub.status.busy": "2024-10-29T06:37:36.682866Z",
     "iopub.status.idle": "2024-10-29T06:37:37.244138Z",
     "shell.execute_reply": "2024-10-29T06:37:37.243053Z",
     "shell.execute_reply.started": "2024-10-29T06:37:36.683208Z"
    },
    "executionInfo": {
     "elapsed": 7378,
     "status": "ok",
     "timestamp": 1716671817441,
     "user": {
      "displayName": "Stévillis",
      "userId": "01901148833114142760"
     },
     "user_tz": 240
    },
    "id": "3OsSOsPtQdnZ",
    "trusted": true
   },
   "outputs": [],
   "source": [
    "torch.save(\n",
    "    oversampled_model.state_dict(),\n",
    "    f\"{PATH_TO_SAVE_MODEL}bertimbau-glassdoor-reviews-oversampled-freezing-epoch_{EPOCHS}.bin\",\n",
    ")"
   ]
  },
  {
   "cell_type": "markdown",
   "metadata": {
    "id": "kr3Tb-lEQdnZ"
   },
   "source": [
    "##### Loading the model"
   ]
  },
  {
   "cell_type": "code",
   "execution_count": 95,
   "metadata": {
    "colab": {
     "base_uri": "https://localhost:8080/"
    },
    "execution": {
     "iopub.execute_input": "2024-10-29T06:37:37.245639Z",
     "iopub.status.busy": "2024-10-29T06:37:37.245315Z",
     "iopub.status.idle": "2024-10-29T06:37:38.059293Z",
     "shell.execute_reply": "2024-10-29T06:37:38.058305Z",
     "shell.execute_reply.started": "2024-10-29T06:37:37.245605Z"
    },
    "executionInfo": {
     "elapsed": 2881,
     "status": "ok",
     "timestamp": 1716671820319,
     "user": {
      "displayName": "Stévillis",
      "userId": "01901148833114142760"
     },
     "user_tz": 240
    },
    "id": "Klo2KTTPQdnZ",
    "outputId": "b24f4d8a-b81f-49f9-dc61-0f2a9a4b04e6",
    "trusted": true
   },
   "outputs": [
    {
     "name": "stderr",
     "output_type": "stream",
     "text": [
      "/tmp/ipykernel_30/1612729092.py:3: FutureWarning: You are using `torch.load` with `weights_only=False` (the current default value), which uses the default pickle module implicitly. It is possible to construct malicious pickle data which will execute arbitrary code during unpickling (See https://github.com/pytorch/pytorch/blob/main/SECURITY.md#untrusted-models for more details). In a future release, the default value for `weights_only` will be flipped to `True`. This limits the functions that could be executed during unpickling. Arbitrary objects will no longer be allowed to be loaded via this mode unless they are explicitly allowlisted by the user via `torch.serialization.add_safe_globals`. We recommend you start setting `weights_only=True` for any use case where you don't have full control of the loaded file. Please open an issue on GitHub for any issues related to this experimental feature.\n",
      "  torch.load(\n"
     ]
    },
    {
     "data": {
      "text/plain": [
       "GlassdoorReviewsClassifier(\n",
       "  (bert): BertModel(\n",
       "    (embeddings): BertEmbeddings(\n",
       "      (word_embeddings): Embedding(29794, 768, padding_idx=0)\n",
       "      (position_embeddings): Embedding(512, 768)\n",
       "      (token_type_embeddings): Embedding(2, 768)\n",
       "      (LayerNorm): LayerNorm((768,), eps=1e-12, elementwise_affine=True)\n",
       "      (dropout): Dropout(p=0.1, inplace=False)\n",
       "    )\n",
       "    (encoder): BertEncoder(\n",
       "      (layer): ModuleList(\n",
       "        (0-11): 12 x BertLayer(\n",
       "          (attention): BertAttention(\n",
       "            (self): BertSdpaSelfAttention(\n",
       "              (query): Linear(in_features=768, out_features=768, bias=True)\n",
       "              (key): Linear(in_features=768, out_features=768, bias=True)\n",
       "              (value): Linear(in_features=768, out_features=768, bias=True)\n",
       "              (dropout): Dropout(p=0.1, inplace=False)\n",
       "            )\n",
       "            (output): BertSelfOutput(\n",
       "              (dense): Linear(in_features=768, out_features=768, bias=True)\n",
       "              (LayerNorm): LayerNorm((768,), eps=1e-12, elementwise_affine=True)\n",
       "              (dropout): Dropout(p=0.1, inplace=False)\n",
       "            )\n",
       "          )\n",
       "          (intermediate): BertIntermediate(\n",
       "            (dense): Linear(in_features=768, out_features=3072, bias=True)\n",
       "            (intermediate_act_fn): GELUActivation()\n",
       "          )\n",
       "          (output): BertOutput(\n",
       "            (dense): Linear(in_features=3072, out_features=768, bias=True)\n",
       "            (LayerNorm): LayerNorm((768,), eps=1e-12, elementwise_affine=True)\n",
       "            (dropout): Dropout(p=0.1, inplace=False)\n",
       "          )\n",
       "        )\n",
       "      )\n",
       "    )\n",
       "    (pooler): BertPooler(\n",
       "      (dense): Linear(in_features=768, out_features=768, bias=True)\n",
       "      (activation): Tanh()\n",
       "    )\n",
       "  )\n",
       "  (classifier): Sequential(\n",
       "    (0): Linear(in_features=768, out_features=300, bias=True)\n",
       "    (1): ReLU()\n",
       "    (2): Linear(in_features=300, out_features=100, bias=True)\n",
       "    (3): ReLU()\n",
       "    (4): Linear(in_features=100, out_features=50, bias=True)\n",
       "    (5): ReLU()\n",
       "    (6): Linear(in_features=50, out_features=3, bias=True)\n",
       "  )\n",
       ")"
      ]
     },
     "execution_count": 95,
     "metadata": {},
     "output_type": "execute_result"
    }
   ],
   "source": [
    "oversampled_model = GlassdoorReviewsClassifier(num_labels).to(device)\n",
    "oversampled_model.load_state_dict(\n",
    "    torch.load(\n",
    "        GLASSDOOR_MODEL_PATH.replace(\n",
    "            f\"bertimbau-glassdoor-reviews-epoch_5.bin\",\n",
    "            f\"bertimbau-glassdoor-reviews-oversampled-freezing-epoch_{EPOCHS}.bin\",\n",
    "        ),\n",
    "        map_location=device,\n",
    "    )\n",
    ")\n",
    "oversampled_model.eval()"
   ]
  },
  {
   "cell_type": "markdown",
   "metadata": {
    "id": "x25qqOJoQdnZ"
   },
   "source": [
    "##### Sample prediction"
   ]
  },
  {
   "cell_type": "code",
   "execution_count": 96,
   "metadata": {
    "colab": {
     "base_uri": "https://localhost:8080/"
    },
    "execution": {
     "iopub.execute_input": "2024-10-29T06:37:38.060909Z",
     "iopub.status.busy": "2024-10-29T06:37:38.060528Z",
     "iopub.status.idle": "2024-10-29T06:37:38.147797Z",
     "shell.execute_reply": "2024-10-29T06:37:38.146772Z",
     "shell.execute_reply.started": "2024-10-29T06:37:38.060874Z"
    },
    "executionInfo": {
     "elapsed": 599,
     "status": "ok",
     "timestamp": 1716671820914,
     "user": {
      "displayName": "Stévillis",
      "userId": "01901148833114142760"
     },
     "user_tz": 240
    },
    "id": "Co5WhrbnQdnZ",
    "outputId": "84f29a10-7089-4f45-8a9f-98f5318690c3",
    "trusted": true
   },
   "outputs": [
    {
     "name": "stdout",
     "output_type": "stream",
     "text": [
      "Review text: Empresa boa para trabalhar\n",
      "neutral     0.000094\n",
      "positive    0.999820\n",
      "negative    0.000086\n",
      "Name: 0, dtype: float64\n",
      "\n",
      "\n",
      "Review text: Empresa ruim para trabalhar\n",
      "neutral     0.000337\n",
      "positive    0.002157\n",
      "negative    0.997506\n",
      "Name: 0, dtype: float64\n",
      "\n",
      "\n",
      "Review text: Não tenho o que declarar\n",
      "neutral     0.999794\n",
      "positive    0.000136\n",
      "negative    0.000070\n",
      "Name: 0, dtype: float64\n",
      "\n",
      "\n"
     ]
    }
   ],
   "source": [
    "predict_reviews(oversampled_model, SAMPLE_REVIEWS)"
   ]
  }
 ],
 "metadata": {
  "accelerator": "GPU",
  "colab": {
   "collapsed_sections": [
    "xKX1vV_Z9MqR",
    "PXyh9fGh9MqS",
    "UfZPetUB9MqS"
   ],
   "gpuType": "T4",
   "provenance": []
  },
  "kaggle": {
   "accelerator": "nvidiaTeslaT4",
   "dataSources": [
    {
     "datasetId": 5969573,
     "sourceId": 9750469,
     "sourceType": "datasetVersion"
    }
   ],
   "dockerImageVersionId": 30787,
   "isGpuEnabled": true,
   "isInternetEnabled": true,
   "language": "python",
   "sourceType": "notebook"
  },
  "kernelspec": {
   "display_name": "venv_sent_analysis",
   "language": "python",
   "name": "python3"
  },
  "language_info": {
   "codemirror_mode": {
    "name": "ipython",
    "version": 3
   },
   "file_extension": ".py",
   "mimetype": "text/x-python",
   "name": "python",
   "nbconvert_exporter": "python",
   "pygments_lexer": "ipython3",
   "version": "3.11.7"
  },
  "widgets": {
   "application/vnd.jupyter.widget-state+json": {
    "025e50ac18fe4b1f8ace718dae854228": {
     "model_module": "@jupyter-widgets/base",
     "model_module_version": "1.2.0",
     "model_name": "LayoutModel",
     "state": {
      "_model_module": "@jupyter-widgets/base",
      "_model_module_version": "1.2.0",
      "_model_name": "LayoutModel",
      "_view_count": null,
      "_view_module": "@jupyter-widgets/base",
      "_view_module_version": "1.2.0",
      "_view_name": "LayoutView",
      "align_content": null,
      "align_items": null,
      "align_self": null,
      "border": null,
      "bottom": null,
      "display": null,
      "flex": null,
      "flex_flow": null,
      "grid_area": null,
      "grid_auto_columns": null,
      "grid_auto_flow": null,
      "grid_auto_rows": null,
      "grid_column": null,
      "grid_gap": null,
      "grid_row": null,
      "grid_template_areas": null,
      "grid_template_columns": null,
      "grid_template_rows": null,
      "height": null,
      "justify_content": null,
      "justify_items": null,
      "left": null,
      "margin": null,
      "max_height": null,
      "max_width": null,
      "min_height": null,
      "min_width": null,
      "object_fit": null,
      "object_position": null,
      "order": null,
      "overflow": null,
      "overflow_x": null,
      "overflow_y": null,
      "padding": null,
      "right": null,
      "top": null,
      "visibility": null,
      "width": null
     }
    },
    "04d00aa2c35b4abe950d78c73447e6b5": {
     "model_module": "@jupyter-widgets/controls",
     "model_module_version": "1.5.0",
     "model_name": "HTMLModel",
     "state": {
      "_dom_classes": [],
      "_model_module": "@jupyter-widgets/controls",
      "_model_module_version": "1.5.0",
      "_model_name": "HTMLModel",
      "_view_count": null,
      "_view_module": "@jupyter-widgets/controls",
      "_view_module_version": "1.5.0",
      "_view_name": "HTMLView",
      "description": "",
      "description_tooltip": null,
      "layout": "IPY_MODEL_9cd81823f6524e6a97f4e8a94f3a6a6c",
      "placeholder": "​",
      "style": "IPY_MODEL_a8ffc9f501f34efa8e80dd7748be195e",
      "value": " 210k/210k [00:00&lt;00:00, 10.7MB/s]"
     }
    },
    "0ec12a2e77054bf483d669351d57d7a1": {
     "model_module": "@jupyter-widgets/base",
     "model_module_version": "1.2.0",
     "model_name": "LayoutModel",
     "state": {
      "_model_module": "@jupyter-widgets/base",
      "_model_module_version": "1.2.0",
      "_model_name": "LayoutModel",
      "_view_count": null,
      "_view_module": "@jupyter-widgets/base",
      "_view_module_version": "1.2.0",
      "_view_name": "LayoutView",
      "align_content": null,
      "align_items": null,
      "align_self": null,
      "border": null,
      "bottom": null,
      "display": null,
      "flex": null,
      "flex_flow": null,
      "grid_area": null,
      "grid_auto_columns": null,
      "grid_auto_flow": null,
      "grid_auto_rows": null,
      "grid_column": null,
      "grid_gap": null,
      "grid_row": null,
      "grid_template_areas": null,
      "grid_template_columns": null,
      "grid_template_rows": null,
      "height": null,
      "justify_content": null,
      "justify_items": null,
      "left": null,
      "margin": null,
      "max_height": null,
      "max_width": null,
      "min_height": null,
      "min_width": null,
      "object_fit": null,
      "object_position": null,
      "order": null,
      "overflow": null,
      "overflow_x": null,
      "overflow_y": null,
      "padding": null,
      "right": null,
      "top": null,
      "visibility": null,
      "width": null
     }
    },
    "1409de62ee9a4ac582882e34c9f75c7c": {
     "model_module": "@jupyter-widgets/controls",
     "model_module_version": "1.5.0",
     "model_name": "FloatProgressModel",
     "state": {
      "_dom_classes": [],
      "_model_module": "@jupyter-widgets/controls",
      "_model_module_version": "1.5.0",
      "_model_name": "FloatProgressModel",
      "_view_count": null,
      "_view_module": "@jupyter-widgets/controls",
      "_view_module_version": "1.5.0",
      "_view_name": "ProgressView",
      "bar_style": "success",
      "description": "",
      "description_tooltip": null,
      "layout": "IPY_MODEL_e10927e8fc4e473681c37be65e35967e",
      "max": 209528,
      "min": 0,
      "orientation": "horizontal",
      "style": "IPY_MODEL_65138185e6be4ab4af99a46f7ac5f506",
      "value": 209528
     }
    },
    "1b6b397508464899b75dea59dd07aae3": {
     "model_module": "@jupyter-widgets/controls",
     "model_module_version": "1.5.0",
     "model_name": "HTMLModel",
     "state": {
      "_dom_classes": [],
      "_model_module": "@jupyter-widgets/controls",
      "_model_module_version": "1.5.0",
      "_model_name": "HTMLModel",
      "_view_count": null,
      "_view_module": "@jupyter-widgets/controls",
      "_view_module_version": "1.5.0",
      "_view_name": "HTMLView",
      "description": "",
      "description_tooltip": null,
      "layout": "IPY_MODEL_5ce9a695a67e40f8becba2c49d950da9",
      "placeholder": "​",
      "style": "IPY_MODEL_e3db173b5bf6478facc07842e498c0cc",
      "value": "config.json: 100%"
     }
    },
    "1be2dbb217404b13b16ad9b075874cb7": {
     "model_module": "@jupyter-widgets/controls",
     "model_module_version": "1.5.0",
     "model_name": "FloatProgressModel",
     "state": {
      "_dom_classes": [],
      "_model_module": "@jupyter-widgets/controls",
      "_model_module_version": "1.5.0",
      "_model_name": "FloatProgressModel",
      "_view_count": null,
      "_view_module": "@jupyter-widgets/controls",
      "_view_module_version": "1.5.0",
      "_view_name": "ProgressView",
      "bar_style": "success",
      "description": "",
      "description_tooltip": null,
      "layout": "IPY_MODEL_025e50ac18fe4b1f8ace718dae854228",
      "max": 43,
      "min": 0,
      "orientation": "horizontal",
      "style": "IPY_MODEL_5497d831b9f44d80a68d5a1454c0376a",
      "value": 43
     }
    },
    "1cb61521b3b54e73ae8fd4db4a1d08e8": {
     "model_module": "@jupyter-widgets/controls",
     "model_module_version": "1.5.0",
     "model_name": "FloatProgressModel",
     "state": {
      "_dom_classes": [],
      "_model_module": "@jupyter-widgets/controls",
      "_model_module_version": "1.5.0",
      "_model_name": "FloatProgressModel",
      "_view_count": null,
      "_view_module": "@jupyter-widgets/controls",
      "_view_module_version": "1.5.0",
      "_view_name": "ProgressView",
      "bar_style": "success",
      "description": "",
      "description_tooltip": null,
      "layout": "IPY_MODEL_ced8a7fd88c74d6b87c0442b117d5059",
      "max": 438235074,
      "min": 0,
      "orientation": "horizontal",
      "style": "IPY_MODEL_3cd5317348ca42c18f3c7203d51a0c0c",
      "value": 438235074
     }
    },
    "22f8c1c3ec504bed8fdfda9cc708f4d5": {
     "model_module": "@jupyter-widgets/controls",
     "model_module_version": "1.5.0",
     "model_name": "DescriptionStyleModel",
     "state": {
      "_model_module": "@jupyter-widgets/controls",
      "_model_module_version": "1.5.0",
      "_model_name": "DescriptionStyleModel",
      "_view_count": null,
      "_view_module": "@jupyter-widgets/base",
      "_view_module_version": "1.2.0",
      "_view_name": "StyleView",
      "description_width": ""
     }
    },
    "23aed9b23136450a8d9b23707d51ca6a": {
     "model_module": "@jupyter-widgets/base",
     "model_module_version": "1.2.0",
     "model_name": "LayoutModel",
     "state": {
      "_model_module": "@jupyter-widgets/base",
      "_model_module_version": "1.2.0",
      "_model_name": "LayoutModel",
      "_view_count": null,
      "_view_module": "@jupyter-widgets/base",
      "_view_module_version": "1.2.0",
      "_view_name": "LayoutView",
      "align_content": null,
      "align_items": null,
      "align_self": null,
      "border": null,
      "bottom": null,
      "display": null,
      "flex": null,
      "flex_flow": null,
      "grid_area": null,
      "grid_auto_columns": null,
      "grid_auto_flow": null,
      "grid_auto_rows": null,
      "grid_column": null,
      "grid_gap": null,
      "grid_row": null,
      "grid_template_areas": null,
      "grid_template_columns": null,
      "grid_template_rows": null,
      "height": null,
      "justify_content": null,
      "justify_items": null,
      "left": null,
      "margin": null,
      "max_height": null,
      "max_width": null,
      "min_height": null,
      "min_width": null,
      "object_fit": null,
      "object_position": null,
      "order": null,
      "overflow": null,
      "overflow_x": null,
      "overflow_y": null,
      "padding": null,
      "right": null,
      "top": null,
      "visibility": null,
      "width": null
     }
    },
    "293f647331a242638a7accca213b4d15": {
     "model_module": "@jupyter-widgets/controls",
     "model_module_version": "1.5.0",
     "model_name": "HBoxModel",
     "state": {
      "_dom_classes": [],
      "_model_module": "@jupyter-widgets/controls",
      "_model_module_version": "1.5.0",
      "_model_name": "HBoxModel",
      "_view_count": null,
      "_view_module": "@jupyter-widgets/controls",
      "_view_module_version": "1.5.0",
      "_view_name": "HBoxView",
      "box_style": "",
      "children": [
       "IPY_MODEL_343ce11496c54daf9e37f62260ea5190",
       "IPY_MODEL_1cb61521b3b54e73ae8fd4db4a1d08e8",
       "IPY_MODEL_4ad01902e63149a39d64cec0711fb55e"
      ],
      "layout": "IPY_MODEL_5544f15772c54c429fcf67ed08db0f7d"
     }
    },
    "2f14d6f708594a1988256e654df6c1c9": {
     "model_module": "@jupyter-widgets/base",
     "model_module_version": "1.2.0",
     "model_name": "LayoutModel",
     "state": {
      "_model_module": "@jupyter-widgets/base",
      "_model_module_version": "1.2.0",
      "_model_name": "LayoutModel",
      "_view_count": null,
      "_view_module": "@jupyter-widgets/base",
      "_view_module_version": "1.2.0",
      "_view_name": "LayoutView",
      "align_content": null,
      "align_items": null,
      "align_self": null,
      "border": null,
      "bottom": null,
      "display": null,
      "flex": null,
      "flex_flow": null,
      "grid_area": null,
      "grid_auto_columns": null,
      "grid_auto_flow": null,
      "grid_auto_rows": null,
      "grid_column": null,
      "grid_gap": null,
      "grid_row": null,
      "grid_template_areas": null,
      "grid_template_columns": null,
      "grid_template_rows": null,
      "height": null,
      "justify_content": null,
      "justify_items": null,
      "left": null,
      "margin": null,
      "max_height": null,
      "max_width": null,
      "min_height": null,
      "min_width": null,
      "object_fit": null,
      "object_position": null,
      "order": null,
      "overflow": null,
      "overflow_x": null,
      "overflow_y": null,
      "padding": null,
      "right": null,
      "top": null,
      "visibility": null,
      "width": null
     }
    },
    "32122b90d852419ba165f986487d295d": {
     "model_module": "@jupyter-widgets/base",
     "model_module_version": "1.2.0",
     "model_name": "LayoutModel",
     "state": {
      "_model_module": "@jupyter-widgets/base",
      "_model_module_version": "1.2.0",
      "_model_name": "LayoutModel",
      "_view_count": null,
      "_view_module": "@jupyter-widgets/base",
      "_view_module_version": "1.2.0",
      "_view_name": "LayoutView",
      "align_content": null,
      "align_items": null,
      "align_self": null,
      "border": null,
      "bottom": null,
      "display": null,
      "flex": null,
      "flex_flow": null,
      "grid_area": null,
      "grid_auto_columns": null,
      "grid_auto_flow": null,
      "grid_auto_rows": null,
      "grid_column": null,
      "grid_gap": null,
      "grid_row": null,
      "grid_template_areas": null,
      "grid_template_columns": null,
      "grid_template_rows": null,
      "height": null,
      "justify_content": null,
      "justify_items": null,
      "left": null,
      "margin": null,
      "max_height": null,
      "max_width": null,
      "min_height": null,
      "min_width": null,
      "object_fit": null,
      "object_position": null,
      "order": null,
      "overflow": null,
      "overflow_x": null,
      "overflow_y": null,
      "padding": null,
      "right": null,
      "top": null,
      "visibility": null,
      "width": null
     }
    },
    "343ce11496c54daf9e37f62260ea5190": {
     "model_module": "@jupyter-widgets/controls",
     "model_module_version": "1.5.0",
     "model_name": "HTMLModel",
     "state": {
      "_dom_classes": [],
      "_model_module": "@jupyter-widgets/controls",
      "_model_module_version": "1.5.0",
      "_model_name": "HTMLModel",
      "_view_count": null,
      "_view_module": "@jupyter-widgets/controls",
      "_view_module_version": "1.5.0",
      "_view_name": "HTMLView",
      "description": "",
      "description_tooltip": null,
      "layout": "IPY_MODEL_a4e60be03e9443ed886b3f2538b0072e",
      "placeholder": "​",
      "style": "IPY_MODEL_a57a2c74ef844c499ef4beabcf7b0b66",
      "value": "pytorch_model.bin: 100%"
     }
    },
    "34d4c9bc6a914c58984361889dd20a90": {
     "model_module": "@jupyter-widgets/base",
     "model_module_version": "1.2.0",
     "model_name": "LayoutModel",
     "state": {
      "_model_module": "@jupyter-widgets/base",
      "_model_module_version": "1.2.0",
      "_model_name": "LayoutModel",
      "_view_count": null,
      "_view_module": "@jupyter-widgets/base",
      "_view_module_version": "1.2.0",
      "_view_name": "LayoutView",
      "align_content": null,
      "align_items": null,
      "align_self": null,
      "border": null,
      "bottom": null,
      "display": null,
      "flex": null,
      "flex_flow": null,
      "grid_area": null,
      "grid_auto_columns": null,
      "grid_auto_flow": null,
      "grid_auto_rows": null,
      "grid_column": null,
      "grid_gap": null,
      "grid_row": null,
      "grid_template_areas": null,
      "grid_template_columns": null,
      "grid_template_rows": null,
      "height": null,
      "justify_content": null,
      "justify_items": null,
      "left": null,
      "margin": null,
      "max_height": null,
      "max_width": null,
      "min_height": null,
      "min_width": null,
      "object_fit": null,
      "object_position": null,
      "order": null,
      "overflow": null,
      "overflow_x": null,
      "overflow_y": null,
      "padding": null,
      "right": null,
      "top": null,
      "visibility": null,
      "width": null
     }
    },
    "351da4f516aa47f9a5395e804bfe1c76": {
     "model_module": "@jupyter-widgets/controls",
     "model_module_version": "1.5.0",
     "model_name": "HBoxModel",
     "state": {
      "_dom_classes": [],
      "_model_module": "@jupyter-widgets/controls",
      "_model_module_version": "1.5.0",
      "_model_name": "HBoxModel",
      "_view_count": null,
      "_view_module": "@jupyter-widgets/controls",
      "_view_module_version": "1.5.0",
      "_view_name": "HBoxView",
      "box_style": "",
      "children": [
       "IPY_MODEL_e4457fd19cd44e788df65a167f99f14d",
       "IPY_MODEL_92c333fc130c4ff989ea12fe0e1d8dcf",
       "IPY_MODEL_822e299017b5418b98472a37478fb5b7"
      ],
      "layout": "IPY_MODEL_32122b90d852419ba165f986487d295d"
     }
    },
    "3a78891c232446538d7e098c860de684": {
     "model_module": "@jupyter-widgets/base",
     "model_module_version": "1.2.0",
     "model_name": "LayoutModel",
     "state": {
      "_model_module": "@jupyter-widgets/base",
      "_model_module_version": "1.2.0",
      "_model_name": "LayoutModel",
      "_view_count": null,
      "_view_module": "@jupyter-widgets/base",
      "_view_module_version": "1.2.0",
      "_view_name": "LayoutView",
      "align_content": null,
      "align_items": null,
      "align_self": null,
      "border": null,
      "bottom": null,
      "display": null,
      "flex": null,
      "flex_flow": null,
      "grid_area": null,
      "grid_auto_columns": null,
      "grid_auto_flow": null,
      "grid_auto_rows": null,
      "grid_column": null,
      "grid_gap": null,
      "grid_row": null,
      "grid_template_areas": null,
      "grid_template_columns": null,
      "grid_template_rows": null,
      "height": null,
      "justify_content": null,
      "justify_items": null,
      "left": null,
      "margin": null,
      "max_height": null,
      "max_width": null,
      "min_height": null,
      "min_width": null,
      "object_fit": null,
      "object_position": null,
      "order": null,
      "overflow": null,
      "overflow_x": null,
      "overflow_y": null,
      "padding": null,
      "right": null,
      "top": null,
      "visibility": null,
      "width": null
     }
    },
    "3ae36eb98d9e4c8e8d1d636c9db11506": {
     "model_module": "@jupyter-widgets/controls",
     "model_module_version": "1.5.0",
     "model_name": "DescriptionStyleModel",
     "state": {
      "_model_module": "@jupyter-widgets/controls",
      "_model_module_version": "1.5.0",
      "_model_name": "DescriptionStyleModel",
      "_view_count": null,
      "_view_module": "@jupyter-widgets/base",
      "_view_module_version": "1.2.0",
      "_view_name": "StyleView",
      "description_width": ""
     }
    },
    "3cd5317348ca42c18f3c7203d51a0c0c": {
     "model_module": "@jupyter-widgets/controls",
     "model_module_version": "1.5.0",
     "model_name": "ProgressStyleModel",
     "state": {
      "_model_module": "@jupyter-widgets/controls",
      "_model_module_version": "1.5.0",
      "_model_name": "ProgressStyleModel",
      "_view_count": null,
      "_view_module": "@jupyter-widgets/base",
      "_view_module_version": "1.2.0",
      "_view_name": "StyleView",
      "bar_color": null,
      "description_width": ""
     }
    },
    "41df13450db7459389dcceaeb790b299": {
     "model_module": "@jupyter-widgets/base",
     "model_module_version": "1.2.0",
     "model_name": "LayoutModel",
     "state": {
      "_model_module": "@jupyter-widgets/base",
      "_model_module_version": "1.2.0",
      "_model_name": "LayoutModel",
      "_view_count": null,
      "_view_module": "@jupyter-widgets/base",
      "_view_module_version": "1.2.0",
      "_view_name": "LayoutView",
      "align_content": null,
      "align_items": null,
      "align_self": null,
      "border": null,
      "bottom": null,
      "display": null,
      "flex": null,
      "flex_flow": null,
      "grid_area": null,
      "grid_auto_columns": null,
      "grid_auto_flow": null,
      "grid_auto_rows": null,
      "grid_column": null,
      "grid_gap": null,
      "grid_row": null,
      "grid_template_areas": null,
      "grid_template_columns": null,
      "grid_template_rows": null,
      "height": null,
      "justify_content": null,
      "justify_items": null,
      "left": null,
      "margin": null,
      "max_height": null,
      "max_width": null,
      "min_height": null,
      "min_width": null,
      "object_fit": null,
      "object_position": null,
      "order": null,
      "overflow": null,
      "overflow_x": null,
      "overflow_y": null,
      "padding": null,
      "right": null,
      "top": null,
      "visibility": null,
      "width": null
     }
    },
    "432f31d2734d4e1aa2c07315fb57569d": {
     "model_module": "@jupyter-widgets/controls",
     "model_module_version": "1.5.0",
     "model_name": "DescriptionStyleModel",
     "state": {
      "_model_module": "@jupyter-widgets/controls",
      "_model_module_version": "1.5.0",
      "_model_name": "DescriptionStyleModel",
      "_view_count": null,
      "_view_module": "@jupyter-widgets/base",
      "_view_module_version": "1.2.0",
      "_view_name": "StyleView",
      "description_width": ""
     }
    },
    "47e354dbefc24992a8a44831675c8b1e": {
     "model_module": "@jupyter-widgets/controls",
     "model_module_version": "1.5.0",
     "model_name": "DescriptionStyleModel",
     "state": {
      "_model_module": "@jupyter-widgets/controls",
      "_model_module_version": "1.5.0",
      "_model_name": "DescriptionStyleModel",
      "_view_count": null,
      "_view_module": "@jupyter-widgets/base",
      "_view_module_version": "1.2.0",
      "_view_name": "StyleView",
      "description_width": ""
     }
    },
    "4ad01902e63149a39d64cec0711fb55e": {
     "model_module": "@jupyter-widgets/controls",
     "model_module_version": "1.5.0",
     "model_name": "HTMLModel",
     "state": {
      "_dom_classes": [],
      "_model_module": "@jupyter-widgets/controls",
      "_model_module_version": "1.5.0",
      "_model_name": "HTMLModel",
      "_view_count": null,
      "_view_module": "@jupyter-widgets/controls",
      "_view_module_version": "1.5.0",
      "_view_name": "HTMLView",
      "description": "",
      "description_tooltip": null,
      "layout": "IPY_MODEL_9a990210f2ed4283b8689456a1a51037",
      "placeholder": "​",
      "style": "IPY_MODEL_e93f61d091eb426dbe60dee7d5ad39d7",
      "value": " 438M/438M [00:01&lt;00:00, 247MB/s]"
     }
    },
    "4b5ad628dcfc46e2b0ba5cd5f65f65e5": {
     "model_module": "@jupyter-widgets/base",
     "model_module_version": "1.2.0",
     "model_name": "LayoutModel",
     "state": {
      "_model_module": "@jupyter-widgets/base",
      "_model_module_version": "1.2.0",
      "_model_name": "LayoutModel",
      "_view_count": null,
      "_view_module": "@jupyter-widgets/base",
      "_view_module_version": "1.2.0",
      "_view_name": "LayoutView",
      "align_content": null,
      "align_items": null,
      "align_self": null,
      "border": null,
      "bottom": null,
      "display": null,
      "flex": null,
      "flex_flow": null,
      "grid_area": null,
      "grid_auto_columns": null,
      "grid_auto_flow": null,
      "grid_auto_rows": null,
      "grid_column": null,
      "grid_gap": null,
      "grid_row": null,
      "grid_template_areas": null,
      "grid_template_columns": null,
      "grid_template_rows": null,
      "height": null,
      "justify_content": null,
      "justify_items": null,
      "left": null,
      "margin": null,
      "max_height": null,
      "max_width": null,
      "min_height": null,
      "min_width": null,
      "object_fit": null,
      "object_position": null,
      "order": null,
      "overflow": null,
      "overflow_x": null,
      "overflow_y": null,
      "padding": null,
      "right": null,
      "top": null,
      "visibility": null,
      "width": null
     }
    },
    "4fb4cac2fc154689a18e7324d360a114": {
     "model_module": "@jupyter-widgets/base",
     "model_module_version": "1.2.0",
     "model_name": "LayoutModel",
     "state": {
      "_model_module": "@jupyter-widgets/base",
      "_model_module_version": "1.2.0",
      "_model_name": "LayoutModel",
      "_view_count": null,
      "_view_module": "@jupyter-widgets/base",
      "_view_module_version": "1.2.0",
      "_view_name": "LayoutView",
      "align_content": null,
      "align_items": null,
      "align_self": null,
      "border": null,
      "bottom": null,
      "display": null,
      "flex": null,
      "flex_flow": null,
      "grid_area": null,
      "grid_auto_columns": null,
      "grid_auto_flow": null,
      "grid_auto_rows": null,
      "grid_column": null,
      "grid_gap": null,
      "grid_row": null,
      "grid_template_areas": null,
      "grid_template_columns": null,
      "grid_template_rows": null,
      "height": null,
      "justify_content": null,
      "justify_items": null,
      "left": null,
      "margin": null,
      "max_height": null,
      "max_width": null,
      "min_height": null,
      "min_width": null,
      "object_fit": null,
      "object_position": null,
      "order": null,
      "overflow": null,
      "overflow_x": null,
      "overflow_y": null,
      "padding": null,
      "right": null,
      "top": null,
      "visibility": null,
      "width": null
     }
    },
    "5183646265c14f7fa04526bece55ac13": {
     "model_module": "@jupyter-widgets/base",
     "model_module_version": "1.2.0",
     "model_name": "LayoutModel",
     "state": {
      "_model_module": "@jupyter-widgets/base",
      "_model_module_version": "1.2.0",
      "_model_name": "LayoutModel",
      "_view_count": null,
      "_view_module": "@jupyter-widgets/base",
      "_view_module_version": "1.2.0",
      "_view_name": "LayoutView",
      "align_content": null,
      "align_items": null,
      "align_self": null,
      "border": null,
      "bottom": null,
      "display": null,
      "flex": null,
      "flex_flow": null,
      "grid_area": null,
      "grid_auto_columns": null,
      "grid_auto_flow": null,
      "grid_auto_rows": null,
      "grid_column": null,
      "grid_gap": null,
      "grid_row": null,
      "grid_template_areas": null,
      "grid_template_columns": null,
      "grid_template_rows": null,
      "height": null,
      "justify_content": null,
      "justify_items": null,
      "left": null,
      "margin": null,
      "max_height": null,
      "max_width": null,
      "min_height": null,
      "min_width": null,
      "object_fit": null,
      "object_position": null,
      "order": null,
      "overflow": null,
      "overflow_x": null,
      "overflow_y": null,
      "padding": null,
      "right": null,
      "top": null,
      "visibility": null,
      "width": null
     }
    },
    "5497d831b9f44d80a68d5a1454c0376a": {
     "model_module": "@jupyter-widgets/controls",
     "model_module_version": "1.5.0",
     "model_name": "ProgressStyleModel",
     "state": {
      "_model_module": "@jupyter-widgets/controls",
      "_model_module_version": "1.5.0",
      "_model_name": "ProgressStyleModel",
      "_view_count": null,
      "_view_module": "@jupyter-widgets/base",
      "_view_module_version": "1.2.0",
      "_view_name": "StyleView",
      "bar_color": null,
      "description_width": ""
     }
    },
    "550c49720e964cd39fbf794904aa96b3": {
     "model_module": "@jupyter-widgets/controls",
     "model_module_version": "1.5.0",
     "model_name": "FloatProgressModel",
     "state": {
      "_dom_classes": [],
      "_model_module": "@jupyter-widgets/controls",
      "_model_module_version": "1.5.0",
      "_model_name": "FloatProgressModel",
      "_view_count": null,
      "_view_module": "@jupyter-widgets/controls",
      "_view_module_version": "1.5.0",
      "_view_name": "ProgressView",
      "bar_style": "success",
      "description": "",
      "description_tooltip": null,
      "layout": "IPY_MODEL_ffb08e69886248a3b162b5cdb861fb57",
      "max": 647,
      "min": 0,
      "orientation": "horizontal",
      "style": "IPY_MODEL_6c77643916f4427e811510d8f361d8ad",
      "value": 647
     }
    },
    "5544f15772c54c429fcf67ed08db0f7d": {
     "model_module": "@jupyter-widgets/base",
     "model_module_version": "1.2.0",
     "model_name": "LayoutModel",
     "state": {
      "_model_module": "@jupyter-widgets/base",
      "_model_module_version": "1.2.0",
      "_model_name": "LayoutModel",
      "_view_count": null,
      "_view_module": "@jupyter-widgets/base",
      "_view_module_version": "1.2.0",
      "_view_name": "LayoutView",
      "align_content": null,
      "align_items": null,
      "align_self": null,
      "border": null,
      "bottom": null,
      "display": null,
      "flex": null,
      "flex_flow": null,
      "grid_area": null,
      "grid_auto_columns": null,
      "grid_auto_flow": null,
      "grid_auto_rows": null,
      "grid_column": null,
      "grid_gap": null,
      "grid_row": null,
      "grid_template_areas": null,
      "grid_template_columns": null,
      "grid_template_rows": null,
      "height": null,
      "justify_content": null,
      "justify_items": null,
      "left": null,
      "margin": null,
      "max_height": null,
      "max_width": null,
      "min_height": null,
      "min_width": null,
      "object_fit": null,
      "object_position": null,
      "order": null,
      "overflow": null,
      "overflow_x": null,
      "overflow_y": null,
      "padding": null,
      "right": null,
      "top": null,
      "visibility": null,
      "width": null
     }
    },
    "56ae8f5b15a045c09ce00a2ee34b039d": {
     "model_module": "@jupyter-widgets/controls",
     "model_module_version": "1.5.0",
     "model_name": "HBoxModel",
     "state": {
      "_dom_classes": [],
      "_model_module": "@jupyter-widgets/controls",
      "_model_module_version": "1.5.0",
      "_model_name": "HBoxModel",
      "_view_count": null,
      "_view_module": "@jupyter-widgets/controls",
      "_view_module_version": "1.5.0",
      "_view_name": "HBoxView",
      "box_style": "",
      "children": [
       "IPY_MODEL_b893b8b26252411e88eae984fa87e54f",
       "IPY_MODEL_1409de62ee9a4ac582882e34c9f75c7c",
       "IPY_MODEL_04d00aa2c35b4abe950d78c73447e6b5"
      ],
      "layout": "IPY_MODEL_7ab2cba6e9334d1e8df958cbd8cf2852"
     }
    },
    "5ce9a695a67e40f8becba2c49d950da9": {
     "model_module": "@jupyter-widgets/base",
     "model_module_version": "1.2.0",
     "model_name": "LayoutModel",
     "state": {
      "_model_module": "@jupyter-widgets/base",
      "_model_module_version": "1.2.0",
      "_model_name": "LayoutModel",
      "_view_count": null,
      "_view_module": "@jupyter-widgets/base",
      "_view_module_version": "1.2.0",
      "_view_name": "LayoutView",
      "align_content": null,
      "align_items": null,
      "align_self": null,
      "border": null,
      "bottom": null,
      "display": null,
      "flex": null,
      "flex_flow": null,
      "grid_area": null,
      "grid_auto_columns": null,
      "grid_auto_flow": null,
      "grid_auto_rows": null,
      "grid_column": null,
      "grid_gap": null,
      "grid_row": null,
      "grid_template_areas": null,
      "grid_template_columns": null,
      "grid_template_rows": null,
      "height": null,
      "justify_content": null,
      "justify_items": null,
      "left": null,
      "margin": null,
      "max_height": null,
      "max_width": null,
      "min_height": null,
      "min_width": null,
      "object_fit": null,
      "object_position": null,
      "order": null,
      "overflow": null,
      "overflow_x": null,
      "overflow_y": null,
      "padding": null,
      "right": null,
      "top": null,
      "visibility": null,
      "width": null
     }
    },
    "65138185e6be4ab4af99a46f7ac5f506": {
     "model_module": "@jupyter-widgets/controls",
     "model_module_version": "1.5.0",
     "model_name": "ProgressStyleModel",
     "state": {
      "_model_module": "@jupyter-widgets/controls",
      "_model_module_version": "1.5.0",
      "_model_name": "ProgressStyleModel",
      "_view_count": null,
      "_view_module": "@jupyter-widgets/base",
      "_view_module_version": "1.2.0",
      "_view_name": "StyleView",
      "bar_color": null,
      "description_width": ""
     }
    },
    "6650e654f53c4f7c9cb011059d5441f6": {
     "model_module": "@jupyter-widgets/base",
     "model_module_version": "1.2.0",
     "model_name": "LayoutModel",
     "state": {
      "_model_module": "@jupyter-widgets/base",
      "_model_module_version": "1.2.0",
      "_model_name": "LayoutModel",
      "_view_count": null,
      "_view_module": "@jupyter-widgets/base",
      "_view_module_version": "1.2.0",
      "_view_name": "LayoutView",
      "align_content": null,
      "align_items": null,
      "align_self": null,
      "border": null,
      "bottom": null,
      "display": null,
      "flex": null,
      "flex_flow": null,
      "grid_area": null,
      "grid_auto_columns": null,
      "grid_auto_flow": null,
      "grid_auto_rows": null,
      "grid_column": null,
      "grid_gap": null,
      "grid_row": null,
      "grid_template_areas": null,
      "grid_template_columns": null,
      "grid_template_rows": null,
      "height": null,
      "justify_content": null,
      "justify_items": null,
      "left": null,
      "margin": null,
      "max_height": null,
      "max_width": null,
      "min_height": null,
      "min_width": null,
      "object_fit": null,
      "object_position": null,
      "order": null,
      "overflow": null,
      "overflow_x": null,
      "overflow_y": null,
      "padding": null,
      "right": null,
      "top": null,
      "visibility": null,
      "width": null
     }
    },
    "68d929aac50740c185affdaa97cd5613": {
     "model_module": "@jupyter-widgets/controls",
     "model_module_version": "1.5.0",
     "model_name": "DescriptionStyleModel",
     "state": {
      "_model_module": "@jupyter-widgets/controls",
      "_model_module_version": "1.5.0",
      "_model_name": "DescriptionStyleModel",
      "_view_count": null,
      "_view_module": "@jupyter-widgets/base",
      "_view_module_version": "1.2.0",
      "_view_name": "StyleView",
      "description_width": ""
     }
    },
    "6a62cca86efe416095f30753652d751e": {
     "model_module": "@jupyter-widgets/controls",
     "model_module_version": "1.5.0",
     "model_name": "HTMLModel",
     "state": {
      "_dom_classes": [],
      "_model_module": "@jupyter-widgets/controls",
      "_model_module_version": "1.5.0",
      "_model_name": "HTMLModel",
      "_view_count": null,
      "_view_module": "@jupyter-widgets/controls",
      "_view_module_version": "1.5.0",
      "_view_name": "HTMLView",
      "description": "",
      "description_tooltip": null,
      "layout": "IPY_MODEL_76fed6cc98734b1ea05abf070dca524f",
      "placeholder": "​",
      "style": "IPY_MODEL_47e354dbefc24992a8a44831675c8b1e",
      "value": " 43.0/43.0 [00:00&lt;00:00, 1.76kB/s]"
     }
    },
    "6c77643916f4427e811510d8f361d8ad": {
     "model_module": "@jupyter-widgets/controls",
     "model_module_version": "1.5.0",
     "model_name": "ProgressStyleModel",
     "state": {
      "_model_module": "@jupyter-widgets/controls",
      "_model_module_version": "1.5.0",
      "_model_name": "ProgressStyleModel",
      "_view_count": null,
      "_view_module": "@jupyter-widgets/base",
      "_view_module_version": "1.2.0",
      "_view_name": "StyleView",
      "bar_color": null,
      "description_width": ""
     }
    },
    "7017fcf1c4154ba9934ca7799019c126": {
     "model_module": "@jupyter-widgets/controls",
     "model_module_version": "1.5.0",
     "model_name": "HBoxModel",
     "state": {
      "_dom_classes": [],
      "_model_module": "@jupyter-widgets/controls",
      "_model_module_version": "1.5.0",
      "_model_name": "HBoxModel",
      "_view_count": null,
      "_view_module": "@jupyter-widgets/controls",
      "_view_module_version": "1.5.0",
      "_view_name": "HBoxView",
      "box_style": "",
      "children": [
       "IPY_MODEL_7f6380e76ba544b58a919a0e1e6ced71",
       "IPY_MODEL_1be2dbb217404b13b16ad9b075874cb7",
       "IPY_MODEL_6a62cca86efe416095f30753652d751e"
      ],
      "layout": "IPY_MODEL_34d4c9bc6a914c58984361889dd20a90"
     }
    },
    "736fe2b085894ffaa6f0d6abfbfcb993": {
     "model_module": "@jupyter-widgets/controls",
     "model_module_version": "1.5.0",
     "model_name": "HTMLModel",
     "state": {
      "_dom_classes": [],
      "_model_module": "@jupyter-widgets/controls",
      "_model_module_version": "1.5.0",
      "_model_name": "HTMLModel",
      "_view_count": null,
      "_view_module": "@jupyter-widgets/controls",
      "_view_module_version": "1.5.0",
      "_view_name": "HTMLView",
      "description": "",
      "description_tooltip": null,
      "layout": "IPY_MODEL_4b5ad628dcfc46e2b0ba5cd5f65f65e5",
      "placeholder": "​",
      "style": "IPY_MODEL_432f31d2734d4e1aa2c07315fb57569d",
      "value": " 112/112 [00:00&lt;00:00, 7.85kB/s]"
     }
    },
    "755a623f8467496f9becbe0b9e5eac30": {
     "model_module": "@jupyter-widgets/controls",
     "model_module_version": "1.5.0",
     "model_name": "DescriptionStyleModel",
     "state": {
      "_model_module": "@jupyter-widgets/controls",
      "_model_module_version": "1.5.0",
      "_model_name": "DescriptionStyleModel",
      "_view_count": null,
      "_view_module": "@jupyter-widgets/base",
      "_view_module_version": "1.2.0",
      "_view_name": "StyleView",
      "description_width": ""
     }
    },
    "76fed6cc98734b1ea05abf070dca524f": {
     "model_module": "@jupyter-widgets/base",
     "model_module_version": "1.2.0",
     "model_name": "LayoutModel",
     "state": {
      "_model_module": "@jupyter-widgets/base",
      "_model_module_version": "1.2.0",
      "_model_name": "LayoutModel",
      "_view_count": null,
      "_view_module": "@jupyter-widgets/base",
      "_view_module_version": "1.2.0",
      "_view_name": "LayoutView",
      "align_content": null,
      "align_items": null,
      "align_self": null,
      "border": null,
      "bottom": null,
      "display": null,
      "flex": null,
      "flex_flow": null,
      "grid_area": null,
      "grid_auto_columns": null,
      "grid_auto_flow": null,
      "grid_auto_rows": null,
      "grid_column": null,
      "grid_gap": null,
      "grid_row": null,
      "grid_template_areas": null,
      "grid_template_columns": null,
      "grid_template_rows": null,
      "height": null,
      "justify_content": null,
      "justify_items": null,
      "left": null,
      "margin": null,
      "max_height": null,
      "max_width": null,
      "min_height": null,
      "min_width": null,
      "object_fit": null,
      "object_position": null,
      "order": null,
      "overflow": null,
      "overflow_x": null,
      "overflow_y": null,
      "padding": null,
      "right": null,
      "top": null,
      "visibility": null,
      "width": null
     }
    },
    "7ab2cba6e9334d1e8df958cbd8cf2852": {
     "model_module": "@jupyter-widgets/base",
     "model_module_version": "1.2.0",
     "model_name": "LayoutModel",
     "state": {
      "_model_module": "@jupyter-widgets/base",
      "_model_module_version": "1.2.0",
      "_model_name": "LayoutModel",
      "_view_count": null,
      "_view_module": "@jupyter-widgets/base",
      "_view_module_version": "1.2.0",
      "_view_name": "LayoutView",
      "align_content": null,
      "align_items": null,
      "align_self": null,
      "border": null,
      "bottom": null,
      "display": null,
      "flex": null,
      "flex_flow": null,
      "grid_area": null,
      "grid_auto_columns": null,
      "grid_auto_flow": null,
      "grid_auto_rows": null,
      "grid_column": null,
      "grid_gap": null,
      "grid_row": null,
      "grid_template_areas": null,
      "grid_template_columns": null,
      "grid_template_rows": null,
      "height": null,
      "justify_content": null,
      "justify_items": null,
      "left": null,
      "margin": null,
      "max_height": null,
      "max_width": null,
      "min_height": null,
      "min_width": null,
      "object_fit": null,
      "object_position": null,
      "order": null,
      "overflow": null,
      "overflow_x": null,
      "overflow_y": null,
      "padding": null,
      "right": null,
      "top": null,
      "visibility": null,
      "width": null
     }
    },
    "7e52227e6ce5450f9c1a1d31bd7f93a5": {
     "model_module": "@jupyter-widgets/controls",
     "model_module_version": "1.5.0",
     "model_name": "DescriptionStyleModel",
     "state": {
      "_model_module": "@jupyter-widgets/controls",
      "_model_module_version": "1.5.0",
      "_model_name": "DescriptionStyleModel",
      "_view_count": null,
      "_view_module": "@jupyter-widgets/base",
      "_view_module_version": "1.2.0",
      "_view_name": "StyleView",
      "description_width": ""
     }
    },
    "7f6380e76ba544b58a919a0e1e6ced71": {
     "model_module": "@jupyter-widgets/controls",
     "model_module_version": "1.5.0",
     "model_name": "HTMLModel",
     "state": {
      "_dom_classes": [],
      "_model_module": "@jupyter-widgets/controls",
      "_model_module_version": "1.5.0",
      "_model_name": "HTMLModel",
      "_view_count": null,
      "_view_module": "@jupyter-widgets/controls",
      "_view_module_version": "1.5.0",
      "_view_name": "HTMLView",
      "description": "",
      "description_tooltip": null,
      "layout": "IPY_MODEL_6650e654f53c4f7c9cb011059d5441f6",
      "placeholder": "​",
      "style": "IPY_MODEL_755a623f8467496f9becbe0b9e5eac30",
      "value": "tokenizer_config.json: 100%"
     }
    },
    "822e299017b5418b98472a37478fb5b7": {
     "model_module": "@jupyter-widgets/controls",
     "model_module_version": "1.5.0",
     "model_name": "HTMLModel",
     "state": {
      "_dom_classes": [],
      "_model_module": "@jupyter-widgets/controls",
      "_model_module_version": "1.5.0",
      "_model_name": "HTMLModel",
      "_view_count": null,
      "_view_module": "@jupyter-widgets/controls",
      "_view_module_version": "1.5.0",
      "_view_name": "HTMLView",
      "description": "",
      "description_tooltip": null,
      "layout": "IPY_MODEL_a73a197fe7a148d28901482d6e805cf9",
      "placeholder": "​",
      "style": "IPY_MODEL_22f8c1c3ec504bed8fdfda9cc708f4d5",
      "value": " 2.00/2.00 [00:00&lt;00:00, 161B/s]"
     }
    },
    "8cb1c668fe104fe6b0b6079d89413723": {
     "model_module": "@jupyter-widgets/controls",
     "model_module_version": "1.5.0",
     "model_name": "ProgressStyleModel",
     "state": {
      "_model_module": "@jupyter-widgets/controls",
      "_model_module_version": "1.5.0",
      "_model_name": "ProgressStyleModel",
      "_view_count": null,
      "_view_module": "@jupyter-widgets/base",
      "_view_module_version": "1.2.0",
      "_view_name": "StyleView",
      "bar_color": null,
      "description_width": ""
     }
    },
    "92c333fc130c4ff989ea12fe0e1d8dcf": {
     "model_module": "@jupyter-widgets/controls",
     "model_module_version": "1.5.0",
     "model_name": "FloatProgressModel",
     "state": {
      "_dom_classes": [],
      "_model_module": "@jupyter-widgets/controls",
      "_model_module_version": "1.5.0",
      "_model_name": "FloatProgressModel",
      "_view_count": null,
      "_view_module": "@jupyter-widgets/controls",
      "_view_module_version": "1.5.0",
      "_view_name": "ProgressView",
      "bar_style": "success",
      "description": "",
      "description_tooltip": null,
      "layout": "IPY_MODEL_3a78891c232446538d7e098c860de684",
      "max": 2,
      "min": 0,
      "orientation": "horizontal",
      "style": "IPY_MODEL_8cb1c668fe104fe6b0b6079d89413723",
      "value": 2
     }
    },
    "9a990210f2ed4283b8689456a1a51037": {
     "model_module": "@jupyter-widgets/base",
     "model_module_version": "1.2.0",
     "model_name": "LayoutModel",
     "state": {
      "_model_module": "@jupyter-widgets/base",
      "_model_module_version": "1.2.0",
      "_model_name": "LayoutModel",
      "_view_count": null,
      "_view_module": "@jupyter-widgets/base",
      "_view_module_version": "1.2.0",
      "_view_name": "LayoutView",
      "align_content": null,
      "align_items": null,
      "align_self": null,
      "border": null,
      "bottom": null,
      "display": null,
      "flex": null,
      "flex_flow": null,
      "grid_area": null,
      "grid_auto_columns": null,
      "grid_auto_flow": null,
      "grid_auto_rows": null,
      "grid_column": null,
      "grid_gap": null,
      "grid_row": null,
      "grid_template_areas": null,
      "grid_template_columns": null,
      "grid_template_rows": null,
      "height": null,
      "justify_content": null,
      "justify_items": null,
      "left": null,
      "margin": null,
      "max_height": null,
      "max_width": null,
      "min_height": null,
      "min_width": null,
      "object_fit": null,
      "object_position": null,
      "order": null,
      "overflow": null,
      "overflow_x": null,
      "overflow_y": null,
      "padding": null,
      "right": null,
      "top": null,
      "visibility": null,
      "width": null
     }
    },
    "9b904e0ade494420ad02c9ce32755837": {
     "model_module": "@jupyter-widgets/controls",
     "model_module_version": "1.5.0",
     "model_name": "FloatProgressModel",
     "state": {
      "_dom_classes": [],
      "_model_module": "@jupyter-widgets/controls",
      "_model_module_version": "1.5.0",
      "_model_name": "FloatProgressModel",
      "_view_count": null,
      "_view_module": "@jupyter-widgets/controls",
      "_view_module_version": "1.5.0",
      "_view_name": "ProgressView",
      "bar_style": "success",
      "description": "",
      "description_tooltip": null,
      "layout": "IPY_MODEL_4fb4cac2fc154689a18e7324d360a114",
      "max": 112,
      "min": 0,
      "orientation": "horizontal",
      "style": "IPY_MODEL_ed0fd4298c1a4a6eb85f06dbdf032f2e",
      "value": 112
     }
    },
    "9cd81823f6524e6a97f4e8a94f3a6a6c": {
     "model_module": "@jupyter-widgets/base",
     "model_module_version": "1.2.0",
     "model_name": "LayoutModel",
     "state": {
      "_model_module": "@jupyter-widgets/base",
      "_model_module_version": "1.2.0",
      "_model_name": "LayoutModel",
      "_view_count": null,
      "_view_module": "@jupyter-widgets/base",
      "_view_module_version": "1.2.0",
      "_view_name": "LayoutView",
      "align_content": null,
      "align_items": null,
      "align_self": null,
      "border": null,
      "bottom": null,
      "display": null,
      "flex": null,
      "flex_flow": null,
      "grid_area": null,
      "grid_auto_columns": null,
      "grid_auto_flow": null,
      "grid_auto_rows": null,
      "grid_column": null,
      "grid_gap": null,
      "grid_row": null,
      "grid_template_areas": null,
      "grid_template_columns": null,
      "grid_template_rows": null,
      "height": null,
      "justify_content": null,
      "justify_items": null,
      "left": null,
      "margin": null,
      "max_height": null,
      "max_width": null,
      "min_height": null,
      "min_width": null,
      "object_fit": null,
      "object_position": null,
      "order": null,
      "overflow": null,
      "overflow_x": null,
      "overflow_y": null,
      "padding": null,
      "right": null,
      "top": null,
      "visibility": null,
      "width": null
     }
    },
    "a4e60be03e9443ed886b3f2538b0072e": {
     "model_module": "@jupyter-widgets/base",
     "model_module_version": "1.2.0",
     "model_name": "LayoutModel",
     "state": {
      "_model_module": "@jupyter-widgets/base",
      "_model_module_version": "1.2.0",
      "_model_name": "LayoutModel",
      "_view_count": null,
      "_view_module": "@jupyter-widgets/base",
      "_view_module_version": "1.2.0",
      "_view_name": "LayoutView",
      "align_content": null,
      "align_items": null,
      "align_self": null,
      "border": null,
      "bottom": null,
      "display": null,
      "flex": null,
      "flex_flow": null,
      "grid_area": null,
      "grid_auto_columns": null,
      "grid_auto_flow": null,
      "grid_auto_rows": null,
      "grid_column": null,
      "grid_gap": null,
      "grid_row": null,
      "grid_template_areas": null,
      "grid_template_columns": null,
      "grid_template_rows": null,
      "height": null,
      "justify_content": null,
      "justify_items": null,
      "left": null,
      "margin": null,
      "max_height": null,
      "max_width": null,
      "min_height": null,
      "min_width": null,
      "object_fit": null,
      "object_position": null,
      "order": null,
      "overflow": null,
      "overflow_x": null,
      "overflow_y": null,
      "padding": null,
      "right": null,
      "top": null,
      "visibility": null,
      "width": null
     }
    },
    "a57a2c74ef844c499ef4beabcf7b0b66": {
     "model_module": "@jupyter-widgets/controls",
     "model_module_version": "1.5.0",
     "model_name": "DescriptionStyleModel",
     "state": {
      "_model_module": "@jupyter-widgets/controls",
      "_model_module_version": "1.5.0",
      "_model_name": "DescriptionStyleModel",
      "_view_count": null,
      "_view_module": "@jupyter-widgets/base",
      "_view_module_version": "1.2.0",
      "_view_name": "StyleView",
      "description_width": ""
     }
    },
    "a73a197fe7a148d28901482d6e805cf9": {
     "model_module": "@jupyter-widgets/base",
     "model_module_version": "1.2.0",
     "model_name": "LayoutModel",
     "state": {
      "_model_module": "@jupyter-widgets/base",
      "_model_module_version": "1.2.0",
      "_model_name": "LayoutModel",
      "_view_count": null,
      "_view_module": "@jupyter-widgets/base",
      "_view_module_version": "1.2.0",
      "_view_name": "LayoutView",
      "align_content": null,
      "align_items": null,
      "align_self": null,
      "border": null,
      "bottom": null,
      "display": null,
      "flex": null,
      "flex_flow": null,
      "grid_area": null,
      "grid_auto_columns": null,
      "grid_auto_flow": null,
      "grid_auto_rows": null,
      "grid_column": null,
      "grid_gap": null,
      "grid_row": null,
      "grid_template_areas": null,
      "grid_template_columns": null,
      "grid_template_rows": null,
      "height": null,
      "justify_content": null,
      "justify_items": null,
      "left": null,
      "margin": null,
      "max_height": null,
      "max_width": null,
      "min_height": null,
      "min_width": null,
      "object_fit": null,
      "object_position": null,
      "order": null,
      "overflow": null,
      "overflow_x": null,
      "overflow_y": null,
      "padding": null,
      "right": null,
      "top": null,
      "visibility": null,
      "width": null
     }
    },
    "a8ffc9f501f34efa8e80dd7748be195e": {
     "model_module": "@jupyter-widgets/controls",
     "model_module_version": "1.5.0",
     "model_name": "DescriptionStyleModel",
     "state": {
      "_model_module": "@jupyter-widgets/controls",
      "_model_module_version": "1.5.0",
      "_model_name": "DescriptionStyleModel",
      "_view_count": null,
      "_view_module": "@jupyter-widgets/base",
      "_view_module_version": "1.2.0",
      "_view_name": "StyleView",
      "description_width": ""
     }
    },
    "b8629f37c40945dda581e9329dff6b20": {
     "model_module": "@jupyter-widgets/controls",
     "model_module_version": "1.5.0",
     "model_name": "HBoxModel",
     "state": {
      "_dom_classes": [],
      "_model_module": "@jupyter-widgets/controls",
      "_model_module_version": "1.5.0",
      "_model_name": "HBoxModel",
      "_view_count": null,
      "_view_module": "@jupyter-widgets/controls",
      "_view_module_version": "1.5.0",
      "_view_name": "HBoxView",
      "box_style": "",
      "children": [
       "IPY_MODEL_1b6b397508464899b75dea59dd07aae3",
       "IPY_MODEL_550c49720e964cd39fbf794904aa96b3",
       "IPY_MODEL_d61af13a2b024bf6b7e3705a0a599596"
      ],
      "layout": "IPY_MODEL_2f14d6f708594a1988256e654df6c1c9"
     }
    },
    "b893b8b26252411e88eae984fa87e54f": {
     "model_module": "@jupyter-widgets/controls",
     "model_module_version": "1.5.0",
     "model_name": "HTMLModel",
     "state": {
      "_dom_classes": [],
      "_model_module": "@jupyter-widgets/controls",
      "_model_module_version": "1.5.0",
      "_model_name": "HTMLModel",
      "_view_count": null,
      "_view_module": "@jupyter-widgets/controls",
      "_view_module_version": "1.5.0",
      "_view_name": "HTMLView",
      "description": "",
      "description_tooltip": null,
      "layout": "IPY_MODEL_e6a4fe4593ae4ffdb8832d293539d348",
      "placeholder": "​",
      "style": "IPY_MODEL_68d929aac50740c185affdaa97cd5613",
      "value": "vocab.txt: 100%"
     }
    },
    "b955008efe794c61959ad2c355dbc113": {
     "model_module": "@jupyter-widgets/controls",
     "model_module_version": "1.5.0",
     "model_name": "HBoxModel",
     "state": {
      "_dom_classes": [],
      "_model_module": "@jupyter-widgets/controls",
      "_model_module_version": "1.5.0",
      "_model_name": "HBoxModel",
      "_view_count": null,
      "_view_module": "@jupyter-widgets/controls",
      "_view_module_version": "1.5.0",
      "_view_name": "HBoxView",
      "box_style": "",
      "children": [
       "IPY_MODEL_f36e87eabc21404c9e4288e37d50f953",
       "IPY_MODEL_9b904e0ade494420ad02c9ce32755837",
       "IPY_MODEL_736fe2b085894ffaa6f0d6abfbfcb993"
      ],
      "layout": "IPY_MODEL_5183646265c14f7fa04526bece55ac13"
     }
    },
    "ced8a7fd88c74d6b87c0442b117d5059": {
     "model_module": "@jupyter-widgets/base",
     "model_module_version": "1.2.0",
     "model_name": "LayoutModel",
     "state": {
      "_model_module": "@jupyter-widgets/base",
      "_model_module_version": "1.2.0",
      "_model_name": "LayoutModel",
      "_view_count": null,
      "_view_module": "@jupyter-widgets/base",
      "_view_module_version": "1.2.0",
      "_view_name": "LayoutView",
      "align_content": null,
      "align_items": null,
      "align_self": null,
      "border": null,
      "bottom": null,
      "display": null,
      "flex": null,
      "flex_flow": null,
      "grid_area": null,
      "grid_auto_columns": null,
      "grid_auto_flow": null,
      "grid_auto_rows": null,
      "grid_column": null,
      "grid_gap": null,
      "grid_row": null,
      "grid_template_areas": null,
      "grid_template_columns": null,
      "grid_template_rows": null,
      "height": null,
      "justify_content": null,
      "justify_items": null,
      "left": null,
      "margin": null,
      "max_height": null,
      "max_width": null,
      "min_height": null,
      "min_width": null,
      "object_fit": null,
      "object_position": null,
      "order": null,
      "overflow": null,
      "overflow_x": null,
      "overflow_y": null,
      "padding": null,
      "right": null,
      "top": null,
      "visibility": null,
      "width": null
     }
    },
    "d61af13a2b024bf6b7e3705a0a599596": {
     "model_module": "@jupyter-widgets/controls",
     "model_module_version": "1.5.0",
     "model_name": "HTMLModel",
     "state": {
      "_dom_classes": [],
      "_model_module": "@jupyter-widgets/controls",
      "_model_module_version": "1.5.0",
      "_model_name": "HTMLModel",
      "_view_count": null,
      "_view_module": "@jupyter-widgets/controls",
      "_view_module_version": "1.5.0",
      "_view_name": "HTMLView",
      "description": "",
      "description_tooltip": null,
      "layout": "IPY_MODEL_41df13450db7459389dcceaeb790b299",
      "placeholder": "​",
      "style": "IPY_MODEL_f5a8c833dd234d788f062079cc52d115",
      "value": " 647/647 [00:00&lt;00:00, 35.9kB/s]"
     }
    },
    "e10927e8fc4e473681c37be65e35967e": {
     "model_module": "@jupyter-widgets/base",
     "model_module_version": "1.2.0",
     "model_name": "LayoutModel",
     "state": {
      "_model_module": "@jupyter-widgets/base",
      "_model_module_version": "1.2.0",
      "_model_name": "LayoutModel",
      "_view_count": null,
      "_view_module": "@jupyter-widgets/base",
      "_view_module_version": "1.2.0",
      "_view_name": "LayoutView",
      "align_content": null,
      "align_items": null,
      "align_self": null,
      "border": null,
      "bottom": null,
      "display": null,
      "flex": null,
      "flex_flow": null,
      "grid_area": null,
      "grid_auto_columns": null,
      "grid_auto_flow": null,
      "grid_auto_rows": null,
      "grid_column": null,
      "grid_gap": null,
      "grid_row": null,
      "grid_template_areas": null,
      "grid_template_columns": null,
      "grid_template_rows": null,
      "height": null,
      "justify_content": null,
      "justify_items": null,
      "left": null,
      "margin": null,
      "max_height": null,
      "max_width": null,
      "min_height": null,
      "min_width": null,
      "object_fit": null,
      "object_position": null,
      "order": null,
      "overflow": null,
      "overflow_x": null,
      "overflow_y": null,
      "padding": null,
      "right": null,
      "top": null,
      "visibility": null,
      "width": null
     }
    },
    "e3db173b5bf6478facc07842e498c0cc": {
     "model_module": "@jupyter-widgets/controls",
     "model_module_version": "1.5.0",
     "model_name": "DescriptionStyleModel",
     "state": {
      "_model_module": "@jupyter-widgets/controls",
      "_model_module_version": "1.5.0",
      "_model_name": "DescriptionStyleModel",
      "_view_count": null,
      "_view_module": "@jupyter-widgets/base",
      "_view_module_version": "1.2.0",
      "_view_name": "StyleView",
      "description_width": ""
     }
    },
    "e4457fd19cd44e788df65a167f99f14d": {
     "model_module": "@jupyter-widgets/controls",
     "model_module_version": "1.5.0",
     "model_name": "HTMLModel",
     "state": {
      "_dom_classes": [],
      "_model_module": "@jupyter-widgets/controls",
      "_model_module_version": "1.5.0",
      "_model_name": "HTMLModel",
      "_view_count": null,
      "_view_module": "@jupyter-widgets/controls",
      "_view_module_version": "1.5.0",
      "_view_name": "HTMLView",
      "description": "",
      "description_tooltip": null,
      "layout": "IPY_MODEL_23aed9b23136450a8d9b23707d51ca6a",
      "placeholder": "​",
      "style": "IPY_MODEL_7e52227e6ce5450f9c1a1d31bd7f93a5",
      "value": "added_tokens.json: 100%"
     }
    },
    "e6a4fe4593ae4ffdb8832d293539d348": {
     "model_module": "@jupyter-widgets/base",
     "model_module_version": "1.2.0",
     "model_name": "LayoutModel",
     "state": {
      "_model_module": "@jupyter-widgets/base",
      "_model_module_version": "1.2.0",
      "_model_name": "LayoutModel",
      "_view_count": null,
      "_view_module": "@jupyter-widgets/base",
      "_view_module_version": "1.2.0",
      "_view_name": "LayoutView",
      "align_content": null,
      "align_items": null,
      "align_self": null,
      "border": null,
      "bottom": null,
      "display": null,
      "flex": null,
      "flex_flow": null,
      "grid_area": null,
      "grid_auto_columns": null,
      "grid_auto_flow": null,
      "grid_auto_rows": null,
      "grid_column": null,
      "grid_gap": null,
      "grid_row": null,
      "grid_template_areas": null,
      "grid_template_columns": null,
      "grid_template_rows": null,
      "height": null,
      "justify_content": null,
      "justify_items": null,
      "left": null,
      "margin": null,
      "max_height": null,
      "max_width": null,
      "min_height": null,
      "min_width": null,
      "object_fit": null,
      "object_position": null,
      "order": null,
      "overflow": null,
      "overflow_x": null,
      "overflow_y": null,
      "padding": null,
      "right": null,
      "top": null,
      "visibility": null,
      "width": null
     }
    },
    "e93f61d091eb426dbe60dee7d5ad39d7": {
     "model_module": "@jupyter-widgets/controls",
     "model_module_version": "1.5.0",
     "model_name": "DescriptionStyleModel",
     "state": {
      "_model_module": "@jupyter-widgets/controls",
      "_model_module_version": "1.5.0",
      "_model_name": "DescriptionStyleModel",
      "_view_count": null,
      "_view_module": "@jupyter-widgets/base",
      "_view_module_version": "1.2.0",
      "_view_name": "StyleView",
      "description_width": ""
     }
    },
    "ed0fd4298c1a4a6eb85f06dbdf032f2e": {
     "model_module": "@jupyter-widgets/controls",
     "model_module_version": "1.5.0",
     "model_name": "ProgressStyleModel",
     "state": {
      "_model_module": "@jupyter-widgets/controls",
      "_model_module_version": "1.5.0",
      "_model_name": "ProgressStyleModel",
      "_view_count": null,
      "_view_module": "@jupyter-widgets/base",
      "_view_module_version": "1.2.0",
      "_view_name": "StyleView",
      "bar_color": null,
      "description_width": ""
     }
    },
    "f36e87eabc21404c9e4288e37d50f953": {
     "model_module": "@jupyter-widgets/controls",
     "model_module_version": "1.5.0",
     "model_name": "HTMLModel",
     "state": {
      "_dom_classes": [],
      "_model_module": "@jupyter-widgets/controls",
      "_model_module_version": "1.5.0",
      "_model_name": "HTMLModel",
      "_view_count": null,
      "_view_module": "@jupyter-widgets/controls",
      "_view_module_version": "1.5.0",
      "_view_name": "HTMLView",
      "description": "",
      "description_tooltip": null,
      "layout": "IPY_MODEL_0ec12a2e77054bf483d669351d57d7a1",
      "placeholder": "​",
      "style": "IPY_MODEL_3ae36eb98d9e4c8e8d1d636c9db11506",
      "value": "special_tokens_map.json: 100%"
     }
    },
    "f5a8c833dd234d788f062079cc52d115": {
     "model_module": "@jupyter-widgets/controls",
     "model_module_version": "1.5.0",
     "model_name": "DescriptionStyleModel",
     "state": {
      "_model_module": "@jupyter-widgets/controls",
      "_model_module_version": "1.5.0",
      "_model_name": "DescriptionStyleModel",
      "_view_count": null,
      "_view_module": "@jupyter-widgets/base",
      "_view_module_version": "1.2.0",
      "_view_name": "StyleView",
      "description_width": ""
     }
    },
    "ffb08e69886248a3b162b5cdb861fb57": {
     "model_module": "@jupyter-widgets/base",
     "model_module_version": "1.2.0",
     "model_name": "LayoutModel",
     "state": {
      "_model_module": "@jupyter-widgets/base",
      "_model_module_version": "1.2.0",
      "_model_name": "LayoutModel",
      "_view_count": null,
      "_view_module": "@jupyter-widgets/base",
      "_view_module_version": "1.2.0",
      "_view_name": "LayoutView",
      "align_content": null,
      "align_items": null,
      "align_self": null,
      "border": null,
      "bottom": null,
      "display": null,
      "flex": null,
      "flex_flow": null,
      "grid_area": null,
      "grid_auto_columns": null,
      "grid_auto_flow": null,
      "grid_auto_rows": null,
      "grid_column": null,
      "grid_gap": null,
      "grid_row": null,
      "grid_template_areas": null,
      "grid_template_columns": null,
      "grid_template_rows": null,
      "height": null,
      "justify_content": null,
      "justify_items": null,
      "left": null,
      "margin": null,
      "max_height": null,
      "max_width": null,
      "min_height": null,
      "min_width": null,
      "object_fit": null,
      "object_position": null,
      "order": null,
      "overflow": null,
      "overflow_x": null,
      "overflow_y": null,
      "padding": null,
      "right": null,
      "top": null,
      "visibility": null,
      "width": null
     }
    }
   }
  }
 },
 "nbformat": 4,
 "nbformat_minor": 4
}

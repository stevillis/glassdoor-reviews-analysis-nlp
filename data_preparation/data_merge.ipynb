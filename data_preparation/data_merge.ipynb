{
 "cells": [
  {
   "cell_type": "markdown",
   "metadata": {},
   "source": [
    "# Merge Annotated Data"
   ]
  },
  {
   "cell_type": "code",
   "execution_count": 1,
   "metadata": {},
   "outputs": [],
   "source": [
    "import logging\n",
    "import pandas as pd"
   ]
  },
  {
   "cell_type": "code",
   "execution_count": 2,
   "metadata": {},
   "outputs": [],
   "source": [
    "logging.basicConfig(\n",
    "    level=logging.INFO,\n",
    "    format=\"%(asctime)s [%(levelname)s] %(message)s\",\n",
    "    handlers=[logging.FileHandler(\"data_merge.log\"), logging.StreamHandler()],\n",
    ")"
   ]
  },
  {
   "cell_type": "code",
   "execution_count": 3,
   "metadata": {},
   "outputs": [],
   "source": [
    "glassdoor_reviews_df = pd.read_csv(\"./glassdoor_reviews.csv\")"
   ]
  },
  {
   "cell_type": "code",
   "execution_count": 4,
   "metadata": {},
   "outputs": [
    {
     "data": {
      "text/html": [
       "<div>\n",
       "<style scoped>\n",
       "    .dataframe tbody tr th:only-of-type {\n",
       "        vertical-align: middle;\n",
       "    }\n",
       "\n",
       "    .dataframe tbody tr th {\n",
       "        vertical-align: top;\n",
       "    }\n",
       "\n",
       "    .dataframe thead th {\n",
       "        text-align: right;\n",
       "    }\n",
       "</style>\n",
       "<table border=\"1\" class=\"dataframe\">\n",
       "  <thead>\n",
       "    <tr style=\"text-align: right;\">\n",
       "      <th></th>\n",
       "      <th>review_id</th>\n",
       "      <th>company</th>\n",
       "      <th>employee_role</th>\n",
       "      <th>employee_detail</th>\n",
       "      <th>review_text</th>\n",
       "      <th>review_date</th>\n",
       "      <th>star_rating</th>\n",
       "      <th>sentiment</th>\n",
       "    </tr>\n",
       "  </thead>\n",
       "  <tbody>\n",
       "    <tr>\n",
       "      <th>0</th>\n",
       "      <td>82630669</td>\n",
       "      <td>Tecnomapas</td>\n",
       "      <td>Recepcionista</td>\n",
       "      <td>Ex-funcionário(a), mais de um ano</td>\n",
       "      <td>Companheirismo entre os colegas, oportunidade ...</td>\n",
       "      <td>15 de dez. de 2023</td>\n",
       "      <td>5.0</td>\n",
       "      <td>1</td>\n",
       "    </tr>\n",
       "    <tr>\n",
       "      <th>1</th>\n",
       "      <td>82630669</td>\n",
       "      <td>Tecnomapas</td>\n",
       "      <td>Recepcionista</td>\n",
       "      <td>Ex-funcionário(a), mais de um ano</td>\n",
       "      <td>Não tive nenhum ponto negativo</td>\n",
       "      <td>15 de dez. de 2023</td>\n",
       "      <td>5.0</td>\n",
       "      <td>-1</td>\n",
       "    </tr>\n",
       "    <tr>\n",
       "      <th>2</th>\n",
       "      <td>74420027</td>\n",
       "      <td>Tecnomapas</td>\n",
       "      <td>Analista Desenvolvedor</td>\n",
       "      <td>Ex-freelancer</td>\n",
       "      <td>Equipe bem prestativa e ótima de se trabalhar.</td>\n",
       "      <td>11 de mar. de 2023</td>\n",
       "      <td>4.0</td>\n",
       "      <td>1</td>\n",
       "    </tr>\n",
       "    <tr>\n",
       "      <th>3</th>\n",
       "      <td>74420027</td>\n",
       "      <td>Tecnomapas</td>\n",
       "      <td>Analista Desenvolvedor</td>\n",
       "      <td>Ex-freelancer</td>\n",
       "      <td>Modo home office ainda tem que ser melhorado.</td>\n",
       "      <td>11 de mar. de 2023</td>\n",
       "      <td>4.0</td>\n",
       "      <td>-1</td>\n",
       "    </tr>\n",
       "    <tr>\n",
       "      <th>4</th>\n",
       "      <td>60212043</td>\n",
       "      <td>Tecnomapas</td>\n",
       "      <td>Funcionário confidencial</td>\n",
       "      <td>Ex-funcionário(a), menos de um ano</td>\n",
       "      <td>Única vantagem era o trabalho ser home office</td>\n",
       "      <td>24 de fev. de 2022</td>\n",
       "      <td>1.0</td>\n",
       "      <td>1</td>\n",
       "    </tr>\n",
       "  </tbody>\n",
       "</table>\n",
       "</div>"
      ],
      "text/plain": [
       "   review_id     company             employee_role  \\\n",
       "0   82630669  Tecnomapas             Recepcionista   \n",
       "1   82630669  Tecnomapas             Recepcionista   \n",
       "2   74420027  Tecnomapas    Analista Desenvolvedor   \n",
       "3   74420027  Tecnomapas    Analista Desenvolvedor   \n",
       "4   60212043  Tecnomapas  Funcionário confidencial   \n",
       "\n",
       "                      employee_detail  \\\n",
       "0   Ex-funcionário(a), mais de um ano   \n",
       "1   Ex-funcionário(a), mais de um ano   \n",
       "2                       Ex-freelancer   \n",
       "3                       Ex-freelancer   \n",
       "4  Ex-funcionário(a), menos de um ano   \n",
       "\n",
       "                                         review_text         review_date  \\\n",
       "0  Companheirismo entre os colegas, oportunidade ...  15 de dez. de 2023   \n",
       "1                     Não tive nenhum ponto negativo  15 de dez. de 2023   \n",
       "2     Equipe bem prestativa e ótima de se trabalhar.  11 de mar. de 2023   \n",
       "3      Modo home office ainda tem que ser melhorado.  11 de mar. de 2023   \n",
       "4      Única vantagem era o trabalho ser home office  24 de fev. de 2022   \n",
       "\n",
       "   star_rating  sentiment  \n",
       "0          5.0          1  \n",
       "1          5.0         -1  \n",
       "2          4.0          1  \n",
       "3          4.0         -1  \n",
       "4          1.0          1  "
      ]
     },
     "execution_count": 4,
     "metadata": {},
     "output_type": "execute_result"
    }
   ],
   "source": [
    "glassdoor_reviews_df.head()"
   ]
  },
  {
   "cell_type": "code",
   "execution_count": 5,
   "metadata": {},
   "outputs": [],
   "source": [
    "glassdoor_reviews_df[\"annotated\"] = 0"
   ]
  },
  {
   "cell_type": "code",
   "execution_count": 6,
   "metadata": {},
   "outputs": [
    {
     "data": {
      "text/html": [
       "<div>\n",
       "<style scoped>\n",
       "    .dataframe tbody tr th:only-of-type {\n",
       "        vertical-align: middle;\n",
       "    }\n",
       "\n",
       "    .dataframe tbody tr th {\n",
       "        vertical-align: top;\n",
       "    }\n",
       "\n",
       "    .dataframe thead th {\n",
       "        text-align: right;\n",
       "    }\n",
       "</style>\n",
       "<table border=\"1\" class=\"dataframe\">\n",
       "  <thead>\n",
       "    <tr style=\"text-align: right;\">\n",
       "      <th></th>\n",
       "      <th>review_id</th>\n",
       "      <th>company</th>\n",
       "      <th>employee_role</th>\n",
       "      <th>employee_detail</th>\n",
       "      <th>review_text</th>\n",
       "      <th>review_date</th>\n",
       "      <th>star_rating</th>\n",
       "      <th>sentiment</th>\n",
       "      <th>annotated</th>\n",
       "    </tr>\n",
       "  </thead>\n",
       "  <tbody>\n",
       "    <tr>\n",
       "      <th>0</th>\n",
       "      <td>82630669</td>\n",
       "      <td>Tecnomapas</td>\n",
       "      <td>Recepcionista</td>\n",
       "      <td>Ex-funcionário(a), mais de um ano</td>\n",
       "      <td>Companheirismo entre os colegas, oportunidade ...</td>\n",
       "      <td>15 de dez. de 2023</td>\n",
       "      <td>5.0</td>\n",
       "      <td>1</td>\n",
       "      <td>0</td>\n",
       "    </tr>\n",
       "    <tr>\n",
       "      <th>1</th>\n",
       "      <td>82630669</td>\n",
       "      <td>Tecnomapas</td>\n",
       "      <td>Recepcionista</td>\n",
       "      <td>Ex-funcionário(a), mais de um ano</td>\n",
       "      <td>Não tive nenhum ponto negativo</td>\n",
       "      <td>15 de dez. de 2023</td>\n",
       "      <td>5.0</td>\n",
       "      <td>-1</td>\n",
       "      <td>0</td>\n",
       "    </tr>\n",
       "    <tr>\n",
       "      <th>2</th>\n",
       "      <td>74420027</td>\n",
       "      <td>Tecnomapas</td>\n",
       "      <td>Analista Desenvolvedor</td>\n",
       "      <td>Ex-freelancer</td>\n",
       "      <td>Equipe bem prestativa e ótima de se trabalhar.</td>\n",
       "      <td>11 de mar. de 2023</td>\n",
       "      <td>4.0</td>\n",
       "      <td>1</td>\n",
       "      <td>0</td>\n",
       "    </tr>\n",
       "    <tr>\n",
       "      <th>3</th>\n",
       "      <td>74420027</td>\n",
       "      <td>Tecnomapas</td>\n",
       "      <td>Analista Desenvolvedor</td>\n",
       "      <td>Ex-freelancer</td>\n",
       "      <td>Modo home office ainda tem que ser melhorado.</td>\n",
       "      <td>11 de mar. de 2023</td>\n",
       "      <td>4.0</td>\n",
       "      <td>-1</td>\n",
       "      <td>0</td>\n",
       "    </tr>\n",
       "    <tr>\n",
       "      <th>4</th>\n",
       "      <td>60212043</td>\n",
       "      <td>Tecnomapas</td>\n",
       "      <td>Funcionário confidencial</td>\n",
       "      <td>Ex-funcionário(a), menos de um ano</td>\n",
       "      <td>Única vantagem era o trabalho ser home office</td>\n",
       "      <td>24 de fev. de 2022</td>\n",
       "      <td>1.0</td>\n",
       "      <td>1</td>\n",
       "      <td>0</td>\n",
       "    </tr>\n",
       "  </tbody>\n",
       "</table>\n",
       "</div>"
      ],
      "text/plain": [
       "   review_id     company             employee_role  \\\n",
       "0   82630669  Tecnomapas             Recepcionista   \n",
       "1   82630669  Tecnomapas             Recepcionista   \n",
       "2   74420027  Tecnomapas    Analista Desenvolvedor   \n",
       "3   74420027  Tecnomapas    Analista Desenvolvedor   \n",
       "4   60212043  Tecnomapas  Funcionário confidencial   \n",
       "\n",
       "                      employee_detail  \\\n",
       "0   Ex-funcionário(a), mais de um ano   \n",
       "1   Ex-funcionário(a), mais de um ano   \n",
       "2                       Ex-freelancer   \n",
       "3                       Ex-freelancer   \n",
       "4  Ex-funcionário(a), menos de um ano   \n",
       "\n",
       "                                         review_text         review_date  \\\n",
       "0  Companheirismo entre os colegas, oportunidade ...  15 de dez. de 2023   \n",
       "1                     Não tive nenhum ponto negativo  15 de dez. de 2023   \n",
       "2     Equipe bem prestativa e ótima de se trabalhar.  11 de mar. de 2023   \n",
       "3      Modo home office ainda tem que ser melhorado.  11 de mar. de 2023   \n",
       "4      Única vantagem era o trabalho ser home office  24 de fev. de 2022   \n",
       "\n",
       "   star_rating  sentiment  annotated  \n",
       "0          5.0          1          0  \n",
       "1          5.0         -1          0  \n",
       "2          4.0          1          0  \n",
       "3          4.0         -1          0  \n",
       "4          1.0          1          0  "
      ]
     },
     "execution_count": 6,
     "metadata": {},
     "output_type": "execute_result"
    }
   ],
   "source": [
    "glassdoor_reviews_df.head()"
   ]
  },
  {
   "cell_type": "code",
   "execution_count": 7,
   "metadata": {},
   "outputs": [],
   "source": [
    "def merge_annotated_reviews(annotated_df):\n",
    "    for index, row in annotated_df.iterrows():\n",
    "        annotated_review_id = row[\"review_id\"]\n",
    "        annotated_review_text = row[\"review_text\"]\n",
    "        annotated_sentiment = row[\"sentiment\"]\n",
    "\n",
    "        filtered_glassdoor_df = glassdoor_reviews_df.loc[\n",
    "            (glassdoor_reviews_df[\"review_id\"] == annotated_review_id)\n",
    "            & (glassdoor_reviews_df[\"review_text\"] == annotated_review_text)\n",
    "            & (glassdoor_reviews_df[\"sentiment\"] != annotated_sentiment)\n",
    "        ][\"review_text\"]\n",
    "        if not filtered_glassdoor_df.empty:\n",
    "            filtered_index = glassdoor_reviews_df.loc[\n",
    "                (glassdoor_reviews_df[\"review_id\"] == annotated_review_id)\n",
    "                & (glassdoor_reviews_df[\"review_text\"] == annotated_review_text)\n",
    "                & (glassdoor_reviews_df[\"sentiment\"] != annotated_sentiment)\n",
    "            ].index\n",
    "\n",
    "            logging.info(\n",
    "                f\"sentiment anotado: {annotated_sentiment}; \"\n",
    "                f\"sentiment extraído: {glassdoor_reviews_df.loc[filtered_index, 'sentiment'].values[0]}; \"\n",
    "                f\"review_id: {glassdoor_reviews_df.loc[filtered_index, 'review_id'].values[0]}; \"\n",
    "                f\"review_text: >>>{glassdoor_reviews_df.loc[filtered_index, 'review_text'].values[0]}<<< \"\n",
    "            )\n",
    "\n",
    "            glassdoor_reviews_df.loc[filtered_index, \"sentiment\"] = annotated_sentiment\n",
    "            glassdoor_reviews_df.loc[filtered_index, \"annotated\"] = 1"
   ]
  },
  {
   "cell_type": "markdown",
   "metadata": {},
   "source": [
    "### Merge annotated positive reviews"
   ]
  },
  {
   "cell_type": "code",
   "execution_count": 8,
   "metadata": {},
   "outputs": [
    {
     "data": {
      "text/html": [
       "<div>\n",
       "<style scoped>\n",
       "    .dataframe tbody tr th:only-of-type {\n",
       "        vertical-align: middle;\n",
       "    }\n",
       "\n",
       "    .dataframe tbody tr th {\n",
       "        vertical-align: top;\n",
       "    }\n",
       "\n",
       "    .dataframe thead th {\n",
       "        text-align: right;\n",
       "    }\n",
       "</style>\n",
       "<table border=\"1\" class=\"dataframe\">\n",
       "  <thead>\n",
       "    <tr style=\"text-align: right;\">\n",
       "      <th></th>\n",
       "      <th>review_id</th>\n",
       "      <th>company</th>\n",
       "      <th>employee_role</th>\n",
       "      <th>employee_detail</th>\n",
       "      <th>review_text</th>\n",
       "      <th>review_date</th>\n",
       "      <th>star_rating</th>\n",
       "      <th>sentiment</th>\n",
       "      <th>annotated</th>\n",
       "    </tr>\n",
       "  </thead>\n",
       "  <tbody>\n",
       "    <tr>\n",
       "      <th>90</th>\n",
       "      <td>68952889</td>\n",
       "      <td>Abaco Tecnologia de Informação Ltda</td>\n",
       "      <td>Analista De Sistemas</td>\n",
       "      <td>Funcionário(a) atual</td>\n",
       "      <td>Pensando alguma coisa boa sobre prós.</td>\n",
       "      <td>12 de set. de 2022</td>\n",
       "      <td>4.0</td>\n",
       "      <td>1</td>\n",
       "      <td>0</td>\n",
       "    </tr>\n",
       "    <tr>\n",
       "      <th>91</th>\n",
       "      <td>68952889</td>\n",
       "      <td>Abaco Tecnologia de Informação Ltda</td>\n",
       "      <td>Analista De Sistemas</td>\n",
       "      <td>Funcionário(a) atual</td>\n",
       "      <td>Sem comentários sobre coisas contra.</td>\n",
       "      <td>12 de set. de 2022</td>\n",
       "      <td>4.0</td>\n",
       "      <td>-1</td>\n",
       "      <td>0</td>\n",
       "    </tr>\n",
       "  </tbody>\n",
       "</table>\n",
       "</div>"
      ],
      "text/plain": [
       "    review_id                              company         employee_role  \\\n",
       "90   68952889  Abaco Tecnologia de Informação Ltda  Analista De Sistemas   \n",
       "91   68952889  Abaco Tecnologia de Informação Ltda  Analista De Sistemas   \n",
       "\n",
       "         employee_detail                            review_text  \\\n",
       "90  Funcionário(a) atual  Pensando alguma coisa boa sobre prós.   \n",
       "91  Funcionário(a) atual   Sem comentários sobre coisas contra.   \n",
       "\n",
       "           review_date  star_rating  sentiment  annotated  \n",
       "90  12 de set. de 2022          4.0          1          0  \n",
       "91  12 de set. de 2022          4.0         -1          0  "
      ]
     },
     "execution_count": 8,
     "metadata": {},
     "output_type": "execute_result"
    }
   ],
   "source": [
    "glassdoor_reviews_df[glassdoor_reviews_df[\"review_id\"] == 68952889]"
   ]
  },
  {
   "cell_type": "code",
   "execution_count": 9,
   "metadata": {},
   "outputs": [],
   "source": [
    "reviewed_predicted_non_positive_reviews_df = pd.read_csv(\n",
    "    \"./reviewed_predicted_non_positive_reviews.csv\"\n",
    ")"
   ]
  },
  {
   "cell_type": "code",
   "execution_count": null,
   "metadata": {},
   "outputs": [],
   "source": [
    "merge_annotated_reviews(reviewed_predicted_non_positive_reviews_df)"
   ]
  },
  {
   "cell_type": "code",
   "execution_count": 11,
   "metadata": {},
   "outputs": [
    {
     "data": {
      "text/plain": [
       "(48, 9)"
      ]
     },
     "execution_count": 11,
     "metadata": {},
     "output_type": "execute_result"
    }
   ],
   "source": [
    "glassdoor_reviews_df[glassdoor_reviews_df[\"annotated\"] == 1].shape"
   ]
  },
  {
   "cell_type": "code",
   "execution_count": 12,
   "metadata": {},
   "outputs": [
    {
     "data": {
      "text/plain": [
       "sentiment\n",
       " 0    33\n",
       "-1    15\n",
       "Name: count, dtype: int64"
      ]
     },
     "execution_count": 12,
     "metadata": {},
     "output_type": "execute_result"
    }
   ],
   "source": [
    "glassdoor_reviews_df[glassdoor_reviews_df[\"annotated\"] == 1][\"sentiment\"].value_counts()"
   ]
  },
  {
   "cell_type": "markdown",
   "metadata": {},
   "source": [
    "### Merge annotated negative reviews"
   ]
  },
  {
   "cell_type": "code",
   "execution_count": 13,
   "metadata": {},
   "outputs": [],
   "source": [
    "reviewed_predicted_non_negative_reviews_df = pd.read_csv(\n",
    "    \"./reviewed_predicted_non_negative_reviews.csv\"\n",
    ")"
   ]
  },
  {
   "cell_type": "code",
   "execution_count": null,
   "metadata": {},
   "outputs": [],
   "source": [
    "merge_annotated_reviews(reviewed_predicted_non_negative_reviews_df)"
   ]
  },
  {
   "cell_type": "code",
   "execution_count": 15,
   "metadata": {},
   "outputs": [
    {
     "data": {
      "text/plain": [
       "(313, 9)"
      ]
     },
     "execution_count": 15,
     "metadata": {},
     "output_type": "execute_result"
    }
   ],
   "source": [
    "glassdoor_reviews_df[glassdoor_reviews_df[\"annotated\"] == 1].shape"
   ]
  },
  {
   "cell_type": "code",
   "execution_count": 16,
   "metadata": {},
   "outputs": [
    {
     "data": {
      "text/plain": [
       "sentiment\n",
       " 0    247\n",
       " 1     49\n",
       "-1     17\n",
       "Name: count, dtype: int64"
      ]
     },
     "execution_count": 16,
     "metadata": {},
     "output_type": "execute_result"
    }
   ],
   "source": [
    "glassdoor_reviews_df[glassdoor_reviews_df[\"annotated\"] == 1][\"sentiment\"].value_counts()"
   ]
  },
  {
   "cell_type": "code",
   "execution_count": 17,
   "metadata": {},
   "outputs": [],
   "source": [
    "glassdoor_reviews_df.to_csv(\"glassdoor_reviews_annotated.csv\", index=False)"
   ]
  },
  {
   "cell_type": "markdown",
   "metadata": {},
   "source": [
    "### Annotation Evaluation\n",
    "\n",
    "#### Non Positive predicted:  \n",
    "  - 1283 Positive Reviews extract\n",
    "  - 650 Non Positive Reviews predicted\n",
    "\n",
    "  Annotation over Non Positive Reviews predicted results:\n",
    "  | Negative | Neutral | Positive |\n",
    "  |----------|---------|----------|\n",
    "  |    15    |   33    |          |\n",
    "\n",
    "#### Non Negative predicted:  \n",
    "  - 1283 Negative Reviews extract\n",
    "  - 821 Non Negative Reviews predicted\n",
    "\n",
    "  Annotation over Non Negative Reviews predicted results:\n",
    "  | Negative | Neutral | Positive |\n",
    "  |----------|---------|----------|\n",
    "  |    2     |   214   |    49    |"
   ]
  }
 ],
 "metadata": {
  "kernelspec": {
   "display_name": "venv_sent_analysis",
   "language": "python",
   "name": "python3"
  },
  "language_info": {
   "codemirror_mode": {
    "name": "ipython",
    "version": 3
   },
   "file_extension": ".py",
   "mimetype": "text/x-python",
   "name": "python",
   "nbconvert_exporter": "python",
   "pygments_lexer": "ipython3",
   "version": "3.11.7"
  }
 },
 "nbformat": 4,
 "nbformat_minor": 2
}

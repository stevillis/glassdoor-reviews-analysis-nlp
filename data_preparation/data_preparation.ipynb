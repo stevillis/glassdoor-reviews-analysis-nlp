{
 "cells": [
  {
   "cell_type": "markdown",
   "metadata": {},
   "source": [
    "# Data Preparation"
   ]
  },
  {
   "cell_type": "code",
   "execution_count": 1,
   "metadata": {},
   "outputs": [],
   "source": [
    "import logging\n",
    "import os\n",
    "import pandas as pd\n",
    "\n",
    "from bs4 import BeautifulSoup"
   ]
  },
  {
   "cell_type": "code",
   "execution_count": 2,
   "metadata": {},
   "outputs": [],
   "source": [
    "logging.basicConfig(\n",
    "    level=logging.INFO,\n",
    "    format=\"%(asctime)s [%(levelname)s] %(message)s\",\n",
    "    handlers=[logging.FileHandler(\"data_preparation.log\"), logging.StreamHandler()],\n",
    ")"
   ]
  },
  {
   "cell_type": "code",
   "execution_count": 3,
   "metadata": {},
   "outputs": [],
   "source": [
    "PATH_TO_HTML_REVIEW_SAMPLE = (\n",
    "    \"../data_mining/html/cuiaba_companies/Tecnomapas_page_1.html\"\n",
    ")"
   ]
  },
  {
   "cell_type": "code",
   "execution_count": 4,
   "metadata": {},
   "outputs": [],
   "source": [
    "PATH_TO_HTML_REVIEWS = \"./html\""
   ]
  },
  {
   "cell_type": "code",
   "execution_count": 5,
   "metadata": {},
   "outputs": [],
   "source": [
    "GLASSDOOR_REVIEWS_CSV_PATH = \"./glassdoor_reviews.csv\""
   ]
  },
  {
   "cell_type": "code",
   "execution_count": 6,
   "metadata": {},
   "outputs": [],
   "source": [
    "DATA_FRAME_COLUMNS = [\n",
    "    \"review_id\",\n",
    "    \"company\",\n",
    "    \"employee_role\",\n",
    "    \"employee_detail\",\n",
    "    \"review_text\",\n",
    "    \"review_date\",\n",
    "    \"star_rating\",\n",
    "    \"sentiment\",\n",
    "]"
   ]
  },
  {
   "cell_type": "code",
   "execution_count": 7,
   "metadata": {},
   "outputs": [],
   "source": [
    "def get_review_text(rating_div):\n",
    "    rating_p = rating_div.find_all(\n",
    "        \"p\", {\"class\": \"review-details__review-details-module__isCollapsed\"}\n",
    "    )\n",
    "    if len(rating_p) == 0:\n",
    "        rating_p = rating_div.find_all(\n",
    "            \"p\", {\"class\": \"review-details__review-details-module__isExpanded\"}\n",
    "        )\n",
    "\n",
    "    if len(rating_p) > 0:\n",
    "        return rating_p[0].get_text()\n",
    "\n",
    "    logging.warning(\"Texto da avaliação não encontrado!\")\n",
    "    return \"\""
   ]
  },
  {
   "cell_type": "code",
   "execution_count": 8,
   "metadata": {},
   "outputs": [],
   "source": [
    "def get_reviews_data(company, reviews):\n",
    "    reviews_data = []\n",
    "    for review in reviews:\n",
    "        # Id\n",
    "        review_id_li = review[\"id\"]\n",
    "        if review_id_li:\n",
    "            review_id = review_id_li.split(\"_\")[-1]\n",
    "            logging.warning(f\"Avaliação {review_id} encontrada!\")\n",
    "        else:\n",
    "            logging.warning(\"Id da avaliação não encontrado!\")\n",
    "\n",
    "        # Date\n",
    "        review_date_span = review.find(\n",
    "            \"span\", class_=\"timestamp__timestamp-module__reviewDate\"\n",
    "        )\n",
    "        if review_date_span:\n",
    "            review_date = review_date_span.get_text()\n",
    "        else:\n",
    "            logging.warning(\"Data da avaliação não encontrada!\")\n",
    "\n",
    "        # Employee role\n",
    "        employee_role_span = review.find(\n",
    "            \"span\", class_=\"review-details__review-details-module__employee\"\n",
    "        )\n",
    "        if employee_role_span:\n",
    "            employee_role = employee_role_span.get_text()\n",
    "        else:\n",
    "            logging.warning(\"Cargo do avaliador não encontrado!\")\n",
    "\n",
    "        # Employee detail\n",
    "        employee_detail_div = review.find(\n",
    "            \"div\", {\"class\": \"review-details__review-details-module__employeeDetails\"}\n",
    "        )\n",
    "        if employee_detail_div:\n",
    "            employee_detail = employee_detail_div.get_text()\n",
    "        else:\n",
    "            logging.warning(\"Detalhe do avaliador não encontrado!\")\n",
    "\n",
    "        # Star rating\n",
    "        star_rating_spans = review.find_all(\n",
    "            \"span\", {\"class\": \"review-details__review-details-module__overallRating\"}\n",
    "        )\n",
    "        if star_rating_spans:\n",
    "            star_rating_span = star_rating_spans[0]\n",
    "            if star_rating_span:\n",
    "                star_rating = float(star_rating_span.get_text().replace(\",\", \".\"))\n",
    "            else:\n",
    "                logging.warning(\"Nota de avaliação não foi encontrada!\")\n",
    "        else:\n",
    "            logging.warning(\"Nenhuma nota de avaliação foi encontrada!\")\n",
    "\n",
    "        # Pro text\n",
    "        pro_rating_divs = review.find_all(\n",
    "            \"div\", {\"class\": \"review-details__review-details-module__pro\"}\n",
    "        )\n",
    "        if pro_rating_divs:\n",
    "            pro_rating_div = pro_rating_divs[0]\n",
    "            if pro_rating_div:\n",
    "                logging.info(\"Buscando texto positivo da avaliação...\")\n",
    "                pro_review_text = get_review_text(pro_rating_div)\n",
    "            else:\n",
    "                logging.warning(\"Div da avaliação positiva não encontrada!\")\n",
    "        else:\n",
    "            logging.warning(\"Nenhuma div de avaliação positiva foi encontrado!\")\n",
    "\n",
    "        # Con text\n",
    "        con_rating_divs = review.find_all(\n",
    "            \"div\", {\"class\": \"review-details__review-details-module__con\"}\n",
    "        )\n",
    "        if con_rating_divs:\n",
    "            con_rating_div = con_rating_divs[0]\n",
    "            if con_rating_div:\n",
    "                logging.info(\"Buscando texto negativo da avaliação...\")\n",
    "                con_review_text = get_review_text(con_rating_div)\n",
    "            else:\n",
    "                logging.warning(\"Div da avaliação negativa não encontrada!\")\n",
    "        else:\n",
    "            logging.warning(\"Nenhuma div de avaliação negativa foi encontrado!\")\n",
    "\n",
    "        # Append review data\n",
    "        reviews_data.append(\n",
    "            [\n",
    "                review_id,\n",
    "                company,\n",
    "                employee_role,\n",
    "                employee_detail,\n",
    "                pro_review_text,\n",
    "                review_date,\n",
    "                star_rating,\n",
    "                1,  # positive\n",
    "            ]\n",
    "        )\n",
    "        reviews_data.append(\n",
    "            [\n",
    "                review_id,\n",
    "                company,\n",
    "                employee_role,\n",
    "                employee_detail,\n",
    "                con_review_text,\n",
    "                review_date,\n",
    "                star_rating,\n",
    "                -1,  # negative\n",
    "            ]\n",
    "        )\n",
    "\n",
    "    return reviews_data"
   ]
  },
  {
   "cell_type": "code",
   "execution_count": 9,
   "metadata": {},
   "outputs": [],
   "source": [
    "if os.path.exists(GLASSDOOR_REVIEWS_CSV_PATH):\n",
    "    reviews_df = pd.read_csv(GLASSDOOR_REVIEWS_CSV_PATH)\n",
    "else:\n",
    "    reviews_df = pd.DataFrame(columns=DATA_FRAME_COLUMNS)"
   ]
  },
  {
   "cell_type": "code",
   "execution_count": 10,
   "metadata": {},
   "outputs": [
    {
     "data": {
      "text/html": [
       "<div>\n",
       "<style scoped>\n",
       "    .dataframe tbody tr th:only-of-type {\n",
       "        vertical-align: middle;\n",
       "    }\n",
       "\n",
       "    .dataframe tbody tr th {\n",
       "        vertical-align: top;\n",
       "    }\n",
       "\n",
       "    .dataframe thead th {\n",
       "        text-align: right;\n",
       "    }\n",
       "</style>\n",
       "<table border=\"1\" class=\"dataframe\">\n",
       "  <thead>\n",
       "    <tr style=\"text-align: right;\">\n",
       "      <th></th>\n",
       "      <th>review_id</th>\n",
       "      <th>company</th>\n",
       "      <th>employee_role</th>\n",
       "      <th>employee_detail</th>\n",
       "      <th>review_text</th>\n",
       "      <th>review_date</th>\n",
       "      <th>star_rating</th>\n",
       "      <th>sentiment</th>\n",
       "    </tr>\n",
       "  </thead>\n",
       "  <tbody>\n",
       "  </tbody>\n",
       "</table>\n",
       "</div>"
      ],
      "text/plain": [
       "Empty DataFrame\n",
       "Columns: [review_id, company, employee_role, employee_detail, review_text, review_date, star_rating, sentiment]\n",
       "Index: []"
      ]
     },
     "execution_count": 10,
     "metadata": {},
     "output_type": "execute_result"
    }
   ],
   "source": [
    "reviews_df.head(2)"
   ]
  },
  {
   "cell_type": "code",
   "execution_count": 11,
   "metadata": {},
   "outputs": [
    {
     "name": "stdout",
     "output_type": "stream",
     "text": [
      "<class 'pandas.core.frame.DataFrame'>\n",
      "RangeIndex: 0 entries\n",
      "Data columns (total 8 columns):\n",
      " #   Column           Non-Null Count  Dtype \n",
      "---  ------           --------------  ----- \n",
      " 0   review_id        0 non-null      object\n",
      " 1   company          0 non-null      object\n",
      " 2   employee_role    0 non-null      object\n",
      " 3   employee_detail  0 non-null      object\n",
      " 4   review_text      0 non-null      object\n",
      " 5   review_date      0 non-null      object\n",
      " 6   star_rating      0 non-null      object\n",
      " 7   sentiment        0 non-null      object\n",
      "dtypes: object(8)\n",
      "memory usage: 132.0+ bytes\n"
     ]
    }
   ],
   "source": [
    "reviews_df.info()"
   ]
  },
  {
   "cell_type": "code",
   "execution_count": null,
   "metadata": {},
   "outputs": [],
   "source": [
    "for filename in os.listdir(PATH_TO_HTML_REVIEWS):\n",
    "    if filename.endswith(\".html\"):\n",
    "        file_path = os.path.join(PATH_TO_HTML_REVIEWS, filename)\n",
    "\n",
    "        logging.warning(f\"Abrindo o arquivo: {file_path}\")\n",
    "        with open(file_path, \"r\", encoding=\"utf-8\") as f:\n",
    "            html_page = \"\".join(f.readlines())\n",
    "            soup = BeautifulSoup(html_page, \"html.parser\")\n",
    "\n",
    "            if soup.title:\n",
    "                if soup.title.get_text() != \"Security | Glassdoor\":\n",
    "                    company_p = soup.find_all(\"p\", {\"class\": \"employerName\"})[0]\n",
    "                    company = company_p.get_text()\n",
    "\n",
    "                    logging.warning(f\"Buscando Avaliações da Empresa: {company}\")\n",
    "\n",
    "                    reviews = soup.find_all(\n",
    "                        \"li\", id=lambda x: x and x.startswith(\"empReview_\")\n",
    "                    )\n",
    "\n",
    "                    reviews_data = get_reviews_data(company, reviews)\n",
    "\n",
    "                    df = pd.DataFrame(reviews_data, columns=DATA_FRAME_COLUMNS)\n",
    "\n",
    "                    for index, row in df.iterrows():\n",
    "                        new_review_id = int(row[\"review_id\"])\n",
    "                        if new_review_id not in reviews_df[\"review_id\"].values:\n",
    "                            print(row)\n",
    "                            reviews_df = pd.concat(\n",
    "                                [reviews_df, df],\n",
    "                                ignore_index=True,\n",
    "                            )\n",
    "\n",
    "                            # Since we have two comments with same id for each review,\n",
    "                            # we must concat the new review df only once\n",
    "                            break"
   ]
  },
  {
   "cell_type": "code",
   "execution_count": 13,
   "metadata": {},
   "outputs": [
    {
     "data": {
      "text/html": [
       "<div>\n",
       "<style scoped>\n",
       "    .dataframe tbody tr th:only-of-type {\n",
       "        vertical-align: middle;\n",
       "    }\n",
       "\n",
       "    .dataframe tbody tr th {\n",
       "        vertical-align: top;\n",
       "    }\n",
       "\n",
       "    .dataframe thead th {\n",
       "        text-align: right;\n",
       "    }\n",
       "</style>\n",
       "<table border=\"1\" class=\"dataframe\">\n",
       "  <thead>\n",
       "    <tr style=\"text-align: right;\">\n",
       "      <th></th>\n",
       "      <th>review_id</th>\n",
       "      <th>company</th>\n",
       "      <th>employee_role</th>\n",
       "      <th>employee_detail</th>\n",
       "      <th>review_text</th>\n",
       "      <th>review_date</th>\n",
       "      <th>star_rating</th>\n",
       "      <th>sentiment</th>\n",
       "    </tr>\n",
       "  </thead>\n",
       "  <tbody>\n",
       "    <tr>\n",
       "      <th>0</th>\n",
       "      <td>82630669</td>\n",
       "      <td>Tecnomapas</td>\n",
       "      <td>Recepcionista</td>\n",
       "      <td>Ex-funcionário(a), mais de um ano</td>\n",
       "      <td>Companheirismo entre os colegas, oportunidade ...</td>\n",
       "      <td>15 de dez. de 2023</td>\n",
       "      <td>5.0</td>\n",
       "      <td>1</td>\n",
       "    </tr>\n",
       "    <tr>\n",
       "      <th>1</th>\n",
       "      <td>82630669</td>\n",
       "      <td>Tecnomapas</td>\n",
       "      <td>Recepcionista</td>\n",
       "      <td>Ex-funcionário(a), mais de um ano</td>\n",
       "      <td>Não tive nenhum ponto negativo</td>\n",
       "      <td>15 de dez. de 2023</td>\n",
       "      <td>5.0</td>\n",
       "      <td>-1</td>\n",
       "    </tr>\n",
       "  </tbody>\n",
       "</table>\n",
       "</div>"
      ],
      "text/plain": [
       "  review_id     company  employee_role                    employee_detail  \\\n",
       "0  82630669  Tecnomapas  Recepcionista  Ex-funcionário(a), mais de um ano   \n",
       "1  82630669  Tecnomapas  Recepcionista  Ex-funcionário(a), mais de um ano   \n",
       "\n",
       "                                         review_text         review_date  \\\n",
       "0  Companheirismo entre os colegas, oportunidade ...  15 de dez. de 2023   \n",
       "1                     Não tive nenhum ponto negativo  15 de dez. de 2023   \n",
       "\n",
       "   star_rating sentiment  \n",
       "0          5.0         1  \n",
       "1          5.0        -1  "
      ]
     },
     "execution_count": 13,
     "metadata": {},
     "output_type": "execute_result"
    }
   ],
   "source": [
    "reviews_df.head(2)"
   ]
  },
  {
   "cell_type": "code",
   "execution_count": 14,
   "metadata": {},
   "outputs": [
    {
     "name": "stdout",
     "output_type": "stream",
     "text": [
      "<class 'pandas.core.frame.DataFrame'>\n",
      "RangeIndex: 2566 entries, 0 to 2565\n",
      "Data columns (total 8 columns):\n",
      " #   Column           Non-Null Count  Dtype  \n",
      "---  ------           --------------  -----  \n",
      " 0   review_id        2566 non-null   object \n",
      " 1   company          2566 non-null   object \n",
      " 2   employee_role    2566 non-null   object \n",
      " 3   employee_detail  2566 non-null   object \n",
      " 4   review_text      2566 non-null   object \n",
      " 5   review_date      2566 non-null   object \n",
      " 6   star_rating      2566 non-null   float64\n",
      " 7   sentiment        2566 non-null   object \n",
      "dtypes: float64(1), object(7)\n",
      "memory usage: 160.5+ KB\n"
     ]
    }
   ],
   "source": [
    "reviews_df.info()"
   ]
  },
  {
   "cell_type": "code",
   "execution_count": 15,
   "metadata": {},
   "outputs": [],
   "source": [
    "reviews_df.to_csv(\"glassdoor_reviews.csv\", index=False)"
   ]
  }
 ],
 "metadata": {
  "kernelspec": {
   "display_name": "venv_sent_analysis",
   "language": "python",
   "name": "python3"
  },
  "language_info": {
   "codemirror_mode": {
    "name": "ipython",
    "version": 3
   },
   "file_extension": ".py",
   "mimetype": "text/x-python",
   "name": "python",
   "nbconvert_exporter": "python",
   "pygments_lexer": "ipython3",
   "version": "3.11.7"
  }
 },
 "nbformat": 4,
 "nbformat_minor": 2
}

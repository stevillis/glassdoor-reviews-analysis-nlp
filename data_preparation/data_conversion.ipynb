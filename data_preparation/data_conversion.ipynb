{
 "cells": [
  {
   "cell_type": "markdown",
   "metadata": {},
   "source": [
    "# Data Conversion\n",
    "\n",
    "Sometimes reviews classified as negative by glassdoor are actually neutral.\n",
    "To identify neutral reviews and create another sentiment class called `neutral`, we will use the pre-trained Hugging Face model [citizenlab/twitter-xlm-roberta-base-sentiment-finetunned](https://huggingface.co/citizenlab/twitter-xlm-roberta-base-sentiment-finetunned) to identify `neutral` reviews and also to ensure that reviews extracted as `positive` and `negative` are truly of their respective class."
   ]
  },
  {
   "cell_type": "code",
   "execution_count": 15,
   "metadata": {},
   "outputs": [],
   "source": [
    "import logging\n",
    "import pandas as pd\n",
    "\n",
    "from transformers import pipeline"
   ]
  },
  {
   "cell_type": "code",
   "execution_count": 16,
   "metadata": {},
   "outputs": [],
   "source": [
    "logging.basicConfig(\n",
    "    level=logging.INFO,\n",
    "    format=\"%(asctime)s [%(levelname)s] %(message)s\",\n",
    "    handlers=[logging.FileHandler(\"data_conversion.log\"), logging.StreamHandler()],\n",
    ")"
   ]
  },
  {
   "cell_type": "markdown",
   "metadata": {},
   "source": [
    "## Loading Model"
   ]
  },
  {
   "cell_type": "code",
   "execution_count": 17,
   "metadata": {},
   "outputs": [],
   "source": [
    "model_path = \"citizenlab/twitter-xlm-roberta-base-sentiment-finetunned\""
   ]
  },
  {
   "cell_type": "code",
   "execution_count": 18,
   "metadata": {},
   "outputs": [],
   "source": [
    "sentiment_classifier = pipeline(\"text-classification\", model=model_path)"
   ]
  },
  {
   "cell_type": "code",
   "execution_count": 19,
   "metadata": {},
   "outputs": [
    {
     "data": {
      "text/plain": [
       "[{'label': 'Neutral', 'score': 0.8980973958969116}]"
      ]
     },
     "execution_count": 19,
     "metadata": {},
     "output_type": "execute_result"
    }
   ],
   "source": [
    "sentiment_classifier(\"Essa empresa não tem nada negativo\")"
   ]
  },
  {
   "cell_type": "code",
   "execution_count": 20,
   "metadata": {},
   "outputs": [],
   "source": [
    "def predict_reviews(\n",
    "    filtered_reviews_df: pd.DataFrame, expected_label: str\n",
    ") -> pd.DataFrame:\n",
    "    predicted_labels = []\n",
    "    predicted_scores = []\n",
    "\n",
    "    for index, row in filtered_reviews_df.iterrows():\n",
    "        review_id = row[\"review_id\"]\n",
    "        review_text = row[\"review_text\"]\n",
    "\n",
    "        prediction = sentiment_classifier(review_text)\n",
    "\n",
    "        predicted_label = prediction[0][\"label\"]\n",
    "        predicted_score = prediction[0][\"score\"]\n",
    "\n",
    "        if predicted_label != expected_label:\n",
    "            logging.warning(\n",
    "                f\"Expected label: {expected_label}; Predicted label: {predicted_label}; Score: {predicted_score}; \"\n",
    "                f\"review_id: {review_id} review_text: >>{review_text}<< \"\n",
    "            )\n",
    "\n",
    "        predicted_labels.append(predicted_label)\n",
    "        predicted_scores.append(predicted_score)\n",
    "\n",
    "    filtered_reviews_df[\"predicted_label\"] = predicted_labels\n",
    "    filtered_reviews_df[\"predicted_score\"] = predicted_scores\n",
    "\n",
    "    return filtered_reviews_df"
   ]
  },
  {
   "cell_type": "markdown",
   "metadata": {},
   "source": [
    "## Loading reviews"
   ]
  },
  {
   "cell_type": "code",
   "execution_count": 21,
   "metadata": {},
   "outputs": [],
   "source": [
    "reviews_df = pd.read_csv(\"./glassdoor_reviews.csv\")"
   ]
  },
  {
   "cell_type": "code",
   "execution_count": 22,
   "metadata": {},
   "outputs": [
    {
     "data": {
      "text/html": [
       "<div>\n",
       "<style scoped>\n",
       "    .dataframe tbody tr th:only-of-type {\n",
       "        vertical-align: middle;\n",
       "    }\n",
       "\n",
       "    .dataframe tbody tr th {\n",
       "        vertical-align: top;\n",
       "    }\n",
       "\n",
       "    .dataframe thead th {\n",
       "        text-align: right;\n",
       "    }\n",
       "</style>\n",
       "<table border=\"1\" class=\"dataframe\">\n",
       "  <thead>\n",
       "    <tr style=\"text-align: right;\">\n",
       "      <th></th>\n",
       "      <th>review_id</th>\n",
       "      <th>company</th>\n",
       "      <th>employee_role</th>\n",
       "      <th>employee_detail</th>\n",
       "      <th>review_text</th>\n",
       "      <th>review_date</th>\n",
       "      <th>star_rating</th>\n",
       "      <th>sentiment</th>\n",
       "    </tr>\n",
       "  </thead>\n",
       "  <tbody>\n",
       "    <tr>\n",
       "      <th>0</th>\n",
       "      <td>82630669</td>\n",
       "      <td>Tecnomapas</td>\n",
       "      <td>Recepcionista</td>\n",
       "      <td>Ex-funcionário(a), mais de um ano</td>\n",
       "      <td>Companheirismo entre os colegas, oportunidade ...</td>\n",
       "      <td>15 de dez. de 2023</td>\n",
       "      <td>5.0</td>\n",
       "      <td>1</td>\n",
       "    </tr>\n",
       "    <tr>\n",
       "      <th>1</th>\n",
       "      <td>82630669</td>\n",
       "      <td>Tecnomapas</td>\n",
       "      <td>Recepcionista</td>\n",
       "      <td>Ex-funcionário(a), mais de um ano</td>\n",
       "      <td>Não tive nenhum ponto negativo</td>\n",
       "      <td>15 de dez. de 2023</td>\n",
       "      <td>5.0</td>\n",
       "      <td>-1</td>\n",
       "    </tr>\n",
       "    <tr>\n",
       "      <th>2</th>\n",
       "      <td>74420027</td>\n",
       "      <td>Tecnomapas</td>\n",
       "      <td>Analista Desenvolvedor</td>\n",
       "      <td>Ex-freelancer</td>\n",
       "      <td>Equipe bem prestativa e ótima de se trabalhar.</td>\n",
       "      <td>11 de mar. de 2023</td>\n",
       "      <td>4.0</td>\n",
       "      <td>1</td>\n",
       "    </tr>\n",
       "    <tr>\n",
       "      <th>3</th>\n",
       "      <td>74420027</td>\n",
       "      <td>Tecnomapas</td>\n",
       "      <td>Analista Desenvolvedor</td>\n",
       "      <td>Ex-freelancer</td>\n",
       "      <td>Modo home office ainda tem que ser melhorado.</td>\n",
       "      <td>11 de mar. de 2023</td>\n",
       "      <td>4.0</td>\n",
       "      <td>-1</td>\n",
       "    </tr>\n",
       "    <tr>\n",
       "      <th>4</th>\n",
       "      <td>60212043</td>\n",
       "      <td>Tecnomapas</td>\n",
       "      <td>Funcionário confidencial</td>\n",
       "      <td>Ex-funcionário(a), menos de um ano</td>\n",
       "      <td>Única vantagem era o trabalho ser home office</td>\n",
       "      <td>24 de fev. de 2022</td>\n",
       "      <td>1.0</td>\n",
       "      <td>1</td>\n",
       "    </tr>\n",
       "  </tbody>\n",
       "</table>\n",
       "</div>"
      ],
      "text/plain": [
       "   review_id     company             employee_role  \\\n",
       "0   82630669  Tecnomapas             Recepcionista   \n",
       "1   82630669  Tecnomapas             Recepcionista   \n",
       "2   74420027  Tecnomapas    Analista Desenvolvedor   \n",
       "3   74420027  Tecnomapas    Analista Desenvolvedor   \n",
       "4   60212043  Tecnomapas  Funcionário confidencial   \n",
       "\n",
       "                      employee_detail  \\\n",
       "0   Ex-funcionário(a), mais de um ano   \n",
       "1   Ex-funcionário(a), mais de um ano   \n",
       "2                       Ex-freelancer   \n",
       "3                       Ex-freelancer   \n",
       "4  Ex-funcionário(a), menos de um ano   \n",
       "\n",
       "                                         review_text         review_date  \\\n",
       "0  Companheirismo entre os colegas, oportunidade ...  15 de dez. de 2023   \n",
       "1                     Não tive nenhum ponto negativo  15 de dez. de 2023   \n",
       "2     Equipe bem prestativa e ótima de se trabalhar.  11 de mar. de 2023   \n",
       "3      Modo home office ainda tem que ser melhorado.  11 de mar. de 2023   \n",
       "4      Única vantagem era o trabalho ser home office  24 de fev. de 2022   \n",
       "\n",
       "   star_rating  sentiment  \n",
       "0          5.0          1  \n",
       "1          5.0         -1  \n",
       "2          4.0          1  \n",
       "3          4.0         -1  \n",
       "4          1.0          1  "
      ]
     },
     "execution_count": 22,
     "metadata": {},
     "output_type": "execute_result"
    }
   ],
   "source": [
    "reviews_df.head()"
   ]
  },
  {
   "cell_type": "markdown",
   "metadata": {},
   "source": [
    "## Predicting Positive Reviews"
   ]
  },
  {
   "cell_type": "code",
   "execution_count": 23,
   "metadata": {},
   "outputs": [],
   "source": [
    "positive_reviews_df = reviews_df[reviews_df[\"sentiment\"] == 1]"
   ]
  },
  {
   "cell_type": "code",
   "execution_count": 24,
   "metadata": {},
   "outputs": [
    {
     "data": {
      "text/html": [
       "<div>\n",
       "<style scoped>\n",
       "    .dataframe tbody tr th:only-of-type {\n",
       "        vertical-align: middle;\n",
       "    }\n",
       "\n",
       "    .dataframe tbody tr th {\n",
       "        vertical-align: top;\n",
       "    }\n",
       "\n",
       "    .dataframe thead th {\n",
       "        text-align: right;\n",
       "    }\n",
       "</style>\n",
       "<table border=\"1\" class=\"dataframe\">\n",
       "  <thead>\n",
       "    <tr style=\"text-align: right;\">\n",
       "      <th></th>\n",
       "      <th>review_id</th>\n",
       "      <th>company</th>\n",
       "      <th>employee_role</th>\n",
       "      <th>employee_detail</th>\n",
       "      <th>review_text</th>\n",
       "      <th>review_date</th>\n",
       "      <th>star_rating</th>\n",
       "      <th>sentiment</th>\n",
       "    </tr>\n",
       "  </thead>\n",
       "  <tbody>\n",
       "    <tr>\n",
       "      <th>0</th>\n",
       "      <td>82630669</td>\n",
       "      <td>Tecnomapas</td>\n",
       "      <td>Recepcionista</td>\n",
       "      <td>Ex-funcionário(a), mais de um ano</td>\n",
       "      <td>Companheirismo entre os colegas, oportunidade ...</td>\n",
       "      <td>15 de dez. de 2023</td>\n",
       "      <td>5.0</td>\n",
       "      <td>1</td>\n",
       "    </tr>\n",
       "    <tr>\n",
       "      <th>2</th>\n",
       "      <td>74420027</td>\n",
       "      <td>Tecnomapas</td>\n",
       "      <td>Analista Desenvolvedor</td>\n",
       "      <td>Ex-freelancer</td>\n",
       "      <td>Equipe bem prestativa e ótima de se trabalhar.</td>\n",
       "      <td>11 de mar. de 2023</td>\n",
       "      <td>4.0</td>\n",
       "      <td>1</td>\n",
       "    </tr>\n",
       "    <tr>\n",
       "      <th>4</th>\n",
       "      <td>60212043</td>\n",
       "      <td>Tecnomapas</td>\n",
       "      <td>Funcionário confidencial</td>\n",
       "      <td>Ex-funcionário(a), menos de um ano</td>\n",
       "      <td>Única vantagem era o trabalho ser home office</td>\n",
       "      <td>24 de fev. de 2022</td>\n",
       "      <td>1.0</td>\n",
       "      <td>1</td>\n",
       "    </tr>\n",
       "    <tr>\n",
       "      <th>6</th>\n",
       "      <td>60144095</td>\n",
       "      <td>Tecnomapas</td>\n",
       "      <td>Analista</td>\n",
       "      <td>Funcionário(a) atual</td>\n",
       "      <td>Ambiente colaborativo, equipe preparada e como...</td>\n",
       "      <td>22 de fev. de 2022</td>\n",
       "      <td>5.0</td>\n",
       "      <td>1</td>\n",
       "    </tr>\n",
       "    <tr>\n",
       "      <th>8</th>\n",
       "      <td>61592206</td>\n",
       "      <td>Tecnomapas</td>\n",
       "      <td>Técnico Em Geoprocessamento</td>\n",
       "      <td>Ex-funcionário(a), mais de 3 anos</td>\n",
       "      <td>Empresa que ensina muito e contrata sem experi...</td>\n",
       "      <td>22 de mar. de 2022</td>\n",
       "      <td>1.0</td>\n",
       "      <td>1</td>\n",
       "    </tr>\n",
       "  </tbody>\n",
       "</table>\n",
       "</div>"
      ],
      "text/plain": [
       "   review_id     company                employee_role  \\\n",
       "0   82630669  Tecnomapas                Recepcionista   \n",
       "2   74420027  Tecnomapas       Analista Desenvolvedor   \n",
       "4   60212043  Tecnomapas     Funcionário confidencial   \n",
       "6   60144095  Tecnomapas                     Analista   \n",
       "8   61592206  Tecnomapas  Técnico Em Geoprocessamento   \n",
       "\n",
       "                      employee_detail  \\\n",
       "0   Ex-funcionário(a), mais de um ano   \n",
       "2                       Ex-freelancer   \n",
       "4  Ex-funcionário(a), menos de um ano   \n",
       "6                Funcionário(a) atual   \n",
       "8   Ex-funcionário(a), mais de 3 anos   \n",
       "\n",
       "                                         review_text         review_date  \\\n",
       "0  Companheirismo entre os colegas, oportunidade ...  15 de dez. de 2023   \n",
       "2     Equipe bem prestativa e ótima de se trabalhar.  11 de mar. de 2023   \n",
       "4      Única vantagem era o trabalho ser home office  24 de fev. de 2022   \n",
       "6  Ambiente colaborativo, equipe preparada e como...  22 de fev. de 2022   \n",
       "8  Empresa que ensina muito e contrata sem experi...  22 de mar. de 2022   \n",
       "\n",
       "   star_rating  sentiment  \n",
       "0          5.0          1  \n",
       "2          4.0          1  \n",
       "4          1.0          1  \n",
       "6          5.0          1  \n",
       "8          1.0          1  "
      ]
     },
     "execution_count": 24,
     "metadata": {},
     "output_type": "execute_result"
    }
   ],
   "source": [
    "positive_reviews_df.head()"
   ]
  },
  {
   "cell_type": "code",
   "execution_count": 25,
   "metadata": {},
   "outputs": [
    {
     "data": {
      "text/plain": [
       "(1283, 8)"
      ]
     },
     "execution_count": 25,
     "metadata": {},
     "output_type": "execute_result"
    }
   ],
   "source": [
    "positive_reviews_df.shape"
   ]
  },
  {
   "cell_type": "code",
   "execution_count": null,
   "metadata": {},
   "outputs": [],
   "source": [
    "predicted_positive_reviews = predict_reviews(positive_reviews_df, \"Positive\")"
   ]
  },
  {
   "cell_type": "code",
   "execution_count": 12,
   "metadata": {},
   "outputs": [
    {
     "data": {
      "text/html": [
       "<div>\n",
       "<style scoped>\n",
       "    .dataframe tbody tr th:only-of-type {\n",
       "        vertical-align: middle;\n",
       "    }\n",
       "\n",
       "    .dataframe tbody tr th {\n",
       "        vertical-align: top;\n",
       "    }\n",
       "\n",
       "    .dataframe thead th {\n",
       "        text-align: right;\n",
       "    }\n",
       "</style>\n",
       "<table border=\"1\" class=\"dataframe\">\n",
       "  <thead>\n",
       "    <tr style=\"text-align: right;\">\n",
       "      <th></th>\n",
       "      <th>review_id</th>\n",
       "      <th>company</th>\n",
       "      <th>employee_role</th>\n",
       "      <th>employee_detail</th>\n",
       "      <th>review_text</th>\n",
       "      <th>review_date</th>\n",
       "      <th>star_rating</th>\n",
       "      <th>sentiment</th>\n",
       "      <th>predicted_label</th>\n",
       "      <th>predicted_score</th>\n",
       "    </tr>\n",
       "  </thead>\n",
       "  <tbody>\n",
       "    <tr>\n",
       "      <th>0</th>\n",
       "      <td>82630669</td>\n",
       "      <td>Tecnomapas</td>\n",
       "      <td>Recepcionista</td>\n",
       "      <td>Ex-funcionário(a), mais de um ano</td>\n",
       "      <td>Companheirismo entre os colegas, oportunidade ...</td>\n",
       "      <td>15 de dez. de 2023</td>\n",
       "      <td>5.0</td>\n",
       "      <td>1</td>\n",
       "      <td>Neutral</td>\n",
       "      <td>0.814863</td>\n",
       "    </tr>\n",
       "    <tr>\n",
       "      <th>2</th>\n",
       "      <td>74420027</td>\n",
       "      <td>Tecnomapas</td>\n",
       "      <td>Analista Desenvolvedor</td>\n",
       "      <td>Ex-freelancer</td>\n",
       "      <td>Equipe bem prestativa e ótima de se trabalhar.</td>\n",
       "      <td>11 de mar. de 2023</td>\n",
       "      <td>4.0</td>\n",
       "      <td>1</td>\n",
       "      <td>Positive</td>\n",
       "      <td>0.987299</td>\n",
       "    </tr>\n",
       "    <tr>\n",
       "      <th>4</th>\n",
       "      <td>60212043</td>\n",
       "      <td>Tecnomapas</td>\n",
       "      <td>Funcionário confidencial</td>\n",
       "      <td>Ex-funcionário(a), menos de um ano</td>\n",
       "      <td>Única vantagem era o trabalho ser home office</td>\n",
       "      <td>24 de fev. de 2022</td>\n",
       "      <td>1.0</td>\n",
       "      <td>1</td>\n",
       "      <td>Neutral</td>\n",
       "      <td>0.980318</td>\n",
       "    </tr>\n",
       "    <tr>\n",
       "      <th>6</th>\n",
       "      <td>60144095</td>\n",
       "      <td>Tecnomapas</td>\n",
       "      <td>Analista</td>\n",
       "      <td>Funcionário(a) atual</td>\n",
       "      <td>Ambiente colaborativo, equipe preparada e como...</td>\n",
       "      <td>22 de fev. de 2022</td>\n",
       "      <td>5.0</td>\n",
       "      <td>1</td>\n",
       "      <td>Positive</td>\n",
       "      <td>0.949690</td>\n",
       "    </tr>\n",
       "    <tr>\n",
       "      <th>8</th>\n",
       "      <td>61592206</td>\n",
       "      <td>Tecnomapas</td>\n",
       "      <td>Técnico Em Geoprocessamento</td>\n",
       "      <td>Ex-funcionário(a), mais de 3 anos</td>\n",
       "      <td>Empresa que ensina muito e contrata sem experi...</td>\n",
       "      <td>22 de mar. de 2022</td>\n",
       "      <td>1.0</td>\n",
       "      <td>1</td>\n",
       "      <td>Negative</td>\n",
       "      <td>0.960868</td>\n",
       "    </tr>\n",
       "  </tbody>\n",
       "</table>\n",
       "</div>"
      ],
      "text/plain": [
       "   review_id     company                employee_role  \\\n",
       "0   82630669  Tecnomapas                Recepcionista   \n",
       "2   74420027  Tecnomapas       Analista Desenvolvedor   \n",
       "4   60212043  Tecnomapas     Funcionário confidencial   \n",
       "6   60144095  Tecnomapas                     Analista   \n",
       "8   61592206  Tecnomapas  Técnico Em Geoprocessamento   \n",
       "\n",
       "                      employee_detail  \\\n",
       "0   Ex-funcionário(a), mais de um ano   \n",
       "2                       Ex-freelancer   \n",
       "4  Ex-funcionário(a), menos de um ano   \n",
       "6                Funcionário(a) atual   \n",
       "8   Ex-funcionário(a), mais de 3 anos   \n",
       "\n",
       "                                         review_text         review_date  \\\n",
       "0  Companheirismo entre os colegas, oportunidade ...  15 de dez. de 2023   \n",
       "2     Equipe bem prestativa e ótima de se trabalhar.  11 de mar. de 2023   \n",
       "4      Única vantagem era o trabalho ser home office  24 de fev. de 2022   \n",
       "6  Ambiente colaborativo, equipe preparada e como...  22 de fev. de 2022   \n",
       "8  Empresa que ensina muito e contrata sem experi...  22 de mar. de 2022   \n",
       "\n",
       "   star_rating  sentiment predicted_label  predicted_score  \n",
       "0          5.0          1         Neutral         0.814863  \n",
       "2          4.0          1        Positive         0.987299  \n",
       "4          1.0          1         Neutral         0.980318  \n",
       "6          5.0          1        Positive         0.949690  \n",
       "8          1.0          1        Negative         0.960868  "
      ]
     },
     "execution_count": 12,
     "metadata": {},
     "output_type": "execute_result"
    }
   ],
   "source": [
    "predicted_positive_reviews.head()"
   ]
  },
  {
   "cell_type": "code",
   "execution_count": 13,
   "metadata": {},
   "outputs": [],
   "source": [
    "predicted_non_positive_reviews = predicted_positive_reviews[\n",
    "    predicted_positive_reviews[\"predicted_label\"] != \"Positive\"\n",
    "]"
   ]
  },
  {
   "cell_type": "code",
   "execution_count": 14,
   "metadata": {},
   "outputs": [
    {
     "data": {
      "text/plain": [
       "(650, 10)"
      ]
     },
     "execution_count": 14,
     "metadata": {},
     "output_type": "execute_result"
    }
   ],
   "source": [
    "predicted_non_positive_reviews.shape"
   ]
  },
  {
   "cell_type": "code",
   "execution_count": 15,
   "metadata": {},
   "outputs": [],
   "source": [
    "predicted_non_positive_reviews.to_csv(\"predicted_non_positive_reviews.csv\", index=False)"
   ]
  },
  {
   "cell_type": "markdown",
   "metadata": {},
   "source": [
    "## Predicting Negative Reviews"
   ]
  },
  {
   "cell_type": "code",
   "execution_count": 26,
   "metadata": {},
   "outputs": [],
   "source": [
    "negative_reviews_df = reviews_df[reviews_df[\"sentiment\"] == -1]"
   ]
  },
  {
   "cell_type": "code",
   "execution_count": 27,
   "metadata": {},
   "outputs": [
    {
     "data": {
      "text/html": [
       "<div>\n",
       "<style scoped>\n",
       "    .dataframe tbody tr th:only-of-type {\n",
       "        vertical-align: middle;\n",
       "    }\n",
       "\n",
       "    .dataframe tbody tr th {\n",
       "        vertical-align: top;\n",
       "    }\n",
       "\n",
       "    .dataframe thead th {\n",
       "        text-align: right;\n",
       "    }\n",
       "</style>\n",
       "<table border=\"1\" class=\"dataframe\">\n",
       "  <thead>\n",
       "    <tr style=\"text-align: right;\">\n",
       "      <th></th>\n",
       "      <th>review_id</th>\n",
       "      <th>company</th>\n",
       "      <th>employee_role</th>\n",
       "      <th>employee_detail</th>\n",
       "      <th>review_text</th>\n",
       "      <th>review_date</th>\n",
       "      <th>star_rating</th>\n",
       "      <th>sentiment</th>\n",
       "    </tr>\n",
       "  </thead>\n",
       "  <tbody>\n",
       "    <tr>\n",
       "      <th>1</th>\n",
       "      <td>82630669</td>\n",
       "      <td>Tecnomapas</td>\n",
       "      <td>Recepcionista</td>\n",
       "      <td>Ex-funcionário(a), mais de um ano</td>\n",
       "      <td>Não tive nenhum ponto negativo</td>\n",
       "      <td>15 de dez. de 2023</td>\n",
       "      <td>5.0</td>\n",
       "      <td>-1</td>\n",
       "    </tr>\n",
       "    <tr>\n",
       "      <th>3</th>\n",
       "      <td>74420027</td>\n",
       "      <td>Tecnomapas</td>\n",
       "      <td>Analista Desenvolvedor</td>\n",
       "      <td>Ex-freelancer</td>\n",
       "      <td>Modo home office ainda tem que ser melhorado.</td>\n",
       "      <td>11 de mar. de 2023</td>\n",
       "      <td>4.0</td>\n",
       "      <td>-1</td>\n",
       "    </tr>\n",
       "    <tr>\n",
       "      <th>5</th>\n",
       "      <td>60212043</td>\n",
       "      <td>Tecnomapas</td>\n",
       "      <td>Funcionário confidencial</td>\n",
       "      <td>Ex-funcionário(a), menos de um ano</td>\n",
       "      <td>Empresa não oferece salário compatível com mer...</td>\n",
       "      <td>24 de fev. de 2022</td>\n",
       "      <td>1.0</td>\n",
       "      <td>-1</td>\n",
       "    </tr>\n",
       "    <tr>\n",
       "      <th>7</th>\n",
       "      <td>60144095</td>\n",
       "      <td>Tecnomapas</td>\n",
       "      <td>Analista</td>\n",
       "      <td>Funcionário(a) atual</td>\n",
       "      <td>Nao tem  contras nessa empresa</td>\n",
       "      <td>22 de fev. de 2022</td>\n",
       "      <td>5.0</td>\n",
       "      <td>-1</td>\n",
       "    </tr>\n",
       "    <tr>\n",
       "      <th>9</th>\n",
       "      <td>61592206</td>\n",
       "      <td>Tecnomapas</td>\n",
       "      <td>Técnico Em Geoprocessamento</td>\n",
       "      <td>Ex-funcionário(a), mais de 3 anos</td>\n",
       "      <td>Salários baixos, sem benéficos e ambiente hostil</td>\n",
       "      <td>22 de mar. de 2022</td>\n",
       "      <td>1.0</td>\n",
       "      <td>-1</td>\n",
       "    </tr>\n",
       "  </tbody>\n",
       "</table>\n",
       "</div>"
      ],
      "text/plain": [
       "   review_id     company                employee_role  \\\n",
       "1   82630669  Tecnomapas                Recepcionista   \n",
       "3   74420027  Tecnomapas       Analista Desenvolvedor   \n",
       "5   60212043  Tecnomapas     Funcionário confidencial   \n",
       "7   60144095  Tecnomapas                     Analista   \n",
       "9   61592206  Tecnomapas  Técnico Em Geoprocessamento   \n",
       "\n",
       "                      employee_detail  \\\n",
       "1   Ex-funcionário(a), mais de um ano   \n",
       "3                       Ex-freelancer   \n",
       "5  Ex-funcionário(a), menos de um ano   \n",
       "7                Funcionário(a) atual   \n",
       "9   Ex-funcionário(a), mais de 3 anos   \n",
       "\n",
       "                                         review_text         review_date  \\\n",
       "1                     Não tive nenhum ponto negativo  15 de dez. de 2023   \n",
       "3      Modo home office ainda tem que ser melhorado.  11 de mar. de 2023   \n",
       "5  Empresa não oferece salário compatível com mer...  24 de fev. de 2022   \n",
       "7                     Nao tem  contras nessa empresa  22 de fev. de 2022   \n",
       "9   Salários baixos, sem benéficos e ambiente hostil  22 de mar. de 2022   \n",
       "\n",
       "   star_rating  sentiment  \n",
       "1          5.0         -1  \n",
       "3          4.0         -1  \n",
       "5          1.0         -1  \n",
       "7          5.0         -1  \n",
       "9          1.0         -1  "
      ]
     },
     "execution_count": 27,
     "metadata": {},
     "output_type": "execute_result"
    }
   ],
   "source": [
    "negative_reviews_df.head()"
   ]
  },
  {
   "cell_type": "code",
   "execution_count": 28,
   "metadata": {},
   "outputs": [
    {
     "data": {
      "text/plain": [
       "(1283, 8)"
      ]
     },
     "execution_count": 28,
     "metadata": {},
     "output_type": "execute_result"
    }
   ],
   "source": [
    "negative_reviews_df.shape"
   ]
  },
  {
   "cell_type": "code",
   "execution_count": null,
   "metadata": {},
   "outputs": [],
   "source": [
    "predicted_negative_reviews = predict_reviews(negative_reviews_df, \"Negative\")"
   ]
  },
  {
   "cell_type": "code",
   "execution_count": 11,
   "metadata": {},
   "outputs": [
    {
     "data": {
      "text/html": [
       "<div>\n",
       "<style scoped>\n",
       "    .dataframe tbody tr th:only-of-type {\n",
       "        vertical-align: middle;\n",
       "    }\n",
       "\n",
       "    .dataframe tbody tr th {\n",
       "        vertical-align: top;\n",
       "    }\n",
       "\n",
       "    .dataframe thead th {\n",
       "        text-align: right;\n",
       "    }\n",
       "</style>\n",
       "<table border=\"1\" class=\"dataframe\">\n",
       "  <thead>\n",
       "    <tr style=\"text-align: right;\">\n",
       "      <th></th>\n",
       "      <th>review_id</th>\n",
       "      <th>company</th>\n",
       "      <th>employee_role</th>\n",
       "      <th>employee_detail</th>\n",
       "      <th>review_text</th>\n",
       "      <th>review_date</th>\n",
       "      <th>star_rating</th>\n",
       "      <th>sentiment</th>\n",
       "      <th>predicted_label</th>\n",
       "      <th>predicted_score</th>\n",
       "    </tr>\n",
       "  </thead>\n",
       "  <tbody>\n",
       "    <tr>\n",
       "      <th>1</th>\n",
       "      <td>82630669</td>\n",
       "      <td>Tecnomapas</td>\n",
       "      <td>Recepcionista</td>\n",
       "      <td>Ex-funcionário(a), mais de um ano</td>\n",
       "      <td>Não tive nenhum ponto negativo</td>\n",
       "      <td>15 de dez. de 2023</td>\n",
       "      <td>5.0</td>\n",
       "      <td>-1</td>\n",
       "      <td>Neutral</td>\n",
       "      <td>0.879178</td>\n",
       "    </tr>\n",
       "    <tr>\n",
       "      <th>3</th>\n",
       "      <td>74420027</td>\n",
       "      <td>Tecnomapas</td>\n",
       "      <td>Analista Desenvolvedor</td>\n",
       "      <td>Ex-freelancer</td>\n",
       "      <td>Modo home office ainda tem que ser melhorado.</td>\n",
       "      <td>11 de mar. de 2023</td>\n",
       "      <td>4.0</td>\n",
       "      <td>-1</td>\n",
       "      <td>Neutral</td>\n",
       "      <td>0.932563</td>\n",
       "    </tr>\n",
       "    <tr>\n",
       "      <th>5</th>\n",
       "      <td>60212043</td>\n",
       "      <td>Tecnomapas</td>\n",
       "      <td>Funcionário confidencial</td>\n",
       "      <td>Ex-funcionário(a), menos de um ano</td>\n",
       "      <td>Empresa não oferece salário compatível com mer...</td>\n",
       "      <td>24 de fev. de 2022</td>\n",
       "      <td>1.0</td>\n",
       "      <td>-1</td>\n",
       "      <td>Negative</td>\n",
       "      <td>0.860661</td>\n",
       "    </tr>\n",
       "    <tr>\n",
       "      <th>7</th>\n",
       "      <td>60144095</td>\n",
       "      <td>Tecnomapas</td>\n",
       "      <td>Analista</td>\n",
       "      <td>Funcionário(a) atual</td>\n",
       "      <td>Nao tem  contras nessa empresa</td>\n",
       "      <td>22 de fev. de 2022</td>\n",
       "      <td>5.0</td>\n",
       "      <td>-1</td>\n",
       "      <td>Neutral</td>\n",
       "      <td>0.978598</td>\n",
       "    </tr>\n",
       "    <tr>\n",
       "      <th>9</th>\n",
       "      <td>61592206</td>\n",
       "      <td>Tecnomapas</td>\n",
       "      <td>Técnico Em Geoprocessamento</td>\n",
       "      <td>Ex-funcionário(a), mais de 3 anos</td>\n",
       "      <td>Salários baixos, sem benéficos e ambiente hostil</td>\n",
       "      <td>22 de mar. de 2022</td>\n",
       "      <td>1.0</td>\n",
       "      <td>-1</td>\n",
       "      <td>Negative</td>\n",
       "      <td>0.899390</td>\n",
       "    </tr>\n",
       "  </tbody>\n",
       "</table>\n",
       "</div>"
      ],
      "text/plain": [
       "   review_id     company                employee_role  \\\n",
       "1   82630669  Tecnomapas                Recepcionista   \n",
       "3   74420027  Tecnomapas       Analista Desenvolvedor   \n",
       "5   60212043  Tecnomapas     Funcionário confidencial   \n",
       "7   60144095  Tecnomapas                     Analista   \n",
       "9   61592206  Tecnomapas  Técnico Em Geoprocessamento   \n",
       "\n",
       "                      employee_detail  \\\n",
       "1   Ex-funcionário(a), mais de um ano   \n",
       "3                       Ex-freelancer   \n",
       "5  Ex-funcionário(a), menos de um ano   \n",
       "7                Funcionário(a) atual   \n",
       "9   Ex-funcionário(a), mais de 3 anos   \n",
       "\n",
       "                                         review_text         review_date  \\\n",
       "1                     Não tive nenhum ponto negativo  15 de dez. de 2023   \n",
       "3      Modo home office ainda tem que ser melhorado.  11 de mar. de 2023   \n",
       "5  Empresa não oferece salário compatível com mer...  24 de fev. de 2022   \n",
       "7                     Nao tem  contras nessa empresa  22 de fev. de 2022   \n",
       "9   Salários baixos, sem benéficos e ambiente hostil  22 de mar. de 2022   \n",
       "\n",
       "   star_rating  sentiment predicted_label  predicted_score  \n",
       "1          5.0         -1         Neutral         0.879178  \n",
       "3          4.0         -1         Neutral         0.932563  \n",
       "5          1.0         -1        Negative         0.860661  \n",
       "7          5.0         -1         Neutral         0.978598  \n",
       "9          1.0         -1        Negative         0.899390  "
      ]
     },
     "execution_count": 11,
     "metadata": {},
     "output_type": "execute_result"
    }
   ],
   "source": [
    "predicted_negative_reviews.head()"
   ]
  },
  {
   "cell_type": "code",
   "execution_count": 12,
   "metadata": {},
   "outputs": [],
   "source": [
    "predicted_non_negative_reviews = predicted_negative_reviews[\n",
    "    predicted_negative_reviews[\"predicted_label\"] != \"Negative\"\n",
    "]"
   ]
  },
  {
   "cell_type": "code",
   "execution_count": 13,
   "metadata": {},
   "outputs": [
    {
     "data": {
      "text/plain": [
       "(821, 10)"
      ]
     },
     "execution_count": 13,
     "metadata": {},
     "output_type": "execute_result"
    }
   ],
   "source": [
    "predicted_non_negative_reviews.shape"
   ]
  },
  {
   "cell_type": "code",
   "execution_count": 14,
   "metadata": {},
   "outputs": [],
   "source": [
    "predicted_non_negative_reviews.to_csv(\"predicted_non_negative_reviews.csv\", index=False)"
   ]
  }
 ],
 "metadata": {
  "kernelspec": {
   "display_name": "venv_sent_analysis",
   "language": "python",
   "name": "python3"
  },
  "language_info": {
   "codemirror_mode": {
    "name": "ipython",
    "version": 3
   },
   "file_extension": ".py",
   "mimetype": "text/x-python",
   "name": "python",
   "nbconvert_exporter": "python",
   "pygments_lexer": "ipython3",
   "version": "3.11.7"
  }
 },
 "nbformat": 4,
 "nbformat_minor": 2
}

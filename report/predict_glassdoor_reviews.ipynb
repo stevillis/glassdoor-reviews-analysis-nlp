{
 "cells": [
  {
   "cell_type": "markdown",
   "metadata": {
    "id": "UUsiZ-SFNpcT"
   },
   "source": [
    "# Predict Glassdoor Reviews\n",
    "Use trained model to predict sentiment of Glassdoor Reviews."
   ]
  },
  {
   "cell_type": "code",
   "execution_count": 1,
   "metadata": {
    "execution": {
     "iopub.execute_input": "2024-10-30T22:23:15.893645Z",
     "iopub.status.busy": "2024-10-30T22:23:15.893355Z",
     "iopub.status.idle": "2024-10-30T22:23:15.903537Z",
     "shell.execute_reply": "2024-10-30T22:23:15.902640Z",
     "shell.execute_reply.started": "2024-10-30T22:23:15.893612Z"
    },
    "executionInfo": {
     "elapsed": 349,
     "status": "ok",
     "timestamp": 1713403387067,
     "user": {
      "displayName": "Stévillis",
      "userId": "01901148833114142760"
     },
     "user_tz": 240
    },
    "id": "RInUzEcANvZ-",
    "trusted": true
   },
   "outputs": [],
   "source": [
    "# @title Environment running\n",
    "running_local = False  # @param {type:\"boolean\"}\n",
    "if running_local:\n",
    "    running_colab = running_kaggle = False\n",
    "else:\n",
    "    running_colab = False  # @param {type:\"boolean\"}\n",
    "    running_kaggle = True  # @param {type:\"boolean\"}"
   ]
  },
  {
   "cell_type": "code",
   "execution_count": 2,
   "metadata": {
    "colab": {
     "base_uri": "https://localhost:8080/"
    },
    "execution": {
     "iopub.execute_input": "2024-10-30T22:23:15.907517Z",
     "iopub.status.busy": "2024-10-30T22:23:15.907237Z",
     "iopub.status.idle": "2024-10-30T22:23:15.918874Z",
     "shell.execute_reply": "2024-10-30T22:23:15.918118Z",
     "shell.execute_reply.started": "2024-10-30T22:23:15.907486Z"
    },
    "executionInfo": {
     "elapsed": 26856,
     "status": "ok",
     "timestamp": 1713403414251,
     "user": {
      "displayName": "Stévillis",
      "userId": "01901148833114142760"
     },
     "user_tz": 240
    },
    "id": "NfDQHbaSNxC-",
    "outputId": "854d7178-2d93-4afa-cd8a-d25f231822af",
    "trusted": true
   },
   "outputs": [],
   "source": [
    "if running_colab:\n",
    "    from google.colab import drive\n",
    "\n",
    "    drive.mount(\"/content/drive\")"
   ]
  },
  {
   "cell_type": "markdown",
   "metadata": {
    "id": "jUhwrEtHNpcW"
   },
   "source": [
    "## Loading the model"
   ]
  },
  {
   "cell_type": "code",
   "execution_count": 3,
   "metadata": {
    "execution": {
     "iopub.execute_input": "2024-10-30T22:23:15.939500Z",
     "iopub.status.busy": "2024-10-30T22:23:15.939239Z",
     "iopub.status.idle": "2024-10-30T22:23:22.930561Z",
     "shell.execute_reply": "2024-10-30T22:23:22.929774Z",
     "shell.execute_reply.started": "2024-10-30T22:23:15.939471Z"
    },
    "executionInfo": {
     "elapsed": 3,
     "status": "ok",
     "timestamp": 1713404101244,
     "user": {
      "displayName": "Stévillis",
      "userId": "01901148833114142760"
     },
     "user_tz": 240
    },
    "id": "6ZKx5yoZNpcX",
    "trusted": true
   },
   "outputs": [],
   "source": [
    "import logging\n",
    "import numpy as np\n",
    "import pandas as pd\n",
    "import platform\n",
    "import random\n",
    "import torch\n",
    "import torch.nn as nn\n",
    "\n",
    "from tqdm import tqdm\n",
    "from transformers import BertTokenizer, BertModel"
   ]
  },
  {
   "cell_type": "code",
   "execution_count": 4,
   "metadata": {
    "execution": {
     "iopub.execute_input": "2024-10-30T22:23:22.932621Z",
     "iopub.status.busy": "2024-10-30T22:23:22.932185Z",
     "iopub.status.idle": "2024-10-30T22:23:22.937741Z",
     "shell.execute_reply": "2024-10-30T22:23:22.936631Z",
     "shell.execute_reply.started": "2024-10-30T22:23:22.932587Z"
    },
    "executionInfo": {
     "elapsed": 70,
     "status": "ok",
     "timestamp": 1713403419593,
     "user": {
      "displayName": "Stévillis",
      "userId": "01901148833114142760"
     },
     "user_tz": 240
    },
    "id": "X2B2vTS8Zs1B",
    "trusted": true
   },
   "outputs": [],
   "source": [
    "logging.basicConfig(\n",
    "    level=logging.INFO,\n",
    "    format=\"%(asctime)s [%(levelname)s] %(message)s\",\n",
    "    handlers=[logging.FileHandler(\"report.log\"), logging.StreamHandler()],\n",
    ")"
   ]
  },
  {
   "cell_type": "code",
   "execution_count": 5,
   "metadata": {
    "execution": {
     "iopub.execute_input": "2024-10-30T22:23:22.939607Z",
     "iopub.status.busy": "2024-10-30T22:23:22.939230Z",
     "iopub.status.idle": "2024-10-30T22:23:22.951861Z",
     "shell.execute_reply": "2024-10-30T22:23:22.950990Z",
     "shell.execute_reply.started": "2024-10-30T22:23:22.939564Z"
    },
    "executionInfo": {
     "elapsed": 68,
     "status": "ok",
     "timestamp": 1713403419593,
     "user": {
      "displayName": "Stévillis",
      "userId": "01901148833114142760"
     },
     "user_tz": 240
    },
    "id": "pk-2CZjfNpcY",
    "trusted": true
   },
   "outputs": [],
   "source": [
    "RANDOM_SEED = 103\n",
    "MODEL_PATH = \"neuralmind/bert-base-portuguese-cased\"\n",
    "TOKEN_MAX_LENGTH = 512\n",
    "\n",
    "PREDICTIONS_PATH = \".\"\n",
    "\n",
    "if running_local:\n",
    "    GLASSDOOR_MODEL_PATH = \"../train_model/bertimbau-glassdoor-reviews-oversampled-freezing-epoch_5.bin\"\n",
    "    OVERSAMPLED_GLASSDOOR_MODEL_PATH = \"../train_model/bertimbau-glassdoor-reviews-oversampled-freezing-epoch_5.bin\"\n",
    "\n",
    "    if platform.system() == \"Windows\":\n",
    "        MODEL_PATH = \"C:\\\\bert-base-portuguese-cased\"\n",
    "    else:\n",
    "        MODEL_PATH = \"/home/stevillis/bert-base-portuguese-cased\"\n",
    "\n",
    "if running_colab:\n",
    "    GLASSDOOR_MODEL_PATH = \"/content/drive/MyDrive/UFMT/Gestão e Ciência de Dados/Disciplinas/14 - Seminário e Metodologia da Pesquisa/Projetos/glassdoor-reviews-analysis-nlp/train_model/bertimbau-glassdoor-reviews-oversampled-freezing-epoch_5.bin\"\n",
    "    OVERSAMPLED_GLASSDOOR_MODEL_PATH = \"/content/drive/MyDrive/UFMT/Gestão e Ciência de Dados/Disciplinas/14 - Seminário e Metodologia da Pesquisa/Projetos/glassdoor-reviews-analysis-nlp/train_model/bertimbau-glassdoor-reviews-oversampled-epoch_5.bin\"\n",
    "    PREDICTIONS_PATH = \"/content/drive/MyDrive/UFMT/Gestão e Ciência de Dados/Disciplinas/14 - Seminário e Metodologia da Pesquisa/Projetos/glassdoor-reviews-analysis-nlp/report\"\n",
    "if running_kaggle:\n",
    "    GLASSDOOR_MODEL_PATH = \"/kaggle/input/bertimbau-glassdoor-reviews-oversampled-freezing-epoch_5.bin/pytorch/bertimbau-glassdoor-reviews-oversampled-freezing-epoch_5/1/bertimbau-glassdoor-reviews-oversampled-freezing-epoch_5.bin\"\n",
    "    OVERSAMPLED_GLASSDOOR_MODEL_PATH = \"/kaggle/input/bertimbau-glassdoor-reviews-oversampled-freezing/pytorch/default/1/bertimbau-glassdoor-reviews-oversampled-freezing-epoch_5.bin\""
   ]
  },
  {
   "cell_type": "code",
   "execution_count": 6,
   "metadata": {
    "colab": {
     "base_uri": "https://localhost:8080/",
     "height": 36
    },
    "execution": {
     "iopub.execute_input": "2024-10-30T22:23:22.955140Z",
     "iopub.status.busy": "2024-10-30T22:23:22.954262Z",
     "iopub.status.idle": "2024-10-30T22:23:22.969524Z",
     "shell.execute_reply": "2024-10-30T22:23:22.968555Z",
     "shell.execute_reply.started": "2024-10-30T22:23:22.955093Z"
    },
    "executionInfo": {
     "elapsed": 67,
     "status": "ok",
     "timestamp": 1713403419594,
     "user": {
      "displayName": "Stévillis",
      "userId": "01901148833114142760"
     },
     "user_tz": 240
    },
    "id": "KpIbyi8zzDw_",
    "outputId": "3da26ce1-6aac-40f1-b91a-593ce727eae1",
    "trusted": true
   },
   "outputs": [
    {
     "data": {
      "text/plain": [
       "'neuralmind/bert-base-portuguese-cased'"
      ]
     },
     "execution_count": 6,
     "metadata": {},
     "output_type": "execute_result"
    }
   ],
   "source": [
    "MODEL_PATH"
   ]
  },
  {
   "cell_type": "code",
   "execution_count": 7,
   "metadata": {
    "colab": {
     "base_uri": "https://localhost:8080/"
    },
    "execution": {
     "iopub.execute_input": "2024-10-30T22:23:22.970856Z",
     "iopub.status.busy": "2024-10-30T22:23:22.970560Z",
     "iopub.status.idle": "2024-10-30T22:23:22.985590Z",
     "shell.execute_reply": "2024-10-30T22:23:22.984786Z",
     "shell.execute_reply.started": "2024-10-30T22:23:22.970810Z"
    },
    "executionInfo": {
     "elapsed": 28,
     "status": "ok",
     "timestamp": 1713403419594,
     "user": {
      "displayName": "Stévillis",
      "userId": "01901148833114142760"
     },
     "user_tz": 240
    },
    "id": "HHG0OsMGqWCo",
    "outputId": "0098f1e6-4eee-42fc-ae7f-993eca702230",
    "trusted": true
   },
   "outputs": [
    {
     "data": {
      "text/plain": [
       "<torch._C.Generator at 0x78f8361fed90>"
      ]
     },
     "execution_count": 7,
     "metadata": {},
     "output_type": "execute_result"
    }
   ],
   "source": [
    "torch.manual_seed(RANDOM_SEED)"
   ]
  },
  {
   "cell_type": "code",
   "execution_count": 8,
   "metadata": {
    "execution": {
     "iopub.execute_input": "2024-10-30T22:23:22.987495Z",
     "iopub.status.busy": "2024-10-30T22:23:22.986672Z",
     "iopub.status.idle": "2024-10-30T22:23:22.991752Z",
     "shell.execute_reply": "2024-10-30T22:23:22.990887Z",
     "shell.execute_reply.started": "2024-10-30T22:23:22.987452Z"
    },
    "executionInfo": {
     "elapsed": 24,
     "status": "ok",
     "timestamp": 1713403419595,
     "user": {
      "displayName": "Stévillis",
      "userId": "01901148833114142760"
     },
     "user_tz": 240
    },
    "id": "C-gsZL7MqWCp",
    "trusted": true
   },
   "outputs": [],
   "source": [
    "random.seed(RANDOM_SEED)"
   ]
  },
  {
   "cell_type": "code",
   "execution_count": 9,
   "metadata": {
    "execution": {
     "iopub.execute_input": "2024-10-30T22:23:22.993076Z",
     "iopub.status.busy": "2024-10-30T22:23:22.992731Z",
     "iopub.status.idle": "2024-10-30T22:23:23.003899Z",
     "shell.execute_reply": "2024-10-30T22:23:23.003051Z",
     "shell.execute_reply.started": "2024-10-30T22:23:22.993033Z"
    },
    "executionInfo": {
     "elapsed": 23,
     "status": "ok",
     "timestamp": 1713403419595,
     "user": {
      "displayName": "Stévillis",
      "userId": "01901148833114142760"
     },
     "user_tz": 240
    },
    "id": "zVjSCsKTqWCp",
    "trusted": true
   },
   "outputs": [],
   "source": [
    "np.random.seed(RANDOM_SEED)"
   ]
  },
  {
   "cell_type": "code",
   "execution_count": 10,
   "metadata": {
    "colab": {
     "base_uri": "https://localhost:8080/"
    },
    "execution": {
     "iopub.execute_input": "2024-10-30T22:23:23.005422Z",
     "iopub.status.busy": "2024-10-30T22:23:23.005085Z",
     "iopub.status.idle": "2024-10-30T22:23:23.095811Z",
     "shell.execute_reply": "2024-10-30T22:23:23.094875Z",
     "shell.execute_reply.started": "2024-10-30T22:23:23.005383Z"
    },
    "executionInfo": {
     "elapsed": 23,
     "status": "ok",
     "timestamp": 1713403419596,
     "user": {
      "displayName": "Stévillis",
      "userId": "01901148833114142760"
     },
     "user_tz": 240
    },
    "id": "aatkWsa3NpcY",
    "outputId": "c14db202-245c-4df8-879a-eaa0a8db174c",
    "trusted": true
   },
   "outputs": [
    {
     "name": "stdout",
     "output_type": "stream",
     "text": [
      "There are 2 GPU(s) available.\n",
      "Device name: Tesla T4\n"
     ]
    }
   ],
   "source": [
    "if torch.cuda.is_available():\n",
    "    device = torch.device(\"cuda\")\n",
    "    print(f\"There are {torch.cuda.device_count()} GPU(s) available.\")\n",
    "    print(\"Device name:\", torch.cuda.get_device_name(0))\n",
    "else:\n",
    "    print(\"No GPU available, using the CPU instead.\")\n",
    "    device = torch.device(\"cpu\")"
   ]
  },
  {
   "cell_type": "code",
   "execution_count": 11,
   "metadata": {
    "execution": {
     "iopub.execute_input": "2024-10-30T22:23:23.097688Z",
     "iopub.status.busy": "2024-10-30T22:23:23.097372Z",
     "iopub.status.idle": "2024-10-30T22:23:23.135480Z",
     "shell.execute_reply": "2024-10-30T22:23:23.134776Z",
     "shell.execute_reply.started": "2024-10-30T22:23:23.097655Z"
    },
    "executionInfo": {
     "elapsed": 2735,
     "status": "ok",
     "timestamp": 1713403422312,
     "user": {
      "displayName": "Stévillis",
      "userId": "01901148833114142760"
     },
     "user_tz": 240
    },
    "id": "R_Enf6mUNpcZ",
    "trusted": true
   },
   "outputs": [],
   "source": [
    "if running_colab:\n",
    "    dataset = pd.read_csv(\n",
    "        \"/content/drive/MyDrive/UFMT/Gestão e Ciência de Dados/Disciplinas/14 - Seminário e Metodologia da Pesquisa/Projetos/glassdoor-reviews-analysis-nlp/data_preparation/glassdoor_reviews_annotated.csv\"\n",
    "    )\n",
    "else:\n",
    "    if running_kaggle:\n",
    "        dataset = pd.read_csv(\n",
    "            \"/kaggle/input/glassdoor-reviews-predicted/glassdoor_reviews_predicted.csv\"\n",
    "        )\n",
    "    else:\n",
    "        dataset = pd.read_csv(\"../data_preparation/glassdoor_reviews_annotated.csv\")"
   ]
  },
  {
   "cell_type": "code",
   "execution_count": 12,
   "metadata": {
    "colab": {
     "base_uri": "https://localhost:8080/"
    },
    "execution": {
     "iopub.execute_input": "2024-10-30T22:23:23.139921Z",
     "iopub.status.busy": "2024-10-30T22:23:23.139610Z",
     "iopub.status.idle": "2024-10-30T22:23:23.147143Z",
     "shell.execute_reply": "2024-10-30T22:23:23.146191Z",
     "shell.execute_reply.started": "2024-10-30T22:23:23.139890Z"
    },
    "executionInfo": {
     "elapsed": 21,
     "status": "ok",
     "timestamp": 1713403422314,
     "user": {
      "displayName": "Stévillis",
      "userId": "01901148833114142760"
     },
     "user_tz": 240
    },
    "id": "c0-ef8P9NpcZ",
    "outputId": "a79412fc-e599-4bf8-a819-2f29a80c9dec",
    "trusted": true
   },
   "outputs": [
    {
     "data": {
      "text/plain": [
       "(2532, 10)"
      ]
     },
     "execution_count": 12,
     "metadata": {},
     "output_type": "execute_result"
    }
   ],
   "source": [
    "dataset.shape"
   ]
  },
  {
   "cell_type": "code",
   "execution_count": 13,
   "metadata": {
    "colab": {
     "base_uri": "https://localhost:8080/"
    },
    "execution": {
     "iopub.execute_input": "2024-10-30T22:23:23.149322Z",
     "iopub.status.busy": "2024-10-30T22:23:23.148611Z",
     "iopub.status.idle": "2024-10-30T22:23:23.168964Z",
     "shell.execute_reply": "2024-10-30T22:23:23.168079Z",
     "shell.execute_reply.started": "2024-10-30T22:23:23.149277Z"
    },
    "executionInfo": {
     "elapsed": 17,
     "status": "ok",
     "timestamp": 1713403422314,
     "user": {
      "displayName": "Stévillis",
      "userId": "01901148833114142760"
     },
     "user_tz": 240
    },
    "id": "971HPw7HNpca",
    "outputId": "6fd118f3-0ddc-4b9f-c865-a9020dd2172d",
    "trusted": true
   },
   "outputs": [
    {
     "data": {
      "text/plain": [
       "sentiment\n",
       " 1    1269\n",
       "-1    1021\n",
       " 0     242\n",
       "Name: count, dtype: int64"
      ]
     },
     "execution_count": 13,
     "metadata": {},
     "output_type": "execute_result"
    }
   ],
   "source": [
    "dataset[\"sentiment\"].value_counts()"
   ]
  },
  {
   "cell_type": "code",
   "execution_count": 14,
   "metadata": {
    "colab": {
     "base_uri": "https://localhost:8080/",
     "height": 201
    },
    "execution": {
     "iopub.execute_input": "2024-10-30T22:23:23.170404Z",
     "iopub.status.busy": "2024-10-30T22:23:23.170119Z",
     "iopub.status.idle": "2024-10-30T22:23:23.192105Z",
     "shell.execute_reply": "2024-10-30T22:23:23.191314Z",
     "shell.execute_reply.started": "2024-10-30T22:23:23.170367Z"
    },
    "executionInfo": {
     "elapsed": 15,
     "status": "ok",
     "timestamp": 1713403422315,
     "user": {
      "displayName": "Stévillis",
      "userId": "01901148833114142760"
     },
     "user_tz": 240
    },
    "id": "bp894zOCNpca",
    "outputId": "c03f47e2-48ac-4209-ab21-715c3d5775ed",
    "trusted": true
   },
   "outputs": [
    {
     "data": {
      "text/html": [
       "<div>\n",
       "<style scoped>\n",
       "    .dataframe tbody tr th:only-of-type {\n",
       "        vertical-align: middle;\n",
       "    }\n",
       "\n",
       "    .dataframe tbody tr th {\n",
       "        vertical-align: top;\n",
       "    }\n",
       "\n",
       "    .dataframe thead th {\n",
       "        text-align: right;\n",
       "    }\n",
       "</style>\n",
       "<table border=\"1\" class=\"dataframe\">\n",
       "  <thead>\n",
       "    <tr style=\"text-align: right;\">\n",
       "      <th></th>\n",
       "      <th>review_id</th>\n",
       "      <th>company</th>\n",
       "      <th>employee_role</th>\n",
       "      <th>employee_detail</th>\n",
       "      <th>review_text</th>\n",
       "      <th>review_date</th>\n",
       "      <th>star_rating</th>\n",
       "      <th>sentiment</th>\n",
       "      <th>annotated</th>\n",
       "      <th>predicted_sentiment</th>\n",
       "    </tr>\n",
       "  </thead>\n",
       "  <tbody>\n",
       "    <tr>\n",
       "      <th>0</th>\n",
       "      <td>82630669</td>\n",
       "      <td>Tecnomapas</td>\n",
       "      <td>Recepcionista</td>\n",
       "      <td>Ex-funcionário(a), mais de um ano</td>\n",
       "      <td>Companheirismo entre os colegas, oportunidade ...</td>\n",
       "      <td>2023-12-15</td>\n",
       "      <td>5.0</td>\n",
       "      <td>1</td>\n",
       "      <td>0</td>\n",
       "      <td>1</td>\n",
       "    </tr>\n",
       "    <tr>\n",
       "      <th>1</th>\n",
       "      <td>82630669</td>\n",
       "      <td>Tecnomapas</td>\n",
       "      <td>Recepcionista</td>\n",
       "      <td>Ex-funcionário(a), mais de um ano</td>\n",
       "      <td>Não tive nenhum ponto negativo</td>\n",
       "      <td>2023-12-15</td>\n",
       "      <td>5.0</td>\n",
       "      <td>0</td>\n",
       "      <td>1</td>\n",
       "      <td>0</td>\n",
       "    </tr>\n",
       "  </tbody>\n",
       "</table>\n",
       "</div>"
      ],
      "text/plain": [
       "   review_id     company  employee_role                    employee_detail  \\\n",
       "0   82630669  Tecnomapas  Recepcionista  Ex-funcionário(a), mais de um ano   \n",
       "1   82630669  Tecnomapas  Recepcionista  Ex-funcionário(a), mais de um ano   \n",
       "\n",
       "                                         review_text review_date  star_rating  \\\n",
       "0  Companheirismo entre os colegas, oportunidade ...  2023-12-15          5.0   \n",
       "1                     Não tive nenhum ponto negativo  2023-12-15          5.0   \n",
       "\n",
       "   sentiment  annotated  predicted_sentiment  \n",
       "0          1          0                    1  \n",
       "1          0          1                    0  "
      ]
     },
     "execution_count": 14,
     "metadata": {},
     "output_type": "execute_result"
    }
   ],
   "source": [
    "dataset.head(2)"
   ]
  },
  {
   "cell_type": "code",
   "execution_count": 15,
   "metadata": {
    "execution": {
     "iopub.execute_input": "2024-10-30T22:23:23.193483Z",
     "iopub.status.busy": "2024-10-30T22:23:23.193179Z",
     "iopub.status.idle": "2024-10-30T22:23:23.197993Z",
     "shell.execute_reply": "2024-10-30T22:23:23.197091Z",
     "shell.execute_reply.started": "2024-10-30T22:23:23.193450Z"
    },
    "executionInfo": {
     "elapsed": 13,
     "status": "ok",
     "timestamp": 1713403422315,
     "user": {
      "displayName": "Stévillis",
      "userId": "01901148833114142760"
     },
     "user_tz": 240
    },
    "id": "ERYzfKHKqWCr",
    "trusted": true
   },
   "outputs": [],
   "source": [
    "num_labels = len(dataset[\"sentiment\"].value_counts())"
   ]
  },
  {
   "cell_type": "code",
   "execution_count": 16,
   "metadata": {
    "colab": {
     "base_uri": "https://localhost:8080/"
    },
    "execution": {
     "iopub.execute_input": "2024-10-30T22:23:23.199445Z",
     "iopub.status.busy": "2024-10-30T22:23:23.199105Z",
     "iopub.status.idle": "2024-10-30T22:23:23.210177Z",
     "shell.execute_reply": "2024-10-30T22:23:23.209220Z",
     "shell.execute_reply.started": "2024-10-30T22:23:23.199409Z"
    },
    "executionInfo": {
     "elapsed": 14,
     "status": "ok",
     "timestamp": 1713403422316,
     "user": {
      "displayName": "Stévillis",
      "userId": "01901148833114142760"
     },
     "user_tz": 240
    },
    "id": "iwEO-4TbqWCs",
    "outputId": "1e8d5cfe-4baf-4be1-db1b-64b579cdc265",
    "trusted": true
   },
   "outputs": [
    {
     "data": {
      "text/plain": [
       "3"
      ]
     },
     "execution_count": 16,
     "metadata": {},
     "output_type": "execute_result"
    }
   ],
   "source": [
    "num_labels"
   ]
  },
  {
   "cell_type": "code",
   "execution_count": 17,
   "metadata": {
    "execution": {
     "iopub.execute_input": "2024-10-30T22:23:23.211802Z",
     "iopub.status.busy": "2024-10-30T22:23:23.211271Z",
     "iopub.status.idle": "2024-10-30T22:23:23.221710Z",
     "shell.execute_reply": "2024-10-30T22:23:23.220879Z",
     "shell.execute_reply.started": "2024-10-30T22:23:23.211769Z"
    },
    "executionInfo": {
     "elapsed": 12,
     "status": "ok",
     "timestamp": 1713403422316,
     "user": {
      "displayName": "Stévillis",
      "userId": "01901148833114142760"
     },
     "user_tz": 240
    },
    "id": "2jhdxyezqWCs",
    "trusted": true
   },
   "outputs": [],
   "source": [
    "class_names = [\"neutral\", \"positive\", \"negative\"]"
   ]
  },
  {
   "cell_type": "markdown",
   "metadata": {
    "id": "16y9D8tZNpcc"
   },
   "source": [
    "## Creating a PyTorch Model"
   ]
  },
  {
   "cell_type": "code",
   "execution_count": 18,
   "metadata": {
    "execution": {
     "iopub.execute_input": "2024-10-30T22:23:23.223062Z",
     "iopub.status.busy": "2024-10-30T22:23:23.222753Z",
     "iopub.status.idle": "2024-10-30T22:23:23.233748Z",
     "shell.execute_reply": "2024-10-30T22:23:23.232800Z",
     "shell.execute_reply.started": "2024-10-30T22:23:23.223031Z"
    },
    "executionInfo": {
     "elapsed": 12,
     "status": "ok",
     "timestamp": 1713403422316,
     "user": {
      "displayName": "Stévillis",
      "userId": "01901148833114142760"
     },
     "user_tz": 240
    },
    "id": "68-O19LLNpcc",
    "trusted": true
   },
   "outputs": [],
   "source": [
    "class GlassdoorReviewsClassifier(nn.Module):\n",
    "    def __init__(self, num_labels):\n",
    "        super(GlassdoorReviewsClassifier, self).__init__()\n",
    "\n",
    "        self.bert = BertModel.from_pretrained(MODEL_PATH)\n",
    "        self.classifier = nn.Sequential(\n",
    "            nn.Linear(self.bert.config.hidden_size, 300),\n",
    "            nn.ReLU(),\n",
    "            nn.Linear(300, 100),\n",
    "            nn.ReLU(),\n",
    "            nn.Linear(100, 50),\n",
    "            nn.ReLU(),\n",
    "            nn.Linear(50, num_labels),\n",
    "        )\n",
    "\n",
    "    def forward(self, input_ids, attention_mask):\n",
    "        outputs = self.bert(input_ids=input_ids, attention_mask=attention_mask)\n",
    "        x = outputs[\"last_hidden_state\"][:, 0, :]\n",
    "        x = self.classifier(x)\n",
    "        return x"
   ]
  },
  {
   "cell_type": "code",
   "execution_count": 19,
   "metadata": {
    "colab": {
     "base_uri": "https://localhost:8080/",
     "height": 1000,
     "referenced_widgets": [
      "7232f277d97d4a18865ff2b481a79d66",
      "17c58980378043cc8fe28a15ea6be4b6",
      "357015a11d2c47a29e2fd033e111cde8",
      "06a4f3338a6e4c94928699a4ba982a23",
      "70fc48d55d674ee48bfc9d1776a39147",
      "7fba2a046b6d4269a5b6ba5d3172cbeb",
      "612bc2aae1ce42c2a0c5424eb4b489d4",
      "c85dd4580e10483c960a015fd969435b",
      "4e99d683a3f1440a9a0399cff703fdbb",
      "a82838c76f3b4a5dbe1fee5008e4f41f",
      "a6e2c2c05ca24b8a85ed5551a0e7db25",
      "fe9461998e9748d6b55b04d9d51f7c0f",
      "860603a4070b4ecaa11830a0adda9ea9",
      "51eeb4dfa4114ad88ba3d63078ea0462",
      "3eeb77ff938e45a88bb9fc8693873fa6",
      "350f1fee671348bc9881fd2e540e62bb",
      "2c30b4ebd7bd4d0daa4b3134d7ce12d5",
      "7c53d608ef434125b5181e1f043e19a9",
      "9ac9c086306e4d41a1ea06d4f047e538",
      "e3dc217c28d740f5813d8971e199a3a7",
      "01fe5e8718904bcb9fc0ed16dca14116",
      "d205586f77554feaa87cd79ea51b8609"
     ]
    },
    "execution": {
     "iopub.execute_input": "2024-10-30T22:23:23.235231Z",
     "iopub.status.busy": "2024-10-30T22:23:23.234871Z",
     "iopub.status.idle": "2024-10-30T22:23:30.305581Z",
     "shell.execute_reply": "2024-10-30T22:23:30.304677Z",
     "shell.execute_reply.started": "2024-10-30T22:23:23.235188Z"
    },
    "executionInfo": {
     "elapsed": 12693,
     "status": "ok",
     "timestamp": 1713403434997,
     "user": {
      "displayName": "Stévillis",
      "userId": "01901148833114142760"
     },
     "user_tz": 240
    },
    "id": "fPToIhMvNpcc",
    "outputId": "5fbedab8-1e21-4bec-ebc2-e8f199ebe9bd",
    "trusted": true
   },
   "outputs": [
    {
     "data": {
      "application/vnd.jupyter.widget-view+json": {
       "model_id": "aeb0b534682743e18a659504b44886d9",
       "version_major": 2,
       "version_minor": 0
      },
      "text/plain": [
       "config.json:   0%|          | 0.00/647 [00:00<?, ?B/s]"
      ]
     },
     "metadata": {},
     "output_type": "display_data"
    },
    {
     "data": {
      "application/vnd.jupyter.widget-view+json": {
       "model_id": "c46e24bc161c44238e889b9e86ff1da9",
       "version_major": 2,
       "version_minor": 0
      },
      "text/plain": [
       "pytorch_model.bin:   0%|          | 0.00/438M [00:00<?, ?B/s]"
      ]
     },
     "metadata": {},
     "output_type": "display_data"
    },
    {
     "name": "stderr",
     "output_type": "stream",
     "text": [
      "/tmp/ipykernel_30/3776040129.py:2: FutureWarning: You are using `torch.load` with `weights_only=False` (the current default value), which uses the default pickle module implicitly. It is possible to construct malicious pickle data which will execute arbitrary code during unpickling (See https://github.com/pytorch/pytorch/blob/main/SECURITY.md#untrusted-models for more details). In a future release, the default value for `weights_only` will be flipped to `True`. This limits the functions that could be executed during unpickling. Arbitrary objects will no longer be allowed to be loaded via this mode unless they are explicitly allowlisted by the user via `torch.serialization.add_safe_globals`. We recommend you start setting `weights_only=True` for any use case where you don't have full control of the loaded file. Please open an issue on GitHub for any issues related to this experimental feature.\n",
      "  model.load_state_dict(torch.load(OVERSAMPLED_GLASSDOOR_MODEL_PATH, map_location=device))\n"
     ]
    },
    {
     "data": {
      "text/plain": [
       "GlassdoorReviewsClassifier(\n",
       "  (bert): BertModel(\n",
       "    (embeddings): BertEmbeddings(\n",
       "      (word_embeddings): Embedding(29794, 768, padding_idx=0)\n",
       "      (position_embeddings): Embedding(512, 768)\n",
       "      (token_type_embeddings): Embedding(2, 768)\n",
       "      (LayerNorm): LayerNorm((768,), eps=1e-12, elementwise_affine=True)\n",
       "      (dropout): Dropout(p=0.1, inplace=False)\n",
       "    )\n",
       "    (encoder): BertEncoder(\n",
       "      (layer): ModuleList(\n",
       "        (0-11): 12 x BertLayer(\n",
       "          (attention): BertAttention(\n",
       "            (self): BertSdpaSelfAttention(\n",
       "              (query): Linear(in_features=768, out_features=768, bias=True)\n",
       "              (key): Linear(in_features=768, out_features=768, bias=True)\n",
       "              (value): Linear(in_features=768, out_features=768, bias=True)\n",
       "              (dropout): Dropout(p=0.1, inplace=False)\n",
       "            )\n",
       "            (output): BertSelfOutput(\n",
       "              (dense): Linear(in_features=768, out_features=768, bias=True)\n",
       "              (LayerNorm): LayerNorm((768,), eps=1e-12, elementwise_affine=True)\n",
       "              (dropout): Dropout(p=0.1, inplace=False)\n",
       "            )\n",
       "          )\n",
       "          (intermediate): BertIntermediate(\n",
       "            (dense): Linear(in_features=768, out_features=3072, bias=True)\n",
       "            (intermediate_act_fn): GELUActivation()\n",
       "          )\n",
       "          (output): BertOutput(\n",
       "            (dense): Linear(in_features=3072, out_features=768, bias=True)\n",
       "            (LayerNorm): LayerNorm((768,), eps=1e-12, elementwise_affine=True)\n",
       "            (dropout): Dropout(p=0.1, inplace=False)\n",
       "          )\n",
       "        )\n",
       "      )\n",
       "    )\n",
       "    (pooler): BertPooler(\n",
       "      (dense): Linear(in_features=768, out_features=768, bias=True)\n",
       "      (activation): Tanh()\n",
       "    )\n",
       "  )\n",
       "  (classifier): Sequential(\n",
       "    (0): Linear(in_features=768, out_features=300, bias=True)\n",
       "    (1): ReLU()\n",
       "    (2): Linear(in_features=300, out_features=100, bias=True)\n",
       "    (3): ReLU()\n",
       "    (4): Linear(in_features=100, out_features=50, bias=True)\n",
       "    (5): ReLU()\n",
       "    (6): Linear(in_features=50, out_features=3, bias=True)\n",
       "  )\n",
       ")"
      ]
     },
     "execution_count": 19,
     "metadata": {},
     "output_type": "execute_result"
    }
   ],
   "source": [
    "model = GlassdoorReviewsClassifier(num_labels).to(device)\n",
    "model.load_state_dict(torch.load(OVERSAMPLED_GLASSDOOR_MODEL_PATH, map_location=device))\n",
    "model.eval()"
   ]
  },
  {
   "cell_type": "markdown",
   "metadata": {
    "id": "CdSJBFjUNpcc"
   },
   "source": [
    "## Prediction over annotated dataset"
   ]
  },
  {
   "cell_type": "code",
   "execution_count": 20,
   "metadata": {
    "colab": {
     "base_uri": "https://localhost:8080/",
     "height": 145,
     "referenced_widgets": [
      "31b44b598a4b4d71bbb86886f162c216",
      "6e70ea975e244dadbc3414264370eaf4",
      "63fca1355200468d818b2577db1405a8",
      "af768fc2eabf48b49722fd16d73234e6",
      "bc9846f473444334b93e894e829c9723",
      "e319a1e5d7fb49138dad8ab669acd206",
      "957b9d843b8b40f58fb3c4f74f77d7e2",
      "0845c4beb5ab4652ae4554e96c7a58f3",
      "8240176bcb61438ea465183c5c6e07ae",
      "58e5dee460db4d8fbac694380550286d",
      "562c2d603d434916a672c0152c804fd9",
      "916ac4c42d59440997b453c8a207324e",
      "39a7ec6e27cb42b78414ad492d665b6e",
      "9c750c54e0354717ae5aed01098c8e27",
      "44ce488ab1da4181affc0dbdddeab8c1",
      "d85afcefcaef4b8db49197f8deb68f03",
      "e115a64bd0d34a5b893e8c258247c8f1",
      "39562df715b14ffa8bf70cfba56a4127",
      "a1c95bf1bc9e46dcb525977e24f597e0",
      "bc3f0a8f089c46359378f3e9bb921046",
      "ab41573831634a9198a7ed4ec055fe10",
      "7fdc2985e01c4bc69ed40b27b0997868",
      "2118c6f2f4d74d84ace7b3cde2c65121",
      "23deb55f9d874fe2a7040ff513580e89",
      "b28291d95fc24efbaff448eaa8bd5264",
      "1ea9974b7c3545fbba9f1a5223867293",
      "381932b667fb4d0fbf67f0d7856252c7",
      "2a4d628a89d4456eb6287294171a8021",
      "963125b3377c4685a6778429cc0f1511",
      "ebc89bbb378a483080e1e22760298586",
      "3f600fbfa63547b1ad0179261a5feabf",
      "a8f57054612f43bc904f78cbb61b1ba5",
      "4bbade5b4b874aac8ae3b443932c25a4",
      "c2c0e22600dd4b189732187ea960f4f1",
      "15ad5258454a44719e3d4201f4aa225b",
      "e88ecea8948644318c0ebc63ee0349df",
      "220b3db58937404583a81dd3820bb1e6",
      "2e214027130644d9a4c69479b4d89113",
      "53575c678ce34991bf3e56407f1f87ad",
      "819ec4c3470c4f4f8f13502fcdf63f99",
      "7d72481c5eb44f0cbbbab8ca3cfbd6a5",
      "32e3acd08fbb42b8bd3f0cacd223db52",
      "299c1d9e011f49bc994e773b8c51caa2",
      "2260597ba7364497af493656f88d7e83"
     ]
    },
    "execution": {
     "iopub.execute_input": "2024-10-30T22:23:30.307107Z",
     "iopub.status.busy": "2024-10-30T22:23:30.306769Z",
     "iopub.status.idle": "2024-10-30T22:23:31.189375Z",
     "shell.execute_reply": "2024-10-30T22:23:31.188625Z",
     "shell.execute_reply.started": "2024-10-30T22:23:30.307075Z"
    },
    "executionInfo": {
     "elapsed": 1351,
     "status": "ok",
     "timestamp": 1713403436314,
     "user": {
      "displayName": "Stévillis",
      "userId": "01901148833114142760"
     },
     "user_tz": 240
    },
    "id": "UKyi9VIXNpcc",
    "outputId": "23cb8ef5-2ff3-4d21-c3a3-87a54e425ba2",
    "trusted": true
   },
   "outputs": [
    {
     "data": {
      "application/vnd.jupyter.widget-view+json": {
       "model_id": "b427559e59bb4c63a529cf9ecc33c0f4",
       "version_major": 2,
       "version_minor": 0
      },
      "text/plain": [
       "tokenizer_config.json:   0%|          | 0.00/43.0 [00:00<?, ?B/s]"
      ]
     },
     "metadata": {},
     "output_type": "display_data"
    },
    {
     "data": {
      "application/vnd.jupyter.widget-view+json": {
       "model_id": "0b94c8c8d3f244c5b1e19861bcd83bbf",
       "version_major": 2,
       "version_minor": 0
      },
      "text/plain": [
       "vocab.txt:   0%|          | 0.00/210k [00:00<?, ?B/s]"
      ]
     },
     "metadata": {},
     "output_type": "display_data"
    },
    {
     "data": {
      "application/vnd.jupyter.widget-view+json": {
       "model_id": "c18e8a0e3960473f80bb244dfe1eefc3",
       "version_major": 2,
       "version_minor": 0
      },
      "text/plain": [
       "added_tokens.json:   0%|          | 0.00/2.00 [00:00<?, ?B/s]"
      ]
     },
     "metadata": {},
     "output_type": "display_data"
    },
    {
     "data": {
      "application/vnd.jupyter.widget-view+json": {
       "model_id": "ad6e3240597848af8555bd2f6d2c5d80",
       "version_major": 2,
       "version_minor": 0
      },
      "text/plain": [
       "special_tokens_map.json:   0%|          | 0.00/112 [00:00<?, ?B/s]"
      ]
     },
     "metadata": {},
     "output_type": "display_data"
    }
   ],
   "source": [
    "tokenizer = BertTokenizer.from_pretrained(MODEL_PATH)"
   ]
  },
  {
   "cell_type": "code",
   "execution_count": 21,
   "metadata": {
    "execution": {
     "iopub.execute_input": "2024-10-30T22:23:31.190808Z",
     "iopub.status.busy": "2024-10-30T22:23:31.190510Z",
     "iopub.status.idle": "2024-10-30T22:23:31.195866Z",
     "shell.execute_reply": "2024-10-30T22:23:31.194852Z",
     "shell.execute_reply.started": "2024-10-30T22:23:31.190777Z"
    },
    "executionInfo": {
     "elapsed": 5,
     "status": "ok",
     "timestamp": 1713403436315,
     "user": {
      "displayName": "Stévillis",
      "userId": "01901148833114142760"
     },
     "user_tz": 240
    },
    "id": "Ru34SdheNpcd",
    "trusted": true
   },
   "outputs": [],
   "source": [
    "def convert_to_str(input_value):\n",
    "    if isinstance(input_value, np.ndarray):\n",
    "        input_str = \" \".join(input_value)\n",
    "    else:\n",
    "        input_str = input_value\n",
    "\n",
    "    return input_str"
   ]
  },
  {
   "cell_type": "code",
   "execution_count": 22,
   "metadata": {
    "execution": {
     "iopub.execute_input": "2024-10-30T22:23:31.197333Z",
     "iopub.status.busy": "2024-10-30T22:23:31.197048Z",
     "iopub.status.idle": "2024-10-30T22:23:31.212191Z",
     "shell.execute_reply": "2024-10-30T22:23:31.211349Z",
     "shell.execute_reply.started": "2024-10-30T22:23:31.197303Z"
    },
    "executionInfo": {
     "elapsed": 5,
     "status": "ok",
     "timestamp": 1713403436315,
     "user": {
      "displayName": "Stévillis",
      "userId": "01901148833114142760"
     },
     "user_tz": 240
    },
    "id": "kg7anh_3Npcd",
    "trusted": true
   },
   "outputs": [],
   "source": [
    "def predict_sentiment(texts):\n",
    "    outputs = []\n",
    "    for txt in texts:\n",
    "        encoded_texts = tokenizer(\n",
    "            convert_to_str(texts),\n",
    "            max_length=TOKEN_MAX_LENGTH,\n",
    "            add_special_tokens=True,\n",
    "            return_token_type_ids=False,\n",
    "            padding=\"max_length\",\n",
    "            truncation=True,\n",
    "            return_attention_mask=True,\n",
    "            return_tensors=\"pt\",\n",
    "        )\n",
    "\n",
    "        input_ids = encoded_texts[\"input_ids\"].to(device)\n",
    "        attention_mask = encoded_texts[\"attention_mask\"].to(device)\n",
    "\n",
    "        with torch.no_grad():\n",
    "            output = model(input_ids, attention_mask)\n",
    "            probabilities = torch.nn.functional.softmax(output, dim=1)\n",
    "            outputs.append(probabilities.cpu().numpy())\n",
    "\n",
    "    return np.concatenate(outputs, axis=0)"
   ]
  },
  {
   "cell_type": "markdown",
   "metadata": {
    "id": "2g_Ds5HKqWCt"
   },
   "source": [
    "### Predict reviews sentiment"
   ]
  },
  {
   "cell_type": "code",
   "execution_count": 23,
   "metadata": {
    "execution": {
     "iopub.execute_input": "2024-10-30T22:23:31.213535Z",
     "iopub.status.busy": "2024-10-30T22:23:31.213248Z",
     "iopub.status.idle": "2024-10-30T22:23:31.229835Z",
     "shell.execute_reply": "2024-10-30T22:23:31.228785Z",
     "shell.execute_reply.started": "2024-10-30T22:23:31.213504Z"
    },
    "executionInfo": {
     "elapsed": 4,
     "status": "ok",
     "timestamp": 1713403436315,
     "user": {
      "displayName": "Stévillis",
      "userId": "01901148833114142760"
     },
     "user_tz": 240
    },
    "id": "9ROTtzbOzDxQ",
    "trusted": true
   },
   "outputs": [],
   "source": [
    "dataset[\"predicted_sentiment\"] = pd.Series(dtype=\"int\")"
   ]
  },
  {
   "cell_type": "code",
   "execution_count": 24,
   "metadata": {
    "colab": {
     "base_uri": "https://localhost:8080/"
    },
    "execution": {
     "iopub.execute_input": "2024-10-30T22:23:31.231865Z",
     "iopub.status.busy": "2024-10-30T22:23:31.230979Z",
     "iopub.status.idle": "2024-10-30T22:23:31.239245Z",
     "shell.execute_reply": "2024-10-30T22:23:31.238273Z",
     "shell.execute_reply.started": "2024-10-30T22:23:31.231818Z"
    },
    "executionInfo": {
     "elapsed": 2,
     "status": "ok",
     "timestamp": 1713404128959,
     "user": {
      "displayName": "Stévillis",
      "userId": "01901148833114142760"
     },
     "user_tz": 240
    },
    "id": "shDvqOVG2A01",
    "outputId": "028ce961-e8b9-4b41-b415-07330b5b737c",
    "trusted": true
   },
   "outputs": [
    {
     "data": {
      "text/plain": [
       "2532"
      ]
     },
     "execution_count": 24,
     "metadata": {},
     "output_type": "execute_result"
    }
   ],
   "source": [
    "total_iterations = len(dataset)\n",
    "total_iterations"
   ]
  },
  {
   "cell_type": "code",
   "execution_count": 25,
   "metadata": {
    "colab": {
     "base_uri": "https://localhost:8080/"
    },
    "execution": {
     "iopub.execute_input": "2024-10-30T22:23:31.240489Z",
     "iopub.status.busy": "2024-10-30T22:23:31.240218Z",
     "iopub.status.idle": "2024-10-31T00:40:32.293964Z",
     "shell.execute_reply": "2024-10-31T00:40:32.292918Z",
     "shell.execute_reply.started": "2024-10-30T22:23:31.240460Z"
    },
    "id": "ra4886MguVJR",
    "outputId": "a4e37ec8-e51d-4d18-e5b5-2ba2ef9d240c",
    "trusted": true
   },
   "outputs": [
    {
     "name": "stderr",
     "output_type": "stream",
     "text": [
      "Processing: 100%|██████████| 2532/2532 [2:17:01<00:00,  3.25s/it]  \n"
     ]
    }
   ],
   "source": [
    "for index, row in tqdm(dataset.iterrows(), total=total_iterations, desc=\"Processing\"):\n",
    "    output_probabilities = predict_sentiment(row[\"review_text\"])\n",
    "    predicted_sentiment = np.argmax(output_probabilities)\n",
    "    # predicted_sentiment_label = class_names[predicted_sentiment]\n",
    "    dataset.loc[index, \"predicted_sentiment\"] = predicted_sentiment\n",
    "\n",
    "    if index > 0 and index % 100 == 0:\n",
    "        logging.info(f\"Predicted rows: {index}/{len(dataset)}\")\n",
    "        logging.info(\n",
    "            f\"Review Text: {row['review_text']}; Predicted Sentiment: {predicted_sentiment}\"\n",
    "        )"
   ]
  },
  {
   "cell_type": "code",
   "execution_count": 26,
   "metadata": {
    "execution": {
     "iopub.execute_input": "2024-10-31T00:40:32.295570Z",
     "iopub.status.busy": "2024-10-31T00:40:32.295237Z",
     "iopub.status.idle": "2024-10-31T00:40:32.301177Z",
     "shell.execute_reply": "2024-10-31T00:40:32.300175Z",
     "shell.execute_reply.started": "2024-10-31T00:40:32.295536Z"
    },
    "executionInfo": {
     "elapsed": 5,
     "status": "aborted",
     "timestamp": 1713404094696,
     "user": {
      "displayName": "Stévillis",
      "userId": "01901148833114142760"
     },
     "user_tz": 240
    },
    "id": "nTnCOmRvzDxR",
    "trusted": true
   },
   "outputs": [],
   "source": [
    "dataset[\"predicted_sentiment\"] = dataset[\"predicted_sentiment\"].astype(int)"
   ]
  },
  {
   "cell_type": "code",
   "execution_count": 27,
   "metadata": {
    "execution": {
     "iopub.execute_input": "2024-10-31T00:40:32.303493Z",
     "iopub.status.busy": "2024-10-31T00:40:32.303037Z",
     "iopub.status.idle": "2024-10-31T00:40:32.324132Z",
     "shell.execute_reply": "2024-10-31T00:40:32.323279Z",
     "shell.execute_reply.started": "2024-10-31T00:40:32.303447Z"
    },
    "executionInfo": {
     "elapsed": 5,
     "status": "aborted",
     "timestamp": 1713404094696,
     "user": {
      "displayName": "Stévillis",
      "userId": "01901148833114142760"
     },
     "user_tz": 240
    },
    "id": "SNTLkrf9zDxT",
    "trusted": true
   },
   "outputs": [
    {
     "data": {
      "text/html": [
       "<div>\n",
       "<style scoped>\n",
       "    .dataframe tbody tr th:only-of-type {\n",
       "        vertical-align: middle;\n",
       "    }\n",
       "\n",
       "    .dataframe tbody tr th {\n",
       "        vertical-align: top;\n",
       "    }\n",
       "\n",
       "    .dataframe thead th {\n",
       "        text-align: right;\n",
       "    }\n",
       "</style>\n",
       "<table border=\"1\" class=\"dataframe\">\n",
       "  <thead>\n",
       "    <tr style=\"text-align: right;\">\n",
       "      <th></th>\n",
       "      <th>review_id</th>\n",
       "      <th>company</th>\n",
       "      <th>employee_role</th>\n",
       "      <th>employee_detail</th>\n",
       "      <th>review_text</th>\n",
       "      <th>review_date</th>\n",
       "      <th>star_rating</th>\n",
       "      <th>sentiment</th>\n",
       "      <th>annotated</th>\n",
       "      <th>predicted_sentiment</th>\n",
       "    </tr>\n",
       "  </thead>\n",
       "  <tbody>\n",
       "    <tr>\n",
       "      <th>0</th>\n",
       "      <td>82630669</td>\n",
       "      <td>Tecnomapas</td>\n",
       "      <td>Recepcionista</td>\n",
       "      <td>Ex-funcionário(a), mais de um ano</td>\n",
       "      <td>Companheirismo entre os colegas, oportunidade ...</td>\n",
       "      <td>2023-12-15</td>\n",
       "      <td>5.0</td>\n",
       "      <td>1</td>\n",
       "      <td>0</td>\n",
       "      <td>1</td>\n",
       "    </tr>\n",
       "    <tr>\n",
       "      <th>1</th>\n",
       "      <td>82630669</td>\n",
       "      <td>Tecnomapas</td>\n",
       "      <td>Recepcionista</td>\n",
       "      <td>Ex-funcionário(a), mais de um ano</td>\n",
       "      <td>Não tive nenhum ponto negativo</td>\n",
       "      <td>2023-12-15</td>\n",
       "      <td>5.0</td>\n",
       "      <td>0</td>\n",
       "      <td>1</td>\n",
       "      <td>0</td>\n",
       "    </tr>\n",
       "    <tr>\n",
       "      <th>2</th>\n",
       "      <td>74420027</td>\n",
       "      <td>Tecnomapas</td>\n",
       "      <td>Analista Desenvolvedor</td>\n",
       "      <td>Ex-freelancer</td>\n",
       "      <td>Equipe bem prestativa e ótima de se trabalhar.</td>\n",
       "      <td>2023-03-11</td>\n",
       "      <td>4.0</td>\n",
       "      <td>1</td>\n",
       "      <td>0</td>\n",
       "      <td>1</td>\n",
       "    </tr>\n",
       "  </tbody>\n",
       "</table>\n",
       "</div>"
      ],
      "text/plain": [
       "   review_id     company           employee_role  \\\n",
       "0   82630669  Tecnomapas           Recepcionista   \n",
       "1   82630669  Tecnomapas           Recepcionista   \n",
       "2   74420027  Tecnomapas  Analista Desenvolvedor   \n",
       "\n",
       "                     employee_detail  \\\n",
       "0  Ex-funcionário(a), mais de um ano   \n",
       "1  Ex-funcionário(a), mais de um ano   \n",
       "2                      Ex-freelancer   \n",
       "\n",
       "                                         review_text review_date  star_rating  \\\n",
       "0  Companheirismo entre os colegas, oportunidade ...  2023-12-15          5.0   \n",
       "1                     Não tive nenhum ponto negativo  2023-12-15          5.0   \n",
       "2     Equipe bem prestativa e ótima de se trabalhar.  2023-03-11          4.0   \n",
       "\n",
       "   sentiment  annotated  predicted_sentiment  \n",
       "0          1          0                    1  \n",
       "1          0          1                    0  \n",
       "2          1          0                    1  "
      ]
     },
     "execution_count": 27,
     "metadata": {},
     "output_type": "execute_result"
    }
   ],
   "source": [
    "dataset.head(3)"
   ]
  },
  {
   "cell_type": "code",
   "execution_count": 28,
   "metadata": {
    "execution": {
     "iopub.execute_input": "2024-10-31T00:40:32.325522Z",
     "iopub.status.busy": "2024-10-31T00:40:32.325202Z",
     "iopub.status.idle": "2024-10-31T00:40:32.338263Z",
     "shell.execute_reply": "2024-10-31T00:40:32.337352Z",
     "shell.execute_reply.started": "2024-10-31T00:40:32.325491Z"
    },
    "trusted": true
   },
   "outputs": [
    {
     "data": {
      "text/plain": [
       "predicted_sentiment\n",
       "1    1274\n",
       "2    1004\n",
       "0     254\n",
       "Name: count, dtype: int64"
      ]
     },
     "execution_count": 28,
     "metadata": {},
     "output_type": "execute_result"
    }
   ],
   "source": [
    "dataset[\"predicted_sentiment\"].value_counts()"
   ]
  },
  {
   "cell_type": "code",
   "execution_count": 29,
   "metadata": {
    "execution": {
     "iopub.execute_input": "2024-10-31T00:40:32.339850Z",
     "iopub.status.busy": "2024-10-31T00:40:32.339479Z",
     "iopub.status.idle": "2024-10-31T00:40:32.382810Z",
     "shell.execute_reply": "2024-10-31T00:40:32.382098Z",
     "shell.execute_reply.started": "2024-10-31T00:40:32.339815Z"
    },
    "executionInfo": {
     "elapsed": 5,
     "status": "aborted",
     "timestamp": 1713404094696,
     "user": {
      "displayName": "Stévillis",
      "userId": "01901148833114142760"
     },
     "user_tz": 240
    },
    "id": "VVUTyAAAY0Sz",
    "trusted": true
   },
   "outputs": [],
   "source": [
    "dataset.to_csv(\n",
    "    f\"{PREDICTIONS_PATH}/glassdoor_reviews_predicted.csv\",\n",
    "    index=False,\n",
    ")"
   ]
  },
  {
   "cell_type": "code",
   "execution_count": 30,
   "metadata": {
    "execution": {
     "iopub.execute_input": "2024-10-31T00:40:32.387587Z",
     "iopub.status.busy": "2024-10-31T00:40:32.387287Z",
     "iopub.status.idle": "2024-10-31T00:40:32.394019Z",
     "shell.execute_reply": "2024-10-31T00:40:32.393095Z",
     "shell.execute_reply.started": "2024-10-31T00:40:32.387554Z"
    },
    "executionInfo": {
     "elapsed": 6,
     "status": "aborted",
     "timestamp": 1713404094697,
     "user": {
      "displayName": "Stévillis",
      "userId": "01901148833114142760"
     },
     "user_tz": 240
    },
    "id": "4j0e6qgSzDxV",
    "trusted": true
   },
   "outputs": [
    {
     "name": "stdout",
     "output_type": "stream",
     "text": [
      "/kaggle/working\n"
     ]
    }
   ],
   "source": [
    "if running_kaggle:\n",
    "    %cd /kaggle/working\n",
    "    from IPython.display import FileLink\n",
    "    FileLink('/kaggle/working/glassdoor_reviews_predicted.csv')"
   ]
  }
 ],
 "metadata": {
  "accelerator": "GPU",
  "colab": {
   "gpuType": "T4",
   "provenance": []
  },
  "kaggle": {
   "accelerator": "nvidiaTeslaT4",
   "dataSources": [
    {
     "datasetId": 5982013,
     "sourceId": 9767237,
     "sourceType": "datasetVersion"
    },
    {
     "isSourceIdPinned": true,
     "modelId": 151750,
     "modelInstanceId": 128882,
     "sourceId": 151781,
     "sourceType": "modelInstanceVersion"
    }
   ],
   "dockerImageVersionId": 30787,
   "isGpuEnabled": true,
   "isInternetEnabled": true,
   "language": "python",
   "sourceType": "notebook"
  },
  "kernelspec": {
   "display_name": "venv_sent_analysis",
   "language": "python",
   "name": "python3"
  },
  "language_info": {
   "codemirror_mode": {
    "name": "ipython",
    "version": 3
   },
   "file_extension": ".py",
   "mimetype": "text/x-python",
   "name": "python",
   "nbconvert_exporter": "python",
   "pygments_lexer": "ipython3",
   "version": "3.11.7"
  },
  "widgets": {
   "application/vnd.jupyter.widget-state+json": {
    "01fe5e8718904bcb9fc0ed16dca14116": {
     "model_module": "@jupyter-widgets/base",
     "model_module_version": "1.2.0",
     "model_name": "LayoutModel",
     "state": {
      "_model_module": "@jupyter-widgets/base",
      "_model_module_version": "1.2.0",
      "_model_name": "LayoutModel",
      "_view_count": null,
      "_view_module": "@jupyter-widgets/base",
      "_view_module_version": "1.2.0",
      "_view_name": "LayoutView",
      "align_content": null,
      "align_items": null,
      "align_self": null,
      "border": null,
      "bottom": null,
      "display": null,
      "flex": null,
      "flex_flow": null,
      "grid_area": null,
      "grid_auto_columns": null,
      "grid_auto_flow": null,
      "grid_auto_rows": null,
      "grid_column": null,
      "grid_gap": null,
      "grid_row": null,
      "grid_template_areas": null,
      "grid_template_columns": null,
      "grid_template_rows": null,
      "height": null,
      "justify_content": null,
      "justify_items": null,
      "left": null,
      "margin": null,
      "max_height": null,
      "max_width": null,
      "min_height": null,
      "min_width": null,
      "object_fit": null,
      "object_position": null,
      "order": null,
      "overflow": null,
      "overflow_x": null,
      "overflow_y": null,
      "padding": null,
      "right": null,
      "top": null,
      "visibility": null,
      "width": null
     }
    },
    "06a4f3338a6e4c94928699a4ba982a23": {
     "model_module": "@jupyter-widgets/controls",
     "model_module_version": "1.5.0",
     "model_name": "HTMLModel",
     "state": {
      "_dom_classes": [],
      "_model_module": "@jupyter-widgets/controls",
      "_model_module_version": "1.5.0",
      "_model_name": "HTMLModel",
      "_view_count": null,
      "_view_module": "@jupyter-widgets/controls",
      "_view_module_version": "1.5.0",
      "_view_name": "HTMLView",
      "description": "",
      "description_tooltip": null,
      "layout": "IPY_MODEL_a82838c76f3b4a5dbe1fee5008e4f41f",
      "placeholder": "​",
      "style": "IPY_MODEL_a6e2c2c05ca24b8a85ed5551a0e7db25",
      "value": " 647/647 [00:00&lt;00:00, 44.4kB/s]"
     }
    },
    "0845c4beb5ab4652ae4554e96c7a58f3": {
     "model_module": "@jupyter-widgets/base",
     "model_module_version": "1.2.0",
     "model_name": "LayoutModel",
     "state": {
      "_model_module": "@jupyter-widgets/base",
      "_model_module_version": "1.2.0",
      "_model_name": "LayoutModel",
      "_view_count": null,
      "_view_module": "@jupyter-widgets/base",
      "_view_module_version": "1.2.0",
      "_view_name": "LayoutView",
      "align_content": null,
      "align_items": null,
      "align_self": null,
      "border": null,
      "bottom": null,
      "display": null,
      "flex": null,
      "flex_flow": null,
      "grid_area": null,
      "grid_auto_columns": null,
      "grid_auto_flow": null,
      "grid_auto_rows": null,
      "grid_column": null,
      "grid_gap": null,
      "grid_row": null,
      "grid_template_areas": null,
      "grid_template_columns": null,
      "grid_template_rows": null,
      "height": null,
      "justify_content": null,
      "justify_items": null,
      "left": null,
      "margin": null,
      "max_height": null,
      "max_width": null,
      "min_height": null,
      "min_width": null,
      "object_fit": null,
      "object_position": null,
      "order": null,
      "overflow": null,
      "overflow_x": null,
      "overflow_y": null,
      "padding": null,
      "right": null,
      "top": null,
      "visibility": null,
      "width": null
     }
    },
    "15ad5258454a44719e3d4201f4aa225b": {
     "model_module": "@jupyter-widgets/controls",
     "model_module_version": "1.5.0",
     "model_name": "HTMLModel",
     "state": {
      "_dom_classes": [],
      "_model_module": "@jupyter-widgets/controls",
      "_model_module_version": "1.5.0",
      "_model_name": "HTMLModel",
      "_view_count": null,
      "_view_module": "@jupyter-widgets/controls",
      "_view_module_version": "1.5.0",
      "_view_name": "HTMLView",
      "description": "",
      "description_tooltip": null,
      "layout": "IPY_MODEL_53575c678ce34991bf3e56407f1f87ad",
      "placeholder": "​",
      "style": "IPY_MODEL_819ec4c3470c4f4f8f13502fcdf63f99",
      "value": "special_tokens_map.json: 100%"
     }
    },
    "17c58980378043cc8fe28a15ea6be4b6": {
     "model_module": "@jupyter-widgets/controls",
     "model_module_version": "1.5.0",
     "model_name": "HTMLModel",
     "state": {
      "_dom_classes": [],
      "_model_module": "@jupyter-widgets/controls",
      "_model_module_version": "1.5.0",
      "_model_name": "HTMLModel",
      "_view_count": null,
      "_view_module": "@jupyter-widgets/controls",
      "_view_module_version": "1.5.0",
      "_view_name": "HTMLView",
      "description": "",
      "description_tooltip": null,
      "layout": "IPY_MODEL_7fba2a046b6d4269a5b6ba5d3172cbeb",
      "placeholder": "​",
      "style": "IPY_MODEL_612bc2aae1ce42c2a0c5424eb4b489d4",
      "value": "config.json: 100%"
     }
    },
    "1ea9974b7c3545fbba9f1a5223867293": {
     "model_module": "@jupyter-widgets/controls",
     "model_module_version": "1.5.0",
     "model_name": "HTMLModel",
     "state": {
      "_dom_classes": [],
      "_model_module": "@jupyter-widgets/controls",
      "_model_module_version": "1.5.0",
      "_model_name": "HTMLModel",
      "_view_count": null,
      "_view_module": "@jupyter-widgets/controls",
      "_view_module_version": "1.5.0",
      "_view_name": "HTMLView",
      "description": "",
      "description_tooltip": null,
      "layout": "IPY_MODEL_a8f57054612f43bc904f78cbb61b1ba5",
      "placeholder": "​",
      "style": "IPY_MODEL_4bbade5b4b874aac8ae3b443932c25a4",
      "value": " 2.00/2.00 [00:00&lt;00:00, 140B/s]"
     }
    },
    "2118c6f2f4d74d84ace7b3cde2c65121": {
     "model_module": "@jupyter-widgets/controls",
     "model_module_version": "1.5.0",
     "model_name": "HBoxModel",
     "state": {
      "_dom_classes": [],
      "_model_module": "@jupyter-widgets/controls",
      "_model_module_version": "1.5.0",
      "_model_name": "HBoxModel",
      "_view_count": null,
      "_view_module": "@jupyter-widgets/controls",
      "_view_module_version": "1.5.0",
      "_view_name": "HBoxView",
      "box_style": "",
      "children": [
       "IPY_MODEL_23deb55f9d874fe2a7040ff513580e89",
       "IPY_MODEL_b28291d95fc24efbaff448eaa8bd5264",
       "IPY_MODEL_1ea9974b7c3545fbba9f1a5223867293"
      ],
      "layout": "IPY_MODEL_381932b667fb4d0fbf67f0d7856252c7"
     }
    },
    "220b3db58937404583a81dd3820bb1e6": {
     "model_module": "@jupyter-widgets/controls",
     "model_module_version": "1.5.0",
     "model_name": "HTMLModel",
     "state": {
      "_dom_classes": [],
      "_model_module": "@jupyter-widgets/controls",
      "_model_module_version": "1.5.0",
      "_model_name": "HTMLModel",
      "_view_count": null,
      "_view_module": "@jupyter-widgets/controls",
      "_view_module_version": "1.5.0",
      "_view_name": "HTMLView",
      "description": "",
      "description_tooltip": null,
      "layout": "IPY_MODEL_299c1d9e011f49bc994e773b8c51caa2",
      "placeholder": "​",
      "style": "IPY_MODEL_2260597ba7364497af493656f88d7e83",
      "value": " 112/112 [00:00&lt;00:00, 6.58kB/s]"
     }
    },
    "2260597ba7364497af493656f88d7e83": {
     "model_module": "@jupyter-widgets/controls",
     "model_module_version": "1.5.0",
     "model_name": "DescriptionStyleModel",
     "state": {
      "_model_module": "@jupyter-widgets/controls",
      "_model_module_version": "1.5.0",
      "_model_name": "DescriptionStyleModel",
      "_view_count": null,
      "_view_module": "@jupyter-widgets/base",
      "_view_module_version": "1.2.0",
      "_view_name": "StyleView",
      "description_width": ""
     }
    },
    "23deb55f9d874fe2a7040ff513580e89": {
     "model_module": "@jupyter-widgets/controls",
     "model_module_version": "1.5.0",
     "model_name": "HTMLModel",
     "state": {
      "_dom_classes": [],
      "_model_module": "@jupyter-widgets/controls",
      "_model_module_version": "1.5.0",
      "_model_name": "HTMLModel",
      "_view_count": null,
      "_view_module": "@jupyter-widgets/controls",
      "_view_module_version": "1.5.0",
      "_view_name": "HTMLView",
      "description": "",
      "description_tooltip": null,
      "layout": "IPY_MODEL_2a4d628a89d4456eb6287294171a8021",
      "placeholder": "​",
      "style": "IPY_MODEL_963125b3377c4685a6778429cc0f1511",
      "value": "added_tokens.json: 100%"
     }
    },
    "299c1d9e011f49bc994e773b8c51caa2": {
     "model_module": "@jupyter-widgets/base",
     "model_module_version": "1.2.0",
     "model_name": "LayoutModel",
     "state": {
      "_model_module": "@jupyter-widgets/base",
      "_model_module_version": "1.2.0",
      "_model_name": "LayoutModel",
      "_view_count": null,
      "_view_module": "@jupyter-widgets/base",
      "_view_module_version": "1.2.0",
      "_view_name": "LayoutView",
      "align_content": null,
      "align_items": null,
      "align_self": null,
      "border": null,
      "bottom": null,
      "display": null,
      "flex": null,
      "flex_flow": null,
      "grid_area": null,
      "grid_auto_columns": null,
      "grid_auto_flow": null,
      "grid_auto_rows": null,
      "grid_column": null,
      "grid_gap": null,
      "grid_row": null,
      "grid_template_areas": null,
      "grid_template_columns": null,
      "grid_template_rows": null,
      "height": null,
      "justify_content": null,
      "justify_items": null,
      "left": null,
      "margin": null,
      "max_height": null,
      "max_width": null,
      "min_height": null,
      "min_width": null,
      "object_fit": null,
      "object_position": null,
      "order": null,
      "overflow": null,
      "overflow_x": null,
      "overflow_y": null,
      "padding": null,
      "right": null,
      "top": null,
      "visibility": null,
      "width": null
     }
    },
    "2a4d628a89d4456eb6287294171a8021": {
     "model_module": "@jupyter-widgets/base",
     "model_module_version": "1.2.0",
     "model_name": "LayoutModel",
     "state": {
      "_model_module": "@jupyter-widgets/base",
      "_model_module_version": "1.2.0",
      "_model_name": "LayoutModel",
      "_view_count": null,
      "_view_module": "@jupyter-widgets/base",
      "_view_module_version": "1.2.0",
      "_view_name": "LayoutView",
      "align_content": null,
      "align_items": null,
      "align_self": null,
      "border": null,
      "bottom": null,
      "display": null,
      "flex": null,
      "flex_flow": null,
      "grid_area": null,
      "grid_auto_columns": null,
      "grid_auto_flow": null,
      "grid_auto_rows": null,
      "grid_column": null,
      "grid_gap": null,
      "grid_row": null,
      "grid_template_areas": null,
      "grid_template_columns": null,
      "grid_template_rows": null,
      "height": null,
      "justify_content": null,
      "justify_items": null,
      "left": null,
      "margin": null,
      "max_height": null,
      "max_width": null,
      "min_height": null,
      "min_width": null,
      "object_fit": null,
      "object_position": null,
      "order": null,
      "overflow": null,
      "overflow_x": null,
      "overflow_y": null,
      "padding": null,
      "right": null,
      "top": null,
      "visibility": null,
      "width": null
     }
    },
    "2c30b4ebd7bd4d0daa4b3134d7ce12d5": {
     "model_module": "@jupyter-widgets/base",
     "model_module_version": "1.2.0",
     "model_name": "LayoutModel",
     "state": {
      "_model_module": "@jupyter-widgets/base",
      "_model_module_version": "1.2.0",
      "_model_name": "LayoutModel",
      "_view_count": null,
      "_view_module": "@jupyter-widgets/base",
      "_view_module_version": "1.2.0",
      "_view_name": "LayoutView",
      "align_content": null,
      "align_items": null,
      "align_self": null,
      "border": null,
      "bottom": null,
      "display": null,
      "flex": null,
      "flex_flow": null,
      "grid_area": null,
      "grid_auto_columns": null,
      "grid_auto_flow": null,
      "grid_auto_rows": null,
      "grid_column": null,
      "grid_gap": null,
      "grid_row": null,
      "grid_template_areas": null,
      "grid_template_columns": null,
      "grid_template_rows": null,
      "height": null,
      "justify_content": null,
      "justify_items": null,
      "left": null,
      "margin": null,
      "max_height": null,
      "max_width": null,
      "min_height": null,
      "min_width": null,
      "object_fit": null,
      "object_position": null,
      "order": null,
      "overflow": null,
      "overflow_x": null,
      "overflow_y": null,
      "padding": null,
      "right": null,
      "top": null,
      "visibility": null,
      "width": null
     }
    },
    "2e214027130644d9a4c69479b4d89113": {
     "model_module": "@jupyter-widgets/base",
     "model_module_version": "1.2.0",
     "model_name": "LayoutModel",
     "state": {
      "_model_module": "@jupyter-widgets/base",
      "_model_module_version": "1.2.0",
      "_model_name": "LayoutModel",
      "_view_count": null,
      "_view_module": "@jupyter-widgets/base",
      "_view_module_version": "1.2.0",
      "_view_name": "LayoutView",
      "align_content": null,
      "align_items": null,
      "align_self": null,
      "border": null,
      "bottom": null,
      "display": null,
      "flex": null,
      "flex_flow": null,
      "grid_area": null,
      "grid_auto_columns": null,
      "grid_auto_flow": null,
      "grid_auto_rows": null,
      "grid_column": null,
      "grid_gap": null,
      "grid_row": null,
      "grid_template_areas": null,
      "grid_template_columns": null,
      "grid_template_rows": null,
      "height": null,
      "justify_content": null,
      "justify_items": null,
      "left": null,
      "margin": null,
      "max_height": null,
      "max_width": null,
      "min_height": null,
      "min_width": null,
      "object_fit": null,
      "object_position": null,
      "order": null,
      "overflow": null,
      "overflow_x": null,
      "overflow_y": null,
      "padding": null,
      "right": null,
      "top": null,
      "visibility": null,
      "width": null
     }
    },
    "31b44b598a4b4d71bbb86886f162c216": {
     "model_module": "@jupyter-widgets/controls",
     "model_module_version": "1.5.0",
     "model_name": "HBoxModel",
     "state": {
      "_dom_classes": [],
      "_model_module": "@jupyter-widgets/controls",
      "_model_module_version": "1.5.0",
      "_model_name": "HBoxModel",
      "_view_count": null,
      "_view_module": "@jupyter-widgets/controls",
      "_view_module_version": "1.5.0",
      "_view_name": "HBoxView",
      "box_style": "",
      "children": [
       "IPY_MODEL_6e70ea975e244dadbc3414264370eaf4",
       "IPY_MODEL_63fca1355200468d818b2577db1405a8",
       "IPY_MODEL_af768fc2eabf48b49722fd16d73234e6"
      ],
      "layout": "IPY_MODEL_bc9846f473444334b93e894e829c9723"
     }
    },
    "32e3acd08fbb42b8bd3f0cacd223db52": {
     "model_module": "@jupyter-widgets/controls",
     "model_module_version": "1.5.0",
     "model_name": "ProgressStyleModel",
     "state": {
      "_model_module": "@jupyter-widgets/controls",
      "_model_module_version": "1.5.0",
      "_model_name": "ProgressStyleModel",
      "_view_count": null,
      "_view_module": "@jupyter-widgets/base",
      "_view_module_version": "1.2.0",
      "_view_name": "StyleView",
      "bar_color": null,
      "description_width": ""
     }
    },
    "350f1fee671348bc9881fd2e540e62bb": {
     "model_module": "@jupyter-widgets/base",
     "model_module_version": "1.2.0",
     "model_name": "LayoutModel",
     "state": {
      "_model_module": "@jupyter-widgets/base",
      "_model_module_version": "1.2.0",
      "_model_name": "LayoutModel",
      "_view_count": null,
      "_view_module": "@jupyter-widgets/base",
      "_view_module_version": "1.2.0",
      "_view_name": "LayoutView",
      "align_content": null,
      "align_items": null,
      "align_self": null,
      "border": null,
      "bottom": null,
      "display": null,
      "flex": null,
      "flex_flow": null,
      "grid_area": null,
      "grid_auto_columns": null,
      "grid_auto_flow": null,
      "grid_auto_rows": null,
      "grid_column": null,
      "grid_gap": null,
      "grid_row": null,
      "grid_template_areas": null,
      "grid_template_columns": null,
      "grid_template_rows": null,
      "height": null,
      "justify_content": null,
      "justify_items": null,
      "left": null,
      "margin": null,
      "max_height": null,
      "max_width": null,
      "min_height": null,
      "min_width": null,
      "object_fit": null,
      "object_position": null,
      "order": null,
      "overflow": null,
      "overflow_x": null,
      "overflow_y": null,
      "padding": null,
      "right": null,
      "top": null,
      "visibility": null,
      "width": null
     }
    },
    "357015a11d2c47a29e2fd033e111cde8": {
     "model_module": "@jupyter-widgets/controls",
     "model_module_version": "1.5.0",
     "model_name": "FloatProgressModel",
     "state": {
      "_dom_classes": [],
      "_model_module": "@jupyter-widgets/controls",
      "_model_module_version": "1.5.0",
      "_model_name": "FloatProgressModel",
      "_view_count": null,
      "_view_module": "@jupyter-widgets/controls",
      "_view_module_version": "1.5.0",
      "_view_name": "ProgressView",
      "bar_style": "success",
      "description": "",
      "description_tooltip": null,
      "layout": "IPY_MODEL_c85dd4580e10483c960a015fd969435b",
      "max": 647,
      "min": 0,
      "orientation": "horizontal",
      "style": "IPY_MODEL_4e99d683a3f1440a9a0399cff703fdbb",
      "value": 647
     }
    },
    "381932b667fb4d0fbf67f0d7856252c7": {
     "model_module": "@jupyter-widgets/base",
     "model_module_version": "1.2.0",
     "model_name": "LayoutModel",
     "state": {
      "_model_module": "@jupyter-widgets/base",
      "_model_module_version": "1.2.0",
      "_model_name": "LayoutModel",
      "_view_count": null,
      "_view_module": "@jupyter-widgets/base",
      "_view_module_version": "1.2.0",
      "_view_name": "LayoutView",
      "align_content": null,
      "align_items": null,
      "align_self": null,
      "border": null,
      "bottom": null,
      "display": null,
      "flex": null,
      "flex_flow": null,
      "grid_area": null,
      "grid_auto_columns": null,
      "grid_auto_flow": null,
      "grid_auto_rows": null,
      "grid_column": null,
      "grid_gap": null,
      "grid_row": null,
      "grid_template_areas": null,
      "grid_template_columns": null,
      "grid_template_rows": null,
      "height": null,
      "justify_content": null,
      "justify_items": null,
      "left": null,
      "margin": null,
      "max_height": null,
      "max_width": null,
      "min_height": null,
      "min_width": null,
      "object_fit": null,
      "object_position": null,
      "order": null,
      "overflow": null,
      "overflow_x": null,
      "overflow_y": null,
      "padding": null,
      "right": null,
      "top": null,
      "visibility": null,
      "width": null
     }
    },
    "39562df715b14ffa8bf70cfba56a4127": {
     "model_module": "@jupyter-widgets/controls",
     "model_module_version": "1.5.0",
     "model_name": "DescriptionStyleModel",
     "state": {
      "_model_module": "@jupyter-widgets/controls",
      "_model_module_version": "1.5.0",
      "_model_name": "DescriptionStyleModel",
      "_view_count": null,
      "_view_module": "@jupyter-widgets/base",
      "_view_module_version": "1.2.0",
      "_view_name": "StyleView",
      "description_width": ""
     }
    },
    "39a7ec6e27cb42b78414ad492d665b6e": {
     "model_module": "@jupyter-widgets/controls",
     "model_module_version": "1.5.0",
     "model_name": "HTMLModel",
     "state": {
      "_dom_classes": [],
      "_model_module": "@jupyter-widgets/controls",
      "_model_module_version": "1.5.0",
      "_model_name": "HTMLModel",
      "_view_count": null,
      "_view_module": "@jupyter-widgets/controls",
      "_view_module_version": "1.5.0",
      "_view_name": "HTMLView",
      "description": "",
      "description_tooltip": null,
      "layout": "IPY_MODEL_e115a64bd0d34a5b893e8c258247c8f1",
      "placeholder": "​",
      "style": "IPY_MODEL_39562df715b14ffa8bf70cfba56a4127",
      "value": "vocab.txt: 100%"
     }
    },
    "3eeb77ff938e45a88bb9fc8693873fa6": {
     "model_module": "@jupyter-widgets/controls",
     "model_module_version": "1.5.0",
     "model_name": "HTMLModel",
     "state": {
      "_dom_classes": [],
      "_model_module": "@jupyter-widgets/controls",
      "_model_module_version": "1.5.0",
      "_model_name": "HTMLModel",
      "_view_count": null,
      "_view_module": "@jupyter-widgets/controls",
      "_view_module_version": "1.5.0",
      "_view_name": "HTMLView",
      "description": "",
      "description_tooltip": null,
      "layout": "IPY_MODEL_01fe5e8718904bcb9fc0ed16dca14116",
      "placeholder": "​",
      "style": "IPY_MODEL_d205586f77554feaa87cd79ea51b8609",
      "value": " 438M/438M [00:03&lt;00:00, 137MB/s]"
     }
    },
    "3f600fbfa63547b1ad0179261a5feabf": {
     "model_module": "@jupyter-widgets/controls",
     "model_module_version": "1.5.0",
     "model_name": "ProgressStyleModel",
     "state": {
      "_model_module": "@jupyter-widgets/controls",
      "_model_module_version": "1.5.0",
      "_model_name": "ProgressStyleModel",
      "_view_count": null,
      "_view_module": "@jupyter-widgets/base",
      "_view_module_version": "1.2.0",
      "_view_name": "StyleView",
      "bar_color": null,
      "description_width": ""
     }
    },
    "44ce488ab1da4181affc0dbdddeab8c1": {
     "model_module": "@jupyter-widgets/controls",
     "model_module_version": "1.5.0",
     "model_name": "HTMLModel",
     "state": {
      "_dom_classes": [],
      "_model_module": "@jupyter-widgets/controls",
      "_model_module_version": "1.5.0",
      "_model_name": "HTMLModel",
      "_view_count": null,
      "_view_module": "@jupyter-widgets/controls",
      "_view_module_version": "1.5.0",
      "_view_name": "HTMLView",
      "description": "",
      "description_tooltip": null,
      "layout": "IPY_MODEL_ab41573831634a9198a7ed4ec055fe10",
      "placeholder": "​",
      "style": "IPY_MODEL_7fdc2985e01c4bc69ed40b27b0997868",
      "value": " 210k/210k [00:00&lt;00:00, 6.35MB/s]"
     }
    },
    "4bbade5b4b874aac8ae3b443932c25a4": {
     "model_module": "@jupyter-widgets/controls",
     "model_module_version": "1.5.0",
     "model_name": "DescriptionStyleModel",
     "state": {
      "_model_module": "@jupyter-widgets/controls",
      "_model_module_version": "1.5.0",
      "_model_name": "DescriptionStyleModel",
      "_view_count": null,
      "_view_module": "@jupyter-widgets/base",
      "_view_module_version": "1.2.0",
      "_view_name": "StyleView",
      "description_width": ""
     }
    },
    "4e99d683a3f1440a9a0399cff703fdbb": {
     "model_module": "@jupyter-widgets/controls",
     "model_module_version": "1.5.0",
     "model_name": "ProgressStyleModel",
     "state": {
      "_model_module": "@jupyter-widgets/controls",
      "_model_module_version": "1.5.0",
      "_model_name": "ProgressStyleModel",
      "_view_count": null,
      "_view_module": "@jupyter-widgets/base",
      "_view_module_version": "1.2.0",
      "_view_name": "StyleView",
      "bar_color": null,
      "description_width": ""
     }
    },
    "51eeb4dfa4114ad88ba3d63078ea0462": {
     "model_module": "@jupyter-widgets/controls",
     "model_module_version": "1.5.0",
     "model_name": "FloatProgressModel",
     "state": {
      "_dom_classes": [],
      "_model_module": "@jupyter-widgets/controls",
      "_model_module_version": "1.5.0",
      "_model_name": "FloatProgressModel",
      "_view_count": null,
      "_view_module": "@jupyter-widgets/controls",
      "_view_module_version": "1.5.0",
      "_view_name": "ProgressView",
      "bar_style": "success",
      "description": "",
      "description_tooltip": null,
      "layout": "IPY_MODEL_9ac9c086306e4d41a1ea06d4f047e538",
      "max": 438235074,
      "min": 0,
      "orientation": "horizontal",
      "style": "IPY_MODEL_e3dc217c28d740f5813d8971e199a3a7",
      "value": 438235074
     }
    },
    "53575c678ce34991bf3e56407f1f87ad": {
     "model_module": "@jupyter-widgets/base",
     "model_module_version": "1.2.0",
     "model_name": "LayoutModel",
     "state": {
      "_model_module": "@jupyter-widgets/base",
      "_model_module_version": "1.2.0",
      "_model_name": "LayoutModel",
      "_view_count": null,
      "_view_module": "@jupyter-widgets/base",
      "_view_module_version": "1.2.0",
      "_view_name": "LayoutView",
      "align_content": null,
      "align_items": null,
      "align_self": null,
      "border": null,
      "bottom": null,
      "display": null,
      "flex": null,
      "flex_flow": null,
      "grid_area": null,
      "grid_auto_columns": null,
      "grid_auto_flow": null,
      "grid_auto_rows": null,
      "grid_column": null,
      "grid_gap": null,
      "grid_row": null,
      "grid_template_areas": null,
      "grid_template_columns": null,
      "grid_template_rows": null,
      "height": null,
      "justify_content": null,
      "justify_items": null,
      "left": null,
      "margin": null,
      "max_height": null,
      "max_width": null,
      "min_height": null,
      "min_width": null,
      "object_fit": null,
      "object_position": null,
      "order": null,
      "overflow": null,
      "overflow_x": null,
      "overflow_y": null,
      "padding": null,
      "right": null,
      "top": null,
      "visibility": null,
      "width": null
     }
    },
    "562c2d603d434916a672c0152c804fd9": {
     "model_module": "@jupyter-widgets/controls",
     "model_module_version": "1.5.0",
     "model_name": "DescriptionStyleModel",
     "state": {
      "_model_module": "@jupyter-widgets/controls",
      "_model_module_version": "1.5.0",
      "_model_name": "DescriptionStyleModel",
      "_view_count": null,
      "_view_module": "@jupyter-widgets/base",
      "_view_module_version": "1.2.0",
      "_view_name": "StyleView",
      "description_width": ""
     }
    },
    "58e5dee460db4d8fbac694380550286d": {
     "model_module": "@jupyter-widgets/base",
     "model_module_version": "1.2.0",
     "model_name": "LayoutModel",
     "state": {
      "_model_module": "@jupyter-widgets/base",
      "_model_module_version": "1.2.0",
      "_model_name": "LayoutModel",
      "_view_count": null,
      "_view_module": "@jupyter-widgets/base",
      "_view_module_version": "1.2.0",
      "_view_name": "LayoutView",
      "align_content": null,
      "align_items": null,
      "align_self": null,
      "border": null,
      "bottom": null,
      "display": null,
      "flex": null,
      "flex_flow": null,
      "grid_area": null,
      "grid_auto_columns": null,
      "grid_auto_flow": null,
      "grid_auto_rows": null,
      "grid_column": null,
      "grid_gap": null,
      "grid_row": null,
      "grid_template_areas": null,
      "grid_template_columns": null,
      "grid_template_rows": null,
      "height": null,
      "justify_content": null,
      "justify_items": null,
      "left": null,
      "margin": null,
      "max_height": null,
      "max_width": null,
      "min_height": null,
      "min_width": null,
      "object_fit": null,
      "object_position": null,
      "order": null,
      "overflow": null,
      "overflow_x": null,
      "overflow_y": null,
      "padding": null,
      "right": null,
      "top": null,
      "visibility": null,
      "width": null
     }
    },
    "612bc2aae1ce42c2a0c5424eb4b489d4": {
     "model_module": "@jupyter-widgets/controls",
     "model_module_version": "1.5.0",
     "model_name": "DescriptionStyleModel",
     "state": {
      "_model_module": "@jupyter-widgets/controls",
      "_model_module_version": "1.5.0",
      "_model_name": "DescriptionStyleModel",
      "_view_count": null,
      "_view_module": "@jupyter-widgets/base",
      "_view_module_version": "1.2.0",
      "_view_name": "StyleView",
      "description_width": ""
     }
    },
    "63fca1355200468d818b2577db1405a8": {
     "model_module": "@jupyter-widgets/controls",
     "model_module_version": "1.5.0",
     "model_name": "FloatProgressModel",
     "state": {
      "_dom_classes": [],
      "_model_module": "@jupyter-widgets/controls",
      "_model_module_version": "1.5.0",
      "_model_name": "FloatProgressModel",
      "_view_count": null,
      "_view_module": "@jupyter-widgets/controls",
      "_view_module_version": "1.5.0",
      "_view_name": "ProgressView",
      "bar_style": "success",
      "description": "",
      "description_tooltip": null,
      "layout": "IPY_MODEL_0845c4beb5ab4652ae4554e96c7a58f3",
      "max": 43,
      "min": 0,
      "orientation": "horizontal",
      "style": "IPY_MODEL_8240176bcb61438ea465183c5c6e07ae",
      "value": 43
     }
    },
    "6e70ea975e244dadbc3414264370eaf4": {
     "model_module": "@jupyter-widgets/controls",
     "model_module_version": "1.5.0",
     "model_name": "HTMLModel",
     "state": {
      "_dom_classes": [],
      "_model_module": "@jupyter-widgets/controls",
      "_model_module_version": "1.5.0",
      "_model_name": "HTMLModel",
      "_view_count": null,
      "_view_module": "@jupyter-widgets/controls",
      "_view_module_version": "1.5.0",
      "_view_name": "HTMLView",
      "description": "",
      "description_tooltip": null,
      "layout": "IPY_MODEL_e319a1e5d7fb49138dad8ab669acd206",
      "placeholder": "​",
      "style": "IPY_MODEL_957b9d843b8b40f58fb3c4f74f77d7e2",
      "value": "tokenizer_config.json: 100%"
     }
    },
    "70fc48d55d674ee48bfc9d1776a39147": {
     "model_module": "@jupyter-widgets/base",
     "model_module_version": "1.2.0",
     "model_name": "LayoutModel",
     "state": {
      "_model_module": "@jupyter-widgets/base",
      "_model_module_version": "1.2.0",
      "_model_name": "LayoutModel",
      "_view_count": null,
      "_view_module": "@jupyter-widgets/base",
      "_view_module_version": "1.2.0",
      "_view_name": "LayoutView",
      "align_content": null,
      "align_items": null,
      "align_self": null,
      "border": null,
      "bottom": null,
      "display": null,
      "flex": null,
      "flex_flow": null,
      "grid_area": null,
      "grid_auto_columns": null,
      "grid_auto_flow": null,
      "grid_auto_rows": null,
      "grid_column": null,
      "grid_gap": null,
      "grid_row": null,
      "grid_template_areas": null,
      "grid_template_columns": null,
      "grid_template_rows": null,
      "height": null,
      "justify_content": null,
      "justify_items": null,
      "left": null,
      "margin": null,
      "max_height": null,
      "max_width": null,
      "min_height": null,
      "min_width": null,
      "object_fit": null,
      "object_position": null,
      "order": null,
      "overflow": null,
      "overflow_x": null,
      "overflow_y": null,
      "padding": null,
      "right": null,
      "top": null,
      "visibility": null,
      "width": null
     }
    },
    "7232f277d97d4a18865ff2b481a79d66": {
     "model_module": "@jupyter-widgets/controls",
     "model_module_version": "1.5.0",
     "model_name": "HBoxModel",
     "state": {
      "_dom_classes": [],
      "_model_module": "@jupyter-widgets/controls",
      "_model_module_version": "1.5.0",
      "_model_name": "HBoxModel",
      "_view_count": null,
      "_view_module": "@jupyter-widgets/controls",
      "_view_module_version": "1.5.0",
      "_view_name": "HBoxView",
      "box_style": "",
      "children": [
       "IPY_MODEL_17c58980378043cc8fe28a15ea6be4b6",
       "IPY_MODEL_357015a11d2c47a29e2fd033e111cde8",
       "IPY_MODEL_06a4f3338a6e4c94928699a4ba982a23"
      ],
      "layout": "IPY_MODEL_70fc48d55d674ee48bfc9d1776a39147"
     }
    },
    "7c53d608ef434125b5181e1f043e19a9": {
     "model_module": "@jupyter-widgets/controls",
     "model_module_version": "1.5.0",
     "model_name": "DescriptionStyleModel",
     "state": {
      "_model_module": "@jupyter-widgets/controls",
      "_model_module_version": "1.5.0",
      "_model_name": "DescriptionStyleModel",
      "_view_count": null,
      "_view_module": "@jupyter-widgets/base",
      "_view_module_version": "1.2.0",
      "_view_name": "StyleView",
      "description_width": ""
     }
    },
    "7d72481c5eb44f0cbbbab8ca3cfbd6a5": {
     "model_module": "@jupyter-widgets/base",
     "model_module_version": "1.2.0",
     "model_name": "LayoutModel",
     "state": {
      "_model_module": "@jupyter-widgets/base",
      "_model_module_version": "1.2.0",
      "_model_name": "LayoutModel",
      "_view_count": null,
      "_view_module": "@jupyter-widgets/base",
      "_view_module_version": "1.2.0",
      "_view_name": "LayoutView",
      "align_content": null,
      "align_items": null,
      "align_self": null,
      "border": null,
      "bottom": null,
      "display": null,
      "flex": null,
      "flex_flow": null,
      "grid_area": null,
      "grid_auto_columns": null,
      "grid_auto_flow": null,
      "grid_auto_rows": null,
      "grid_column": null,
      "grid_gap": null,
      "grid_row": null,
      "grid_template_areas": null,
      "grid_template_columns": null,
      "grid_template_rows": null,
      "height": null,
      "justify_content": null,
      "justify_items": null,
      "left": null,
      "margin": null,
      "max_height": null,
      "max_width": null,
      "min_height": null,
      "min_width": null,
      "object_fit": null,
      "object_position": null,
      "order": null,
      "overflow": null,
      "overflow_x": null,
      "overflow_y": null,
      "padding": null,
      "right": null,
      "top": null,
      "visibility": null,
      "width": null
     }
    },
    "7fba2a046b6d4269a5b6ba5d3172cbeb": {
     "model_module": "@jupyter-widgets/base",
     "model_module_version": "1.2.0",
     "model_name": "LayoutModel",
     "state": {
      "_model_module": "@jupyter-widgets/base",
      "_model_module_version": "1.2.0",
      "_model_name": "LayoutModel",
      "_view_count": null,
      "_view_module": "@jupyter-widgets/base",
      "_view_module_version": "1.2.0",
      "_view_name": "LayoutView",
      "align_content": null,
      "align_items": null,
      "align_self": null,
      "border": null,
      "bottom": null,
      "display": null,
      "flex": null,
      "flex_flow": null,
      "grid_area": null,
      "grid_auto_columns": null,
      "grid_auto_flow": null,
      "grid_auto_rows": null,
      "grid_column": null,
      "grid_gap": null,
      "grid_row": null,
      "grid_template_areas": null,
      "grid_template_columns": null,
      "grid_template_rows": null,
      "height": null,
      "justify_content": null,
      "justify_items": null,
      "left": null,
      "margin": null,
      "max_height": null,
      "max_width": null,
      "min_height": null,
      "min_width": null,
      "object_fit": null,
      "object_position": null,
      "order": null,
      "overflow": null,
      "overflow_x": null,
      "overflow_y": null,
      "padding": null,
      "right": null,
      "top": null,
      "visibility": null,
      "width": null
     }
    },
    "7fdc2985e01c4bc69ed40b27b0997868": {
     "model_module": "@jupyter-widgets/controls",
     "model_module_version": "1.5.0",
     "model_name": "DescriptionStyleModel",
     "state": {
      "_model_module": "@jupyter-widgets/controls",
      "_model_module_version": "1.5.0",
      "_model_name": "DescriptionStyleModel",
      "_view_count": null,
      "_view_module": "@jupyter-widgets/base",
      "_view_module_version": "1.2.0",
      "_view_name": "StyleView",
      "description_width": ""
     }
    },
    "819ec4c3470c4f4f8f13502fcdf63f99": {
     "model_module": "@jupyter-widgets/controls",
     "model_module_version": "1.5.0",
     "model_name": "DescriptionStyleModel",
     "state": {
      "_model_module": "@jupyter-widgets/controls",
      "_model_module_version": "1.5.0",
      "_model_name": "DescriptionStyleModel",
      "_view_count": null,
      "_view_module": "@jupyter-widgets/base",
      "_view_module_version": "1.2.0",
      "_view_name": "StyleView",
      "description_width": ""
     }
    },
    "8240176bcb61438ea465183c5c6e07ae": {
     "model_module": "@jupyter-widgets/controls",
     "model_module_version": "1.5.0",
     "model_name": "ProgressStyleModel",
     "state": {
      "_model_module": "@jupyter-widgets/controls",
      "_model_module_version": "1.5.0",
      "_model_name": "ProgressStyleModel",
      "_view_count": null,
      "_view_module": "@jupyter-widgets/base",
      "_view_module_version": "1.2.0",
      "_view_name": "StyleView",
      "bar_color": null,
      "description_width": ""
     }
    },
    "860603a4070b4ecaa11830a0adda9ea9": {
     "model_module": "@jupyter-widgets/controls",
     "model_module_version": "1.5.0",
     "model_name": "HTMLModel",
     "state": {
      "_dom_classes": [],
      "_model_module": "@jupyter-widgets/controls",
      "_model_module_version": "1.5.0",
      "_model_name": "HTMLModel",
      "_view_count": null,
      "_view_module": "@jupyter-widgets/controls",
      "_view_module_version": "1.5.0",
      "_view_name": "HTMLView",
      "description": "",
      "description_tooltip": null,
      "layout": "IPY_MODEL_2c30b4ebd7bd4d0daa4b3134d7ce12d5",
      "placeholder": "​",
      "style": "IPY_MODEL_7c53d608ef434125b5181e1f043e19a9",
      "value": "pytorch_model.bin: 100%"
     }
    },
    "916ac4c42d59440997b453c8a207324e": {
     "model_module": "@jupyter-widgets/controls",
     "model_module_version": "1.5.0",
     "model_name": "HBoxModel",
     "state": {
      "_dom_classes": [],
      "_model_module": "@jupyter-widgets/controls",
      "_model_module_version": "1.5.0",
      "_model_name": "HBoxModel",
      "_view_count": null,
      "_view_module": "@jupyter-widgets/controls",
      "_view_module_version": "1.5.0",
      "_view_name": "HBoxView",
      "box_style": "",
      "children": [
       "IPY_MODEL_39a7ec6e27cb42b78414ad492d665b6e",
       "IPY_MODEL_9c750c54e0354717ae5aed01098c8e27",
       "IPY_MODEL_44ce488ab1da4181affc0dbdddeab8c1"
      ],
      "layout": "IPY_MODEL_d85afcefcaef4b8db49197f8deb68f03"
     }
    },
    "957b9d843b8b40f58fb3c4f74f77d7e2": {
     "model_module": "@jupyter-widgets/controls",
     "model_module_version": "1.5.0",
     "model_name": "DescriptionStyleModel",
     "state": {
      "_model_module": "@jupyter-widgets/controls",
      "_model_module_version": "1.5.0",
      "_model_name": "DescriptionStyleModel",
      "_view_count": null,
      "_view_module": "@jupyter-widgets/base",
      "_view_module_version": "1.2.0",
      "_view_name": "StyleView",
      "description_width": ""
     }
    },
    "963125b3377c4685a6778429cc0f1511": {
     "model_module": "@jupyter-widgets/controls",
     "model_module_version": "1.5.0",
     "model_name": "DescriptionStyleModel",
     "state": {
      "_model_module": "@jupyter-widgets/controls",
      "_model_module_version": "1.5.0",
      "_model_name": "DescriptionStyleModel",
      "_view_count": null,
      "_view_module": "@jupyter-widgets/base",
      "_view_module_version": "1.2.0",
      "_view_name": "StyleView",
      "description_width": ""
     }
    },
    "9ac9c086306e4d41a1ea06d4f047e538": {
     "model_module": "@jupyter-widgets/base",
     "model_module_version": "1.2.0",
     "model_name": "LayoutModel",
     "state": {
      "_model_module": "@jupyter-widgets/base",
      "_model_module_version": "1.2.0",
      "_model_name": "LayoutModel",
      "_view_count": null,
      "_view_module": "@jupyter-widgets/base",
      "_view_module_version": "1.2.0",
      "_view_name": "LayoutView",
      "align_content": null,
      "align_items": null,
      "align_self": null,
      "border": null,
      "bottom": null,
      "display": null,
      "flex": null,
      "flex_flow": null,
      "grid_area": null,
      "grid_auto_columns": null,
      "grid_auto_flow": null,
      "grid_auto_rows": null,
      "grid_column": null,
      "grid_gap": null,
      "grid_row": null,
      "grid_template_areas": null,
      "grid_template_columns": null,
      "grid_template_rows": null,
      "height": null,
      "justify_content": null,
      "justify_items": null,
      "left": null,
      "margin": null,
      "max_height": null,
      "max_width": null,
      "min_height": null,
      "min_width": null,
      "object_fit": null,
      "object_position": null,
      "order": null,
      "overflow": null,
      "overflow_x": null,
      "overflow_y": null,
      "padding": null,
      "right": null,
      "top": null,
      "visibility": null,
      "width": null
     }
    },
    "9c750c54e0354717ae5aed01098c8e27": {
     "model_module": "@jupyter-widgets/controls",
     "model_module_version": "1.5.0",
     "model_name": "FloatProgressModel",
     "state": {
      "_dom_classes": [],
      "_model_module": "@jupyter-widgets/controls",
      "_model_module_version": "1.5.0",
      "_model_name": "FloatProgressModel",
      "_view_count": null,
      "_view_module": "@jupyter-widgets/controls",
      "_view_module_version": "1.5.0",
      "_view_name": "ProgressView",
      "bar_style": "success",
      "description": "",
      "description_tooltip": null,
      "layout": "IPY_MODEL_a1c95bf1bc9e46dcb525977e24f597e0",
      "max": 209528,
      "min": 0,
      "orientation": "horizontal",
      "style": "IPY_MODEL_bc3f0a8f089c46359378f3e9bb921046",
      "value": 209528
     }
    },
    "a1c95bf1bc9e46dcb525977e24f597e0": {
     "model_module": "@jupyter-widgets/base",
     "model_module_version": "1.2.0",
     "model_name": "LayoutModel",
     "state": {
      "_model_module": "@jupyter-widgets/base",
      "_model_module_version": "1.2.0",
      "_model_name": "LayoutModel",
      "_view_count": null,
      "_view_module": "@jupyter-widgets/base",
      "_view_module_version": "1.2.0",
      "_view_name": "LayoutView",
      "align_content": null,
      "align_items": null,
      "align_self": null,
      "border": null,
      "bottom": null,
      "display": null,
      "flex": null,
      "flex_flow": null,
      "grid_area": null,
      "grid_auto_columns": null,
      "grid_auto_flow": null,
      "grid_auto_rows": null,
      "grid_column": null,
      "grid_gap": null,
      "grid_row": null,
      "grid_template_areas": null,
      "grid_template_columns": null,
      "grid_template_rows": null,
      "height": null,
      "justify_content": null,
      "justify_items": null,
      "left": null,
      "margin": null,
      "max_height": null,
      "max_width": null,
      "min_height": null,
      "min_width": null,
      "object_fit": null,
      "object_position": null,
      "order": null,
      "overflow": null,
      "overflow_x": null,
      "overflow_y": null,
      "padding": null,
      "right": null,
      "top": null,
      "visibility": null,
      "width": null
     }
    },
    "a6e2c2c05ca24b8a85ed5551a0e7db25": {
     "model_module": "@jupyter-widgets/controls",
     "model_module_version": "1.5.0",
     "model_name": "DescriptionStyleModel",
     "state": {
      "_model_module": "@jupyter-widgets/controls",
      "_model_module_version": "1.5.0",
      "_model_name": "DescriptionStyleModel",
      "_view_count": null,
      "_view_module": "@jupyter-widgets/base",
      "_view_module_version": "1.2.0",
      "_view_name": "StyleView",
      "description_width": ""
     }
    },
    "a82838c76f3b4a5dbe1fee5008e4f41f": {
     "model_module": "@jupyter-widgets/base",
     "model_module_version": "1.2.0",
     "model_name": "LayoutModel",
     "state": {
      "_model_module": "@jupyter-widgets/base",
      "_model_module_version": "1.2.0",
      "_model_name": "LayoutModel",
      "_view_count": null,
      "_view_module": "@jupyter-widgets/base",
      "_view_module_version": "1.2.0",
      "_view_name": "LayoutView",
      "align_content": null,
      "align_items": null,
      "align_self": null,
      "border": null,
      "bottom": null,
      "display": null,
      "flex": null,
      "flex_flow": null,
      "grid_area": null,
      "grid_auto_columns": null,
      "grid_auto_flow": null,
      "grid_auto_rows": null,
      "grid_column": null,
      "grid_gap": null,
      "grid_row": null,
      "grid_template_areas": null,
      "grid_template_columns": null,
      "grid_template_rows": null,
      "height": null,
      "justify_content": null,
      "justify_items": null,
      "left": null,
      "margin": null,
      "max_height": null,
      "max_width": null,
      "min_height": null,
      "min_width": null,
      "object_fit": null,
      "object_position": null,
      "order": null,
      "overflow": null,
      "overflow_x": null,
      "overflow_y": null,
      "padding": null,
      "right": null,
      "top": null,
      "visibility": null,
      "width": null
     }
    },
    "a8f57054612f43bc904f78cbb61b1ba5": {
     "model_module": "@jupyter-widgets/base",
     "model_module_version": "1.2.0",
     "model_name": "LayoutModel",
     "state": {
      "_model_module": "@jupyter-widgets/base",
      "_model_module_version": "1.2.0",
      "_model_name": "LayoutModel",
      "_view_count": null,
      "_view_module": "@jupyter-widgets/base",
      "_view_module_version": "1.2.0",
      "_view_name": "LayoutView",
      "align_content": null,
      "align_items": null,
      "align_self": null,
      "border": null,
      "bottom": null,
      "display": null,
      "flex": null,
      "flex_flow": null,
      "grid_area": null,
      "grid_auto_columns": null,
      "grid_auto_flow": null,
      "grid_auto_rows": null,
      "grid_column": null,
      "grid_gap": null,
      "grid_row": null,
      "grid_template_areas": null,
      "grid_template_columns": null,
      "grid_template_rows": null,
      "height": null,
      "justify_content": null,
      "justify_items": null,
      "left": null,
      "margin": null,
      "max_height": null,
      "max_width": null,
      "min_height": null,
      "min_width": null,
      "object_fit": null,
      "object_position": null,
      "order": null,
      "overflow": null,
      "overflow_x": null,
      "overflow_y": null,
      "padding": null,
      "right": null,
      "top": null,
      "visibility": null,
      "width": null
     }
    },
    "ab41573831634a9198a7ed4ec055fe10": {
     "model_module": "@jupyter-widgets/base",
     "model_module_version": "1.2.0",
     "model_name": "LayoutModel",
     "state": {
      "_model_module": "@jupyter-widgets/base",
      "_model_module_version": "1.2.0",
      "_model_name": "LayoutModel",
      "_view_count": null,
      "_view_module": "@jupyter-widgets/base",
      "_view_module_version": "1.2.0",
      "_view_name": "LayoutView",
      "align_content": null,
      "align_items": null,
      "align_self": null,
      "border": null,
      "bottom": null,
      "display": null,
      "flex": null,
      "flex_flow": null,
      "grid_area": null,
      "grid_auto_columns": null,
      "grid_auto_flow": null,
      "grid_auto_rows": null,
      "grid_column": null,
      "grid_gap": null,
      "grid_row": null,
      "grid_template_areas": null,
      "grid_template_columns": null,
      "grid_template_rows": null,
      "height": null,
      "justify_content": null,
      "justify_items": null,
      "left": null,
      "margin": null,
      "max_height": null,
      "max_width": null,
      "min_height": null,
      "min_width": null,
      "object_fit": null,
      "object_position": null,
      "order": null,
      "overflow": null,
      "overflow_x": null,
      "overflow_y": null,
      "padding": null,
      "right": null,
      "top": null,
      "visibility": null,
      "width": null
     }
    },
    "af768fc2eabf48b49722fd16d73234e6": {
     "model_module": "@jupyter-widgets/controls",
     "model_module_version": "1.5.0",
     "model_name": "HTMLModel",
     "state": {
      "_dom_classes": [],
      "_model_module": "@jupyter-widgets/controls",
      "_model_module_version": "1.5.0",
      "_model_name": "HTMLModel",
      "_view_count": null,
      "_view_module": "@jupyter-widgets/controls",
      "_view_module_version": "1.5.0",
      "_view_name": "HTMLView",
      "description": "",
      "description_tooltip": null,
      "layout": "IPY_MODEL_58e5dee460db4d8fbac694380550286d",
      "placeholder": "​",
      "style": "IPY_MODEL_562c2d603d434916a672c0152c804fd9",
      "value": " 43.0/43.0 [00:00&lt;00:00, 3.13kB/s]"
     }
    },
    "b28291d95fc24efbaff448eaa8bd5264": {
     "model_module": "@jupyter-widgets/controls",
     "model_module_version": "1.5.0",
     "model_name": "FloatProgressModel",
     "state": {
      "_dom_classes": [],
      "_model_module": "@jupyter-widgets/controls",
      "_model_module_version": "1.5.0",
      "_model_name": "FloatProgressModel",
      "_view_count": null,
      "_view_module": "@jupyter-widgets/controls",
      "_view_module_version": "1.5.0",
      "_view_name": "ProgressView",
      "bar_style": "success",
      "description": "",
      "description_tooltip": null,
      "layout": "IPY_MODEL_ebc89bbb378a483080e1e22760298586",
      "max": 2,
      "min": 0,
      "orientation": "horizontal",
      "style": "IPY_MODEL_3f600fbfa63547b1ad0179261a5feabf",
      "value": 2
     }
    },
    "bc3f0a8f089c46359378f3e9bb921046": {
     "model_module": "@jupyter-widgets/controls",
     "model_module_version": "1.5.0",
     "model_name": "ProgressStyleModel",
     "state": {
      "_model_module": "@jupyter-widgets/controls",
      "_model_module_version": "1.5.0",
      "_model_name": "ProgressStyleModel",
      "_view_count": null,
      "_view_module": "@jupyter-widgets/base",
      "_view_module_version": "1.2.0",
      "_view_name": "StyleView",
      "bar_color": null,
      "description_width": ""
     }
    },
    "bc9846f473444334b93e894e829c9723": {
     "model_module": "@jupyter-widgets/base",
     "model_module_version": "1.2.0",
     "model_name": "LayoutModel",
     "state": {
      "_model_module": "@jupyter-widgets/base",
      "_model_module_version": "1.2.0",
      "_model_name": "LayoutModel",
      "_view_count": null,
      "_view_module": "@jupyter-widgets/base",
      "_view_module_version": "1.2.0",
      "_view_name": "LayoutView",
      "align_content": null,
      "align_items": null,
      "align_self": null,
      "border": null,
      "bottom": null,
      "display": null,
      "flex": null,
      "flex_flow": null,
      "grid_area": null,
      "grid_auto_columns": null,
      "grid_auto_flow": null,
      "grid_auto_rows": null,
      "grid_column": null,
      "grid_gap": null,
      "grid_row": null,
      "grid_template_areas": null,
      "grid_template_columns": null,
      "grid_template_rows": null,
      "height": null,
      "justify_content": null,
      "justify_items": null,
      "left": null,
      "margin": null,
      "max_height": null,
      "max_width": null,
      "min_height": null,
      "min_width": null,
      "object_fit": null,
      "object_position": null,
      "order": null,
      "overflow": null,
      "overflow_x": null,
      "overflow_y": null,
      "padding": null,
      "right": null,
      "top": null,
      "visibility": null,
      "width": null
     }
    },
    "c2c0e22600dd4b189732187ea960f4f1": {
     "model_module": "@jupyter-widgets/controls",
     "model_module_version": "1.5.0",
     "model_name": "HBoxModel",
     "state": {
      "_dom_classes": [],
      "_model_module": "@jupyter-widgets/controls",
      "_model_module_version": "1.5.0",
      "_model_name": "HBoxModel",
      "_view_count": null,
      "_view_module": "@jupyter-widgets/controls",
      "_view_module_version": "1.5.0",
      "_view_name": "HBoxView",
      "box_style": "",
      "children": [
       "IPY_MODEL_15ad5258454a44719e3d4201f4aa225b",
       "IPY_MODEL_e88ecea8948644318c0ebc63ee0349df",
       "IPY_MODEL_220b3db58937404583a81dd3820bb1e6"
      ],
      "layout": "IPY_MODEL_2e214027130644d9a4c69479b4d89113"
     }
    },
    "c85dd4580e10483c960a015fd969435b": {
     "model_module": "@jupyter-widgets/base",
     "model_module_version": "1.2.0",
     "model_name": "LayoutModel",
     "state": {
      "_model_module": "@jupyter-widgets/base",
      "_model_module_version": "1.2.0",
      "_model_name": "LayoutModel",
      "_view_count": null,
      "_view_module": "@jupyter-widgets/base",
      "_view_module_version": "1.2.0",
      "_view_name": "LayoutView",
      "align_content": null,
      "align_items": null,
      "align_self": null,
      "border": null,
      "bottom": null,
      "display": null,
      "flex": null,
      "flex_flow": null,
      "grid_area": null,
      "grid_auto_columns": null,
      "grid_auto_flow": null,
      "grid_auto_rows": null,
      "grid_column": null,
      "grid_gap": null,
      "grid_row": null,
      "grid_template_areas": null,
      "grid_template_columns": null,
      "grid_template_rows": null,
      "height": null,
      "justify_content": null,
      "justify_items": null,
      "left": null,
      "margin": null,
      "max_height": null,
      "max_width": null,
      "min_height": null,
      "min_width": null,
      "object_fit": null,
      "object_position": null,
      "order": null,
      "overflow": null,
      "overflow_x": null,
      "overflow_y": null,
      "padding": null,
      "right": null,
      "top": null,
      "visibility": null,
      "width": null
     }
    },
    "d205586f77554feaa87cd79ea51b8609": {
     "model_module": "@jupyter-widgets/controls",
     "model_module_version": "1.5.0",
     "model_name": "DescriptionStyleModel",
     "state": {
      "_model_module": "@jupyter-widgets/controls",
      "_model_module_version": "1.5.0",
      "_model_name": "DescriptionStyleModel",
      "_view_count": null,
      "_view_module": "@jupyter-widgets/base",
      "_view_module_version": "1.2.0",
      "_view_name": "StyleView",
      "description_width": ""
     }
    },
    "d85afcefcaef4b8db49197f8deb68f03": {
     "model_module": "@jupyter-widgets/base",
     "model_module_version": "1.2.0",
     "model_name": "LayoutModel",
     "state": {
      "_model_module": "@jupyter-widgets/base",
      "_model_module_version": "1.2.0",
      "_model_name": "LayoutModel",
      "_view_count": null,
      "_view_module": "@jupyter-widgets/base",
      "_view_module_version": "1.2.0",
      "_view_name": "LayoutView",
      "align_content": null,
      "align_items": null,
      "align_self": null,
      "border": null,
      "bottom": null,
      "display": null,
      "flex": null,
      "flex_flow": null,
      "grid_area": null,
      "grid_auto_columns": null,
      "grid_auto_flow": null,
      "grid_auto_rows": null,
      "grid_column": null,
      "grid_gap": null,
      "grid_row": null,
      "grid_template_areas": null,
      "grid_template_columns": null,
      "grid_template_rows": null,
      "height": null,
      "justify_content": null,
      "justify_items": null,
      "left": null,
      "margin": null,
      "max_height": null,
      "max_width": null,
      "min_height": null,
      "min_width": null,
      "object_fit": null,
      "object_position": null,
      "order": null,
      "overflow": null,
      "overflow_x": null,
      "overflow_y": null,
      "padding": null,
      "right": null,
      "top": null,
      "visibility": null,
      "width": null
     }
    },
    "e115a64bd0d34a5b893e8c258247c8f1": {
     "model_module": "@jupyter-widgets/base",
     "model_module_version": "1.2.0",
     "model_name": "LayoutModel",
     "state": {
      "_model_module": "@jupyter-widgets/base",
      "_model_module_version": "1.2.0",
      "_model_name": "LayoutModel",
      "_view_count": null,
      "_view_module": "@jupyter-widgets/base",
      "_view_module_version": "1.2.0",
      "_view_name": "LayoutView",
      "align_content": null,
      "align_items": null,
      "align_self": null,
      "border": null,
      "bottom": null,
      "display": null,
      "flex": null,
      "flex_flow": null,
      "grid_area": null,
      "grid_auto_columns": null,
      "grid_auto_flow": null,
      "grid_auto_rows": null,
      "grid_column": null,
      "grid_gap": null,
      "grid_row": null,
      "grid_template_areas": null,
      "grid_template_columns": null,
      "grid_template_rows": null,
      "height": null,
      "justify_content": null,
      "justify_items": null,
      "left": null,
      "margin": null,
      "max_height": null,
      "max_width": null,
      "min_height": null,
      "min_width": null,
      "object_fit": null,
      "object_position": null,
      "order": null,
      "overflow": null,
      "overflow_x": null,
      "overflow_y": null,
      "padding": null,
      "right": null,
      "top": null,
      "visibility": null,
      "width": null
     }
    },
    "e319a1e5d7fb49138dad8ab669acd206": {
     "model_module": "@jupyter-widgets/base",
     "model_module_version": "1.2.0",
     "model_name": "LayoutModel",
     "state": {
      "_model_module": "@jupyter-widgets/base",
      "_model_module_version": "1.2.0",
      "_model_name": "LayoutModel",
      "_view_count": null,
      "_view_module": "@jupyter-widgets/base",
      "_view_module_version": "1.2.0",
      "_view_name": "LayoutView",
      "align_content": null,
      "align_items": null,
      "align_self": null,
      "border": null,
      "bottom": null,
      "display": null,
      "flex": null,
      "flex_flow": null,
      "grid_area": null,
      "grid_auto_columns": null,
      "grid_auto_flow": null,
      "grid_auto_rows": null,
      "grid_column": null,
      "grid_gap": null,
      "grid_row": null,
      "grid_template_areas": null,
      "grid_template_columns": null,
      "grid_template_rows": null,
      "height": null,
      "justify_content": null,
      "justify_items": null,
      "left": null,
      "margin": null,
      "max_height": null,
      "max_width": null,
      "min_height": null,
      "min_width": null,
      "object_fit": null,
      "object_position": null,
      "order": null,
      "overflow": null,
      "overflow_x": null,
      "overflow_y": null,
      "padding": null,
      "right": null,
      "top": null,
      "visibility": null,
      "width": null
     }
    },
    "e3dc217c28d740f5813d8971e199a3a7": {
     "model_module": "@jupyter-widgets/controls",
     "model_module_version": "1.5.0",
     "model_name": "ProgressStyleModel",
     "state": {
      "_model_module": "@jupyter-widgets/controls",
      "_model_module_version": "1.5.0",
      "_model_name": "ProgressStyleModel",
      "_view_count": null,
      "_view_module": "@jupyter-widgets/base",
      "_view_module_version": "1.2.0",
      "_view_name": "StyleView",
      "bar_color": null,
      "description_width": ""
     }
    },
    "e88ecea8948644318c0ebc63ee0349df": {
     "model_module": "@jupyter-widgets/controls",
     "model_module_version": "1.5.0",
     "model_name": "FloatProgressModel",
     "state": {
      "_dom_classes": [],
      "_model_module": "@jupyter-widgets/controls",
      "_model_module_version": "1.5.0",
      "_model_name": "FloatProgressModel",
      "_view_count": null,
      "_view_module": "@jupyter-widgets/controls",
      "_view_module_version": "1.5.0",
      "_view_name": "ProgressView",
      "bar_style": "success",
      "description": "",
      "description_tooltip": null,
      "layout": "IPY_MODEL_7d72481c5eb44f0cbbbab8ca3cfbd6a5",
      "max": 112,
      "min": 0,
      "orientation": "horizontal",
      "style": "IPY_MODEL_32e3acd08fbb42b8bd3f0cacd223db52",
      "value": 112
     }
    },
    "ebc89bbb378a483080e1e22760298586": {
     "model_module": "@jupyter-widgets/base",
     "model_module_version": "1.2.0",
     "model_name": "LayoutModel",
     "state": {
      "_model_module": "@jupyter-widgets/base",
      "_model_module_version": "1.2.0",
      "_model_name": "LayoutModel",
      "_view_count": null,
      "_view_module": "@jupyter-widgets/base",
      "_view_module_version": "1.2.0",
      "_view_name": "LayoutView",
      "align_content": null,
      "align_items": null,
      "align_self": null,
      "border": null,
      "bottom": null,
      "display": null,
      "flex": null,
      "flex_flow": null,
      "grid_area": null,
      "grid_auto_columns": null,
      "grid_auto_flow": null,
      "grid_auto_rows": null,
      "grid_column": null,
      "grid_gap": null,
      "grid_row": null,
      "grid_template_areas": null,
      "grid_template_columns": null,
      "grid_template_rows": null,
      "height": null,
      "justify_content": null,
      "justify_items": null,
      "left": null,
      "margin": null,
      "max_height": null,
      "max_width": null,
      "min_height": null,
      "min_width": null,
      "object_fit": null,
      "object_position": null,
      "order": null,
      "overflow": null,
      "overflow_x": null,
      "overflow_y": null,
      "padding": null,
      "right": null,
      "top": null,
      "visibility": null,
      "width": null
     }
    },
    "fe9461998e9748d6b55b04d9d51f7c0f": {
     "model_module": "@jupyter-widgets/controls",
     "model_module_version": "1.5.0",
     "model_name": "HBoxModel",
     "state": {
      "_dom_classes": [],
      "_model_module": "@jupyter-widgets/controls",
      "_model_module_version": "1.5.0",
      "_model_name": "HBoxModel",
      "_view_count": null,
      "_view_module": "@jupyter-widgets/controls",
      "_view_module_version": "1.5.0",
      "_view_name": "HBoxView",
      "box_style": "",
      "children": [
       "IPY_MODEL_860603a4070b4ecaa11830a0adda9ea9",
       "IPY_MODEL_51eeb4dfa4114ad88ba3d63078ea0462",
       "IPY_MODEL_3eeb77ff938e45a88bb9fc8693873fa6"
      ],
      "layout": "IPY_MODEL_350f1fee671348bc9881fd2e540e62bb"
     }
    }
   }
  }
 },
 "nbformat": 4,
 "nbformat_minor": 4
}

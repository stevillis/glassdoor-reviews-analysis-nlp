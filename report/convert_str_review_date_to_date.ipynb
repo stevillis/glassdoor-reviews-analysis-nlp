{
 "cells": [
  {
   "cell_type": "markdown",
   "metadata": {},
   "source": [
    "# Clean duplicated rows of Glassdoor reviews from Tecnomapas, since it had duplicated .html extracted files."
   ]
  },
  {
   "cell_type": "code",
   "execution_count": 1,
   "metadata": {},
   "outputs": [],
   "source": [
    "import pandas as pd\n",
    "\n",
    "from datetime import datetime"
   ]
  },
  {
   "cell_type": "code",
   "execution_count": 2,
   "metadata": {},
   "outputs": [],
   "source": [
    "def date_str_to_date(date_str):\n",
    "    month_dict = {\n",
    "        \"jan.\": 1,\n",
    "        \"fev.\": 2,\n",
    "        \"mar.\": 3,\n",
    "        \"abr.\": 4,\n",
    "        \"mai.\": 5,\n",
    "        \"jun.\": 6,\n",
    "        \"jul.\": 7,\n",
    "        \"ago.\": 8,\n",
    "        \"set.\": 9,\n",
    "        \"out.\": 10,\n",
    "        \"nov.\": 11,\n",
    "        \"dez.\": 12,\n",
    "    }\n",
    "\n",
    "    date_split = date_str.split()\n",
    "    day = int(date_split[0])\n",
    "    month = date_split[2]\n",
    "    year = int(date_split[4])\n",
    "\n",
    "    return datetime(year, month_dict[month], day, 0, 0, 0)"
   ]
  },
  {
   "cell_type": "markdown",
   "metadata": {},
   "source": [
    "## Convert glassdoor_reviews_predicted review_date"
   ]
  },
  {
   "cell_type": "code",
   "execution_count": 9,
   "metadata": {},
   "outputs": [],
   "source": [
    "glassdoor_reviews_predicted_df = pd.read_csv(\"./glassdoor_reviews_predicted.csv\")"
   ]
  },
  {
   "cell_type": "code",
   "execution_count": 10,
   "metadata": {},
   "outputs": [
    {
     "data": {
      "text/html": [
       "<div>\n",
       "<style scoped>\n",
       "    .dataframe tbody tr th:only-of-type {\n",
       "        vertical-align: middle;\n",
       "    }\n",
       "\n",
       "    .dataframe tbody tr th {\n",
       "        vertical-align: top;\n",
       "    }\n",
       "\n",
       "    .dataframe thead th {\n",
       "        text-align: right;\n",
       "    }\n",
       "</style>\n",
       "<table border=\"1\" class=\"dataframe\">\n",
       "  <thead>\n",
       "    <tr style=\"text-align: right;\">\n",
       "      <th></th>\n",
       "      <th>review_id</th>\n",
       "      <th>company</th>\n",
       "      <th>employee_role</th>\n",
       "      <th>employee_detail</th>\n",
       "      <th>review_text</th>\n",
       "      <th>review_date</th>\n",
       "      <th>star_rating</th>\n",
       "      <th>sentiment</th>\n",
       "      <th>annotated</th>\n",
       "      <th>predicted_sentiment</th>\n",
       "    </tr>\n",
       "  </thead>\n",
       "  <tbody>\n",
       "    <tr>\n",
       "      <th>0</th>\n",
       "      <td>82630669</td>\n",
       "      <td>Tecnomapas</td>\n",
       "      <td>Recepcionista</td>\n",
       "      <td>Ex-funcionário(a), mais de um ano</td>\n",
       "      <td>Companheirismo entre os colegas, oportunidade ...</td>\n",
       "      <td>15 de dez. de 2023</td>\n",
       "      <td>5.0</td>\n",
       "      <td>1</td>\n",
       "      <td>0</td>\n",
       "      <td>1</td>\n",
       "    </tr>\n",
       "    <tr>\n",
       "      <th>1</th>\n",
       "      <td>82630669</td>\n",
       "      <td>Tecnomapas</td>\n",
       "      <td>Recepcionista</td>\n",
       "      <td>Ex-funcionário(a), mais de um ano</td>\n",
       "      <td>Não tive nenhum ponto negativo</td>\n",
       "      <td>15 de dez. de 2023</td>\n",
       "      <td>5.0</td>\n",
       "      <td>0</td>\n",
       "      <td>1</td>\n",
       "      <td>0</td>\n",
       "    </tr>\n",
       "  </tbody>\n",
       "</table>\n",
       "</div>"
      ],
      "text/plain": [
       "   review_id     company  employee_role                    employee_detail  \\\n",
       "0   82630669  Tecnomapas  Recepcionista  Ex-funcionário(a), mais de um ano   \n",
       "1   82630669  Tecnomapas  Recepcionista  Ex-funcionário(a), mais de um ano   \n",
       "\n",
       "                                         review_text         review_date  \\\n",
       "0  Companheirismo entre os colegas, oportunidade ...  15 de dez. de 2023   \n",
       "1                     Não tive nenhum ponto negativo  15 de dez. de 2023   \n",
       "\n",
       "   star_rating  sentiment  annotated  predicted_sentiment  \n",
       "0          5.0          1          0                    1  \n",
       "1          5.0          0          1                    0  "
      ]
     },
     "execution_count": 10,
     "metadata": {},
     "output_type": "execute_result"
    }
   ],
   "source": [
    "glassdoor_reviews_predicted_df.head(2)"
   ]
  },
  {
   "cell_type": "code",
   "execution_count": 11,
   "metadata": {},
   "outputs": [
    {
     "data": {
      "text/plain": [
       "(2532, 10)"
      ]
     },
     "execution_count": 11,
     "metadata": {},
     "output_type": "execute_result"
    }
   ],
   "source": [
    "glassdoor_reviews_predicted_df.shape"
   ]
  },
  {
   "cell_type": "code",
   "execution_count": 12,
   "metadata": {},
   "outputs": [],
   "source": [
    "glassdoor_reviews_predicted_df[\"review_date\"] = glassdoor_reviews_predicted_df[\n",
    "    \"review_date\"\n",
    "].apply(date_str_to_date)"
   ]
  },
  {
   "cell_type": "code",
   "execution_count": 13,
   "metadata": {},
   "outputs": [
    {
     "data": {
      "text/plain": [
       "(2532, 10)"
      ]
     },
     "execution_count": 13,
     "metadata": {},
     "output_type": "execute_result"
    }
   ],
   "source": [
    "glassdoor_reviews_predicted_df.shape"
   ]
  },
  {
   "cell_type": "code",
   "execution_count": 14,
   "metadata": {},
   "outputs": [
    {
     "data": {
      "text/html": [
       "<div>\n",
       "<style scoped>\n",
       "    .dataframe tbody tr th:only-of-type {\n",
       "        vertical-align: middle;\n",
       "    }\n",
       "\n",
       "    .dataframe tbody tr th {\n",
       "        vertical-align: top;\n",
       "    }\n",
       "\n",
       "    .dataframe thead th {\n",
       "        text-align: right;\n",
       "    }\n",
       "</style>\n",
       "<table border=\"1\" class=\"dataframe\">\n",
       "  <thead>\n",
       "    <tr style=\"text-align: right;\">\n",
       "      <th></th>\n",
       "      <th>review_id</th>\n",
       "      <th>company</th>\n",
       "      <th>employee_role</th>\n",
       "      <th>employee_detail</th>\n",
       "      <th>review_text</th>\n",
       "      <th>review_date</th>\n",
       "      <th>star_rating</th>\n",
       "      <th>sentiment</th>\n",
       "      <th>annotated</th>\n",
       "      <th>predicted_sentiment</th>\n",
       "    </tr>\n",
       "  </thead>\n",
       "  <tbody>\n",
       "    <tr>\n",
       "      <th>0</th>\n",
       "      <td>82630669</td>\n",
       "      <td>Tecnomapas</td>\n",
       "      <td>Recepcionista</td>\n",
       "      <td>Ex-funcionário(a), mais de um ano</td>\n",
       "      <td>Companheirismo entre os colegas, oportunidade ...</td>\n",
       "      <td>2023-12-15</td>\n",
       "      <td>5.0</td>\n",
       "      <td>1</td>\n",
       "      <td>0</td>\n",
       "      <td>1</td>\n",
       "    </tr>\n",
       "    <tr>\n",
       "      <th>1</th>\n",
       "      <td>82630669</td>\n",
       "      <td>Tecnomapas</td>\n",
       "      <td>Recepcionista</td>\n",
       "      <td>Ex-funcionário(a), mais de um ano</td>\n",
       "      <td>Não tive nenhum ponto negativo</td>\n",
       "      <td>2023-12-15</td>\n",
       "      <td>5.0</td>\n",
       "      <td>0</td>\n",
       "      <td>1</td>\n",
       "      <td>0</td>\n",
       "    </tr>\n",
       "  </tbody>\n",
       "</table>\n",
       "</div>"
      ],
      "text/plain": [
       "   review_id     company  employee_role                    employee_detail  \\\n",
       "0   82630669  Tecnomapas  Recepcionista  Ex-funcionário(a), mais de um ano   \n",
       "1   82630669  Tecnomapas  Recepcionista  Ex-funcionário(a), mais de um ano   \n",
       "\n",
       "                                         review_text review_date  star_rating  \\\n",
       "0  Companheirismo entre os colegas, oportunidade ...  2023-12-15          5.0   \n",
       "1                     Não tive nenhum ponto negativo  2023-12-15          5.0   \n",
       "\n",
       "   sentiment  annotated  predicted_sentiment  \n",
       "0          1          0                    1  \n",
       "1          0          1                    0  "
      ]
     },
     "execution_count": 14,
     "metadata": {},
     "output_type": "execute_result"
    }
   ],
   "source": [
    "glassdoor_reviews_predicted_df.head(2)"
   ]
  },
  {
   "cell_type": "code",
   "execution_count": 15,
   "metadata": {},
   "outputs": [],
   "source": [
    "glassdoor_reviews_predicted_df.to_csv(\n",
    "    f\"./glassdoor_reviews_predicted.csv\",\n",
    "    index=False,\n",
    "    # sep=\";\",\n",
    ")"
   ]
  },
  {
   "cell_type": "markdown",
   "metadata": {},
   "source": [
    "## Convert glassdoor_reviews_annotated reviews_date"
   ]
  },
  {
   "cell_type": "code",
   "execution_count": 16,
   "metadata": {},
   "outputs": [],
   "source": [
    "glassdoor_reviews_annotated_df = pd.read_csv(\n",
    "    \"../data_preparation/glassdoor_reviews_annotated.csv\"\n",
    ")"
   ]
  },
  {
   "cell_type": "code",
   "execution_count": 17,
   "metadata": {},
   "outputs": [
    {
     "data": {
      "text/plain": [
       "(2532, 9)"
      ]
     },
     "execution_count": 17,
     "metadata": {},
     "output_type": "execute_result"
    }
   ],
   "source": [
    "glassdoor_reviews_annotated_df.shape"
   ]
  },
  {
   "cell_type": "code",
   "execution_count": 18,
   "metadata": {},
   "outputs": [],
   "source": [
    "glassdoor_reviews_annotated_df[\"review_date\"] = glassdoor_reviews_annotated_df[\n",
    "    \"review_date\"\n",
    "].apply(date_str_to_date)"
   ]
  },
  {
   "cell_type": "code",
   "execution_count": 19,
   "metadata": {},
   "outputs": [
    {
     "data": {
      "text/plain": [
       "(2532, 9)"
      ]
     },
     "execution_count": 19,
     "metadata": {},
     "output_type": "execute_result"
    }
   ],
   "source": [
    "glassdoor_reviews_annotated_df.shape"
   ]
  },
  {
   "cell_type": "code",
   "execution_count": 20,
   "metadata": {},
   "outputs": [
    {
     "data": {
      "text/html": [
       "<div>\n",
       "<style scoped>\n",
       "    .dataframe tbody tr th:only-of-type {\n",
       "        vertical-align: middle;\n",
       "    }\n",
       "\n",
       "    .dataframe tbody tr th {\n",
       "        vertical-align: top;\n",
       "    }\n",
       "\n",
       "    .dataframe thead th {\n",
       "        text-align: right;\n",
       "    }\n",
       "</style>\n",
       "<table border=\"1\" class=\"dataframe\">\n",
       "  <thead>\n",
       "    <tr style=\"text-align: right;\">\n",
       "      <th></th>\n",
       "      <th>review_id</th>\n",
       "      <th>company</th>\n",
       "      <th>employee_role</th>\n",
       "      <th>employee_detail</th>\n",
       "      <th>review_text</th>\n",
       "      <th>review_date</th>\n",
       "      <th>star_rating</th>\n",
       "      <th>sentiment</th>\n",
       "      <th>annotated</th>\n",
       "    </tr>\n",
       "  </thead>\n",
       "  <tbody>\n",
       "    <tr>\n",
       "      <th>0</th>\n",
       "      <td>82630669</td>\n",
       "      <td>Tecnomapas</td>\n",
       "      <td>Recepcionista</td>\n",
       "      <td>Ex-funcionário(a), mais de um ano</td>\n",
       "      <td>Companheirismo entre os colegas, oportunidade ...</td>\n",
       "      <td>2023-12-15</td>\n",
       "      <td>5.0</td>\n",
       "      <td>1</td>\n",
       "      <td>0</td>\n",
       "    </tr>\n",
       "    <tr>\n",
       "      <th>1</th>\n",
       "      <td>82630669</td>\n",
       "      <td>Tecnomapas</td>\n",
       "      <td>Recepcionista</td>\n",
       "      <td>Ex-funcionário(a), mais de um ano</td>\n",
       "      <td>Não tive nenhum ponto negativo</td>\n",
       "      <td>2023-12-15</td>\n",
       "      <td>5.0</td>\n",
       "      <td>0</td>\n",
       "      <td>1</td>\n",
       "    </tr>\n",
       "  </tbody>\n",
       "</table>\n",
       "</div>"
      ],
      "text/plain": [
       "   review_id     company  employee_role                    employee_detail  \\\n",
       "0   82630669  Tecnomapas  Recepcionista  Ex-funcionário(a), mais de um ano   \n",
       "1   82630669  Tecnomapas  Recepcionista  Ex-funcionário(a), mais de um ano   \n",
       "\n",
       "                                         review_text review_date  star_rating  \\\n",
       "0  Companheirismo entre os colegas, oportunidade ...  2023-12-15          5.0   \n",
       "1                     Não tive nenhum ponto negativo  2023-12-15          5.0   \n",
       "\n",
       "   sentiment  annotated  \n",
       "0          1          0  \n",
       "1          0          1  "
      ]
     },
     "execution_count": 20,
     "metadata": {},
     "output_type": "execute_result"
    }
   ],
   "source": [
    "glassdoor_reviews_annotated_df.head(2)"
   ]
  },
  {
   "cell_type": "code",
   "execution_count": 21,
   "metadata": {},
   "outputs": [],
   "source": [
    "glassdoor_reviews_annotated_df.to_csv(\n",
    "    f\"../data_preparation/glassdoor_reviews_annotated.csv\",\n",
    "    index=False,\n",
    "    # sep=\";\",\n",
    ")"
   ]
  },
  {
   "cell_type": "markdown",
   "metadata": {},
   "source": [
    "## Conver predicted_non_negative_reviews reviews_date"
   ]
  },
  {
   "cell_type": "code",
   "execution_count": 22,
   "metadata": {},
   "outputs": [],
   "source": [
    "predicted_non_negative_reviews_df = pd.read_csv(\n",
    "    \"../data_preparation/predicted_non_negative_reviews.csv\"\n",
    ")"
   ]
  },
  {
   "cell_type": "code",
   "execution_count": 23,
   "metadata": {},
   "outputs": [
    {
     "data": {
      "text/plain": [
       "(809, 10)"
      ]
     },
     "execution_count": 23,
     "metadata": {},
     "output_type": "execute_result"
    }
   ],
   "source": [
    "predicted_non_negative_reviews_df.shape"
   ]
  },
  {
   "cell_type": "code",
   "execution_count": 24,
   "metadata": {},
   "outputs": [],
   "source": [
    "predicted_non_negative_reviews_df[\"review_date\"] = predicted_non_negative_reviews_df[\n",
    "    \"review_date\"\n",
    "].apply(date_str_to_date)"
   ]
  },
  {
   "cell_type": "code",
   "execution_count": 25,
   "metadata": {},
   "outputs": [
    {
     "data": {
      "text/plain": [
       "(809, 10)"
      ]
     },
     "execution_count": 25,
     "metadata": {},
     "output_type": "execute_result"
    }
   ],
   "source": [
    "predicted_non_negative_reviews_df.shape"
   ]
  },
  {
   "cell_type": "code",
   "execution_count": 26,
   "metadata": {},
   "outputs": [
    {
     "data": {
      "text/html": [
       "<div>\n",
       "<style scoped>\n",
       "    .dataframe tbody tr th:only-of-type {\n",
       "        vertical-align: middle;\n",
       "    }\n",
       "\n",
       "    .dataframe tbody tr th {\n",
       "        vertical-align: top;\n",
       "    }\n",
       "\n",
       "    .dataframe thead th {\n",
       "        text-align: right;\n",
       "    }\n",
       "</style>\n",
       "<table border=\"1\" class=\"dataframe\">\n",
       "  <thead>\n",
       "    <tr style=\"text-align: right;\">\n",
       "      <th></th>\n",
       "      <th>review_id</th>\n",
       "      <th>company</th>\n",
       "      <th>employee_role</th>\n",
       "      <th>employee_detail</th>\n",
       "      <th>review_text</th>\n",
       "      <th>review_date</th>\n",
       "      <th>star_rating</th>\n",
       "      <th>sentiment</th>\n",
       "      <th>predicted_label</th>\n",
       "      <th>predicted_score</th>\n",
       "    </tr>\n",
       "  </thead>\n",
       "  <tbody>\n",
       "    <tr>\n",
       "      <th>0</th>\n",
       "      <td>82630669</td>\n",
       "      <td>Tecnomapas</td>\n",
       "      <td>Recepcionista</td>\n",
       "      <td>Ex-funcionário(a), mais de um ano</td>\n",
       "      <td>Não tive nenhum ponto negativo</td>\n",
       "      <td>2023-12-15</td>\n",
       "      <td>5.0</td>\n",
       "      <td>-1</td>\n",
       "      <td>Neutral</td>\n",
       "      <td>0.879178</td>\n",
       "    </tr>\n",
       "    <tr>\n",
       "      <th>1</th>\n",
       "      <td>74420027</td>\n",
       "      <td>Tecnomapas</td>\n",
       "      <td>Analista Desenvolvedor</td>\n",
       "      <td>Ex-freelancer</td>\n",
       "      <td>Modo home office ainda tem que ser melhorado.</td>\n",
       "      <td>2023-03-11</td>\n",
       "      <td>4.0</td>\n",
       "      <td>-1</td>\n",
       "      <td>Neutral</td>\n",
       "      <td>0.932563</td>\n",
       "    </tr>\n",
       "  </tbody>\n",
       "</table>\n",
       "</div>"
      ],
      "text/plain": [
       "   review_id     company           employee_role  \\\n",
       "0   82630669  Tecnomapas           Recepcionista   \n",
       "1   74420027  Tecnomapas  Analista Desenvolvedor   \n",
       "\n",
       "                     employee_detail  \\\n",
       "0  Ex-funcionário(a), mais de um ano   \n",
       "1                      Ex-freelancer   \n",
       "\n",
       "                                     review_text review_date  star_rating  \\\n",
       "0                 Não tive nenhum ponto negativo  2023-12-15          5.0   \n",
       "1  Modo home office ainda tem que ser melhorado.  2023-03-11          4.0   \n",
       "\n",
       "   sentiment predicted_label  predicted_score  \n",
       "0         -1         Neutral         0.879178  \n",
       "1         -1         Neutral         0.932563  "
      ]
     },
     "execution_count": 26,
     "metadata": {},
     "output_type": "execute_result"
    }
   ],
   "source": [
    "predicted_non_negative_reviews_df.head(2)"
   ]
  },
  {
   "cell_type": "code",
   "execution_count": 27,
   "metadata": {},
   "outputs": [],
   "source": [
    "predicted_non_negative_reviews_df.to_csv(\n",
    "    f\"../data_preparation/predicted_non_negative_reviews.csv\",\n",
    "    index=False,\n",
    "    # sep=\";\",\n",
    ")"
   ]
  },
  {
   "cell_type": "markdown",
   "metadata": {},
   "source": [
    "## Convert predicted_non_positive_reviews reviews_date"
   ]
  },
  {
   "cell_type": "code",
   "execution_count": 28,
   "metadata": {},
   "outputs": [],
   "source": [
    "predicted_non_positive_reviews_df = pd.read_csv(\n",
    "    \"../data_preparation/predicted_non_positive_reviews.csv\"\n",
    ")"
   ]
  },
  {
   "cell_type": "code",
   "execution_count": 29,
   "metadata": {},
   "outputs": [
    {
     "data": {
      "text/plain": [
       "(642, 10)"
      ]
     },
     "execution_count": 29,
     "metadata": {},
     "output_type": "execute_result"
    }
   ],
   "source": [
    "predicted_non_positive_reviews_df.shape"
   ]
  },
  {
   "cell_type": "code",
   "execution_count": 30,
   "metadata": {},
   "outputs": [],
   "source": [
    "predicted_non_positive_reviews_df[\"review_date\"] = predicted_non_positive_reviews_df[\n",
    "    \"review_date\"\n",
    "].apply(date_str_to_date)"
   ]
  },
  {
   "cell_type": "code",
   "execution_count": 31,
   "metadata": {},
   "outputs": [
    {
     "data": {
      "text/plain": [
       "(642, 10)"
      ]
     },
     "execution_count": 31,
     "metadata": {},
     "output_type": "execute_result"
    }
   ],
   "source": [
    "predicted_non_positive_reviews_df.shape"
   ]
  },
  {
   "cell_type": "code",
   "execution_count": 32,
   "metadata": {},
   "outputs": [
    {
     "data": {
      "text/html": [
       "<div>\n",
       "<style scoped>\n",
       "    .dataframe tbody tr th:only-of-type {\n",
       "        vertical-align: middle;\n",
       "    }\n",
       "\n",
       "    .dataframe tbody tr th {\n",
       "        vertical-align: top;\n",
       "    }\n",
       "\n",
       "    .dataframe thead th {\n",
       "        text-align: right;\n",
       "    }\n",
       "</style>\n",
       "<table border=\"1\" class=\"dataframe\">\n",
       "  <thead>\n",
       "    <tr style=\"text-align: right;\">\n",
       "      <th></th>\n",
       "      <th>review_id</th>\n",
       "      <th>company</th>\n",
       "      <th>employee_role</th>\n",
       "      <th>employee_detail</th>\n",
       "      <th>review_text</th>\n",
       "      <th>review_date</th>\n",
       "      <th>star_rating</th>\n",
       "      <th>sentiment</th>\n",
       "      <th>predicted_label</th>\n",
       "      <th>predicted_score</th>\n",
       "    </tr>\n",
       "  </thead>\n",
       "  <tbody>\n",
       "    <tr>\n",
       "      <th>0</th>\n",
       "      <td>82630669</td>\n",
       "      <td>Tecnomapas</td>\n",
       "      <td>Recepcionista</td>\n",
       "      <td>Ex-funcionário(a), mais de um ano</td>\n",
       "      <td>Companheirismo entre os colegas, oportunidade ...</td>\n",
       "      <td>2023-12-15</td>\n",
       "      <td>5.0</td>\n",
       "      <td>1</td>\n",
       "      <td>Neutral</td>\n",
       "      <td>0.814863</td>\n",
       "    </tr>\n",
       "    <tr>\n",
       "      <th>1</th>\n",
       "      <td>60212043</td>\n",
       "      <td>Tecnomapas</td>\n",
       "      <td>Funcionário confidencial</td>\n",
       "      <td>Ex-funcionário(a), menos de um ano</td>\n",
       "      <td>Única vantagem era o trabalho ser home office</td>\n",
       "      <td>2022-02-24</td>\n",
       "      <td>1.0</td>\n",
       "      <td>1</td>\n",
       "      <td>Neutral</td>\n",
       "      <td>0.980318</td>\n",
       "    </tr>\n",
       "  </tbody>\n",
       "</table>\n",
       "</div>"
      ],
      "text/plain": [
       "   review_id     company             employee_role  \\\n",
       "0   82630669  Tecnomapas             Recepcionista   \n",
       "1   60212043  Tecnomapas  Funcionário confidencial   \n",
       "\n",
       "                      employee_detail  \\\n",
       "0   Ex-funcionário(a), mais de um ano   \n",
       "1  Ex-funcionário(a), menos de um ano   \n",
       "\n",
       "                                         review_text review_date  star_rating  \\\n",
       "0  Companheirismo entre os colegas, oportunidade ...  2023-12-15          5.0   \n",
       "1      Única vantagem era o trabalho ser home office  2022-02-24          1.0   \n",
       "\n",
       "   sentiment predicted_label  predicted_score  \n",
       "0          1         Neutral         0.814863  \n",
       "1          1         Neutral         0.980318  "
      ]
     },
     "execution_count": 32,
     "metadata": {},
     "output_type": "execute_result"
    }
   ],
   "source": [
    "predicted_non_positive_reviews_df.head(2)"
   ]
  },
  {
   "cell_type": "code",
   "execution_count": 33,
   "metadata": {},
   "outputs": [],
   "source": [
    "predicted_non_positive_reviews_df.to_csv(\n",
    "    f\"../data_preparation/predicted_non_positive_reviews.csv\",\n",
    "    index=False,\n",
    "    # sep=\";\",\n",
    ")"
   ]
  },
  {
   "cell_type": "markdown",
   "metadata": {},
   "source": [
    "## Convert reviewed_predicted_non_negative_reviews reviews_date"
   ]
  },
  {
   "cell_type": "code",
   "execution_count": 34,
   "metadata": {},
   "outputs": [],
   "source": [
    "reviewed_predicted_non_negative_reviews_df = pd.read_csv(\n",
    "    \"../data_preparation/reviewed_predicted_non_negative_reviews.csv\"\n",
    ")"
   ]
  },
  {
   "cell_type": "code",
   "execution_count": 27,
   "metadata": {},
   "outputs": [
    {
     "data": {
      "text/plain": [
       "(821, 11)"
      ]
     },
     "execution_count": 27,
     "metadata": {},
     "output_type": "execute_result"
    }
   ],
   "source": [
    "reviewed_predicted_non_negative_reviews_df.shape"
   ]
  },
  {
   "cell_type": "code",
   "execution_count": 35,
   "metadata": {},
   "outputs": [],
   "source": [
    "reviewed_predicted_non_negative_reviews_df[\"review_date\"] = reviewed_predicted_non_negative_reviews_df[\n",
    "    \"review_date\"\n",
    "].apply(date_str_to_date)"
   ]
  },
  {
   "cell_type": "code",
   "execution_count": 36,
   "metadata": {},
   "outputs": [
    {
     "data": {
      "text/plain": [
       "(809, 11)"
      ]
     },
     "execution_count": 36,
     "metadata": {},
     "output_type": "execute_result"
    }
   ],
   "source": [
    "reviewed_predicted_non_negative_reviews_df.shape"
   ]
  },
  {
   "cell_type": "code",
   "execution_count": 37,
   "metadata": {},
   "outputs": [
    {
     "data": {
      "text/html": [
       "<div>\n",
       "<style scoped>\n",
       "    .dataframe tbody tr th:only-of-type {\n",
       "        vertical-align: middle;\n",
       "    }\n",
       "\n",
       "    .dataframe tbody tr th {\n",
       "        vertical-align: top;\n",
       "    }\n",
       "\n",
       "    .dataframe thead th {\n",
       "        text-align: right;\n",
       "    }\n",
       "</style>\n",
       "<table border=\"1\" class=\"dataframe\">\n",
       "  <thead>\n",
       "    <tr style=\"text-align: right;\">\n",
       "      <th></th>\n",
       "      <th>review_id</th>\n",
       "      <th>company</th>\n",
       "      <th>employee_role</th>\n",
       "      <th>employee_detail</th>\n",
       "      <th>review_text</th>\n",
       "      <th>review_date</th>\n",
       "      <th>star_rating</th>\n",
       "      <th>sentiment</th>\n",
       "      <th>predicted_label</th>\n",
       "      <th>predicted_score</th>\n",
       "      <th>reviewed</th>\n",
       "    </tr>\n",
       "  </thead>\n",
       "  <tbody>\n",
       "    <tr>\n",
       "      <th>0</th>\n",
       "      <td>82630669</td>\n",
       "      <td>Tecnomapas</td>\n",
       "      <td>Recepcionista</td>\n",
       "      <td>Ex-funcionário(a), mais de um ano</td>\n",
       "      <td>Não tive nenhum ponto negativo</td>\n",
       "      <td>2023-12-15</td>\n",
       "      <td>5.0</td>\n",
       "      <td>0</td>\n",
       "      <td>Neutral</td>\n",
       "      <td>0.879178</td>\n",
       "      <td>1.0</td>\n",
       "    </tr>\n",
       "    <tr>\n",
       "      <th>1</th>\n",
       "      <td>74420027</td>\n",
       "      <td>Tecnomapas</td>\n",
       "      <td>Analista Desenvolvedor</td>\n",
       "      <td>Ex-freelancer</td>\n",
       "      <td>Modo home office ainda tem que ser melhorado.</td>\n",
       "      <td>2023-03-11</td>\n",
       "      <td>4.0</td>\n",
       "      <td>-1</td>\n",
       "      <td>Neutral</td>\n",
       "      <td>0.932563</td>\n",
       "      <td>NaN</td>\n",
       "    </tr>\n",
       "  </tbody>\n",
       "</table>\n",
       "</div>"
      ],
      "text/plain": [
       "   review_id     company           employee_role  \\\n",
       "0   82630669  Tecnomapas           Recepcionista   \n",
       "1   74420027  Tecnomapas  Analista Desenvolvedor   \n",
       "\n",
       "                     employee_detail  \\\n",
       "0  Ex-funcionário(a), mais de um ano   \n",
       "1                      Ex-freelancer   \n",
       "\n",
       "                                     review_text review_date  star_rating  \\\n",
       "0                 Não tive nenhum ponto negativo  2023-12-15          5.0   \n",
       "1  Modo home office ainda tem que ser melhorado.  2023-03-11          4.0   \n",
       "\n",
       "   sentiment predicted_label  predicted_score  reviewed  \n",
       "0          0         Neutral         0.879178       1.0  \n",
       "1         -1         Neutral         0.932563       NaN  "
      ]
     },
     "execution_count": 37,
     "metadata": {},
     "output_type": "execute_result"
    }
   ],
   "source": [
    "reviewed_predicted_non_negative_reviews_df.head(2)"
   ]
  },
  {
   "cell_type": "code",
   "execution_count": 38,
   "metadata": {},
   "outputs": [],
   "source": [
    "reviewed_predicted_non_negative_reviews_df.to_csv(\n",
    "    f\"../data_preparation/reviewed_predicted_non_negative_reviews.csv\",\n",
    "    index=False,\n",
    "    # sep=\";\",\n",
    ")"
   ]
  },
  {
   "cell_type": "markdown",
   "metadata": {},
   "source": [
    "## Clean reviewed_predicted_non_positive_reviews reviews_date"
   ]
  },
  {
   "cell_type": "code",
   "execution_count": 39,
   "metadata": {},
   "outputs": [],
   "source": [
    "reviewed_predicted_non_positive_reviews_df = pd.read_csv(\n",
    "    \"../data_preparation/reviewed_predicted_non_positive_reviews.csv\"\n",
    ")"
   ]
  },
  {
   "cell_type": "code",
   "execution_count": 40,
   "metadata": {},
   "outputs": [
    {
     "data": {
      "text/plain": [
       "(642, 11)"
      ]
     },
     "execution_count": 40,
     "metadata": {},
     "output_type": "execute_result"
    }
   ],
   "source": [
    "reviewed_predicted_non_positive_reviews_df.shape"
   ]
  },
  {
   "cell_type": "code",
   "execution_count": 41,
   "metadata": {},
   "outputs": [],
   "source": [
    "reviewed_predicted_non_positive_reviews_df[\"review_date\"] = (\n",
    "    reviewed_predicted_non_positive_reviews_df[\"review_date\"].apply(date_str_to_date)\n",
    ")"
   ]
  },
  {
   "cell_type": "code",
   "execution_count": 42,
   "metadata": {},
   "outputs": [
    {
     "data": {
      "text/plain": [
       "(642, 11)"
      ]
     },
     "execution_count": 42,
     "metadata": {},
     "output_type": "execute_result"
    }
   ],
   "source": [
    "reviewed_predicted_non_positive_reviews_df.shape"
   ]
  },
  {
   "cell_type": "code",
   "execution_count": 43,
   "metadata": {},
   "outputs": [
    {
     "data": {
      "text/html": [
       "<div>\n",
       "<style scoped>\n",
       "    .dataframe tbody tr th:only-of-type {\n",
       "        vertical-align: middle;\n",
       "    }\n",
       "\n",
       "    .dataframe tbody tr th {\n",
       "        vertical-align: top;\n",
       "    }\n",
       "\n",
       "    .dataframe thead th {\n",
       "        text-align: right;\n",
       "    }\n",
       "</style>\n",
       "<table border=\"1\" class=\"dataframe\">\n",
       "  <thead>\n",
       "    <tr style=\"text-align: right;\">\n",
       "      <th></th>\n",
       "      <th>review_id</th>\n",
       "      <th>company</th>\n",
       "      <th>employee_role</th>\n",
       "      <th>employee_detail</th>\n",
       "      <th>review_text</th>\n",
       "      <th>review_date</th>\n",
       "      <th>star_rating</th>\n",
       "      <th>sentiment</th>\n",
       "      <th>predicted_label</th>\n",
       "      <th>predicted_score</th>\n",
       "      <th>reviewed</th>\n",
       "    </tr>\n",
       "  </thead>\n",
       "  <tbody>\n",
       "    <tr>\n",
       "      <th>0</th>\n",
       "      <td>82630669</td>\n",
       "      <td>Tecnomapas</td>\n",
       "      <td>Recepcionista</td>\n",
       "      <td>Ex-funcionário(a), mais de um ano</td>\n",
       "      <td>Companheirismo entre os colegas, oportunidade ...</td>\n",
       "      <td>2023-12-15</td>\n",
       "      <td>5.0</td>\n",
       "      <td>1</td>\n",
       "      <td>Neutral</td>\n",
       "      <td>0.814863</td>\n",
       "      <td>NaN</td>\n",
       "    </tr>\n",
       "    <tr>\n",
       "      <th>1</th>\n",
       "      <td>60212043</td>\n",
       "      <td>Tecnomapas</td>\n",
       "      <td>Funcionário confidencial</td>\n",
       "      <td>Ex-funcionário(a), menos de um ano</td>\n",
       "      <td>Única vantagem era o trabalho ser home office</td>\n",
       "      <td>2022-02-24</td>\n",
       "      <td>1.0</td>\n",
       "      <td>1</td>\n",
       "      <td>Neutral</td>\n",
       "      <td>0.980318</td>\n",
       "      <td>NaN</td>\n",
       "    </tr>\n",
       "  </tbody>\n",
       "</table>\n",
       "</div>"
      ],
      "text/plain": [
       "   review_id     company             employee_role  \\\n",
       "0   82630669  Tecnomapas             Recepcionista   \n",
       "1   60212043  Tecnomapas  Funcionário confidencial   \n",
       "\n",
       "                      employee_detail  \\\n",
       "0   Ex-funcionário(a), mais de um ano   \n",
       "1  Ex-funcionário(a), menos de um ano   \n",
       "\n",
       "                                         review_text review_date  star_rating  \\\n",
       "0  Companheirismo entre os colegas, oportunidade ...  2023-12-15          5.0   \n",
       "1      Única vantagem era o trabalho ser home office  2022-02-24          1.0   \n",
       "\n",
       "   sentiment predicted_label  predicted_score  reviewed  \n",
       "0          1         Neutral         0.814863       NaN  \n",
       "1          1         Neutral         0.980318       NaN  "
      ]
     },
     "execution_count": 43,
     "metadata": {},
     "output_type": "execute_result"
    }
   ],
   "source": [
    "reviewed_predicted_non_positive_reviews_df.head(2)"
   ]
  },
  {
   "cell_type": "code",
   "execution_count": 44,
   "metadata": {},
   "outputs": [],
   "source": [
    "reviewed_predicted_non_positive_reviews_df.to_csv(\n",
    "    f\"../data_preparation/reviewed_predicted_non_positive_reviews.csv\",\n",
    "    index=False,\n",
    "    # sep=\";\",\n",
    ")"
   ]
  }
 ],
 "metadata": {
  "kernelspec": {
   "display_name": "venv_sent_analysis",
   "language": "python",
   "name": "python3"
  },
  "language_info": {
   "codemirror_mode": {
    "name": "ipython",
    "version": 3
   },
   "file_extension": ".py",
   "mimetype": "text/x-python",
   "name": "python",
   "nbconvert_exporter": "python",
   "pygments_lexer": "ipython3",
   "version": "3.11.7"
  }
 },
 "nbformat": 4,
 "nbformat_minor": 2
}

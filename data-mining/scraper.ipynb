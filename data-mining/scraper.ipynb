{
 "cells": [
  {
   "cell_type": "markdown",
   "metadata": {},
   "source": [
    "# Scraper de Avaliações do Glassdoor de empresas Desenvolvimento de Software de Mato Grosso\n",
    "\n",
    "Referências:\n",
    "- [mato-grosso-tech-companies](https://github.com/leogregianin/mato-grosso-tech-companies?tab=readme-ov-file)\n",
    "- Ecnodata\n",
    "    - Filtro de empresas pelo CNAE `(J-6202-3/00) Desenvolvimento e licenciamento de programas de computador customizáveis` e pela Região `Cuiabá, Mato Grosso, Brasil`\n",
    "    - https://www.econodata.com.br/empresas/mt-cuiaba/desenvolvimento-e-licenciamento-de-programas-de-computador-customizaveis-j-6202300\n",
    "- Casa dos Dados\n",
    "  - https://casadosdados.com.br/solucao/cnpj/pesquisa-avancada\n",
    "- Glassdoor\n",
    "  - https://www.glassdoor.com.br/Avalia%C3%A7%C3%B5es/index.htm?overall_rating_low=1&page=1&locId=2467272&locType=C&locName=Cuiab%C3%A1,%20MT&occ=Information%20Technology&filterType=RATING_OVERALL"
   ]
  },
  {
   "cell_type": "code",
   "execution_count": 20,
   "metadata": {},
   "outputs": [],
   "source": [
    "import logging\n",
    "import time\n",
    "\n",
    "from os import path\n",
    "from bs4 import BeautifulSoup\n",
    "from selenium import webdriver\n",
    "from selenium.webdriver.chrome.service import Service"
   ]
  },
  {
   "cell_type": "code",
   "execution_count": 21,
   "metadata": {},
   "outputs": [],
   "source": [
    "logging.basicConfig(\n",
    "    level=logging.INFO,\n",
    "    format=\"%(asctime)s [%(levelname)s] %(message)s\",\n",
    "    handlers=[logging.FileHandler(\"scraper.log\"), logging.StreamHandler()],\n",
    ")"
   ]
  },
  {
   "cell_type": "code",
   "execution_count": 22,
   "metadata": {},
   "outputs": [],
   "source": [
    "# CHROME_PATH = \"C:\\chromedriver_win32_114_0_5735_90\\chromedriver.exe\"\n",
    "HTML_PATH = \"./html/\"\n",
    "PAGE_URLS = [\n",
    "    # \"https://www.glassdoor.com.br/Avalia%C3%A7%C3%B5es/Cigam-Software-Corporativo-Avalia%C3%A7%C3%B5es-E2485503.htm\",\n",
    "    # \"https://www.glassdoor.com.br/Avalia%C3%A7%C3%B5es/MTI-Empresa-Mato-grossense-de-Tecnologia-da-Informa%C3%A7%C3%A3o-Avalia%C3%A7%C3%B5es-E5151078.htm\",\n",
    "    # \"https://www.glassdoor.com.br/Avalia%C3%A7%C3%B5es/Tecnomapas-Avalia%C3%A7%C3%B5es-E2492752.htm\",\n",
    "    # \"https://www.glassdoor.com.br/Avalia%C3%A7%C3%B5es/Abaco-Tecnologia-de-Informa%C3%A7%C3%A3o-Ltda-Avalia%C3%A7%C3%B5es-E222140.htm\",\n",
    "    # \"https://www.glassdoor.com.br/Avalia%C3%A7%C3%B5es/Liberali-Avalia%C3%A7%C3%B5es-E2651299.htm\",\n",
    "    # \"https://www.glassdoor.com.br/Avalia%C3%A7%C3%B5es/Datweb-Avalia%C3%A7%C3%B5es-E4359774.htm\",\n",
    "    # \"https://www.glassdoor.com.br/Avalia%C3%A7%C3%B5es/Funda%C3%A7%C3%A3o-Uniselva-Avalia%C3%A7%C3%B5es-E2494684.htm\",\n",
    "    # \"https://www.glassdoor.com.br/Avalia%C3%A7%C3%B5es/Ganso-Sistemas-Avalia%C3%A7%C3%B5es-E2631184.htm\",\n",
    "    # \"https://www.glassdoor.com.br/Avalia%C3%A7%C3%B5es/MOVERE-Brazil-Avalia%C3%A7%C3%B5es-E2749942.htm\",\n",
    "    # \"https://www.glassdoor.com.br/Avalia%C3%A7%C3%B5es/DSS-Tecnologia-Avalia%C3%A7%C3%B5es-E2486780.htm\",\n",
    "    # \"https://www.glassdoor.com.br/Avalia%C3%A7%C3%B5es/Eco-Centauro-Avalia%C3%A7%C3%B5es-E2021957.htm\",\n",
    "    # \"https://www.glassdoor.com.br/Avalia%C3%A7%C3%B5es/Log-Lab-Intelig%C3%AAncia-Digital-Avalia%C3%A7%C3%B5es-E4509160.htm\",\n",
    "    # \"https://www.glassdoor.com.br/Avalia%C3%A7%C3%B5es/Agenda-Assessoria-Avalia%C3%A7%C3%B5es-E2667223.htm\",\n",
    "    # \"https://www.glassdoor.com.br/Avalia%C3%A7%C3%B5es/Grupo-Bom-Futuro-Avalia%C3%A7%C3%B5es-E2483312.htm\",\n",
    "    # \"https://www.glassdoor.com.br/Avalia%C3%A7%C3%B5es/Datweb-Avalia%C3%A7%C3%B5es-E4359774.htm\",\n",
    "    # \"https://www.glassdoor.com.br/Avalia%C3%A7%C3%B5es/NBS-Inform%C3%A1tica-Avalia%C3%A7%C3%B5es-E2493877.htm\",\n",
    "    # \"https://www.glassdoor.com.br/Avalia%C3%A7%C3%B5es/Amaggi-Avalia%C3%A7%C3%B5es-E42661.htm\",\n",
    "    # \"https://www.glassdoor.com.br/Avalia%C3%A7%C3%B5es/Totem-Treinamento-e-Consultoria-em-TI-Avalia%C3%A7%C3%B5es-E2666668.htm\",\n",
    "    # \"https://www.glassdoor.com.br/Avalia%C3%A7%C3%B5es/Redeflex-Avalia%C3%A7%C3%B5es-E2484166.htm\",\n",
    "    # \"https://www.glassdoor.com.br/Avalia%C3%A7%C3%B5es/Original-Solu%C3%A7%C3%B5es-Tecnol%C3%B3gicas-Avalia%C3%A7%C3%B5es-E2769927.htm\",\n",
    "    # \"https://www.glassdoor.com.br/Avalia%C3%A7%C3%B5es/Intelecto-Sistemas-Avalia%C3%A7%C3%B5es-E2675450.htm\",\n",
    "    # \"https://www.glassdoor.com.br/Avalia%C3%A7%C3%B5es/Puma-Sistemas-Avalia%C3%A7%C3%B5es-E2639288.htm\",\n",
    "    # \"https://www.glassdoor.com.br/Avalia%C3%A7%C3%B5es/TGA-Sistemas-Avalia%C3%A7%C3%B5es-E2652853.htm\", # Tangará da Serra\n",
    "    # \"https://www.glassdoor.com.br/Avalia%C3%A7%C3%B5es/Coplan-Consultoria-e-Planejamento-Avalia%C3%A7%C3%B5es-E2621617.htm\",\n",
    "    # \"https://www.glassdoor.com.br/Avalia%C3%A7%C3%B5es/TOTVS-Avalia%C3%A7%C3%B5es-E140298.htm\", # nacional\n",
    "    # \"https://www.glassdoor.com.br/Avalia%C3%A7%C3%B5es/Plenusti-Avalia%C3%A7%C3%B5es-E8149411.htm\",  # Primavera do Leste,\n",
    "    \"https://www.glassdoor.com/Reviews/Nuvem-Tecnologia-Reviews-E2799591.htm\",\n",
    "    # \"https://www.glassdoor.com.br/Avalia%C3%A7%C3%B5es/Sankhya-Gest%C3%A3o-de-Neg%C3%B3cios-Avalia%C3%A7%C3%B5es-E1061278.htm\",  # nacional\n",
    "]"
   ]
  },
  {
   "cell_type": "code",
   "execution_count": 23,
   "metadata": {},
   "outputs": [
    {
     "data": {
      "text/plain": [
       "1"
      ]
     },
     "execution_count": 23,
     "metadata": {},
     "output_type": "execute_result"
    }
   ],
   "source": [
    "len(PAGE_URLS)"
   ]
  },
  {
   "cell_type": "code",
   "execution_count": 24,
   "metadata": {},
   "outputs": [],
   "source": [
    "def write_html(html, file_name, replace=False):\n",
    "    logging.info(f\"Salvando arquivo html: {file_name}\")\n",
    "\n",
    "    file_exists = path.exists(file_name)\n",
    "    if file_exists:\n",
    "        logging.warning(f\"Arquivo {file_name} já existe!\")\n",
    "\n",
    "    if not file_exists or replace:\n",
    "        if file_exists and replace:\n",
    "            logging.warning(f\"Arquivo já {file_name} será sobrescrito!\")\n",
    "\n",
    "        with open(file_name, \"w\", encoding=\"utf-8\") as f:\n",
    "            f.write(html)\n",
    "\n",
    "        logging.info(f\"Arquivo {file_name} salvo com sucesso!\")"
   ]
  },
  {
   "cell_type": "code",
   "execution_count": 25,
   "metadata": {},
   "outputs": [],
   "source": [
    "def get_chrome_diver():\n",
    "    service = Service()\n",
    "    options = webdriver.ChromeOptions()\n",
    "    return webdriver.Chrome(service=service, options=options)"
   ]
  },
  {
   "cell_type": "code",
   "execution_count": 26,
   "metadata": {},
   "outputs": [],
   "source": [
    "def get_html_page(driver, page_url):\n",
    "    try:\n",
    "        driver.get(page_url)\n",
    "        time.sleep(60)\n",
    "        page_source = driver.page_source\n",
    "    finally:\n",
    "        driver.close()\n",
    "\n",
    "    return page_source"
   ]
  },
  {
   "cell_type": "code",
   "execution_count": 27,
   "metadata": {},
   "outputs": [],
   "source": [
    "START_FROM_PAGE_NUMBER = 1"
   ]
  },
  {
   "cell_type": "code",
   "execution_count": 28,
   "metadata": {},
   "outputs": [
    {
     "name": "stderr",
     "output_type": "stream",
     "text": [
      "2024-03-19 23:56:47,458 [INFO] Baixando página: https://www.glassdoor.com/Reviews/Nuvem-Tecnologia-Reviews-E2799591.htm\n",
      "2024-03-19 23:57:52,816 [INFO] Buscando nome da empresa...\n",
      "2024-03-19 23:57:52,818 [WARNING] Nome da empresa não encontrado!\n",
      "2024-03-19 23:57:52,819 [INFO] Salvando arquivo html: ./html/Sankhya Gestão de Negócios_page_1.html\n",
      "2024-03-19 23:57:52,820 [WARNING] Arquivo ./html/Sankhya Gestão de Negócios_page_1.html já existe!\n",
      "2024-03-19 23:57:52,820 [INFO] Buscando próxima página...\n",
      "2024-03-19 23:57:52,824 [WARNING] Próxima página não encontrada!\n"
     ]
    }
   ],
   "source": [
    "for page_url in PAGE_URLS:\n",
    "    page_number = START_FROM_PAGE_NUMBER\n",
    "    next_page_url = page_url\n",
    "    while True:\n",
    "        driver = get_chrome_diver()\n",
    "\n",
    "        logging.info(f\"Baixando página: {next_page_url}\")\n",
    "        html_page = get_html_page(driver, next_page_url)\n",
    "\n",
    "        soup = BeautifulSoup(html_page, \"html.parser\")\n",
    "\n",
    "        logging.info(\"Buscando nome da empresa...\")\n",
    "        company_p = soup.find_all(\"p\", {\"class\": \"employerName\"})\n",
    "        if company_p:\n",
    "            company = company_p[0].get_text()\n",
    "            logging.info(f\"Nome da empresa encontrado: {company}\")\n",
    "        else:\n",
    "            logging.warning(\"Nome da empresa não encontrado!\")\n",
    "\n",
    "        company_clean = company.replace(\"(\", \"\").replace(\")\", \"\")\n",
    "        file_name = f\"{company_clean}_page_{page_number}.html\"\n",
    "\n",
    "        write_html(html_page, HTML_PATH + file_name)\n",
    "\n",
    "        logging.info(\"Buscando próxima página...\")\n",
    "        next_link = soup.find(\"link\", rel=\"next\")\n",
    "\n",
    "        if next_link:\n",
    "            next_page_url = next_link[\"href\"]\n",
    "            logging.info(f\"Próxima página encontrada: {next_page_url}\")\n",
    "            page_number += 1\n",
    "        else:\n",
    "            logging.warning(\"Próxima página não encontrada!\")\n",
    "            break"
   ]
  },
  {
   "cell_type": "code",
   "execution_count": null,
   "metadata": {},
   "outputs": [],
   "source": []
  }
 ],
 "metadata": {
  "kernelspec": {
   "display_name": "venv_sent_analysis",
   "language": "python",
   "name": "python3"
  },
  "language_info": {
   "codemirror_mode": {
    "name": "ipython",
    "version": 3
   },
   "file_extension": ".py",
   "mimetype": "text/x-python",
   "name": "python",
   "nbconvert_exporter": "python",
   "pygments_lexer": "ipython3",
   "version": "3.11.7"
  }
 },
 "nbformat": 4,
 "nbformat_minor": 2
}
